{
 "cells": [
  {
   "cell_type": "markdown",
   "metadata": {
    "id": "eNAozH4edT89"
   },
   "source": [
    "## 第7章: 単語ベクトル\n",
    "単語の意味を実ベクトルで表現する単語ベクトル（単語埋め込み）に関して，以下の処理を行うプログラムを作成せよ．"
   ]
  },
  {
   "cell_type": "markdown",
   "metadata": {
    "id": "sloq_VnCdY3b"
   },
   "source": [
    "#### 60. 単語ベクトルの読み込みと表示\n",
    "Google Newsデータセット（約1,000億単語）での学習済み単語ベクトル（300万単語・フレーズ，300次元）をダウンロードし，”United States”の単語ベクトルを表示せよ．ただし，”United States”は内部的には”United_States”と表現されていることに注意せよ．"
   ]
  },
  {
   "cell_type": "markdown",
   "metadata": {
    "id": "peIAuDa9dePS"
   },
   "source": [
    "指定の学習済み単語ベクトルをダウンロードします。"
   ]
  },
  {
   "cell_type": "code",
   "execution_count": null,
   "metadata": {},
   "outputs": [],
   "source": [
    "%load_ext lab_black"
   ]
  },
  {
   "cell_type": "code",
   "execution_count": null,
   "metadata": {
    "colab": {
     "base_uri": "https://localhost:8080/"
    },
    "executionInfo": {
     "elapsed": 13075,
     "status": "ok",
     "timestamp": 1610700620736,
     "user": {
      "displayName": "yuki kato",
      "photoUrl": "",
      "userId": "08430221927587521076"
     },
     "user_tz": -540
    },
    "id": "FH79kfLGdM19",
    "outputId": "23e83db8-7c33-4f14-a3b7-2b1e8735019e"
   },
   "outputs": [],
   "source": [
    "# FILE_ID = \"0B7XkCwpI5KDYNlNUTTlSS21pQmM\"\n",
    "# FILE_NAME = \"GoogleNews-vectors-negative300.bin.gz\"\n",
    "# !wget --load-cookies /tmp/cookies.txt \"https://docs.google.com/uc?export=download&confirm=$(wget --quiet --save-cookies /tmp/cookies.txt --keep-session-cookies --no-check-certificate 'https://docs.google.com/uc?export=download&id=$FILE_ID' -O- | sed -rn 's/.*confirm=([0-9A-Za-z_]+).*/\\1\\n/p')&id=$FILE_ID\" -O $FILE_NAME && rm -rf /tmp/cookies.txt\n",
    "\n",
    "# 下記からダウンロードできます。\n",
    "# https://s3.amazonaws.com/dl4j-distribution/GoogleNews-vectors-negative300.bin.gz"
   ]
  },
  {
   "cell_type": "markdown",
   "metadata": {
    "id": "S8jxLHEFdjrZ"
   },
   "source": [
    "自然言語処理のさまざまなタスクで利用されるGensimを用いて、単語ベクトルを読み込みます。"
   ]
  },
  {
   "cell_type": "code",
   "execution_count": null,
   "metadata": {
    "executionInfo": {
     "elapsed": 110605,
     "status": "ok",
     "timestamp": 1610700732778,
     "user": {
      "displayName": "yuki kato",
      "photoUrl": "",
      "userId": "08430221927587521076"
     },
     "user_tz": -540
    },
    "id": "EU3Ep67NdgvM"
   },
   "outputs": [],
   "source": [
    "from gensim.models import KeyedVectors\n",
    "\n",
    "model = KeyedVectors.load_word2vec_format(\n",
    "    \"./GoogleNews-vectors-negative300.bin.gz\", binary=True\n",
    ")"
   ]
  },
  {
   "cell_type": "markdown",
   "metadata": {
    "id": "9u9Hujaqdo0i"
   },
   "source": [
    "読み込んだ後は、ベクトル化したい単語を指定するだけで簡単に単語ベクトルを得ることができます。"
   ]
  },
  {
   "cell_type": "code",
   "execution_count": null,
   "metadata": {
    "colab": {
     "base_uri": "https://localhost:8080/"
    },
    "executionInfo": {
     "elapsed": 681,
     "status": "ok",
     "timestamp": 1610700768218,
     "user": {
      "displayName": "yuki kato",
      "photoUrl": "",
      "userId": "08430221927587521076"
     },
     "user_tz": -540
    },
    "id": "IrEjL1XGdlUl",
    "outputId": "e343f229-52a2-45ff-ded7-dc58fafdbb44"
   },
   "outputs": [],
   "source": [
    "model[\"United_States\"]"
   ]
  },
  {
   "cell_type": "markdown",
   "metadata": {
    "id": "QXrS4yUCdwHn"
   },
   "source": [
    "#### 61. 単語の類似度\n",
    "“United States”と”U.S.”のコサイン類似度を計算せよ．"
   ]
  },
  {
   "cell_type": "markdown",
   "metadata": {
    "id": "vC_oki8bdzH9"
   },
   "source": [
    "ここではsimilarityメソッドを利用します。2単語を指定すると、単語間のコサイン類似度を計算することができます。"
   ]
  },
  {
   "cell_type": "code",
   "execution_count": null,
   "metadata": {
    "colab": {
     "base_uri": "https://localhost:8080/"
    },
    "executionInfo": {
     "elapsed": 901,
     "status": "ok",
     "timestamp": 1610700772937,
     "user": {
      "displayName": "yuki kato",
      "photoUrl": "",
      "userId": "08430221927587521076"
     },
     "user_tz": -540
    },
    "id": "IfaWllDHdqS6",
    "outputId": "44eb4507-f85b-4f60-c4e4-6353951f07e3"
   },
   "outputs": [],
   "source": [
    "model.similarity(\"United_States\", \"U.S.\")"
   ]
  },
  {
   "cell_type": "markdown",
   "metadata": {
    "id": "UrJp5G-7eAFr"
   },
   "source": [
    "#### 62. 類似度の高い単語10件\n",
    "“United States”とコサイン類似度が高い10語と，その類似度を出力せよ．"
   ]
  },
  {
   "cell_type": "markdown",
   "metadata": {
    "id": "RjHeeTkkeFs7"
   },
   "source": [
    "ここではmost_similarメソッドを利用します。単語を指定すると、topnまでの類似度上位単語とその類似度を取得することができます。\n",
    "\n"
   ]
  },
  {
   "cell_type": "code",
   "execution_count": null,
   "metadata": {
    "colab": {
     "base_uri": "https://localhost:8080/"
    },
    "executionInfo": {
     "elapsed": 13554,
     "status": "ok",
     "timestamp": 1610700786695,
     "user": {
      "displayName": "yuki kato",
      "photoUrl": "",
      "userId": "08430221927587521076"
     },
     "user_tz": -540
    },
    "id": "kLJh0pjnd07a",
    "outputId": "3dbcc4b2-7e4b-4a15-e290-0d3b1fee8629"
   },
   "outputs": [],
   "source": [
    "model.most_similar(\"United_States\", topn=10)"
   ]
  },
  {
   "cell_type": "markdown",
   "metadata": {
    "id": "t4-XpfLUeMle"
   },
   "source": [
    "####　63. 加法構成性によるアナロジー\n",
    "“Spain”の単語ベクトルから”Madrid”のベクトルを引き，”Athens”のベクトルを足したベクトルを計算し，そのベクトルと類似度の高い10語とその類似度を出力せよ．"
   ]
  },
  {
   "cell_type": "markdown",
   "metadata": {
    "id": "F19msMpEePuk"
   },
   "source": [
    "前問でも利用したmost_similarメソッドは、足すベクトルと引くベクトルをそれぞれ指定した上で、計算後のベクトルと類似度が高い単語を取得することができます。\n",
    "ここでは、問題文の指示に従い、Spain - Madrid + Athensのベクトルと類似度の高い単語を表示していますが、期待通りGreeceが1位に登場しています。"
   ]
  },
  {
   "cell_type": "code",
   "execution_count": null,
   "metadata": {
    "colab": {
     "base_uri": "https://localhost:8080/"
    },
    "executionInfo": {
     "elapsed": 11430,
     "status": "ok",
     "timestamp": 1610700787055,
     "user": {
      "displayName": "yuki kato",
      "photoUrl": "",
      "userId": "08430221927587521076"
     },
     "user_tz": -540
    },
    "id": "ZPvHYUtmeGzm",
    "outputId": "8e6ff51d-b059-4938-a36b-6491adcc8396"
   },
   "outputs": [],
   "source": [
    "vec = model[\"Spain\"] - model[\"madrid\"] + model[\"Athens\"]\n",
    "model.most_similar(positive=[\"Spain\", \"Athens\"], negative=[\"Madrid\"], topn=10)"
   ]
  },
  {
   "cell_type": "markdown",
   "metadata": {
    "id": "wCLQAGsneU7L"
   },
   "source": [
    "#### 64. アナロジーデータでの実験\n",
    "単語アナロジーの評価データをダウンロードし，vec(2列目の単語) - vec(1列目の単語) + vec(3列目の単語)を計算し，そのベクトルと類似度が最も高い単語と，その類似度を求めよ．求めた単語と類似度は，各事例の末尾に追記せよ．"
   ]
  },
  {
   "cell_type": "markdown",
   "metadata": {
    "id": "BPAOsHtdeX2A"
   },
   "source": [
    "指定のデータをダウンロードします。"
   ]
  },
  {
   "cell_type": "code",
   "execution_count": null,
   "metadata": {
    "colab": {
     "base_uri": "https://localhost:8080/"
    },
    "executionInfo": {
     "elapsed": 9151,
     "status": "ok",
     "timestamp": 1610700787055,
     "user": {
      "displayName": "yuki kato",
      "photoUrl": "",
      "userId": "08430221927587521076"
     },
     "user_tz": -540
    },
    "id": "A9wzmEtoeTF9",
    "outputId": "3934bcf3-e3be-4ba7-e26b-0985758e55dd"
   },
   "outputs": [],
   "source": [
    "!wget http://download.tensorflow.org/data/questions-words.txt"
   ]
  },
  {
   "cell_type": "code",
   "execution_count": null,
   "metadata": {
    "colab": {
     "base_uri": "https://localhost:8080/"
    },
    "executionInfo": {
     "elapsed": 7328,
     "status": "ok",
     "timestamp": 1610700787287,
     "user": {
      "displayName": "yuki kato",
      "photoUrl": "",
      "userId": "08430221927587521076"
     },
     "user_tz": -540
    },
    "id": "idYQuYQjeZrC",
    "outputId": "434efa2b-07ba-427a-8f69-f27a46440eb0"
   },
   "outputs": [],
   "source": [
    "# 先頭10行の確認\n",
    "!head -10 questions-words.txt"
   ]
  },
  {
   "cell_type": "markdown",
   "metadata": {
    "id": "HP3L2oaBeead"
   },
   "source": [
    "1行ずつ読込み、指定の単語と類似度を計算した上で整形したデータを出力します。"
   ]
  },
  {
   "cell_type": "code",
   "execution_count": null,
   "metadata": {},
   "outputs": [],
   "source": [
    "with open(\"./questions-words.txt\", \"r\") as f1, open(\n",
    "    \"./questions-words-add.txt\", \"w\"\n",
    ") as f2:\n",
    "    for line in f1:  # f1から1行ずつ読込み、求めた単語と類似度を追加してf2に書込む\n",
    "        line = line.split()\n",
    "        if line[0] == \":\":\n",
    "            category = line[1]\n",
    "        else:\n",
    "            word, cos = model.most_similar(\n",
    "                positive=[line[1], line[2]], negative=[line[0]], topn=1\n",
    "            )[0]\n",
    "            f2.write(\" \".join([category] + line + [word, str(cos) + \"\\n\"]))"
   ]
  },
  {
   "cell_type": "code",
   "execution_count": null,
   "metadata": {},
   "outputs": [],
   "source": [
    "!head -10 questions-words-add.txt"
   ]
  },
  {
   "cell_type": "markdown",
   "metadata": {
    "id": "YuxVtF_efRhj"
   },
   "source": [
    "#### 65. アナロジータスクでの正解率\n",
    "64の実行結果を用い，意味的アナロジー（semantic analogy）と文法的アナロジー（syntactic analogy）の正解率を測定せよ．"
   ]
  },
  {
   "cell_type": "markdown",
   "metadata": {
    "id": "ndkMw7uMfWRb"
   },
   "source": [
    "対応するカテゴリごとにそれぞれ計算します。"
   ]
  },
  {
   "cell_type": "code",
   "execution_count": null,
   "metadata": {
    "id": "JiCnCWXvelv6"
   },
   "outputs": [],
   "source": [
    "with open(\"./questions-words-add.txt\", \"r\") as f:\n",
    "    sem_cnt = 0\n",
    "    sem_cor = 0\n",
    "    syn_cnt = 0\n",
    "    syn_cor = 0\n",
    "    for line in f:\n",
    "        line = line.split()\n",
    "        if not line[0].startswith(\"gram\"):\n",
    "            sem_cnt += 1\n",
    "            if line[4] == line[5]:\n",
    "                sem_cor += 1\n",
    "        else:\n",
    "            syn_cnt += 1\n",
    "            if line[4] == line[5]:\n",
    "                syn_cor += 1\n",
    "\n",
    "print(f\"意味的アナロジー正解率: {sem_cor/sem_cnt:.3f}\")\n",
    "print(f\"文法的アナロジー正解率: {syn_cor/syn_cnt:.3f}\")"
   ]
  },
  {
   "cell_type": "markdown",
   "metadata": {
    "id": "BLiHie_jgCrz"
   },
   "source": [
    "#### 66. WordSimilarity-353での評価\n",
    "The WordSimilarity-353 Test Collectionの評価データをダウンロードし，単語ベクトルにより計算される類似度のランキングと，人間の類似度判定のランキングの間のスピアマン相関係数を計算せよ．"
   ]
  },
  {
   "cell_type": "markdown",
   "metadata": {
    "id": "ioyXzEzmgFYw"
   },
   "source": [
    "このデータは、単語のペアに対して人間が評価した類似度が付与されています。\n",
    "それぞれのペアに対して単語ベクトルの類似度を計算し、両者のスピアマン順位相関係数を計算します。"
   ]
  },
  {
   "cell_type": "code",
   "execution_count": null,
   "metadata": {
    "id": "MHpixX5VfX5x"
   },
   "outputs": [],
   "source": [
    "!wget http://www.gabrilovich.com/resources/data/wordsim353/wordsim353.zip\n",
    "!unzip wordsim353.zip"
   ]
  },
  {
   "cell_type": "code",
   "execution_count": null,
   "metadata": {},
   "outputs": [],
   "source": [
    "!head -10 './combined.csv'"
   ]
  },
  {
   "cell_type": "code",
   "execution_count": null,
   "metadata": {},
   "outputs": [],
   "source": [
    "# 国名の取得\n",
    "countries = set()\n",
    "with open(\"./questions-words-add.txt\") as f:\n",
    "    for line in f:\n",
    "        line = line.split()\n",
    "        if line[0] in [\"capital-common-countries\", \"capital-world\"]:\n",
    "            countries.add(line[2])\n",
    "        elif line[0] in [\"currency\", \"gram6-nationality-adjective\"]:\n",
    "            countries.add(line[1])\n",
    "countries = list(countries)\n",
    "\n",
    "# 単語ベクトルの取得\n",
    "countries_vec = [model[country] for country in countries]"
   ]
  },
  {
   "cell_type": "markdown",
   "metadata": {
    "id": "JGNR5i6q4IAi"
   },
   "source": [
    "#### 67. k-meansクラスタリング\n",
    "国名に関する単語ベクトルを抽出し，k-meansクラスタリングをクラスタ数k=5として実行せよ．"
   ]
  },
  {
   "cell_type": "markdown",
   "metadata": {
    "id": "LSVVbJgd4L_W"
   },
   "source": [
    "適当な国名リストの取得元が見つからなかったため、単語アナロジーの評価データから収集しています。"
   ]
  },
  {
   "cell_type": "code",
   "execution_count": null,
   "metadata": {},
   "outputs": [],
   "source": [
    "# 国名の取得\n",
    "countries = set()\n",
    "with open(\"./questions-words-add.txt\") as f:\n",
    "    for line in f:\n",
    "        line = line.split()\n",
    "        if line[0] in [\"capital-common-countries\", \"capital-world\"]:\n",
    "            countries.add(line[2])\n",
    "        elif line[0] in [\"currency\", \"gram6-nationality-adjective\"]:\n",
    "            countries.add(line[1])\n",
    "countries = list(countries)\n",
    "\n",
    "# 単語ベクトルの取得\n",
    "countries_vec = [model[country] for country in countries]"
   ]
  },
  {
   "cell_type": "code",
   "execution_count": null,
   "metadata": {
    "id": "NzVa-8R04Or7"
   },
   "outputs": [],
   "source": [
    "from sklearn.cluster import KMeans\n",
    "\n",
    "# k-meansクラスタリング\n",
    "kmeans = KMeans(n_clusters=5)\n",
    "kmeans.fit(countries_vec)\n",
    "for i in range(5):\n",
    "    cluster = np.where(kmeans.labels_ == i)[0]\n",
    "    print(\"cluster\", i)\n",
    "    print(\", \".join([countries[k] for k in cluster]))"
   ]
  },
  {
   "cell_type": "markdown",
   "metadata": {
    "id": "MlQITWXM4VFM"
   },
   "source": [
    "#### 68. Ward法によるクラスタリング\n",
    "国名に関する単語ベクトルに対し，Ward法による階層型クラスタリングを実行せよ．さらに，クラスタリング結果をデンドログラムとして可視化せよ．"
   ]
  },
  {
   "cell_type": "code",
   "execution_count": null,
   "metadata": {
    "id": "bgqxdFvw4Qc6"
   },
   "outputs": [],
   "source": [
    "import numpy as np\n",
    "from sklearn.cluster import KMeans\n",
    "\n",
    "# k-meansクラスタリング\n",
    "kmeans = KMeans(n_clusters=5)\n",
    "kmeans.fit(countries_vec)\n",
    "for i in range(5):\n",
    "    cluster = np.where(kmeans.labels_ == i)[0]\n",
    "    print(\"cluster\", i)\n",
    "    print(\", \".join([countries[k] for k in cluster]))"
   ]
  },
  {
   "cell_type": "markdown",
   "metadata": {
    "id": "dLhpbTBG4ZMs"
   },
   "source": [
    "#### 69. t-SNEによる可視化\n",
    "国名に関する単語ベクトルのベクトル空間をt-SNEで可視化せよ．"
   ]
  },
  {
   "cell_type": "markdown",
   "metadata": {
    "id": "a1wuYUqm4b-5"
   },
   "source": [
    "t-SNEで単語ベクトルを2次元に圧縮し、散布図で可視化します。"
   ]
  },
  {
   "cell_type": "code",
   "execution_count": null,
   "metadata": {},
   "outputs": [],
   "source": [
    "# !pip install bhtsne"
   ]
  },
  {
   "cell_type": "code",
   "execution_count": null,
   "metadata": {
    "id": "xoCrvNdy4c_T"
   },
   "outputs": [],
   "source": [
    "# import bhtsne\n",
    "\n",
    "# embedded = bhtsne.tsne(np.array(countries_vec).astype(np.float64), dimensions=2, rand_seed=123)\n",
    "# plt.figure(figsize=(10, 10))\n",
    "# plt.scatter(np.array(embedded).T[0], np.array(embedded).T[1])\n",
    "# for (x, y), name in zip(embedded, countries):\n",
    "#     plt.annotate(name, (x, y))\n",
    "# plt.show()"
   ]
  },
  {
   "cell_type": "code",
   "execution_count": null,
   "metadata": {
    "id": "lc_ipsRr4eh1"
   },
   "outputs": [],
   "source": []
  }
 ],
 "metadata": {
  "colab": {
   "authorship_tag": "ABX9TyOgwDECjy7UgC66VszsvmS1",
   "collapsed_sections": [],
   "name": "言語処理100本ノック_2020_7.ipynb",
   "provenance": []
  },
  "kernelspec": {
   "display_name": "Python 3 (ipykernel)",
   "language": "python",
   "name": "python3"
  },
  "language_info": {
   "codemirror_mode": {
    "name": "ipython",
    "version": 3
   },
   "file_extension": ".py",
   "mimetype": "text/x-python",
   "name": "python",
   "nbconvert_exporter": "python",
   "pygments_lexer": "ipython3",
   "version": "3.9.9"
  }
 },
 "nbformat": 4,
 "nbformat_minor": 4
}
