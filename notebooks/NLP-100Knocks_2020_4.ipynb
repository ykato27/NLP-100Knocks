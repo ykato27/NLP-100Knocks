{
 "cells": [
  {
   "cell_type": "markdown",
   "metadata": {
    "id": "ECQXJNSZJrCx"
   },
   "source": [
    "## 第4章: 形態素解析\n",
    "夏目漱石の小説『吾輩は猫である』の文章（neko.txt）をMeCabを使って形態素解析し，その結果をneko.txt.mecabというファイルに保存せよ．このファイルを用いて，以下の問に対応するプログラムを実装せよ．"
   ]
  },
  {
   "cell_type": "markdown",
   "metadata": {
    "id": "QbVP7EVXJvWC"
   },
   "source": [
    "まずは指定のデータをダウンロードします。\n",
    "Google Colaboratoryのセル上で下記のコマンドを実行すると、カレントディレクトリに対象のファイルがダウンロードされます。"
   ]
  },
  {
   "cell_type": "code",
   "execution_count": 1,
   "metadata": {},
   "outputs": [],
   "source": [
    "%load_ext lab_black"
   ]
  },
  {
   "cell_type": "code",
   "execution_count": 2,
   "metadata": {
    "colab": {
     "base_uri": "https://localhost:8080/"
    },
    "executionInfo": {
     "elapsed": 2045,
     "status": "ok",
     "timestamp": 1610682415650,
     "user": {
      "displayName": "yuki kato",
      "photoUrl": "",
      "userId": "08430221927587521076"
     },
     "user_tz": -540
    },
    "id": "YrXF7ZjeJoLJ",
    "outputId": "dec12826-53de-461c-ffd9-ca35ff90d4e9"
   },
   "outputs": [
    {
     "name": "stdout",
     "output_type": "stream",
     "text": [
      "--2021-12-12 11:18:26--  https://nlp100.github.io/data/neko.txt\n",
      "Resolving nlp100.github.io (nlp100.github.io)... 185.199.108.153, 185.199.109.153, 185.199.110.153, ...\n",
      "Connecting to nlp100.github.io (nlp100.github.io)|185.199.108.153|:443... connected.\n",
      "HTTP request sent, awaiting response... 200 OK\n",
      "Length: 975789 (953K) [text/plain]\n",
      "Saving to: ‘neko.txt’\n",
      "\n",
      "neko.txt            100%[===================>] 952.92K  1.43MB/s    in 0.7s    \n",
      "\n",
      "2021-12-12 11:18:27 (1.43 MB/s) - ‘neko.txt’ saved [975789/975789]\n",
      "\n"
     ]
    }
   ],
   "source": [
    "!wget https://nlp100.github.io/data/neko.txt"
   ]
  },
  {
   "cell_type": "markdown",
   "metadata": {
    "id": "4A2P5_8WJyfu"
   },
   "source": [
    "続いて、MeCabをインストールします。"
   ]
  },
  {
   "cell_type": "markdown",
   "metadata": {
    "id": "ie3ZaG78J4Dh"
   },
   "source": [
    "形態素解析を行います。\n",
    "以下のコマンドを実行することにより、neko.txtを形態素解析した結果が、neko.txt.mecabとして出力されます。\n",
    "\n"
   ]
  },
  {
   "cell_type": "code",
   "execution_count": 3,
   "metadata": {
    "executionInfo": {
     "elapsed": 5380,
     "status": "ok",
     "timestamp": 1610682444745,
     "user": {
      "displayName": "yuki kato",
      "photoUrl": "",
      "userId": "08430221927587521076"
     },
     "user_tz": -540
    },
    "id": "KLHpRT_dJz44"
   },
   "outputs": [],
   "source": [
    "!mecab -o ./neko.txt.mecab ./neko.txt"
   ]
  },
  {
   "cell_type": "markdown",
   "metadata": {
    "id": "G53TAKMsJ7PA"
   },
   "source": [
    "出力結果を確認します。"
   ]
  },
  {
   "cell_type": "code",
   "execution_count": 4,
   "metadata": {
    "colab": {
     "base_uri": "https://localhost:8080/"
    },
    "executionInfo": {
     "elapsed": 1036,
     "status": "ok",
     "timestamp": 1610682453140,
     "user": {
      "displayName": "yuki kato",
      "photoUrl": "",
      "userId": "08430221927587521076"
     },
     "user_tz": -540
    },
    "id": "9iwQ-umaJ5ag",
    "outputId": "f6d2e4c6-fbe5-48bc-de55-7b06bd26d0b9"
   },
   "outputs": [
    {
     "name": "stdout",
     "output_type": "stream",
     "text": [
      "226266 ./neko.txt.mecab\n"
     ]
    }
   ],
   "source": [
    "# 行数の確認\n",
    "!wc -l ./neko.txt.mecab"
   ]
  },
  {
   "cell_type": "code",
   "execution_count": 5,
   "metadata": {
    "colab": {
     "base_uri": "https://localhost:8080/"
    },
    "executionInfo": {
     "elapsed": 975,
     "status": "ok",
     "timestamp": 1610682460284,
     "user": {
      "displayName": "yuki kato",
      "photoUrl": "",
      "userId": "08430221927587521076"
     },
     "user_tz": -540
    },
    "id": "c4Styq9QJ8hl",
    "outputId": "cb4baf3f-d373-4d1b-a707-14351d84f09b"
   },
   "outputs": [
    {
     "name": "stdout",
     "output_type": "stream",
     "text": [
      "一\t名詞,数,*,*,*,*,一,イチ,イチ\n",
      "\t記号,一般,*,*,*,*,*\n",
      "EOS\n",
      "\t記号,一般,*,*,*,*,*\n",
      "EOS\n",
      "　\t記号,空白,*,*,*,*,　,　,　\n",
      "吾輩\t名詞,代名詞,一般,*,*,*,吾輩,ワガハイ,ワガハイ\n",
      "は\t助詞,係助詞,*,*,*,*,は,ハ,ワ\n",
      "猫\t名詞,一般,*,*,*,*,猫,ネコ,ネコ\n",
      "で\t助動詞,*,*,*,特殊・ダ,連用形,だ,デ,デ\n",
      "ある\t助動詞,*,*,*,五段・ラ行アル,基本形,ある,アル,アル\n",
      "。\t記号,句点,*,*,*,*,。,。,。\n",
      "\t記号,一般,*,*,*,*,*\n",
      "EOS\n",
      "名前\t名詞,一般,*,*,*,*,名前,ナマエ,ナマエ\n"
     ]
    }
   ],
   "source": [
    "# 先頭15行の確認\n",
    "!head -15 ./neko.txt.mecab"
   ]
  },
  {
   "cell_type": "markdown",
   "metadata": {
    "id": "PiNC9-KMKA5c"
   },
   "source": [
    "#### 30. 形態素解析結果の読み込み\n",
    "形態素解析結果（neko.txt.mecab）を読み込むプログラムを実装せよ．ただし，各形態素は表層形（surface），基本形（base），品詞（pos），品詞細分類1（pos1）をキーとするマッピング型に格納し，1文を形態素（マッピング型）のリストとして表現せよ．第4章の残りの問題では，ここで作ったプログラムを活用せよ．"
   ]
  },
  {
   "cell_type": "code",
   "execution_count": 6,
   "metadata": {
    "colab": {
     "base_uri": "https://localhost:8080/"
    },
    "executionInfo": {
     "elapsed": 1271,
     "status": "ok",
     "timestamp": 1610682507691,
     "user": {
      "displayName": "yuki kato",
      "photoUrl": "",
      "userId": "08430221927587521076"
     },
     "user_tz": -540
    },
    "id": "gMXrHlW1J-SM",
    "outputId": "83edc4c9-5c64-45d0-f555-d0dee8754ccb"
   },
   "outputs": [
    {
     "name": "stdout",
     "output_type": "stream",
     "text": [
      "{'surface': '\\u3000', 'base': '\\u3000', 'pos': '記号', 'pos1': '空白'}\n",
      "{'surface': '吾輩', 'base': '吾輩', 'pos': '名詞', 'pos1': '代名詞'}\n",
      "{'surface': 'は', 'base': 'は', 'pos': '助詞', 'pos1': '係助詞'}\n",
      "{'surface': '猫', 'base': '猫', 'pos': '名詞', 'pos1': '一般'}\n",
      "{'surface': 'で', 'base': 'だ', 'pos': '助動詞', 'pos1': '*'}\n",
      "{'surface': 'ある', 'base': 'ある', 'pos': '助動詞', 'pos1': '*'}\n",
      "{'surface': '。', 'base': '。', 'pos': '記号', 'pos1': '句点'}\n"
     ]
    }
   ],
   "source": [
    "filename = \"./neko.txt.mecab\"\n",
    "\n",
    "sentences = []\n",
    "morphs = []\n",
    "with open(filename, mode=\"r\") as f:\n",
    "    for line in f:  # 1行ずつ読込\n",
    "        if line != \"EOS\\n\":  # 文末以外：形態素解析情報を辞書型に格納して形態素リストに追加\n",
    "            fields = line.split(\"\\t\")\n",
    "            if len(fields) != 2 or fields[0] == \"\":  # 文頭以外の空白と改行文字はスキップ\n",
    "                continue\n",
    "            else:\n",
    "                attr = fields[1].split(\",\")\n",
    "                morph = {\n",
    "                    \"surface\": fields[0],\n",
    "                    \"base\": attr[6],\n",
    "                    \"pos\": attr[0],\n",
    "                    \"pos1\": attr[1],\n",
    "                }\n",
    "                morphs.append(morph)\n",
    "        else:  # 文末：形態素リストを文リストに追加\n",
    "            sentences.append(morphs)\n",
    "            morphs = []\n",
    "\n",
    "# 確認\n",
    "for morph in sentences[2]:\n",
    "    print(morph)"
   ]
  },
  {
   "cell_type": "markdown",
   "metadata": {
    "id": "-FSZiYUUKPjb"
   },
   "source": [
    "#### 31. 動詞\n",
    "動詞の表層形をすべて抽出せよ．"
   ]
  },
  {
   "cell_type": "markdown",
   "metadata": {
    "id": "NK9H9iDdKSce"
   },
   "source": [
    "以降、30で作成したsentencesに対して処理を行っていきます。\n",
    "ここで結果を格納しているset型は、集合を表すデータ型であり重複を許しません。ですので、何も考えずに要素を追加していっても自然と重複のない結果を得られるため、本問のようなケースで便利です。"
   ]
  },
  {
   "cell_type": "code",
   "execution_count": 7,
   "metadata": {
    "colab": {
     "base_uri": "https://localhost:8080/"
    },
    "executionInfo": {
     "elapsed": 697,
     "status": "ok",
     "timestamp": 1610682557876,
     "user": {
      "displayName": "yuki kato",
      "photoUrl": "",
      "userId": "08430221927587521076"
     },
     "user_tz": -540
    },
    "id": "dhR-evdjKJyS",
    "outputId": "32981a01-dae7-4455-e6ee-d2a7a04d6ca7"
   },
   "outputs": [
    {
     "name": "stdout",
     "output_type": "stream",
     "text": [
      "動詞の表層形の種類: 3893\n",
      "\n",
      "---サンプル---\n",
      "抛り出し\n",
      "負え\n",
      "すぎ\n",
      "逃げ出す\n",
      "なる\n",
      "突き合せ\n",
      "捨てる\n",
      "こん\n",
      "切っ\n",
      "這い出す\n"
     ]
    }
   ],
   "source": [
    "ans = set()\n",
    "for sentence in sentences:\n",
    "    for morph in sentence:\n",
    "        if morph[\"pos\"] == \"動詞\":\n",
    "            ans.add(morph[\"surface\"])  # set型なので重複しない要素のみ保持していく\n",
    "\n",
    "# 確認\n",
    "print(f\"動詞の表層形の種類: {len(ans)}\\n\")\n",
    "print(\"---サンプル---\")\n",
    "for v in list(ans)[:10]:\n",
    "    print(v)"
   ]
  },
  {
   "cell_type": "markdown",
   "metadata": {
    "id": "TMvoAOf5KZYy"
   },
   "source": [
    "#### 32. 動詞の原形\n",
    "動詞の原形をすべて抽出せよ．"
   ]
  },
  {
   "cell_type": "code",
   "execution_count": 8,
   "metadata": {
    "colab": {
     "base_uri": "https://localhost:8080/"
    },
    "executionInfo": {
     "elapsed": 761,
     "status": "ok",
     "timestamp": 1610682591155,
     "user": {
      "displayName": "yuki kato",
      "photoUrl": "",
      "userId": "08430221927587521076"
     },
     "user_tz": -540
    },
    "id": "wUtVfljNKWLY",
    "outputId": "bd8d34b4-754c-4317-ef06-e7dbb7499fab"
   },
   "outputs": [
    {
     "name": "stdout",
     "output_type": "stream",
     "text": [
      "動詞の原形の種類: 2300\n",
      "\n",
      "---サンプル---\n",
      "嘲る\n",
      "まじる\n",
      "逃げ出す\n",
      "生す\n",
      "なる\n",
      "捨てる\n",
      "あげる\n",
      "嵌る\n",
      "這い出す\n",
      "入り込む\n"
     ]
    }
   ],
   "source": [
    "ans = set()\n",
    "for sentence in sentences:\n",
    "    for morph in sentence:\n",
    "        if morph[\"pos\"] == \"動詞\":\n",
    "            ans.add(morph[\"base\"])\n",
    "\n",
    "# 確認\n",
    "print(f\"動詞の原形の種類: {len(ans)}\\n\")\n",
    "print(\"---サンプル---\")\n",
    "for v in list(ans)[:10]:\n",
    "    print(v)"
   ]
  },
  {
   "cell_type": "markdown",
   "metadata": {
    "id": "WrLSiI9IKhZ9"
   },
   "source": [
    "#### 33. 「AのB」\n",
    "2つの名詞が「の」で連結されている名詞句を抽出せよ．"
   ]
  },
  {
   "cell_type": "code",
   "execution_count": 9,
   "metadata": {
    "colab": {
     "base_uri": "https://localhost:8080/"
    },
    "executionInfo": {
     "elapsed": 832,
     "status": "ok",
     "timestamp": 1610682618905,
     "user": {
      "displayName": "yuki kato",
      "photoUrl": "",
      "userId": "08430221927587521076"
     },
     "user_tz": -540
    },
    "id": "-Kq_JFNJKePP",
    "outputId": "c05080d0-d947-401a-bec7-bf363eb3ddd6"
   },
   "outputs": [
    {
     "name": "stdout",
     "output_type": "stream",
     "text": [
      "「名詞+の+名詞」の種類: 4924\n",
      "\n",
      "---サンプル---\n",
      "本人の性行\n",
      "獅子の洞\n",
      "狂の異名\n",
      "頭の営養\n",
      "うちの主人\n",
      "御殿の中\n",
      "芸者の妻君\n",
      "車夫の先祖\n",
      "内の三\n",
      "自分の損\n"
     ]
    }
   ],
   "source": [
    "ans = set()\n",
    "for sentence in sentences:\n",
    "    for i in range(1, len(sentence) - 1):\n",
    "        if (\n",
    "            sentence[i - 1][\"pos\"] == \"名詞\"\n",
    "            and sentence[i][\"surface\"] == \"の\"\n",
    "            and sentence[i + 1][\"pos\"] == \"名詞\"\n",
    "        ):\n",
    "            ans.add(\n",
    "                sentence[i - 1][\"surface\"]\n",
    "                + sentence[i][\"surface\"]\n",
    "                + sentence[i + 1][\"surface\"]\n",
    "            )\n",
    "\n",
    "# 確認\n",
    "print(f\"「名詞+の+名詞」の種類: {len(ans)}\\n\")\n",
    "print(\"---サンプル---\")\n",
    "for n in list(ans)[:10]:\n",
    "    print(n)"
   ]
  },
  {
   "cell_type": "markdown",
   "metadata": {
    "id": "IP8D41UlKrGj"
   },
   "source": [
    "#### 34. 名詞の連接\n",
    "名詞の連接（連続して出現する名詞）を最長一致で抽出せよ．"
   ]
  },
  {
   "cell_type": "markdown",
   "metadata": {
    "id": "CkKlN3PVKxGP"
   },
   "source": [
    "文ごとに、最初の形態素から順に以下のルールを適用し、名詞の連接を最長一致で抽出しています。\n",
    "\n",
    "1. 名詞であればnounsに連結し、連結数(num)をカウント\n",
    "2. 名詞以外の場合、ここまでの連結数が2以上であれば出力し、nounsとnumを初期化\n",
    "3. それ以外の場合、nounsとnumを初期化"
   ]
  },
  {
   "cell_type": "code",
   "execution_count": 10,
   "metadata": {
    "colab": {
     "base_uri": "https://localhost:8080/"
    },
    "executionInfo": {
     "elapsed": 755,
     "status": "ok",
     "timestamp": 1610682687417,
     "user": {
      "displayName": "yuki kato",
      "photoUrl": "",
      "userId": "08430221927587521076"
     },
     "user_tz": -540
    },
    "id": "GrmslpJ8KlC1",
    "outputId": "9fab7b73-7e3e-4ad6-f480-74e669c69488"
   },
   "outputs": [
    {
     "name": "stdout",
     "output_type": "stream",
     "text": [
      "連接名詞の種類: 4457\n",
      "\n",
      "---サンプル---\n",
      "帰天斎正一\n",
      "忙中自ら閑\n",
      "甘木先生\n",
      "僧共\n",
      "素晴\n",
      "直径一寸\n",
      "ヴァイオリン癲癇\n",
      "怨ずる\n",
      "智無能\n",
      "一偉観\n"
     ]
    }
   ],
   "source": [
    "ans = set()\n",
    "for sentence in sentences:\n",
    "    nouns = \"\"\n",
    "    num = 0\n",
    "    for morph in sentence:\n",
    "        if morph[\"pos\"] == \"名詞\":  # 最初の形態素から順に、名詞であればnounsに連結し、連結数(num)をカウント\n",
    "            nouns = \"\".join([nouns, morph[\"surface\"]])\n",
    "            num += 1\n",
    "        elif num >= 2:  # 名詞以外、かつここまでの連結数が2以上の場合は出力し、nounsとnumを初期化\n",
    "            ans.add(nouns)\n",
    "            nouns = \"\"\n",
    "            num = 0\n",
    "        else:  # それ以外の場合、nounsとnumを初期化\n",
    "            nouns = \"\"\n",
    "            num = 0\n",
    "    if num >= 2:\n",
    "        ans.add(nouns)\n",
    "\n",
    "# 確認\n",
    "print(f\"連接名詞の種類: {len(ans)}\\n\")\n",
    "print(\"---サンプル---\")\n",
    "for n in list(ans)[:10]:\n",
    "    print(n)"
   ]
  },
  {
   "cell_type": "markdown",
   "metadata": {
    "id": "sEFxSCzSK33V"
   },
   "source": [
    "#### 35. 単語の出現頻度\n",
    "文章中に出現する単語とその出現頻度を求め，出現頻度の高い順に並べよ．"
   ]
  },
  {
   "cell_type": "code",
   "execution_count": 11,
   "metadata": {
    "colab": {
     "base_uri": "https://localhost:8080/"
    },
    "executionInfo": {
     "elapsed": 761,
     "status": "ok",
     "timestamp": 1610682709014,
     "user": {
      "displayName": "yuki kato",
      "photoUrl": "",
      "userId": "08430221927587521076"
     },
     "user_tz": -540
    },
    "id": "FhvlyNv_K1ya",
    "outputId": "979c031b-8293-4ac4-a718-7309b1489327"
   },
   "outputs": [
    {
     "name": "stdout",
     "output_type": "stream",
     "text": [
      "('の', 9194)\n",
      "('て', 6848)\n",
      "('は', 6420)\n",
      "('に', 6243)\n",
      "('を', 6071)\n",
      "('だ', 5972)\n",
      "('と', 5508)\n",
      "('が', 5337)\n",
      "('た', 4267)\n",
      "('する', 3657)\n"
     ]
    }
   ],
   "source": [
    "from collections import defaultdict\n",
    "\n",
    "ans = defaultdict(int)\n",
    "for sentence in sentences:\n",
    "    for morph in sentence:\n",
    "        if morph[\"pos\"] != \"記号\":\n",
    "            ans[morph[\"base\"]] += 1  # 単語数の更新(初登場の単語であれば1をセット)\n",
    "ans = sorted(ans.items(), key=lambda x: x[1], reverse=True)\n",
    "\n",
    "# 確認\n",
    "for w in ans[:10]:\n",
    "    print(w)"
   ]
  },
  {
   "cell_type": "markdown",
   "metadata": {
    "id": "jy36O-iuK9Sp"
   },
   "source": [
    "#### 36. 頻度上位10語\n",
    "出現頻度が高い10語とその出現頻度をグラフ（例えば棒グラフなど）で表示せよ．"
   ]
  },
  {
   "cell_type": "markdown",
   "metadata": {
    "id": "HaE3FwaWLAXh"
   },
   "source": [
    "matplotlibで日本語を表示させるため、japanize_matplotlibをインストールしておきます。"
   ]
  },
  {
   "cell_type": "code",
   "execution_count": 12,
   "metadata": {
    "colab": {
     "base_uri": "https://localhost:8080/",
     "height": 264
    },
    "executionInfo": {
     "elapsed": 921,
     "status": "ok",
     "timestamp": 1610682743673,
     "user": {
      "displayName": "yuki kato",
      "photoUrl": "",
      "userId": "08430221927587521076"
     },
     "user_tz": -540
    },
    "id": "qr0WGNU_LBgO",
    "outputId": "0c89e58e-c569-4a57-ced9-75f6db4baab2"
   },
   "outputs": [
    {
     "data": {
      "image/png": "[encoded data removed]",
      "text/plain": [
       "<Figure size 576x288 with 1 Axes>"
      ]
     },
     "metadata": {
      "needs_background": "light"
     },
     "output_type": "display_data"
    }
   ],
   "source": [
    "import japanize_matplotlib\n",
    "import matplotlib.pyplot as plt\n",
    "\n",
    "ans = defaultdict(int)\n",
    "for sentence in sentences:\n",
    "    for morph in sentence:\n",
    "        if morph[\"pos\"] != \"記号\":\n",
    "            ans[morph[\"base\"]] += 1  # 単語数の更新(初登場の単語であれば1をセット)\n",
    "ans = sorted(ans.items(), key=lambda x: x[1], reverse=True)\n",
    "\n",
    "keys = [a[0] for a in ans[0:10]]\n",
    "values = [a[1] for a in ans[0:10]]\n",
    "plt.figure(figsize=(8, 4))\n",
    "plt.bar(keys, values)\n",
    "plt.show()"
   ]
  },
  {
   "cell_type": "markdown",
   "metadata": {
    "id": "oaFrXy6kLFSP"
   },
   "source": [
    "#### 37. 「猫」と共起頻度の高い上位10語\n",
    "「猫」とよく共起する（共起頻度が高い）10語とその出現頻度をグラフ（例えば棒グラフなど）で表示せよ．"
   ]
  },
  {
   "cell_type": "markdown",
   "metadata": {
    "id": "LvWhDB8zLKuJ"
   },
   "source": [
    "ここでは特に指示がないため品詞を選択していませんが、目的によっては助詞等を除くことによって、より意味のありそうな結果になると思います。\n",
    "\n"
   ]
  },
  {
   "cell_type": "code",
   "execution_count": 13,
   "metadata": {
    "colab": {
     "base_uri": "https://localhost:8080/",
     "height": 264
    },
    "executionInfo": {
     "elapsed": 770,
     "status": "ok",
     "timestamp": 1610682783171,
     "user": {
      "displayName": "yuki kato",
      "photoUrl": "",
      "userId": "08430221927587521076"
     },
     "user_tz": -540
    },
    "id": "71LoFR2xLDe7",
    "outputId": "fee31463-0c5f-412b-cd52-76a9f6471d09"
   },
   "outputs": [
    {
     "data": {
      "image/png": "[encoded data removed]",
      "text/plain": [
       "<Figure size 576x288 with 1 Axes>"
      ]
     },
     "metadata": {
      "needs_background": "light"
     },
     "output_type": "display_data"
    }
   ],
   "source": [
    "ans = defaultdict(int)\n",
    "for sentence in sentences:\n",
    "    if \"猫\" in [morph[\"surface\"] for morph in sentence]:  # 文章の形態素に「猫」が含まれる場合のみ辞書に追加\n",
    "        for morph in sentence:\n",
    "            if morph[\"pos\"] != \"記号\":\n",
    "                ans[morph[\"base\"]] += 1  # 単語数の更新(初登場の単語であれば1をセット)\n",
    "del ans[\"猫\"]\n",
    "ans = sorted(ans.items(), key=lambda x: x[1], reverse=True)\n",
    "\n",
    "keys = [a[0] for a in ans[0:10]]\n",
    "values = [a[1] for a in ans[0:10]]\n",
    "plt.figure(figsize=(8, 4))\n",
    "plt.bar(keys, values)\n",
    "plt.show()"
   ]
  },
  {
   "cell_type": "markdown",
   "metadata": {
    "id": "9cNBFiIELPKw"
   },
   "source": [
    "#### 38. ヒストグラム\n",
    "単語の出現頻度のヒストグラム（横軸に出現頻度，縦軸に出現頻度をとる単語の種類数を棒グラフで表したもの）を描け．"
   ]
  },
  {
   "cell_type": "code",
   "execution_count": 14,
   "metadata": {
    "colab": {
     "base_uri": "https://localhost:8080/",
     "height": 277
    },
    "executionInfo": {
     "elapsed": 1496,
     "status": "ok",
     "timestamp": 1610682806138,
     "user": {
      "displayName": "yuki kato",
      "photoUrl": "",
      "userId": "08430221927587521076"
     },
     "user_tz": -540
    },
    "id": "PpNOpvpELNKa",
    "outputId": "9aa79b80-c1ea-42f1-8589-bd36c0265321"
   },
   "outputs": [
    {
     "data": {
      "image/png": "[encoded data removed]",
      "text/plain": [
       "<Figure size 576x288 with 1 Axes>"
      ]
     },
     "metadata": {
      "needs_background": "light"
     },
     "output_type": "display_data"
    }
   ],
   "source": [
    "ans = defaultdict(int)\n",
    "for sentence in sentences:\n",
    "    for morph in sentence:\n",
    "        if morph[\"pos\"] != \"記号\":\n",
    "            ans[morph[\"base\"]] += 1  # 単語数の更新(初登場の単語であれば1をセット)\n",
    "ans = ans.values()\n",
    "\n",
    "plt.figure(figsize=(8, 4))\n",
    "plt.hist(ans, bins=100)\n",
    "plt.xlabel(\"出現頻度\")\n",
    "plt.ylabel(\"単語の種類数\")\n",
    "plt.show()"
   ]
  },
  {
   "cell_type": "markdown",
   "metadata": {
    "id": "78Tc4Ju_LU0l"
   },
   "source": [
    "#### 39. Zipfの法則\n",
    "単語の出現頻度順位を横軸，その出現頻度を縦軸として，両対数グラフをプロットせよ．"
   ]
  },
  {
   "cell_type": "code",
   "execution_count": 15,
   "metadata": {
    "colab": {
     "base_uri": "https://localhost:8080/",
     "height": 283
    },
    "executionInfo": {
     "elapsed": 1905,
     "status": "ok",
     "timestamp": 1610682831466,
     "user": {
      "displayName": "yuki kato",
      "photoUrl": "",
      "userId": "08430221927587521076"
     },
     "user_tz": -540
    },
    "id": "y6EoAQ7HLSl9",
    "outputId": "39c05e27-80e0-47f1-d7ee-a9b22fdb9d1d"
   },
   "outputs": [
    {
     "data": {
      "image/png": "[encoded data removed]",
      "text/plain": [
       "<Figure size 576x288 with 1 Axes>"
      ]
     },
     "metadata": {
      "needs_background": "light"
     },
     "output_type": "display_data"
    }
   ],
   "source": [
    "import math\n",
    "\n",
    "ans = defaultdict(int)\n",
    "for sentence in sentences:\n",
    "    for morph in sentence:\n",
    "        if morph[\"pos\"] != \"記号\":\n",
    "            ans[morph[\"base\"]] += 1\n",
    "ans = sorted(ans.items(), key=lambda x: x[1], reverse=True)\n",
    "\n",
    "ranks = [r + 1 for r in range(len(ans))]\n",
    "values = [a[1] for a in ans]\n",
    "plt.figure(figsize=(8, 4))\n",
    "plt.scatter(ranks, values)\n",
    "plt.xscale(\"log\")\n",
    "plt.yscale(\"log\")\n",
    "plt.xlabel(\"出現頻度順位\")\n",
    "plt.ylabel(\"出現頻度\")\n",
    "plt.show()"
   ]
  },
  {
   "cell_type": "code",
   "execution_count": null,
   "metadata": {
    "id": "G-v6SuU7LYrS"
   },
   "outputs": [],
   "source": []
  }
 ],
 "metadata": {
  "colab": {
   "authorship_tag": "ABX9TyOv+qIEvCyMXlEZGztGgguK",
   "name": "言語処理100本ノック_2020_4.ipynb",
   "provenance": []
  },
  "kernelspec": {
   "display_name": "Python 3 (ipykernel)",
   "language": "python",
   "name": "python3"
  },
  "language_info": {
   "codemirror_mode": {
    "name": "ipython",
    "version": 3
   },
   "file_extension": ".py",
   "mimetype": "text/x-python",
   "name": "python",
   "nbconvert_exporter": "python",
   "pygments_lexer": "ipython3",
   "version": "3.9.9"
  }
 },
 "nbformat": 4,
 "nbformat_minor": 4
}
