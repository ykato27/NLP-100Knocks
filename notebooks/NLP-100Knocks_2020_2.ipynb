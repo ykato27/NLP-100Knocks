{
 "cells": [
  {
   "cell_type": "markdown",
   "metadata": {
    "id": "y_LMcz3Z_mJN"
   },
   "source": [
    "## 第2章: UNIXコマンド\n",
    "popular-names.txtは，アメリカで生まれた赤ちゃんの「名前」「性別」「人数」「年」をタブ区切り形式で格納したファイルである．以下の処理を行うプログラムを作成し，popular-names.txtを入力ファイルとして実行せよ．さらに，同様の処理をUNIXコマンドでも実行し，プログラムの実行結果を確認せよ．"
   ]
  },
  {
   "cell_type": "markdown",
   "metadata": {
    "id": "Ibx0m3Nb_u3w"
   },
   "source": [
    "指定のデータをダウンロードします。\n",
    "Google Colaboratoryのセル上で下記のコマンドを実行すると、カレントディレクトリに対象のテキストファイルがダウンロードされます。"
   ]
  },
  {
   "cell_type": "code",
   "execution_count": 1,
   "metadata": {},
   "outputs": [],
   "source": [
    "%load_ext lab_black"
   ]
  },
  {
   "cell_type": "code",
   "execution_count": 2,
   "metadata": {
    "colab": {
     "base_uri": "https://localhost:8080/"
    },
    "executionInfo": {
     "elapsed": 2455,
     "status": "ok",
     "timestamp": 1610679776344,
     "user": {
      "displayName": "yuki kato",
      "photoUrl": "",
      "userId": "08430221927587521076"
     },
     "user_tz": -540
    },
    "id": "zklPybPSVVgM",
    "outputId": "46175950-2783-4d38-ab09-819dc53e14fd"
   },
   "outputs": [
    {
     "name": "stdout",
     "output_type": "stream",
     "text": [
      "--2021-12-11 10:24:35--  https://nlp100.github.io/data/popular-names.txt\n",
      "Resolving nlp100.github.io (nlp100.github.io)... 185.199.111.153, 185.199.110.153, 185.199.108.153, ...\n",
      "Connecting to nlp100.github.io (nlp100.github.io)|185.199.111.153|:443... connected.\n",
      "HTTP request sent, awaiting response... 200 OK\n",
      "Length: 55026 (54K) [text/plain]\n",
      "Saving to: ‘popular-names.txt’\n",
      "\n",
      "popular-names.txt   100%[===================>]  53.74K   151KB/s    in 0.4s    \n",
      "\n",
      "2021-12-11 10:24:36 (151 KB/s) - ‘popular-names.txt’ saved [55026/55026]\n",
      "\n"
     ]
    }
   ],
   "source": [
    "!wget https://nlp100.github.io/data/popular-names.txt"
   ]
  },
  {
   "cell_type": "markdown",
   "metadata": {
    "id": "wYCJuCZx_wi1"
   },
   "source": [
    "#### 10. 行数のカウント\n",
    "行数をカウントせよ．確認にはwcコマンドを用いよ．"
   ]
  },
  {
   "cell_type": "code",
   "execution_count": 3,
   "metadata": {
    "colab": {
     "base_uri": "https://localhost:8080/"
    },
    "executionInfo": {
     "elapsed": 956,
     "status": "ok",
     "timestamp": 1610679812968,
     "user": {
      "displayName": "yuki kato",
      "photoUrl": "",
      "userId": "08430221927587521076"
     },
     "user_tz": -540
    },
    "id": "o5smLAnC_s3M",
    "outputId": "75aea0e9-1a56-4f6c-d1a4-f30e21be9c0e"
   },
   "outputs": [
    {
     "name": "stdout",
     "output_type": "stream",
     "text": [
      "2780\n"
     ]
    }
   ],
   "source": [
    "import pandas as pd\n",
    "\n",
    "df = pd.read_table(\n",
    "    \"./popular-names.txt\",\n",
    "    header=None,\n",
    "    sep=\"\\t\",\n",
    "    names=[\"name\", \"sex\", \"number\", \"year\"],\n",
    ")\n",
    "print(len(df))"
   ]
  },
  {
   "cell_type": "code",
   "execution_count": 4,
   "metadata": {
    "colab": {
     "base_uri": "https://localhost:8080/"
    },
    "executionInfo": {
     "elapsed": 941,
     "status": "ok",
     "timestamp": 1610679822623,
     "user": {
      "displayName": "yuki kato",
      "photoUrl": "",
      "userId": "08430221927587521076"
     },
     "user_tz": -540
    },
    "id": "YUlfhnSV_3-A",
    "outputId": "d4dac2a2-13dc-4f34-e0b7-fdf70a09246b"
   },
   "outputs": [
    {
     "name": "stdout",
     "output_type": "stream",
     "text": [
      "2780 ./popular-names.txt\n"
     ]
    }
   ],
   "source": [
    "# 確認\n",
    "!wc -l ./popular-names.txt"
   ]
  },
  {
   "cell_type": "markdown",
   "metadata": {
    "id": "mBqV020B__yz"
   },
   "source": [
    "#### 11. タブをスペースに置換\n",
    "タブ1文字につきスペース1文字に置換せよ．確認にはsedコマンド，trコマンド，もしくはexpandコマンドを用いよ．"
   ]
  },
  {
   "cell_type": "code",
   "execution_count": 5,
   "metadata": {
    "colab": {
     "base_uri": "https://localhost:8080/"
    },
    "executionInfo": {
     "elapsed": 554,
     "status": "ok",
     "timestamp": 1610679872886,
     "user": {
      "displayName": "yuki kato",
      "photoUrl": "",
      "userId": "08430221927587521076"
     },
     "user_tz": -540
    },
    "id": "qLobMEIx_6VP",
    "outputId": "4441661a-624a-4de4-8cbf-460b48dab5f5"
   },
   "outputs": [
    {
     "name": "stdout",
     "output_type": "stream",
     "text": [
      "Mary F 7065 1880\n",
      "Anna F 2604 1880\n",
      "Emma F 2003 1880\n",
      "Elizabeth F 1939 1880\n",
      "Minnie F 1746 1880\n",
      "sed: couldn't write 17 items to stdout: Broken pipe\n"
     ]
    }
   ],
   "source": [
    "# 確認\n",
    "!sed -e 's/\\t/ /g' ./popular-names.txt | head -n 5"
   ]
  },
  {
   "cell_type": "markdown",
   "metadata": {
    "id": "GRGOZWrvALK_"
   },
   "source": [
    "#### 12. 1列目をcol1.txtに，2列目をcol2.txtに保存\n",
    "各行の1列目だけを抜き出したものをcol1.txtに，2列目だけを抜き出したものをcol2.txtとしてファイルに保存せよ．確認にはcutコマンドを用いよ．"
   ]
  },
  {
   "cell_type": "code",
   "execution_count": 6,
   "metadata": {
    "colab": {
     "base_uri": "https://localhost:8080/"
    },
    "executionInfo": {
     "elapsed": 574,
     "status": "ok",
     "timestamp": 1610679934359,
     "user": {
      "displayName": "yuki kato",
      "photoUrl": "",
      "userId": "08430221927587521076"
     },
     "user_tz": -540
    },
    "id": "teUt7Uf5AGsi",
    "outputId": "98b14b53-c53b-44ee-f951-75df95454546"
   },
   "outputs": [
    {
     "name": "stdout",
     "output_type": "stream",
     "text": [
      "0         Mary\n",
      "1         Anna\n",
      "2         Emma\n",
      "3    Elizabeth\n",
      "4       Minnie\n",
      "Name: name, dtype: object\n"
     ]
    }
   ],
   "source": [
    "col1 = df[\"name\"]\n",
    "col1.to_csv(\"./col1.txt\", index=False)\n",
    "print(col1.head())"
   ]
  },
  {
   "cell_type": "code",
   "execution_count": 7,
   "metadata": {
    "colab": {
     "base_uri": "https://localhost:8080/"
    },
    "executionInfo": {
     "elapsed": 695,
     "status": "ok",
     "timestamp": 1610679943954,
     "user": {
      "displayName": "yuki kato",
      "photoUrl": "",
      "userId": "08430221927587521076"
     },
     "user_tz": -540
    },
    "id": "QEqyo0OtAVsw",
    "outputId": "8767c159-d90d-45b3-b585-6546b91d0742"
   },
   "outputs": [
    {
     "name": "stdout",
     "output_type": "stream",
     "text": [
      "Mary\n",
      "Anna\n",
      "Emma\n",
      "Elizabeth\n",
      "Minnie\n"
     ]
    }
   ],
   "source": [
    "# 確認\n",
    "!cut -f 1 ./popular-names.txt > ./col1_chk.txt\n",
    "!cat ./col1_chk.txt | head -n 5"
   ]
  },
  {
   "cell_type": "code",
   "execution_count": 8,
   "metadata": {
    "executionInfo": {
     "elapsed": 461,
     "status": "ok",
     "timestamp": 1610679963369,
     "user": {
      "displayName": "yuki kato",
      "photoUrl": "",
      "userId": "08430221927587521076"
     },
     "user_tz": -540
    },
    "id": "FqYjiUOoAYA4"
   },
   "outputs": [],
   "source": [
    "col2 = df[\"sex\"]\n",
    "col2.to_csv(\"./col2.txt\", index=False)"
   ]
  },
  {
   "cell_type": "code",
   "execution_count": 9,
   "metadata": {
    "colab": {
     "base_uri": "https://localhost:8080/"
    },
    "executionInfo": {
     "elapsed": 647,
     "status": "ok",
     "timestamp": 1610679968023,
     "user": {
      "displayName": "yuki kato",
      "photoUrl": "",
      "userId": "08430221927587521076"
     },
     "user_tz": -540
    },
    "id": "aMlFTBZuAcUm",
    "outputId": "ad5024bd-31f6-4211-d710-b319c8a17558"
   },
   "outputs": [
    {
     "name": "stdout",
     "output_type": "stream",
     "text": [
      "F\n",
      "F\n",
      "F\n",
      "F\n",
      "F\n"
     ]
    }
   ],
   "source": [
    "# 確認\n",
    "!cut -f 2 ./popular-names.txt > ./col2_chk.txt\n",
    "!cat ./col2_chk.txt | head -n 5"
   ]
  },
  {
   "cell_type": "markdown",
   "metadata": {
    "id": "KQWY1YYgBOkH"
   },
   "source": [
    "#### 13. col1.txtとcol2.txtをマージ\n",
    "12で作ったcol1.txtとcol2.txtを結合し，元のファイルの1列目と2列目をタブ区切りで並べたテキストファイルを作成せよ．確認にはpasteコマンドを用いよ．"
   ]
  },
  {
   "cell_type": "code",
   "execution_count": 10,
   "metadata": {
    "colab": {
     "base_uri": "https://localhost:8080/"
    },
    "executionInfo": {
     "elapsed": 640,
     "status": "ok",
     "timestamp": 1610680181208,
     "user": {
      "displayName": "yuki kato",
      "photoUrl": "",
      "userId": "08430221927587521076"
     },
     "user_tz": -540
    },
    "id": "4ZBXP5P3Ad5r",
    "outputId": "7700a5a2-b4d3-4397-e501-398e3538c67d"
   },
   "outputs": [
    {
     "name": "stdout",
     "output_type": "stream",
     "text": [
      "        name sex\n",
      "0       Mary   F\n",
      "1       Anna   F\n",
      "2       Emma   F\n",
      "3  Elizabeth   F\n",
      "4     Minnie   F\n"
     ]
    }
   ],
   "source": [
    "col1 = pd.read_table(\"./col1.txt\")\n",
    "col2 = pd.read_table(\"./col2.txt\")\n",
    "merged_1_2 = pd.concat([col1, col2], axis=1)\n",
    "merged_1_2.to_csv(\"./merged_1_2.txt\", sep=\"\\t\", index=False)\n",
    "print(merged_1_2.head())"
   ]
  },
  {
   "cell_type": "code",
   "execution_count": 11,
   "metadata": {
    "colab": {
     "base_uri": "https://localhost:8080/"
    },
    "executionInfo": {
     "elapsed": 560,
     "status": "ok",
     "timestamp": 1610680198674,
     "user": {
      "displayName": "yuki kato",
      "photoUrl": "",
      "userId": "08430221927587521076"
     },
     "user_tz": -540
    },
    "id": "kjYnkp7TBR8y",
    "outputId": "fac11ef9-9673-41c5-b453-23a46f78ee05"
   },
   "outputs": [
    {
     "name": "stdout",
     "output_type": "stream",
     "text": [
      "Mary\tF\n",
      "Anna\tF\n",
      "Emma\tF\n",
      "Elizabeth\tF\n",
      "Minnie\tF\n",
      "paste: write error: Broken pipe\n",
      "paste: write error\n"
     ]
    }
   ],
   "source": [
    "# 確認\n",
    "!paste ./col1_chk.txt ./col2_chk.txt | head -n 5"
   ]
  },
  {
   "cell_type": "markdown",
   "metadata": {
    "id": "m6GcfueLBYl5"
   },
   "source": [
    "#### 14. 先頭からN行を出力\n",
    "自然数Nをコマンドライン引数などの手段で受け取り，入力のうち先頭のN行だけを表示せよ．確認にはheadコマンドを用いよ．"
   ]
  },
  {
   "cell_type": "code",
   "execution_count": 12,
   "metadata": {
    "colab": {
     "base_uri": "https://localhost:8080/"
    },
    "executionInfo": {
     "elapsed": 778,
     "status": "ok",
     "timestamp": 1610680222684,
     "user": {
      "displayName": "yuki kato",
      "photoUrl": "",
      "userId": "08430221927587521076"
     },
     "user_tz": -540
    },
    "id": "C53esPrWBWO9",
    "outputId": "55a56ac7-79db-4678-d2d9-313363355350"
   },
   "outputs": [
    {
     "name": "stdout",
     "output_type": "stream",
     "text": [
      "        name sex  number  year\n",
      "0       Mary   F    7065  1880\n",
      "1       Anna   F    2604  1880\n",
      "2       Emma   F    2003  1880\n",
      "3  Elizabeth   F    1939  1880\n",
      "4     Minnie   F    1746  1880\n"
     ]
    }
   ],
   "source": [
    "def output_head(N):\n",
    "    print(df.head(N))\n",
    "\n",
    "\n",
    "output_head(5)"
   ]
  },
  {
   "cell_type": "code",
   "execution_count": 13,
   "metadata": {
    "colab": {
     "base_uri": "https://localhost:8080/"
    },
    "executionInfo": {
     "elapsed": 579,
     "status": "ok",
     "timestamp": 1610680233126,
     "user": {
      "displayName": "yuki kato",
      "photoUrl": "",
      "userId": "08430221927587521076"
     },
     "user_tz": -540
    },
    "id": "imtcMVWXBcCv",
    "outputId": "f1d227fa-1081-4cd5-978b-2e9c9ef8a4c6"
   },
   "outputs": [
    {
     "name": "stdout",
     "output_type": "stream",
     "text": [
      "Mary\tF\t7065\t1880\n",
      "Anna\tF\t2604\t1880\n",
      "Emma\tF\t2003\t1880\n",
      "Elizabeth\tF\t1939\t1880\n",
      "Minnie\tF\t1746\t1880\n"
     ]
    }
   ],
   "source": [
    "# 確認\n",
    "!head -n 5 ./popular-names.txt"
   ]
  },
  {
   "cell_type": "markdown",
   "metadata": {
    "id": "aKauR56GBg-X"
   },
   "source": [
    "#### 15. 末尾のN行を出力\n",
    "自然数Nをコマンドライン引数などの手段で受け取り，入力のうち末尾のN行だけを表示せよ．確認にはtailコマンドを用いよ．"
   ]
  },
  {
   "cell_type": "code",
   "execution_count": 14,
   "metadata": {
    "colab": {
     "base_uri": "https://localhost:8080/"
    },
    "executionInfo": {
     "elapsed": 679,
     "status": "ok",
     "timestamp": 1610680255349,
     "user": {
      "displayName": "yuki kato",
      "photoUrl": "",
      "userId": "08430221927587521076"
     },
     "user_tz": -540
    },
    "id": "cGc5u-FwBeo8",
    "outputId": "be42789e-f410-4d7f-be43-dfa088e0e91b"
   },
   "outputs": [
    {
     "name": "stdout",
     "output_type": "stream",
     "text": [
      "          name sex  number  year\n",
      "2775  Benjamin   M   13381  2018\n",
      "2776    Elijah   M   12886  2018\n",
      "2777     Lucas   M   12585  2018\n",
      "2778     Mason   M   12435  2018\n",
      "2779     Logan   M   12352  2018\n"
     ]
    }
   ],
   "source": [
    "def output_tail(N):\n",
    "    print(df.tail(N))\n",
    "\n",
    "\n",
    "output_tail(5)"
   ]
  },
  {
   "cell_type": "code",
   "execution_count": 15,
   "metadata": {
    "colab": {
     "base_uri": "https://localhost:8080/"
    },
    "executionInfo": {
     "elapsed": 724,
     "status": "ok",
     "timestamp": 1610680261284,
     "user": {
      "displayName": "yuki kato",
      "photoUrl": "",
      "userId": "08430221927587521076"
     },
     "user_tz": -540
    },
    "id": "p6mnsCggBkCr",
    "outputId": "3edd138d-e2c4-490e-aa55-876ca281c2fe"
   },
   "outputs": [
    {
     "name": "stdout",
     "output_type": "stream",
     "text": [
      "Benjamin\tM\t13381\t2018\n",
      "Elijah\tM\t12886\t2018\n",
      "Lucas\tM\t12585\t2018\n",
      "Mason\tM\t12435\t2018\n",
      "Logan\tM\t12352\t2018\n"
     ]
    }
   ],
   "source": [
    "# 確認\n",
    "!tail -n 5 ./popular-names.txt"
   ]
  },
  {
   "cell_type": "markdown",
   "metadata": {
    "id": "5h34k4rtBnJ9"
   },
   "source": [
    "#### 16. ファイルをN分割する\n",
    "自然数Nをコマンドライン引数などの手段で受け取り，入力のファイルを行単位でN分割せよ．同様の処理をsplitコマンドで実現せよ．"
   ]
  },
  {
   "cell_type": "markdown",
   "metadata": {
    "id": "qGkrmHhZCpSy"
   },
   "source": [
    "いろいろなやり方があると思いますが、ここではレコードの通番に対して、N分位点を算出するqcutを適用することでファイルをN分割するフラグを付与しています。"
   ]
  },
  {
   "cell_type": "code",
   "execution_count": 16,
   "metadata": {
    "colab": {
     "base_uri": "https://localhost:8080/"
    },
    "executionInfo": {
     "elapsed": 978,
     "status": "ok",
     "timestamp": 1610680581330,
     "user": {
      "displayName": "yuki kato",
      "photoUrl": "",
      "userId": "08430221927587521076"
     },
     "user_tz": -540
    },
    "id": "9o-YDHoDBlet",
    "outputId": "01f6fb25-6dde-4888-f6d9-b63f95e979a1"
   },
   "outputs": [
    {
     "name": "stdout",
     "output_type": "stream",
     "text": [
      "0    278\n",
      "1    278\n",
      "2    278\n",
      "3    278\n",
      "4    278\n",
      "5    278\n",
      "6    278\n",
      "7    278\n",
      "8    278\n",
      "9    278\n",
      "Name: sp, dtype: int64\n"
     ]
    }
   ],
   "source": [
    "def split_file(N):\n",
    "    tmp = df.reset_index(drop=False)\n",
    "    df_cut = pd.qcut(tmp.index, N, labels=[i for i in range(N)])\n",
    "    df_cut = pd.concat([df, pd.Series(df_cut, name=\"sp\")], axis=1)\n",
    "\n",
    "    return df_cut\n",
    "\n",
    "\n",
    "df_cut = split_file(10)\n",
    "print(df_cut[\"sp\"].value_counts())"
   ]
  },
  {
   "cell_type": "code",
   "execution_count": 17,
   "metadata": {
    "colab": {
     "base_uri": "https://localhost:8080/"
    },
    "executionInfo": {
     "elapsed": 622,
     "status": "ok",
     "timestamp": 1610680594240,
     "user": {
      "displayName": "yuki kato",
      "photoUrl": "",
      "userId": "08430221927587521076"
     },
     "user_tz": -540
    },
    "id": "CEIGkki3Czjc",
    "outputId": "3edb1a79-1b3b-4d07-f3a1-6c5fa763a0c9"
   },
   "outputs": [
    {
     "name": "stdout",
     "output_type": "stream",
     "text": [
      "        name sex  number  year sp\n",
      "0       Mary   F    7065  1880  0\n",
      "1       Anna   F    2604  1880  0\n",
      "2       Emma   F    2003  1880  0\n",
      "3  Elizabeth   F    1939  1880  0\n",
      "4     Minnie   F    1746  1880  0\n"
     ]
    }
   ],
   "source": [
    "print(df_cut.head())"
   ]
  },
  {
   "cell_type": "code",
   "execution_count": 18,
   "metadata": {
    "executionInfo": {
     "elapsed": 739,
     "status": "ok",
     "timestamp": 1610680598528,
     "user": {
      "displayName": "yuki kato",
      "photoUrl": "",
      "userId": "08430221927587521076"
     },
     "user_tz": -540
    },
    "id": "-H9uAIl6C2yr"
   },
   "outputs": [],
   "source": [
    "# コマンドによる分割\n",
    "!split -l 200 -d ./popular-names.txt sp"
   ]
  },
  {
   "cell_type": "markdown",
   "metadata": {
    "id": "ilWqhNlnC6f-"
   },
   "source": [
    "#### 17. １列目の文字列の異なり\n",
    "1列目の文字列の種類（異なる文字列の集合）を求めよ．確認にはcut, sort, uniqコマンドを用いよ．"
   ]
  },
  {
   "cell_type": "code",
   "execution_count": 19,
   "metadata": {
    "colab": {
     "base_uri": "https://localhost:8080/"
    },
    "executionInfo": {
     "elapsed": 620,
     "status": "ok",
     "timestamp": 1610680637188,
     "user": {
      "displayName": "yuki kato",
      "photoUrl": "",
      "userId": "08430221927587521076"
     },
     "user_tz": -540
    },
    "id": "cVxx1K9YC3z4",
    "outputId": "d26b0468-bcff-4388-c014-fbe5cdbb3e6e"
   },
   "outputs": [
    {
     "name": "stdout",
     "output_type": "stream",
     "text": [
      "136\n"
     ]
    }
   ],
   "source": [
    "print(len(df.drop_duplicates(subset=\"name\")))"
   ]
  },
  {
   "cell_type": "code",
   "execution_count": 20,
   "metadata": {
    "colab": {
     "base_uri": "https://localhost:8080/"
    },
    "executionInfo": {
     "elapsed": 599,
     "status": "ok",
     "timestamp": 1610680649782,
     "user": {
      "displayName": "yuki kato",
      "photoUrl": "",
      "userId": "08430221927587521076"
     },
     "user_tz": -540
    },
    "id": "Mg6MVFt8DBRq",
    "outputId": "e36a9157-99b1-4a22-8c02-fd914a346fef"
   },
   "outputs": [
    {
     "name": "stdout",
     "output_type": "stream",
     "text": [
      "136\n"
     ]
    }
   ],
   "source": [
    "# 確認\n",
    "!cut -f 1 ./popular-names.txt | sort | uniq | wc -l"
   ]
  },
  {
   "cell_type": "markdown",
   "metadata": {
    "id": "fpnpF5PiDHBT"
   },
   "source": [
    "#### 18. 各行を3コラム目の数値の降順にソート\n",
    "各行を3コラム目の数値の逆順で整列せよ（注意: 各行の内容は変更せずに並び替えよ）．確認にはsortコマンドを用いよ（この問題はコマンドで実行した時の結果と合わなくてもよい）．"
   ]
  },
  {
   "cell_type": "code",
   "execution_count": 21,
   "metadata": {
    "colab": {
     "base_uri": "https://localhost:8080/"
    },
    "executionInfo": {
     "elapsed": 691,
     "status": "ok",
     "timestamp": 1610681325722,
     "user": {
      "displayName": "yuki kato",
      "photoUrl": "",
      "userId": "08430221927587521076"
     },
     "user_tz": -540
    },
    "id": "LPGOkYfHDEW7",
    "outputId": "7639e242-e17e-4abe-ba73-810fbc929689"
   },
   "outputs": [
    {
     "name": "stdout",
     "output_type": "stream",
     "text": [
      "         name sex  number  year\n",
      "1340    Linda   F   99689  1947\n",
      "1360    Linda   F   96211  1948\n",
      "1350    James   M   94757  1947\n",
      "1550  Michael   M   92704  1957\n",
      "1351   Robert   M   91640  1947\n"
     ]
    }
   ],
   "source": [
    "df.sort_values(by=\"number\", ascending=False, inplace=True)\n",
    "print(df.head())"
   ]
  },
  {
   "cell_type": "code",
   "execution_count": 22,
   "metadata": {
    "colab": {
     "base_uri": "https://localhost:8080/"
    },
    "executionInfo": {
     "elapsed": 760,
     "status": "ok",
     "timestamp": 1610681348345,
     "user": {
      "displayName": "yuki kato",
      "photoUrl": "",
      "userId": "08430221927587521076"
     },
     "user_tz": -540
    },
    "id": "1cm4oxOMFpXA",
    "outputId": "8bce0df5-1136-4741-f3b6-8e981b265c20"
   },
   "outputs": [
    {
     "name": "stdout",
     "output_type": "stream",
     "text": [
      "Linda\tF\t99689\t1947\n",
      "Linda\tF\t96211\t1948\n",
      "James\tM\t94757\t1947\n",
      "Michael\tM\t92704\t1957\n",
      "Robert\tM\t91640\t1947\n",
      "sort: write failed: 'standard output': Broken pipe\n",
      "sort: write error\n"
     ]
    }
   ],
   "source": [
    "# 確認\n",
    "!cat ./popular-names.txt | sort -rnk 3 | head -n 5"
   ]
  },
  {
   "cell_type": "markdown",
   "metadata": {
    "id": "ZXuCVK54FyD3"
   },
   "source": [
    "#### 19. 各行の1コラム目の文字列の出現頻度を求め，出現頻度の高い順に並べる\n",
    "各行の1列目の文字列の出現頻度を求め，その高い順に並べて表示せよ．確認にはcut, uniq, sortコマンドを用いよ．"
   ]
  },
  {
   "cell_type": "code",
   "execution_count": 23,
   "metadata": {
    "colab": {
     "base_uri": "https://localhost:8080/"
    },
    "executionInfo": {
     "elapsed": 821,
     "status": "ok",
     "timestamp": 1610681378911,
     "user": {
      "displayName": "yuki kato",
      "photoUrl": "",
      "userId": "08430221927587521076"
     },
     "user_tz": -540
    },
    "id": "KbTj7eKsFu3c",
    "outputId": "1a881ea0-6c92-49d8-a046-2b7287a6f419"
   },
   "outputs": [
    {
     "name": "stdout",
     "output_type": "stream",
     "text": [
      "James      118\n",
      "William    111\n",
      "Robert     108\n",
      "John       108\n",
      "Mary        92\n",
      "          ... \n",
      "Julie        1\n",
      "Laura        1\n",
      "Walter       1\n",
      "Lori         1\n",
      "Rachel       1\n",
      "Name: name, Length: 136, dtype: int64\n"
     ]
    }
   ],
   "source": [
    "print(df[\"name\"].value_counts())"
   ]
  },
  {
   "cell_type": "code",
   "execution_count": 24,
   "metadata": {
    "colab": {
     "base_uri": "https://localhost:8080/"
    },
    "executionInfo": {
     "elapsed": 734,
     "status": "ok",
     "timestamp": 1610681393210,
     "user": {
      "displayName": "yuki kato",
      "photoUrl": "",
      "userId": "08430221927587521076"
     },
     "user_tz": -540
    },
    "id": "M4bGWGmjF2UD",
    "outputId": "04c2bf40-ee37-4a71-e150-e8f662814bbd"
   },
   "outputs": [
    {
     "name": "stdout",
     "output_type": "stream",
     "text": [
      "    118 James\n",
      "    111 William\n",
      "    108 Robert\n",
      "    108 John\n",
      "     92 Mary\n",
      "     75 Charles\n",
      "     74 Michael\n",
      "     73 Elizabeth\n",
      "     70 Joseph\n",
      "     60 Margaret\n",
      "     58 Thomas\n",
      "     58 George\n",
      "     57 David\n",
      "     51 Richard\n",
      "     45 Helen\n",
      "     43 Frank\n",
      "     43 Christopher\n",
      "     41 Anna\n",
      "     40 Edward\n",
      "     39 Ruth\n",
      "     38 Patricia\n",
      "     37 Matthew\n",
      "     36 Dorothy\n",
      "     35 Emma\n",
      "     32 Barbara\n",
      "     31 Joshua\n",
      "     31 Daniel\n",
      "     26 Sarah\n",
      "     26 Linda\n",
      "     26 Jennifer\n",
      "     26 Emily\n",
      "     25 Jessica\n",
      "     25 Jacob\n",
      "     24 Susan\n",
      "     24 Mildred\n",
      "     24 Betty\n",
      "     23 Henry\n",
      "     23 Ashley\n",
      "     22 Nancy\n",
      "     21 Andrew\n",
      "     20 Marie\n",
      "     20 Florence\n",
      "     20 Donald\n",
      "     20 Amanda\n",
      "     19 Samantha\n",
      "     18 Olivia\n",
      "     18 Melissa\n",
      "     18 Madison\n",
      "     18 Lisa\n",
      "     18 Karen\n",
      "     17 Stephanie\n",
      "     17 Abigail\n",
      "     16 Sandra\n",
      "     16 Mark\n",
      "     16 Ethel\n",
      "     15 Michelle\n",
      "     15 Isabella\n",
      "     15 Heather\n",
      "     15 Frances\n",
      "     15 Ethan\n",
      "     15 Carol\n",
      "     15 Angela\n",
      "     14 Shirley\n",
      "     14 Kimberly\n",
      "     14 Ava\n",
      "     14 Amy\n",
      "     13 Virginia\n",
      "     13 Sophia\n",
      "     13 Nicole\n",
      "     13 Jason\n",
      "     13 Hannah\n",
      "     13 Deborah\n",
      "     13 Brian\n",
      "     12 Minnie\n",
      "     12 Donna\n",
      "     12 Bertha\n",
      "     11 Cynthia\n",
      "     10 Ronald\n",
      "     10 Noah\n",
      "     10 Nicholas\n",
      "     10 Mia\n",
      "     10 Doris\n",
      "     10 Brittany\n",
      "     10 Alice\n",
      "      9 Tyler\n",
      "      9 Joan\n",
      "      9 Debra\n",
      "      8 Taylor\n",
      "      8 Mason\n",
      "      8 Judith\n",
      "      8 Ida\n",
      "      8 Clara\n",
      "      8 Alexis\n",
      "      8 Alexander\n",
      "      7 Tammy\n",
      "      7 Steven\n",
      "      7 Sharon\n",
      "      7 Liam\n",
      "      7 Harry\n",
      "      7 Brandon\n",
      "      6 Anthony\n",
      "      5 Jeffrey\n",
      "      5 Jayden\n",
      "      5 Gary\n",
      "      5 Charlotte\n",
      "      5 Annie\n",
      "      4 Lillian\n",
      "      4 Kathleen\n",
      "      4 Justin\n",
      "      4 Chloe\n",
      "      4 Benjamin\n",
      "      4 Austin\n",
      "      3 Megan\n",
      "      3 Harper\n",
      "      3 Evelyn\n",
      "      3 Elijah\n",
      "      3 Aiden\n",
      "      2 Rebecca\n",
      "      2 Oliver\n",
      "      2 Logan\n",
      "      2 Lauren\n",
      "      2 Larry\n",
      "      2 Bessie\n",
      "      2 Amelia\n",
      "      1 Walter\n",
      "      1 Tracy\n",
      "      1 Scott\n",
      "      1 Rachel\n",
      "      1 Pamela\n",
      "      1 Lucas\n",
      "      1 Lori\n",
      "      1 Laura\n",
      "      1 Kelly\n",
      "      1 Julie\n",
      "      1 Crystal\n",
      "      1 Carolyn\n"
     ]
    }
   ],
   "source": [
    "# 確認\n",
    "!cut -f 1 ./popular-names.txt | sort | uniq -c | sort -rn"
   ]
  },
  {
   "cell_type": "code",
   "execution_count": null,
   "metadata": {
    "id": "G6f6ecZdF5Yd"
   },
   "outputs": [],
   "source": []
  }
 ],
 "metadata": {
  "colab": {
   "authorship_tag": "ABX9TyM9rgE0ndgT1ByxfuAOmRu0",
   "collapsed_sections": [],
   "name": "言語処理100本ノック_2020_2.ipynb",
   "provenance": []
  },
  "kernelspec": {
   "display_name": "Python 3 (ipykernel)",
   "language": "python",
   "name": "python3"
  },
  "language_info": {
   "codemirror_mode": {
    "name": "ipython",
    "version": 3
   },
   "file_extension": ".py",
   "mimetype": "text/x-python",
   "name": "python",
   "nbconvert_exporter": "python",
   "pygments_lexer": "ipython3",
   "version": "3.9.9"
  }
 },
 "nbformat": 4,
 "nbformat_minor": 4
}
