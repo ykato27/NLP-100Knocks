{
 "cells": [
  {
   "cell_type": "markdown",
   "metadata": {
    "id": "M2Gz2l0lOIXk"
   },
   "source": [
    "## 第1章: 準備運動\n",
    "#### 00. 文字列の逆順\n",
    "文字列”stressed”の文字を逆に（末尾から先頭に向かって）並べた文字列を得よ．"
   ]
  },
  {
   "cell_type": "markdown",
   "metadata": {
    "id": "N65gs6CTSWkK"
   },
   "source": [
    "スライスは[開始位置:終了位置:移動幅]を指定して文字列を抽出します。このとき、開始位置を省略すると先頭から、終了位置を省略すると末尾までの範囲となります。また、移動幅にマイナスを指定すると、終了位置から順番に抽出されます。"
   ]
  },
  {
   "cell_type": "code",
   "execution_count": 1,
   "metadata": {},
   "outputs": [],
   "source": [
    "%load_ext lab_black"
   ]
  },
  {
   "cell_type": "code",
   "execution_count": 2,
   "metadata": {
    "colab": {
     "base_uri": "https://localhost:8080/"
    },
    "executionInfo": {
     "elapsed": 1158,
     "status": "ok",
     "timestamp": 1610582961588,
     "user": {
      "displayName": "yuki kato",
      "photoUrl": "",
      "userId": "08430221927587521076"
     },
     "user_tz": -540
    },
    "id": "I-Oo4bFON4xJ",
    "outputId": "787821fc-2708-439f-cf99-03b2df48a699"
   },
   "outputs": [
    {
     "name": "stdout",
     "output_type": "stream",
     "text": [
      "desserts\n"
     ]
    }
   ],
   "source": [
    "str = \"stressed\"\n",
    "ans = str[::-1]  # 「先頭」から「末尾」まで「逆順の移動幅1」で\n",
    "print(ans)"
   ]
  },
  {
   "cell_type": "markdown",
   "metadata": {
    "id": "30f3-Os0OdqS"
   },
   "source": [
    "#### 01. 「パタトクカシーー」\n",
    "「パタトクカシーー」という文字列の1,3,5,7文字目を取り出して連結した文字列を得よ．"
   ]
  },
  {
   "cell_type": "code",
   "execution_count": 3,
   "metadata": {
    "colab": {
     "base_uri": "https://localhost:8080/"
    },
    "executionInfo": {
     "elapsed": 1009,
     "status": "ok",
     "timestamp": 1610583012051,
     "user": {
      "displayName": "yuki kato",
      "photoUrl": "",
      "userId": "08430221927587521076"
     },
     "user_tz": -540
    },
    "id": "7wrj264kOYpk",
    "outputId": "7c8bac8c-2042-4b15-9514-adc5cd99f1e0"
   },
   "outputs": [
    {
     "name": "stdout",
     "output_type": "stream",
     "text": [
      "パトカー\n"
     ]
    }
   ],
   "source": [
    "str = \"パタトクカシーー\"\n",
    "ans = str[::2]  # 「先頭」から「末尾」まで「移動幅2」で\n",
    "print(ans)"
   ]
  },
  {
   "cell_type": "markdown",
   "metadata": {
    "id": "jROqkJFGOpsn"
   },
   "source": [
    "#### 02. 「パトカー」＋「タクシー」＝「パタトクカシーー」\n",
    "「パトカー」＋「タクシー」の文字を先頭から交互に連結して文字列「パタトクカシーー」を得よ．"
   ]
  },
  {
   "cell_type": "code",
   "execution_count": 4,
   "metadata": {
    "colab": {
     "base_uri": "https://localhost:8080/"
    },
    "executionInfo": {
     "elapsed": 601,
     "status": "ok",
     "timestamp": 1610583080260,
     "user": {
      "displayName": "yuki kato",
      "photoUrl": "",
      "userId": "08430221927587521076"
     },
     "user_tz": -540
    },
    "id": "tIyN-ZfDOm60",
    "outputId": "a955106e-6759-4ee3-dfa4-27e03b25a85d"
   },
   "outputs": [
    {
     "name": "stdout",
     "output_type": "stream",
     "text": [
      "パタトクカシーー\n"
     ]
    }
   ],
   "source": [
    "str1 = \"パトカー\"\n",
    "str2 = \"タクシー\"\n",
    "ans = \"\".join([i + j for i, j in zip(str1, str2)])\n",
    "print(ans)"
   ]
  },
  {
   "cell_type": "markdown",
   "metadata": {
    "id": "jTyA_FyPPAlf"
   },
   "source": [
    "#### 03. 円周率\n",
    "“Now I need a drink, alcoholic of course, after the heavy lectures involving quantum mechanics.”という文を単語に分解し，各単語の（アルファベットの）文字数を先頭から出現順に並べたリストを作成せよ．"
   ]
  },
  {
   "cell_type": "code",
   "execution_count": 5,
   "metadata": {
    "colab": {
     "base_uri": "https://localhost:8080/"
    },
    "executionInfo": {
     "elapsed": 632,
     "status": "ok",
     "timestamp": 1610583590100,
     "user": {
      "displayName": "yuki kato",
      "photoUrl": "",
      "userId": "08430221927587521076"
     },
     "user_tz": -540
    },
    "id": "J1LaciSfO3qR",
    "outputId": "6642e232-c150-4153-dd6b-7e8b7ae68ceb"
   },
   "outputs": [
    {
     "name": "stdout",
     "output_type": "stream",
     "text": [
      "[3, 1, 4, 1, 5, 9, 2, 6, 5, 3, 5, 8, 9, 7, 9]\n"
     ]
    }
   ],
   "source": [
    "import re\n",
    "\n",
    "str = \"Now I need a drink, alcoholic of course, after the heavy lectures involving quantum mechanics.\"\n",
    "str_re = re.sub(\"[,\\.]\", \"\", str)  # ,と.を除去\n",
    "splits = str_re.split()  # スペースで区切って単語ごとのリストを作成\n",
    "ans = [len(i) for i in splits]\n",
    "print(ans)"
   ]
  },
  {
   "cell_type": "markdown",
   "metadata": {
    "id": "5Pozmkm1RR00"
   },
   "source": [
    "#### 04. 元素記号\n",
    "“Hi He Lied Because Boron Could Not Oxidize Fluorine. New Nations Might Also Sign Peace Security Clause. Arthur King Can.”という文を単語に分解し，1, 5, 6, 7, 8, 9, 15, 16, 19番目の単語は先頭の1文字，それ以外の単語は先頭から2文字目を取り出し，取り出した文字列から単語の位置（先頭から何番目の単語か）への連想配列（辞書型もしくはマップ型）を作成せよ．"
   ]
  },
  {
   "cell_type": "code",
   "execution_count": 6,
   "metadata": {
    "colab": {
     "base_uri": "https://localhost:8080/"
    },
    "executionInfo": {
     "elapsed": 486,
     "status": "ok",
     "timestamp": 1610583902598,
     "user": {
      "displayName": "yuki kato",
      "photoUrl": "",
      "userId": "08430221927587521076"
     },
     "user_tz": -540
    },
    "id": "65bFRQDBQ0Iz",
    "outputId": "a93e46cf-ed5e-4af7-9e48-bfbecab99657"
   },
   "outputs": [
    {
     "name": "stdout",
     "output_type": "stream",
     "text": [
      "{'H': 1, 'He': 2, 'Li': 3, 'Be': 4, 'B': 5, 'C': 6, 'N': 7, 'O': 8, 'F': 9, 'Ne': 10, 'Na': 11, 'Mi': 12, 'Al': 13, 'Si': 14, 'P': 15, 'S': 16, 'Cl': 17, 'Ar': 18, 'K': 19, 'Ca': 20}\n"
     ]
    }
   ],
   "source": [
    "str = \"Hi He Lied Because Boron Could Not Oxidize Fluorine. \\\n",
    "      New Nations Might Also Sign Peace Security Clause. Arthur King Can.\"\n",
    "splits = str.split()\n",
    "one_ch = [1, 5, 6, 7, 8, 9, 15, 16, 19]  # 1文字を取り出す単語の番号リスト\n",
    "ans = {}\n",
    "for i, word in enumerate(splits):\n",
    "    if i + 1 in one_ch:\n",
    "        ans[word[:1]] = i + 1  # リストにあれば1文字を取得\n",
    "    else:\n",
    "        ans[word[:2]] = i + 1  # なければ2文字を取得\n",
    "\n",
    "print(ans)"
   ]
  },
  {
   "cell_type": "markdown",
   "metadata": {
    "id": "iyfvPg5rSGyV"
   },
   "source": [
    "#### 05. n-gram\n",
    "与えられたシーケンス（文字列やリストなど）からn-gramを作る関数を作成せよ．この関数を用い，”I am an NLPer”という文から単語bi-gram，文字bi-gramを得よ．"
   ]
  },
  {
   "cell_type": "markdown",
   "metadata": {
    "id": "b0UMuPM9SYV8"
   },
   "source": [
    "ここでは、[lst[i:] for i in range(n)]で、1要素目始まり、2要素目始まり、…、n要素目始まりの要素列のリストを作成し、それらをzip関数に渡して前から順番に要素を抽出することで、連続するn要素からなる組を作っています。\n",
    "なお、[lst[i:] for i in range(n)]の結果は1つのリストであるため、前に*をつけることでリストを展開し、それぞれの要素列に分けた上でzip関数に渡す必要があります。"
   ]
  },
  {
   "cell_type": "code",
   "execution_count": 7,
   "metadata": {
    "colab": {
     "base_uri": "https://localhost:8080/"
    },
    "executionInfo": {
     "elapsed": 769,
     "status": "ok",
     "timestamp": 1610584088972,
     "user": {
      "displayName": "yuki kato",
      "photoUrl": "",
      "userId": "08430221927587521076"
     },
     "user_tz": -540
    },
    "id": "Lnj3Yg8mSAdh",
    "outputId": "305d2b35-110b-4fef-c762-8abff3ad5f8b"
   },
   "outputs": [
    {
     "name": "stdout",
     "output_type": "stream",
     "text": [
      "単語bi-gram: [('I', 'am'), ('am', 'an'), ('an', 'NLPer')]\n",
      "文字bi-gram: [('I', ' '), (' ', 'a'), ('a', 'm'), ('m', ' '), (' ', 'a'), ('a', 'n'), ('n', ' '), (' ', 'N'), ('N', 'L'), ('L', 'P'), ('P', 'e'), ('e', 'r')]\n"
     ]
    }
   ],
   "source": [
    "def ngram(n, lst):\n",
    "    # ex.\n",
    "    # [str[i:] for i in range(2)] -> ['I am an NLPer', ' am an NLPer']\n",
    "    # zip(*[str[i:] for i in range(2)]) -> zip('I am an NLPer', ' am an NLPer')\n",
    "    return list(zip(*[lst[i:] for i in range(n)]))\n",
    "\n",
    "\n",
    "str = \"I am an NLPer\"\n",
    "words_bi_gram = ngram(2, str.split())\n",
    "chars_bi_gram = ngram(2, str)\n",
    "\n",
    "print(\"単語bi-gram:\", words_bi_gram)\n",
    "print(\"文字bi-gram:\", chars_bi_gram)"
   ]
  },
  {
   "cell_type": "markdown",
   "metadata": {
    "id": "nnGX3c5MS5L8"
   },
   "source": [
    "#### 06. 集合\n",
    "“paraparaparadise”と”paragraph”に含まれる文字bi-gramの集合を，それぞれ, XとYとして求め，XとYの和集合，積集合，差集合を求めよ．さらに，’se’というbi-gramがXおよびYに含まれるかどうかを調べよ．"
   ]
  },
  {
   "cell_type": "markdown",
   "metadata": {
    "id": "FCLfypmvTCb6"
   },
   "source": [
    "前問で作成した関数ngramを利用します。また、返り値をset型に変換することで、重複があれば削除され、集合として扱うことができるようになります。"
   ]
  },
  {
   "cell_type": "code",
   "execution_count": 8,
   "metadata": {
    "colab": {
     "base_uri": "https://localhost:8080/"
    },
    "executionInfo": {
     "elapsed": 776,
     "status": "ok",
     "timestamp": 1610584204336,
     "user": {
      "displayName": "yuki kato",
      "photoUrl": "",
      "userId": "08430221927587521076"
     },
     "user_tz": -540
    },
    "id": "w0qNjiZTSt5I",
    "outputId": "2a069b48-93da-4ae3-a82d-ce4cea98e248"
   },
   "outputs": [
    {
     "name": "stdout",
     "output_type": "stream",
     "text": [
      "X: {('s', 'e'), ('a', 'r'), ('a', 'd'), ('r', 'a'), ('i', 's'), ('p', 'a'), ('a', 'p'), ('d', 'i')}\n",
      "Y: {('p', 'h'), ('a', 'g'), ('a', 'r'), ('r', 'a'), ('p', 'a'), ('a', 'p'), ('g', 'r')}\n",
      "和集合: {('p', 'h'), ('s', 'e'), ('a', 'g'), ('a', 'r'), ('a', 'd'), ('r', 'a'), ('i', 's'), ('p', 'a'), ('a', 'p'), ('g', 'r'), ('d', 'i')}\n",
      "積集合: {('p', 'a'), ('a', 'p'), ('a', 'r'), ('r', 'a')}\n",
      "差集合: {('s', 'e'), ('d', 'i'), ('i', 's'), ('a', 'd')}\n",
      "Xにseが含まれるか: True\n",
      "Yにseが含まれるか: False\n"
     ]
    }
   ],
   "source": [
    "str1 = \"paraparaparadise\"\n",
    "str2 = \"paragraph\"\n",
    "X = set(ngram(2, str1))\n",
    "Y = set(ngram(2, str2))\n",
    "union = X | Y\n",
    "intersection = X & Y\n",
    "difference = X - Y\n",
    "\n",
    "print(\"X:\", X)\n",
    "print(\"Y:\", Y)\n",
    "print(\"和集合:\", union)\n",
    "print(\"積集合:\", intersection)\n",
    "print(\"差集合:\", difference)\n",
    "print(\"Xにseが含まれるか:\", {(\"s\", \"e\")} <= X)\n",
    "print(\"Yにseが含まれるか:\", {(\"s\", \"e\")} <= Y)"
   ]
  },
  {
   "cell_type": "markdown",
   "metadata": {
    "id": "Ixd9NyNrTTyO"
   },
   "source": [
    "#### 07. テンプレートによる文生成\n",
    "引数x, y, zを受け取り「x時のときyはz」という文字列を返す関数を実装せよ．さらに，x=12, y=”気温”, z=22.4として，実行結果を確認せよ．"
   ]
  },
  {
   "cell_type": "code",
   "execution_count": 9,
   "metadata": {
    "colab": {
     "base_uri": "https://localhost:8080/"
    },
    "executionInfo": {
     "elapsed": 508,
     "status": "ok",
     "timestamp": 1610584335067,
     "user": {
      "displayName": "yuki kato",
      "photoUrl": "",
      "userId": "08430221927587521076"
     },
     "user_tz": -540
    },
    "id": "pEhM0YTDTKD8",
    "outputId": "49c83533-a11a-45ac-dcd5-6e4db8254db9"
   },
   "outputs": [
    {
     "name": "stdout",
     "output_type": "stream",
     "text": [
      "12時のとき気温は22.4\n"
     ]
    }
   ],
   "source": [
    "def generate_sentence(x, y, z):\n",
    "    print(f\"{x}時のとき{y}は{z}\")\n",
    "\n",
    "\n",
    "generate_sentence(x=12, y=\"気温\", z=22.4)"
   ]
  },
  {
   "cell_type": "markdown",
   "metadata": {
    "id": "qHeLsZFMT0yp"
   },
   "source": [
    "#### 08. 暗号文\n",
    "与えられた文字列の各文字を，以下の仕様で変換する関数cipherを実装せよ．\n",
    "英小文字ならば(219 - 文字コード)の文字に置換\n",
    "その他の文字はそのまま出力\n",
    "この関数を用い，英語のメッセージを暗号化・復号化せよ．"
   ]
  },
  {
   "cell_type": "code",
   "execution_count": 10,
   "metadata": {
    "colab": {
     "base_uri": "https://localhost:8080/"
    },
    "executionInfo": {
     "elapsed": 593,
     "status": "ok",
     "timestamp": 1610584477197,
     "user": {
      "displayName": "yuki kato",
      "photoUrl": "",
      "userId": "08430221927587521076"
     },
     "user_tz": -540
    },
    "id": "gg7x57f7TqC4",
    "outputId": "f119254c-da2f-4667-d605-67fa388bb781"
   },
   "outputs": [
    {
     "name": "stdout",
     "output_type": "stream",
     "text": [
      "暗号化: gsv jfrxp yildm ulc qfnkh levi gsv ozab wlt\n",
      "復号化: the quick brown fox jumps over the lazy dog\n"
     ]
    }
   ],
   "source": [
    "def cipher(str):\n",
    "    rep = [chr(219 - ord(x)) if x.islower() else x for x in str]\n",
    "\n",
    "    return \"\".join(rep)\n",
    "\n",
    "\n",
    "message = \"the quick brown fox jumps over the lazy dog\"\n",
    "message = cipher(message)\n",
    "print(\"暗号化:\", message)\n",
    "message = cipher(message)\n",
    "print(\"復号化:\", message)"
   ]
  },
  {
   "cell_type": "markdown",
   "metadata": {
    "id": "2FY4wPB_UWOf"
   },
   "source": [
    "#### 09. Typoglycemia\n",
    "スペースで区切られた単語列に対して，各単語の先頭と末尾の文字は残し，それ以外の文字の順序をランダムに並び替えるプログラムを作成せよ．ただし，長さが４以下の単語は並び替えないこととする．適当な英語の文（例えば”I couldn’t believe that I could actually understand what I was reading : the phenomenal power of the human mind .”）を与え，その実行結果を確認せよ．"
   ]
  },
  {
   "cell_type": "code",
   "execution_count": 11,
   "metadata": {
    "colab": {
     "base_uri": "https://localhost:8080/"
    },
    "executionInfo": {
     "elapsed": 877,
     "status": "ok",
     "timestamp": 1610584616995,
     "user": {
      "displayName": "yuki kato",
      "photoUrl": "",
      "userId": "08430221927587521076"
     },
     "user_tz": -540
    },
    "id": "fbs5woc_UMuP",
    "outputId": "0db1ce92-4399-4ef9-e207-86a6f51275c8"
   },
   "outputs": [
    {
     "name": "stdout",
     "output_type": "stream",
     "text": [
      "I c'londut bveliee that I could atclualy utnrnesdad what I was reiadng : the pmnaoheenl pewor of the hamun mind .\n"
     ]
    }
   ],
   "source": [
    "import random\n",
    "\n",
    "\n",
    "def shuffle(words):\n",
    "    result = []\n",
    "    for word in words.split():\n",
    "        if len(word) > 4:  # 長さが4超であればシャッフル\n",
    "            word = (\n",
    "                word[:1] + \"\".join(random.sample(word[1:-1], len(word) - 2)) + word[-1:]\n",
    "            )\n",
    "        result.append(word)\n",
    "\n",
    "    return \" \".join(result)\n",
    "\n",
    "\n",
    "words = \"I couldn't believe that I could actually understand what I was reading : the phenomenal power of the human mind .\"\n",
    "ans = shuffle(words)\n",
    "\n",
    "print(ans)"
   ]
  }
 ],
 "metadata": {
  "colab": {
   "authorship_tag": "ABX9TyMzsgbv0GW/3jKH1iET+sJL",
   "collapsed_sections": [],
   "name": "言語処理100本ノック_2020_1.ipynb",
   "provenance": []
  },
  "kernelspec": {
   "display_name": "Python 3 (ipykernel)",
   "language": "python",
   "name": "python3"
  },
  "language_info": {
   "codemirror_mode": {
    "name": "ipython",
    "version": 3
   },
   "file_extension": ".py",
   "mimetype": "text/x-python",
   "name": "python",
   "nbconvert_exporter": "python",
   "pygments_lexer": "ipython3",
   "version": "3.9.9"
  }
 },
 "nbformat": 4,
 "nbformat_minor": 4
}
