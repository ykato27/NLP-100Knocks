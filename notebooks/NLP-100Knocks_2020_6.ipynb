{
 "cells": [
  {
   "cell_type": "markdown",
   "metadata": {
    "id": "DtFs_M6TVD7D"
   },
   "source": [
    "## 第6章: 機械学習\n",
    "本章では，Fabio Gasparetti氏が公開しているNews Aggregator Data Setを用い，ニュース記事の見出しを「ビジネス」「科学技術」「エンターテイメント」「健康」のカテゴリに分類するタスク（カテゴリ分類）に取り組む．"
   ]
  },
  {
   "cell_type": "markdown",
   "metadata": {
    "id": "PquLXGPDVIaK"
   },
   "source": [
    "#### 50. データの入手・整形\n",
    "News Aggregator Data Setをダウンロードし、以下の要領で学習データ（train.txt），検証データ（valid.txt），評価データ（test.txt）を作成せよ．\n",
    "\n",
    "1. ダウンロードしたzipファイルを解凍し，readme.txtの説明を読む．\n",
    "2. 情報源（publisher）が”Reuters”, “Huffington Post”, “Businessweek”, “Contactmusic.com”, “Daily Mail”の事例（記事）のみを抽出する．\n",
    "3. 抽出された事例をランダムに並び替える．\n",
    "4. 抽出された事例の80%を学習データ，残りの10%ずつを検証データと評価データに分割し，それぞれtrain.txt，valid.txt，test.txtというファイル名で保存する．ファイルには，１行に１事例を書き出すこととし，カテゴリ名と記事見出しのタブ区切り形式とせよ（このファイルは後に問題70で再利用する）．\n",
    "\n",
    "学習データと評価データを作成したら，各カテゴリの事例数を確認せよ．"
   ]
  },
  {
   "cell_type": "markdown",
   "metadata": {
    "id": "766pLJ41VQIX"
   },
   "source": [
    "まずは、指定のデータをダウンロードします。"
   ]
  },
  {
   "cell_type": "code",
   "execution_count": 1,
   "metadata": {},
   "outputs": [],
   "source": [
    "%load_ext lab_black"
   ]
  },
  {
   "cell_type": "code",
   "execution_count": 2,
   "metadata": {
    "colab": {
     "base_uri": "https://localhost:8080/"
    },
    "executionInfo": {
     "elapsed": 8685,
     "status": "ok",
     "timestamp": 1610694450002,
     "user": {
      "displayName": "yuki kato",
      "photoUrl": "",
      "userId": "08430221927587521076"
     },
     "user_tz": -540
    },
    "id": "5awGSbVCVAdS",
    "outputId": "fbd08e75-887b-413b-b92e-234d92568c01"
   },
   "outputs": [
    {
     "name": "stdout",
     "output_type": "stream",
     "text": [
      "--2021-12-11 11:54:10--  https://archive.ics.uci.edu/ml/machine-learning-databases/00359/NewsAggregatorDataset.zip\n",
      "Resolving archive.ics.uci.edu (archive.ics.uci.edu)... 128.195.10.252\n",
      "Connecting to archive.ics.uci.edu (archive.ics.uci.edu)|128.195.10.252|:443... connected.\n",
      "HTTP request sent, awaiting response... 200 OK\n",
      "Length: 29224203 (28M) [application/x-httpd-php]\n",
      "Saving to: ‘NewsAggregatorDataset.zip’\n",
      "\n",
      "NewsAggregatorDatas 100%[===================>]  27.87M  1.66MB/s    in 24s     \n",
      "\n",
      "2021-12-11 11:54:34 (1.17 MB/s) - ‘NewsAggregatorDataset.zip’ saved [29224203/29224203]\n",
      "\n",
      "Archive:  NewsAggregatorDataset.zip\n",
      "  inflating: 2pageSessions.csv       \n",
      "   creating: __MACOSX/\n",
      "  inflating: __MACOSX/._2pageSessions.csv  \n",
      "  inflating: newsCorpora.csv         \n",
      "  inflating: __MACOSX/._newsCorpora.csv  \n",
      "  inflating: readme.txt              \n",
      "  inflating: __MACOSX/._readme.txt   \n"
     ]
    }
   ],
   "source": [
    "!wget https://archive.ics.uci.edu/ml/machine-learning-databases/00359/NewsAggregatorDataset.zip\n",
    "!unzip NewsAggregatorDataset.zip"
   ]
  },
  {
   "cell_type": "code",
   "execution_count": 3,
   "metadata": {
    "colab": {
     "base_uri": "https://localhost:8080/"
    },
    "executionInfo": {
     "elapsed": 8678,
     "status": "ok",
     "timestamp": 1610694450003,
     "user": {
      "displayName": "yuki kato",
      "photoUrl": "",
      "userId": "08430221927587521076"
     },
     "user_tz": -540
    },
    "id": "aEdCAk0DVRXQ",
    "outputId": "ae8a26f3-3dec-4524-e9bf-3efebdfc9c08"
   },
   "outputs": [
    {
     "name": "stdout",
     "output_type": "stream",
     "text": [
      "422937 ./newsCorpora.csv\n"
     ]
    }
   ],
   "source": [
    "# 行数の確認\n",
    "!wc -l ./newsCorpora.csv"
   ]
  },
  {
   "cell_type": "code",
   "execution_count": 4,
   "metadata": {
    "colab": {
     "base_uri": "https://localhost:8080/"
    },
    "executionInfo": {
     "elapsed": 8673,
     "status": "ok",
     "timestamp": 1610694450003,
     "user": {
      "displayName": "yuki kato",
      "photoUrl": "",
      "userId": "08430221927587521076"
     },
     "user_tz": -540
    },
    "id": "WDZmPB5MVSOv",
    "outputId": "9a503ff3-b32a-40c4-9d8a-616da4a1555d"
   },
   "outputs": [
    {
     "name": "stdout",
     "output_type": "stream",
     "text": [
      "1\tFed official says weak data caused by weather, should not slow taper\thttp://www.latimes.com/business/money/la-fi-mo-federal-reserve-plosser-stimulus-economy-20140310,0,1312750.story\\?track=rss\tLos Angeles Times\tb\tddUyU0VZz0BRneMioxUPQVP6sIxvM\twww.latimes.com\t1394470370698\n",
      "2\tFed's Charles Plosser sees high bar for change in pace of tapering\thttp://www.livemint.com/Politics/H2EvwJSK2VE6OF7iK1g3PP/Feds-Charles-Plosser-sees-high-bar-for-change-in-pace-of-ta.html\tLivemint\tb\tddUyU0VZz0BRneMioxUPQVP6sIxvM\twww.livemint.com\t1394470371207\n",
      "3\tUS open: Stocks fall after Fed official hints at accelerated tapering\thttp://www.ifamagazine.com/news/us-open-stocks-fall-after-fed-official-hints-at-accelerated-tapering-294436\tIFA Magazine\tb\tddUyU0VZz0BRneMioxUPQVP6sIxvM\twww.ifamagazine.com\t1394470371550\n",
      "4\tFed risks falling 'behind the curve', Charles Plosser says\thttp://www.ifamagazine.com/news/fed-risks-falling-behind-the-curve-charles-plosser-says-294430\tIFA Magazine\tb\tddUyU0VZz0BRneMioxUPQVP6sIxvM\twww.ifamagazine.com\t1394470371793\n",
      "5\tFed's Plosser: Nasty Weather Has Curbed Job Growth\thttp://www.moneynews.com/Economy/federal-reserve-charles-plosser-weather-job-growth/2014/03/10/id/557011\tMoneynews\tb\tddUyU0VZz0BRneMioxUPQVP6sIxvM\twww.moneynews.com\t1394470372027\n",
      "6\tPlosser: Fed May Have to Accelerate Tapering Pace\thttp://www.nasdaq.com/article/plosser-fed-may-have-to-accelerate-tapering-pace-20140310-00371\tNASDAQ\tb\tddUyU0VZz0BRneMioxUPQVP6sIxvM\twww.nasdaq.com\t1394470372212\n",
      "7\tFed's Plosser: Taper pace may be too slow\thttp://www.marketwatch.com/story/feds-plosser-taper-pace-may-be-too-slow-2014-03-10\\?reflink=MW_news_stmp\tMarketWatch\tb\tddUyU0VZz0BRneMioxUPQVP6sIxvM\twww.marketwatch.com\t1394470372405\n",
      "8\tFed's Plosser expects US unemployment to fall to 6.2% by the end of 2014\thttp://www.fxstreet.com/news/forex-news/article.aspx\\?storyid=23285020-b1b5-47ed-a8c4-96124bb91a39\tFXstreet.com\tb\tddUyU0VZz0BRneMioxUPQVP6sIxvM\twww.fxstreet.com\t1394470372615\n",
      "9\tUS jobs growth last month hit by weather:Fed President Charles Plosser\thttp://economictimes.indiatimes.com/news/international/business/us-jobs-growth-last-month-hit-by-weatherfed-president-charles-plosser/articleshow/31788000.cms\tEconomic Times\tb\tddUyU0VZz0BRneMioxUPQVP6sIxvM\teconomictimes.indiatimes.com\t1394470372792\n",
      "10\tECB unlikely to end sterilisation of SMP purchases - traders\thttp://www.iii.co.uk/news-opinion/reuters/news/152615\tInteractive Investor\tb\tdPhGU51DcrolUIMxbRm0InaHGA2XM\twww.iii.co.uk\t1394470501265\n"
     ]
    }
   ],
   "source": [
    "# 先頭10行の確認\n",
    "!head -10 ./newsCorpora.csv"
   ]
  },
  {
   "cell_type": "code",
   "execution_count": 5,
   "metadata": {
    "executionInfo": {
     "elapsed": 9633,
     "status": "ok",
     "timestamp": 1610694450965,
     "user": {
      "displayName": "yuki kato",
      "photoUrl": "",
      "userId": "08430221927587521076"
     },
     "user_tz": -540
    },
    "id": "bVCuisirV03-"
   },
   "outputs": [],
   "source": [
    "# 読込時のエラー回避のためダブルクォーテーションをシングルクォーテーションに置換\n",
    "!sed -e 's/\"/'\\''/g' ./newsCorpora.csv > ./newsCorpora_re.csv"
   ]
  },
  {
   "cell_type": "markdown",
   "metadata": {
    "id": "m0ngPH__V5yr"
   },
   "source": [
    "続いて、pandasのデータフレームで読込み、問題文の指示に従いデータを作成していきます。\n",
    "データの分割にはscikit-learnのtrain_test_splitを利用しています。その際stratifyオプションを利用すると、指定したカラムの構成比が分割後の各データで等しくなるように分割されます。ここでは、分類の目的変数であるCATEGORYを指定し、データごとに偏りが生じないようにしています。"
   ]
  },
  {
   "cell_type": "code",
   "execution_count": 6,
   "metadata": {
    "colab": {
     "base_uri": "https://localhost:8080/"
    },
    "executionInfo": {
     "elapsed": 11748,
     "status": "ok",
     "timestamp": 1610694453085,
     "user": {
      "displayName": "yuki kato",
      "photoUrl": "",
      "userId": "08430221927587521076"
     },
     "user_tz": -540
    },
    "id": "f3DartiJV32a",
    "outputId": "d4ee31da-87b8-4198-f8a5-c0c802ddcf13"
   },
   "outputs": [
    {
     "name": "stdout",
     "output_type": "stream",
     "text": [
      "【学習データ】\n",
      "b    4501\n",
      "e    4235\n",
      "t    1220\n",
      "m     728\n",
      "Name: CATEGORY, dtype: int64\n",
      "【検証データ】\n",
      "b    563\n",
      "e    529\n",
      "t    153\n",
      "m     91\n",
      "Name: CATEGORY, dtype: int64\n",
      "【評価データ】\n",
      "b    563\n",
      "e    530\n",
      "t    152\n",
      "m     91\n",
      "Name: CATEGORY, dtype: int64\n"
     ]
    }
   ],
   "source": [
    "import pandas as pd\n",
    "from sklearn.model_selection import train_test_split\n",
    "\n",
    "# データの読込\n",
    "df = pd.read_csv(\n",
    "    \"./newsCorpora_re.csv\",\n",
    "    header=None,\n",
    "    sep=\"\\t\",\n",
    "    names=[\n",
    "        \"ID\",\n",
    "        \"TITLE\",\n",
    "        \"URL\",\n",
    "        \"PUBLISHER\",\n",
    "        \"CATEGORY\",\n",
    "        \"STORY\",\n",
    "        \"HOSTNAME\",\n",
    "        \"TIMESTAMP\",\n",
    "    ],\n",
    ")\n",
    "\n",
    "# データの抽出\n",
    "df = df.loc[\n",
    "    df[\"PUBLISHER\"].isin(\n",
    "        [\"Reuters\", \"Huffington Post\", \"Businessweek\", \"Contactmusic.com\", \"Daily Mail\"]\n",
    "    ),\n",
    "    [\"TITLE\", \"CATEGORY\"],\n",
    "]\n",
    "\n",
    "# データの分割\n",
    "train, valid_test = train_test_split(\n",
    "    df, test_size=0.2, shuffle=True, random_state=123, stratify=df[\"CATEGORY\"]\n",
    ")\n",
    "valid, test = train_test_split(\n",
    "    valid_test,\n",
    "    test_size=0.5,\n",
    "    shuffle=True,\n",
    "    random_state=123,\n",
    "    stratify=valid_test[\"CATEGORY\"],\n",
    ")\n",
    "\n",
    "# データの保存\n",
    "train.to_csv(\"./train.txt\", sep=\"\\t\", index=False)\n",
    "valid.to_csv(\"./valid.txt\", sep=\"\\t\", index=False)\n",
    "test.to_csv(\"./test.txt\", sep=\"\\t\", index=False)\n",
    "\n",
    "# 事例数の確認\n",
    "print(\"【学習データ】\")\n",
    "print(train[\"CATEGORY\"].value_counts())\n",
    "print(\"【検証データ】\")\n",
    "print(valid[\"CATEGORY\"].value_counts())\n",
    "print(\"【評価データ】\")\n",
    "print(test[\"CATEGORY\"].value_counts())"
   ]
  },
  {
   "cell_type": "markdown",
   "metadata": {
    "id": "Vdsfgr7XWILE"
   },
   "source": [
    "#### 51. 特徴量抽出\n",
    "学習データ，検証データ，評価データから特徴量を抽出し，それぞれtrain.feature.txt，valid.feature.txt，test.feature.txtというファイル名で保存せよ． なお，カテゴリ分類に有用そうな特徴量は各自で自由に設計せよ．記事の見出しを単語列に変換したものが最低限のベースラインとなるであろう．"
   ]
  },
  {
   "cell_type": "markdown",
   "metadata": {
    "id": "ALig303fWQ47"
   },
   "source": [
    "今回は、記事の見出しをスペースで分割した単語群を対象にTF-IDFを算出し、その値を特徴量として利用することにします。また、1単語(uni-gram)だけでなく連続する2単語(bi-gram)についてもTF-IDFを計算します。\n",
    "なお、上記を計算するにあたり、テキストの前処理として、①記号をスペースに置換、②アルファベットの小文字化、③数字列を0に置換、の3つの処理を行っています。"
   ]
  },
  {
   "cell_type": "code",
   "execution_count": 7,
   "metadata": {
    "executionInfo": {
     "elapsed": 11746,
     "status": "ok",
     "timestamp": 1610694453085,
     "user": {
      "displayName": "yuki kato",
      "photoUrl": "",
      "userId": "08430221927587521076"
     },
     "user_tz": -540
    },
    "id": "pfAqQexNV-Hd"
   },
   "outputs": [],
   "source": [
    "import re\n",
    "import string\n",
    "\n",
    "\n",
    "def preprocessing(text):\n",
    "    table = str.maketrans(string.punctuation, \" \" * len(string.punctuation))\n",
    "    text = text.translate(table)  # 記号をスペースに置換\n",
    "    text = text.lower()  # 小文字化\n",
    "    text = re.sub(\"[0-9]+\", \"0\", text)  # 数字列を0に置換\n",
    "\n",
    "    return text"
   ]
  },
  {
   "cell_type": "code",
   "execution_count": 8,
   "metadata": {
    "colab": {
     "base_uri": "https://localhost:8080/"
    },
    "executionInfo": {
     "elapsed": 11742,
     "status": "ok",
     "timestamp": 1610694453086,
     "user": {
      "displayName": "yuki kato",
      "photoUrl": "",
      "userId": "08430221927587521076"
     },
     "user_tz": -540
    },
    "id": "OS2tVY5TWYGP",
    "outputId": "cf9bd75e-bf8a-4c10-afaf-5983a1613616"
   },
   "outputs": [
    {
     "name": "stdout",
     "output_type": "stream",
     "text": [
      "                                               TITLE CATEGORY\n",
      "0  refile update 0 european car sales up for sixt...        b\n",
      "1  amazon plans to fight ftc over mobile app purc...        t\n",
      "2  kids still get codeine in emergency rooms desp...        m\n",
      "3  what on earth happened between solange and jay...        e\n",
      "4  nato missile defense is flight tested over hawaii        b\n"
     ]
    }
   ],
   "source": [
    "# データの再結合\n",
    "df = pd.concat([train, valid, test], axis=0)\n",
    "df.reset_index(drop=True, inplace=True)  # indexを振りなおす\n",
    "\n",
    "# 前処理の実施\n",
    "df[\"TITLE\"] = df[\"TITLE\"].map(lambda x: preprocessing(x))\n",
    "\n",
    "print(df.head())"
   ]
  },
  {
   "cell_type": "code",
   "execution_count": 9,
   "metadata": {
    "colab": {
     "base_uri": "https://localhost:8080/"
    },
    "executionInfo": {
     "elapsed": 34050,
     "status": "ok",
     "timestamp": 1610694475400,
     "user": {
      "displayName": "yuki kato",
      "photoUrl": "",
      "userId": "08430221927587521076"
     },
     "user_tz": -540
    },
    "id": "1QVICK3sWZkp",
    "outputId": "238fc5ad-dfe0-4781-c9b8-b0325dcb32c5"
   },
   "outputs": [
    {
     "name": "stderr",
     "output_type": "stream",
     "text": [
      "/tmp/Python/python-3.9.9/lib/python3.9/site-packages/sklearn/utils/deprecation.py:87: FutureWarning: Function get_feature_names is deprecated; get_feature_names is deprecated in 1.0 and will be removed in 1.2. Please use get_feature_names_out instead.\n",
      "  warnings.warn(msg, category=FutureWarning)\n"
     ]
    },
    {
     "name": "stdout",
     "output_type": "stream",
     "text": [
      "    0m  0million  0nd   0s  0st  0th  0th birthday   aa  aaliyah  abbvie  ...  \\\n",
      "0  0.0       0.0  0.0  0.0  0.0  0.0           0.0  0.0      0.0     0.0  ...   \n",
      "1  0.0       0.0  0.0  0.0  0.0  0.0           0.0  0.0      0.0     0.0  ...   \n",
      "2  0.0       0.0  0.0  0.0  0.0  0.0           0.0  0.0      0.0     0.0  ...   \n",
      "3  0.0       0.0  0.0  0.0  0.0  0.0           0.0  0.0      0.0     0.0  ...   \n",
      "4  0.0       0.0  0.0  0.0  0.0  0.0           0.0  0.0      0.0     0.0  ...   \n",
      "\n",
      "   young  your  your mother   yr  yr high  yuan  zac  zac efron  zendaya  zone  \n",
      "0    0.0   0.0          0.0  0.0      0.0   0.0  0.0        0.0      0.0   0.0  \n",
      "1    0.0   0.0          0.0  0.0      0.0   0.0  0.0        0.0      0.0   0.0  \n",
      "2    0.0   0.0          0.0  0.0      0.0   0.0  0.0        0.0      0.0   0.0  \n",
      "3    0.0   0.0          0.0  0.0      0.0   0.0  0.0        0.0      0.0   0.0  \n",
      "4    0.0   0.0          0.0  0.0      0.0   0.0  0.0        0.0      0.0   0.0  \n",
      "\n",
      "[5 rows x 2815 columns]\n"
     ]
    }
   ],
   "source": [
    "from sklearn.feature_extraction.text import TfidfVectorizer\n",
    "\n",
    "# データの分割\n",
    "train_valid = df[: len(train) + len(valid)]\n",
    "test = df[len(train) + len(valid) :]\n",
    "\n",
    "# TfidfVectorizer\n",
    "vec_tfidf = TfidfVectorizer(\n",
    "    min_df=10, ngram_range=(1, 2)\n",
    ")  # ngram_rangeでTF-IDFを計算する単語の長さを指定\n",
    "\n",
    "# ベクトル化\n",
    "X_train_valid = vec_tfidf.fit_transform(train_valid[\"TITLE\"])  # testの情報は使わない\n",
    "X_test = vec_tfidf.transform(test[\"TITLE\"])\n",
    "\n",
    "# ベクトルをデータフレームに変換\n",
    "X_train_valid = pd.DataFrame(\n",
    "    X_train_valid.toarray(), columns=vec_tfidf.get_feature_names()\n",
    ")\n",
    "X_test = pd.DataFrame(X_test.toarray(), columns=vec_tfidf.get_feature_names())\n",
    "\n",
    "# データの分割\n",
    "X_train = X_train_valid[: len(train)]\n",
    "X_valid = X_train_valid[len(train) :]\n",
    "\n",
    "# データの保存\n",
    "X_train.to_csv(\"./X_train.txt\", sep=\"\\t\", index=False)\n",
    "X_valid.to_csv(\"./X_valid.txt\", sep=\"\\t\", index=False)\n",
    "X_test.to_csv(\"./X_test.txt\", sep=\"\\t\", index=False)\n",
    "\n",
    "print(X_train.head())"
   ]
  },
  {
   "cell_type": "markdown",
   "metadata": {
    "id": "9odBvCOBWkWA"
   },
   "source": [
    "#### 52. 学習\n",
    "51で構築した学習データを用いて，ロジスティック回帰モデルを学習せよ．"
   ]
  },
  {
   "cell_type": "code",
   "execution_count": 10,
   "metadata": {
    "colab": {
     "base_uri": "https://localhost:8080/"
    },
    "executionInfo": {
     "elapsed": 56791,
     "status": "ok",
     "timestamp": 1610694498146,
     "user": {
      "displayName": "yuki kato",
      "photoUrl": "",
      "userId": "08430221927587521076"
     },
     "user_tz": -540
    },
    "id": "uQA1Rk0mWhIF",
    "outputId": "08fb9357-b453-4125-d3f6-7f4ce91f08a7"
   },
   "outputs": [
    {
     "data": {
      "text/plain": [
       "LogisticRegression(max_iter=10000, random_state=123)"
      ]
     },
     "execution_count": 10,
     "metadata": {},
     "output_type": "execute_result"
    }
   ],
   "source": [
    "from sklearn.linear_model import LogisticRegression\n",
    "\n",
    "# モデルの学習\n",
    "lg = LogisticRegression(random_state=123, max_iter=10000)\n",
    "lg.fit(X_train, train[\"CATEGORY\"])"
   ]
  },
  {
   "cell_type": "markdown",
   "metadata": {
    "id": "xmfza5GoW8wm"
   },
   "source": [
    "#### 53. 予測\n",
    "52で学習したロジスティック回帰モデルを用い，与えられた記事見出しからカテゴリとその予測確率を計算するプログラムを実装せよ．"
   ]
  },
  {
   "cell_type": "markdown",
   "metadata": {
    "id": "_EG7G7y9XA8H"
   },
   "source": [
    "51のテキスト前処理からTF-IDFによるベクトル化までを経たデータセットを入力とする関数を定義します。"
   ]
  },
  {
   "cell_type": "code",
   "execution_count": 11,
   "metadata": {
    "executionInfo": {
     "elapsed": 56792,
     "status": "ok",
     "timestamp": 1610694498148,
     "user": {
      "displayName": "yuki kato",
      "photoUrl": "",
      "userId": "08430221927587521076"
     },
     "user_tz": -540
    },
    "id": "mjxWkt0GW6xi"
   },
   "outputs": [],
   "source": [
    "import numpy as np\n",
    "\n",
    "\n",
    "def score_lg(lg, X):\n",
    "    return [np.max(lg.predict_proba(X), axis=1), lg.predict(X)]"
   ]
  },
  {
   "cell_type": "code",
   "execution_count": 12,
   "metadata": {
    "colab": {
     "base_uri": "https://localhost:8080/"
    },
    "executionInfo": {
     "elapsed": 57225,
     "status": "ok",
     "timestamp": 1610694498586,
     "user": {
      "displayName": "yuki kato",
      "photoUrl": "",
      "userId": "08430221927587521076"
     },
     "user_tz": -540
    },
    "id": "-daatj6hXDGY",
    "outputId": "7212f721-2337-467c-9048-fef723ba44b5"
   },
   "outputs": [
    {
     "name": "stdout",
     "output_type": "stream",
     "text": [
      "[array([0.84029011, 0.67902206, 0.55638169, ..., 0.86051603, 0.61358408,\n",
      "       0.90828212]), array(['b', 't', 'm', ..., 'b', 'm', 'e'], dtype=object)]\n"
     ]
    }
   ],
   "source": [
    "train_pred = score_lg(lg, X_train)\n",
    "test_pred = score_lg(lg, X_test)\n",
    "\n",
    "print(train_pred)"
   ]
  },
  {
   "cell_type": "markdown",
   "metadata": {
    "id": "fdLhYzZ8XGiL"
   },
   "source": [
    "#### 54. 正解率の計測\n",
    "52で学習したロジスティック回帰モデルの正解率を，学習データおよび評価データ上で計測せよ．"
   ]
  },
  {
   "cell_type": "code",
   "execution_count": 13,
   "metadata": {
    "colab": {
     "base_uri": "https://localhost:8080/"
    },
    "executionInfo": {
     "elapsed": 57221,
     "status": "ok",
     "timestamp": 1610694498587,
     "user": {
      "displayName": "yuki kato",
      "photoUrl": "",
      "userId": "08430221927587521076"
     },
     "user_tz": -540
    },
    "id": "67HRm2vkXEPR",
    "outputId": "58d2bce2-3e1d-4e4c-ecaf-5b71101fb202"
   },
   "outputs": [
    {
     "name": "stdout",
     "output_type": "stream",
     "text": [
      "正解率（学習データ）：0.927\n",
      "正解率（評価データ）：0.885\n"
     ]
    }
   ],
   "source": [
    "from sklearn.metrics import accuracy_score\n",
    "\n",
    "train_accuracy = accuracy_score(train[\"CATEGORY\"], train_pred[1])\n",
    "test_accuracy = accuracy_score(test[\"CATEGORY\"], test_pred[1])\n",
    "print(f\"正解率（学習データ）：{train_accuracy:.3f}\")\n",
    "print(f\"正解率（評価データ）：{test_accuracy:.3f}\")"
   ]
  },
  {
   "cell_type": "markdown",
   "metadata": {
    "id": "PypyAi4NXLmf"
   },
   "source": [
    "#### 55. 混同行列の作成\n",
    "52で学習したロジスティック回帰モデルの混同行列（confusion matrix）を，学習データおよび評価データ上で作成せよ．"
   ]
  },
  {
   "cell_type": "markdown",
   "metadata": {
    "id": "ezarEObdXOQ4"
   },
   "source": [
    "混同行列もscikit-learnを用いて計算します。\n",
    "さらに、算出した混同行列をseabornを用いて可視化します。"
   ]
  },
  {
   "cell_type": "code",
   "execution_count": 14,
   "metadata": {
    "colab": {
     "base_uri": "https://localhost:8080/",
     "height": 333
    },
    "executionInfo": {
     "elapsed": 57511,
     "status": "ok",
     "timestamp": 1610694498882,
     "user": {
      "displayName": "yuki kato",
      "photoUrl": "",
      "userId": "08430221927587521076"
     },
     "user_tz": -540
    },
    "id": "9Nha6-CqXJ3L",
    "outputId": "6ab77d1b-4800-4c4f-85be-b144615132d9"
   },
   "outputs": [
    {
     "name": "stdout",
     "output_type": "stream",
     "text": [
      "[[4344   93    8   56]\n",
      " [  52 4173    2    8]\n",
      " [  96  125  494   13]\n",
      " [ 192  133    7  888]]\n"
     ]
    },
    {
     "data": {
      "image/png": "[encoded data removed]",
      "text/plain": [
       "<Figure size 432x288 with 2 Axes>"
      ]
     },
     "metadata": {
      "needs_background": "light"
     },
     "output_type": "display_data"
    }
   ],
   "source": [
    "import matplotlib.pyplot as plt\n",
    "import seaborn as sns\n",
    "from sklearn.metrics import confusion_matrix\n",
    "\n",
    "# 学習データ\n",
    "train_cm = confusion_matrix(train[\"CATEGORY\"], train_pred[1])\n",
    "print(train_cm)\n",
    "sns.heatmap(train_cm, annot=True, cmap=\"Blues\")\n",
    "plt.show()"
   ]
  },
  {
   "cell_type": "code",
   "execution_count": 15,
   "metadata": {
    "colab": {
     "base_uri": "https://localhost:8080/",
     "height": 333
    },
    "executionInfo": {
     "elapsed": 57951,
     "status": "ok",
     "timestamp": 1610694499327,
     "user": {
      "displayName": "yuki kato",
      "photoUrl": "",
      "userId": "08430221927587521076"
     },
     "user_tz": -540
    },
    "id": "zXVm6BdHXP3d",
    "outputId": "97231034-2496-4659-abea-4b431816d5bc"
   },
   "outputs": [
    {
     "name": "stdout",
     "output_type": "stream",
     "text": [
      "[[528  20   2  13]\n",
      " [ 12 516   1   1]\n",
      " [ 11  26  52   2]\n",
      " [ 38  26   1  87]]\n"
     ]
    },
    {
     "data": {
      "image/png": "[encoded data removed]",
      "text/plain": [
       "<Figure size 432x288 with 2 Axes>"
      ]
     },
     "metadata": {
      "needs_background": "light"
     },
     "output_type": "display_data"
    }
   ],
   "source": [
    "# 評価データ\n",
    "test_cm = confusion_matrix(test[\"CATEGORY\"], test_pred[1])\n",
    "print(test_cm)\n",
    "sns.heatmap(test_cm, annot=True, cmap=\"Blues\")\n",
    "plt.show()"
   ]
  },
  {
   "cell_type": "markdown",
   "metadata": {
    "id": "bFmoc_UnXTIi"
   },
   "source": [
    "#### 56. 適合率，再現率，F1スコアの計測\n",
    "52で学習したロジスティック回帰モデルの適合率，再現率，F1スコアを，評価データ上で計測せよ．カテゴリごとに適合率，再現率，F1スコアを求め，カテゴリごとの性能をマイクロ平均（micro-average）とマクロ平均（macro-average）で統合せよ．"
   ]
  },
  {
   "cell_type": "code",
   "execution_count": 16,
   "metadata": {
    "executionInfo": {
     "elapsed": 57949,
     "status": "ok",
     "timestamp": 1610694499327,
     "user": {
      "displayName": "yuki kato",
      "photoUrl": "",
      "userId": "08430221927587521076"
     },
     "user_tz": -540
    },
    "id": "LqVn6R63XRro"
   },
   "outputs": [],
   "source": [
    "from sklearn.metrics import f1_score, precision_score, recall_score\n",
    "\n",
    "\n",
    "def calculate_scores(y_true, y_pred):\n",
    "    # 適合率\n",
    "    precision = precision_score(\n",
    "        test[\"CATEGORY\"], test_pred[1], average=None, labels=[\"b\", \"e\", \"t\", \"m\"]\n",
    "    )  # Noneを指定するとクラスごとの精度をndarrayで返す\n",
    "    precision = np.append(\n",
    "        precision, precision_score(y_true, y_pred, average=\"micro\")\n",
    "    )  # 末尾にマイクロ平均を追加\n",
    "    precision = np.append(\n",
    "        precision, precision_score(y_true, y_pred, average=\"macro\")\n",
    "    )  # 末尾にマクロ平均を追加\n",
    "\n",
    "    # 再現率\n",
    "    recall = recall_score(\n",
    "        test[\"CATEGORY\"], test_pred[1], average=None, labels=[\"b\", \"e\", \"t\", \"m\"]\n",
    "    )\n",
    "    recall = np.append(recall, recall_score(y_true, y_pred, average=\"micro\"))\n",
    "    recall = np.append(recall, recall_score(y_true, y_pred, average=\"macro\"))\n",
    "\n",
    "    # F1スコア\n",
    "    f1 = f1_score(\n",
    "        test[\"CATEGORY\"], test_pred[1], average=None, labels=[\"b\", \"e\", \"t\", \"m\"]\n",
    "    )\n",
    "    f1 = np.append(f1, f1_score(y_true, y_pred, average=\"micro\"))\n",
    "    f1 = np.append(f1, f1_score(y_true, y_pred, average=\"macro\"))\n",
    "\n",
    "    # 結果を結合してデータフレーム化\n",
    "    scores = pd.DataFrame(\n",
    "        {\"適合率\": precision, \"再現率\": recall, \"F1スコア\": f1},\n",
    "        index=[\"b\", \"e\", \"t\", \"m\", \"マイクロ平均\", \"マクロ平均\"],\n",
    "    )\n",
    "\n",
    "    return scores"
   ]
  },
  {
   "cell_type": "code",
   "execution_count": 17,
   "metadata": {
    "colab": {
     "base_uri": "https://localhost:8080/"
    },
    "executionInfo": {
     "elapsed": 57945,
     "status": "ok",
     "timestamp": 1610694499328,
     "user": {
      "displayName": "yuki kato",
      "photoUrl": "",
      "userId": "08430221927587521076"
     },
     "user_tz": -540
    },
    "id": "TF8J6pAdXXf5",
    "outputId": "4b9547bc-58a6-4ba0-cbb5-d808874b5f57"
   },
   "outputs": [
    {
     "name": "stdout",
     "output_type": "stream",
     "text": [
      "             適合率       再現率     F1スコア\n",
      "b       0.896435  0.937833  0.916667\n",
      "e       0.877551  0.973585  0.923077\n",
      "t       0.844660  0.572368  0.682353\n",
      "m       0.928571  0.571429  0.707483\n",
      "マイクロ平均  0.885479  0.885479  0.885479\n",
      "マクロ平均   0.886804  0.763804  0.807395\n"
     ]
    }
   ],
   "source": [
    "print(calculate_scores(test[\"CATEGORY\"], test_pred[1]))"
   ]
  },
  {
   "cell_type": "markdown",
   "metadata": {
    "id": "LYvqTar2XfTs"
   },
   "source": [
    "#### 57. 特徴量の重みの確認\n",
    "52で学習したロジスティック回帰モデルの中で，重みの高い特徴量トップ10と，重みの低い特徴量トップ10を確認せよ．"
   ]
  },
  {
   "cell_type": "code",
   "execution_count": 18,
   "metadata": {
    "colab": {
     "base_uri": "https://localhost:8080/",
     "height": 597
    },
    "executionInfo": {
     "elapsed": 57942,
     "status": "ok",
     "timestamp": 1610694499329,
     "user": {
      "displayName": "yuki kato",
      "photoUrl": "",
      "userId": "08430221927587521076"
     },
     "user_tz": -540
    },
    "id": "6UF_uMpMXYpV",
    "outputId": "6c6782ef-2ff8-4d8a-d360-642e756875f4"
   },
   "outputs": [
    {
     "name": "stdout",
     "output_type": "stream",
     "text": [
      "【カテゴリ】b\n"
     ]
    },
    {
     "data": {
      "text/html": [
       "<div>\n",
       "<style scoped>\n",
       "    .dataframe tbody tr th:only-of-type {\n",
       "        vertical-align: middle;\n",
       "    }\n",
       "\n",
       "    .dataframe tbody tr th {\n",
       "        vertical-align: top;\n",
       "    }\n",
       "\n",
       "    .dataframe thead th {\n",
       "        text-align: right;\n",
       "    }\n",
       "</style>\n",
       "<table border=\"1\" class=\"dataframe\">\n",
       "  <thead>\n",
       "    <tr style=\"text-align: right;\">\n",
       "      <th></th>\n",
       "      <th>1</th>\n",
       "      <th>2</th>\n",
       "      <th>3</th>\n",
       "      <th>4</th>\n",
       "      <th>5</th>\n",
       "      <th>6</th>\n",
       "      <th>7</th>\n",
       "      <th>8</th>\n",
       "      <th>9</th>\n",
       "      <th>10</th>\n",
       "    </tr>\n",
       "  </thead>\n",
       "  <tbody>\n",
       "    <tr>\n",
       "      <th>重要度上位</th>\n",
       "      <td>bank</td>\n",
       "      <td>fed</td>\n",
       "      <td>china</td>\n",
       "      <td>ecb</td>\n",
       "      <td>stocks</td>\n",
       "      <td>euro</td>\n",
       "      <td>obamacare</td>\n",
       "      <td>oil</td>\n",
       "      <td>yellen</td>\n",
       "      <td>dollar</td>\n",
       "    </tr>\n",
       "    <tr>\n",
       "      <th>重要度下位</th>\n",
       "      <td>video</td>\n",
       "      <td>ebola</td>\n",
       "      <td>the</td>\n",
       "      <td>her</td>\n",
       "      <td>and</td>\n",
       "      <td>she</td>\n",
       "      <td>apple</td>\n",
       "      <td>google</td>\n",
       "      <td>star</td>\n",
       "      <td>microsoft</td>\n",
       "    </tr>\n",
       "  </tbody>\n",
       "</table>\n",
       "</div>"
      ],
      "text/plain": [
       "          1      2      3    4       5     6          7       8       9   \\\n",
       "重要度上位   bank    fed  china  ecb  stocks  euro  obamacare     oil  yellen   \n",
       "重要度下位  video  ebola    the  her     and   she      apple  google    star   \n",
       "\n",
       "              10  \n",
       "重要度上位     dollar  \n",
       "重要度下位  microsoft  "
      ]
     },
     "metadata": {},
     "output_type": "display_data"
    },
    {
     "name": "stdout",
     "output_type": "stream",
     "text": [
      "\n",
      "\n",
      "【カテゴリ】e\n"
     ]
    },
    {
     "data": {
      "text/html": [
       "<div>\n",
       "<style scoped>\n",
       "    .dataframe tbody tr th:only-of-type {\n",
       "        vertical-align: middle;\n",
       "    }\n",
       "\n",
       "    .dataframe tbody tr th {\n",
       "        vertical-align: top;\n",
       "    }\n",
       "\n",
       "    .dataframe thead th {\n",
       "        text-align: right;\n",
       "    }\n",
       "</style>\n",
       "<table border=\"1\" class=\"dataframe\">\n",
       "  <thead>\n",
       "    <tr style=\"text-align: right;\">\n",
       "      <th></th>\n",
       "      <th>1</th>\n",
       "      <th>2</th>\n",
       "      <th>3</th>\n",
       "      <th>4</th>\n",
       "      <th>5</th>\n",
       "      <th>6</th>\n",
       "      <th>7</th>\n",
       "      <th>8</th>\n",
       "      <th>9</th>\n",
       "      <th>10</th>\n",
       "    </tr>\n",
       "  </thead>\n",
       "  <tbody>\n",
       "    <tr>\n",
       "      <th>重要度上位</th>\n",
       "      <td>kardashian</td>\n",
       "      <td>chris</td>\n",
       "      <td>her</td>\n",
       "      <td>movie</td>\n",
       "      <td>star</td>\n",
       "      <td>film</td>\n",
       "      <td>paul</td>\n",
       "      <td>he</td>\n",
       "      <td>wedding</td>\n",
       "      <td>she</td>\n",
       "    </tr>\n",
       "    <tr>\n",
       "      <th>重要度下位</th>\n",
       "      <td>us</td>\n",
       "      <td>update</td>\n",
       "      <td>google</td>\n",
       "      <td>study</td>\n",
       "      <td>china</td>\n",
       "      <td>gm</td>\n",
       "      <td>ceo</td>\n",
       "      <td>facebook</td>\n",
       "      <td>apple</td>\n",
       "      <td>says</td>\n",
       "    </tr>\n",
       "  </tbody>\n",
       "</table>\n",
       "</div>"
      ],
      "text/plain": [
       "               1       2       3      4      5     6     7         8   \\\n",
       "重要度上位  kardashian   chris     her  movie   star  film  paul        he   \n",
       "重要度下位          us  update  google  study  china    gm   ceo  facebook   \n",
       "\n",
       "            9     10  \n",
       "重要度上位  wedding   she  \n",
       "重要度下位    apple  says  "
      ]
     },
     "metadata": {},
     "output_type": "display_data"
    },
    {
     "name": "stdout",
     "output_type": "stream",
     "text": [
      "\n",
      "\n",
      "【カテゴリ】m\n"
     ]
    },
    {
     "data": {
      "text/html": [
       "<div>\n",
       "<style scoped>\n",
       "    .dataframe tbody tr th:only-of-type {\n",
       "        vertical-align: middle;\n",
       "    }\n",
       "\n",
       "    .dataframe tbody tr th {\n",
       "        vertical-align: top;\n",
       "    }\n",
       "\n",
       "    .dataframe thead th {\n",
       "        text-align: right;\n",
       "    }\n",
       "</style>\n",
       "<table border=\"1\" class=\"dataframe\">\n",
       "  <thead>\n",
       "    <tr style=\"text-align: right;\">\n",
       "      <th></th>\n",
       "      <th>1</th>\n",
       "      <th>2</th>\n",
       "      <th>3</th>\n",
       "      <th>4</th>\n",
       "      <th>5</th>\n",
       "      <th>6</th>\n",
       "      <th>7</th>\n",
       "      <th>8</th>\n",
       "      <th>9</th>\n",
       "      <th>10</th>\n",
       "    </tr>\n",
       "  </thead>\n",
       "  <tbody>\n",
       "    <tr>\n",
       "      <th>重要度上位</th>\n",
       "      <td>ebola</td>\n",
       "      <td>study</td>\n",
       "      <td>cancer</td>\n",
       "      <td>drug</td>\n",
       "      <td>mers</td>\n",
       "      <td>fda</td>\n",
       "      <td>cases</td>\n",
       "      <td>cdc</td>\n",
       "      <td>could</td>\n",
       "      <td>cigarettes</td>\n",
       "    </tr>\n",
       "    <tr>\n",
       "      <th>重要度下位</th>\n",
       "      <td>facebook</td>\n",
       "      <td>gm</td>\n",
       "      <td>ceo</td>\n",
       "      <td>apple</td>\n",
       "      <td>bank</td>\n",
       "      <td>deal</td>\n",
       "      <td>google</td>\n",
       "      <td>sales</td>\n",
       "      <td>climate</td>\n",
       "      <td>twitter</td>\n",
       "    </tr>\n",
       "  </tbody>\n",
       "</table>\n",
       "</div>"
      ],
      "text/plain": [
       "             1      2       3      4     5     6       7      8        9   \\\n",
       "重要度上位     ebola  study  cancer   drug  mers   fda   cases    cdc    could   \n",
       "重要度下位  facebook     gm     ceo  apple  bank  deal  google  sales  climate   \n",
       "\n",
       "               10  \n",
       "重要度上位  cigarettes  \n",
       "重要度下位     twitter  "
      ]
     },
     "metadata": {},
     "output_type": "display_data"
    },
    {
     "name": "stdout",
     "output_type": "stream",
     "text": [
      "\n",
      "\n",
      "【カテゴリ】t\n"
     ]
    },
    {
     "data": {
      "text/html": [
       "<div>\n",
       "<style scoped>\n",
       "    .dataframe tbody tr th:only-of-type {\n",
       "        vertical-align: middle;\n",
       "    }\n",
       "\n",
       "    .dataframe tbody tr th {\n",
       "        vertical-align: top;\n",
       "    }\n",
       "\n",
       "    .dataframe thead th {\n",
       "        text-align: right;\n",
       "    }\n",
       "</style>\n",
       "<table border=\"1\" class=\"dataframe\">\n",
       "  <thead>\n",
       "    <tr style=\"text-align: right;\">\n",
       "      <th></th>\n",
       "      <th>1</th>\n",
       "      <th>2</th>\n",
       "      <th>3</th>\n",
       "      <th>4</th>\n",
       "      <th>5</th>\n",
       "      <th>6</th>\n",
       "      <th>7</th>\n",
       "      <th>8</th>\n",
       "      <th>9</th>\n",
       "      <th>10</th>\n",
       "    </tr>\n",
       "  </thead>\n",
       "  <tbody>\n",
       "    <tr>\n",
       "      <th>重要度上位</th>\n",
       "      <td>google</td>\n",
       "      <td>facebook</td>\n",
       "      <td>apple</td>\n",
       "      <td>microsoft</td>\n",
       "      <td>climate</td>\n",
       "      <td>gm</td>\n",
       "      <td>nasa</td>\n",
       "      <td>tesla</td>\n",
       "      <td>comcast</td>\n",
       "      <td>heartbleed</td>\n",
       "    </tr>\n",
       "    <tr>\n",
       "      <th>重要度下位</th>\n",
       "      <td>stocks</td>\n",
       "      <td>fed</td>\n",
       "      <td>her</td>\n",
       "      <td>percent</td>\n",
       "      <td>drug</td>\n",
       "      <td>american</td>\n",
       "      <td>cancer</td>\n",
       "      <td>ukraine</td>\n",
       "      <td>still</td>\n",
       "      <td>shares</td>\n",
       "    </tr>\n",
       "  </tbody>\n",
       "</table>\n",
       "</div>"
      ],
      "text/plain": [
       "           1         2      3          4        5         6       7        8   \\\n",
       "重要度上位  google  facebook  apple  microsoft  climate        gm    nasa    tesla   \n",
       "重要度下位  stocks       fed    her    percent     drug  american  cancer  ukraine   \n",
       "\n",
       "            9           10  \n",
       "重要度上位  comcast  heartbleed  \n",
       "重要度下位    still      shares  "
      ]
     },
     "metadata": {},
     "output_type": "display_data"
    },
    {
     "name": "stdout",
     "output_type": "stream",
     "text": [
      "\n",
      "\n"
     ]
    }
   ],
   "source": [
    "features = X_train.columns.values\n",
    "index = [i for i in range(1, 11)]\n",
    "for c, coef in zip(lg.classes_, lg.coef_):\n",
    "    print(f\"【カテゴリ】{c}\")\n",
    "    best10 = pd.DataFrame(\n",
    "        features[np.argsort(coef)[::-1][:10]], columns=[\"重要度上位\"], index=index\n",
    "    ).T\n",
    "    worst10 = pd.DataFrame(\n",
    "        features[np.argsort(coef)[:10]], columns=[\"重要度下位\"], index=index\n",
    "    ).T\n",
    "    display(pd.concat([best10, worst10], axis=0))\n",
    "    print(\"\\n\")"
   ]
  },
  {
   "cell_type": "markdown",
   "metadata": {
    "id": "qBtSffarXndk"
   },
   "source": [
    "#### 58. 正則化パラメータの変更\n",
    "ロジスティック回帰モデルを学習するとき，正則化パラメータを調整することで，学習時の過学習（overfitting）の度合いを制御できる．異なる正則化パラメータでロジスティック回帰モデルを学習し，学習データ，検証データ，および評価データ上の正解率を求めよ．実験の結果は，正則化パラメータを横軸，正解率を縦軸としたグラフにまとめよ．"
   ]
  },
  {
   "cell_type": "code",
   "execution_count": 19,
   "metadata": {
    "colab": {
     "base_uri": "https://localhost:8080/"
    },
    "executionInfo": {
     "elapsed": 611733,
     "status": "ok",
     "timestamp": 1610695053125,
     "user": {
      "displayName": "yuki kato",
      "photoUrl": "",
      "userId": "08430221927587521076"
     },
     "user_tz": -540
    },
    "id": "xsqkLhoNXkz8",
    "outputId": "4597d070-9757-4067-9aac-aafeb2de6ee4"
   },
   "outputs": [
    {
     "name": "stderr",
     "output_type": "stream",
     "text": [
      " 90%|█████████ | 9/10 [07:40<01:46, 106.84s/it]/tmp/Python/python-3.9.9/lib/python3.9/site-packages/sklearn/linear_model/_logistic.py:814: ConvergenceWarning: lbfgs failed to converge (status=1):\n",
      "STOP: TOTAL NO. of ITERATIONS REACHED LIMIT.\n",
      "\n",
      "Increase the number of iterations (max_iter) or scale the data as shown in:\n",
      "    https://scikit-learn.org/stable/modules/preprocessing.html\n",
      "Please also refer to the documentation for alternative solver options:\n",
      "    https://scikit-learn.org/stable/modules/linear_model.html#logistic-regression\n",
      "  n_iter_i = _check_optimize_result(\n",
      "100%|██████████| 10/10 [11:45<00:00, 70.55s/it] \n"
     ]
    }
   ],
   "source": [
    "from tqdm import tqdm\n",
    "\n",
    "result = []\n",
    "for C in tqdm(np.logspace(-5, 4, 10, base=10)):\n",
    "    # モデルの学習\n",
    "    lg = LogisticRegression(random_state=123, max_iter=1000, C=C)\n",
    "    lg.fit(X_train, train[\"CATEGORY\"])\n",
    "\n",
    "    # 予測値の取得\n",
    "    train_pred = score_lg(lg, X_train)\n",
    "    valid_pred = score_lg(lg, X_valid)\n",
    "    test_pred = score_lg(lg, X_test)\n",
    "\n",
    "    # 正解率の算出\n",
    "    train_accuracy = accuracy_score(train[\"CATEGORY\"], train_pred[1])\n",
    "    valid_accuracy = accuracy_score(valid[\"CATEGORY\"], valid_pred[1])\n",
    "    test_accuracy = accuracy_score(test[\"CATEGORY\"], test_pred[1])\n",
    "\n",
    "    # 結果の格納\n",
    "    result.append([C, train_accuracy, valid_accuracy, test_accuracy])"
   ]
  },
  {
   "cell_type": "code",
   "execution_count": 20,
   "metadata": {
    "colab": {
     "base_uri": "https://localhost:8080/",
     "height": 283
    },
    "executionInfo": {
     "elapsed": 612028,
     "status": "ok",
     "timestamp": 1610695053425,
     "user": {
      "displayName": "yuki kato",
      "photoUrl": "",
      "userId": "08430221927587521076"
     },
     "user_tz": -540
    },
    "id": "ZUd2JkxUXsql",
    "outputId": "6f7c3d41-0f14-49c4-9c05-233bd947d542"
   },
   "outputs": [
    {
     "data": {
      "image/png": "[encoded data removed]",
      "text/plain": [
       "<Figure size 432x288 with 1 Axes>"
      ]
     },
     "metadata": {
      "needs_background": "light"
     },
     "output_type": "display_data"
    }
   ],
   "source": [
    "# 視覚化\n",
    "result = np.array(result).T\n",
    "plt.plot(result[0], result[1], label=\"train\")\n",
    "plt.plot(result[0], result[2], label=\"valid\")\n",
    "plt.plot(result[0], result[3], label=\"test\")\n",
    "plt.ylim(0, 1.1)\n",
    "plt.ylabel(\"Accuracy\")\n",
    "plt.xscale(\"log\")\n",
    "plt.xlabel(\"C\")\n",
    "plt.legend()\n",
    "plt.show()"
   ]
  },
  {
   "cell_type": "markdown",
   "metadata": {
    "id": "MXMRzQTVX0Ur"
   },
   "source": [
    "#### 59. ハイパーパラメータの探索\n",
    "学習アルゴリズムや学習パラメータを変えながら，カテゴリ分類モデルを学習せよ．検証データ上の正解率が最も高くなる学習アルゴリズム・パラメータを求めよ．また，その学習アルゴリズム・パラメータを用いたときの評価データ上の正解率を求めよ．"
   ]
  },
  {
   "cell_type": "markdown",
   "metadata": {
    "id": "xl9x3b8VX3Yx"
   },
   "source": [
    "ここでは、正則化の強さを指定するC、および、L1正則化とL2正則化のバランスを指定するl1_ratioを対象にパラメータ探索を行います。\n",
    "また、最適化にはoptunaを用いています。"
   ]
  },
  {
   "cell_type": "code",
   "execution_count": 21,
   "metadata": {
    "executionInfo": {
     "elapsed": 615172,
     "status": "ok",
     "timestamp": 1610695056576,
     "user": {
      "displayName": "yuki kato",
      "photoUrl": "",
      "userId": "08430221927587521076"
     },
     "user_tz": -540
    },
    "id": "dp4CJGJTX4rK"
   },
   "outputs": [],
   "source": [
    "import optuna\n",
    "\n",
    "\n",
    "# 最適化対象を関数で指定\n",
    "def objective_lg(trial):\n",
    "    # チューニング対象パラメータのセット\n",
    "    l1_ratio = trial.suggest_uniform(\"l1_ratio\", 0, 1)\n",
    "    C = trial.suggest_loguniform(\"C\", 1e-4, 1e4)\n",
    "\n",
    "    # モデルの学習\n",
    "    lg = LogisticRegression(\n",
    "        random_state=123,\n",
    "        max_iter=10000,\n",
    "        penalty=\"elasticnet\",\n",
    "        solver=\"saga\",\n",
    "        l1_ratio=l1_ratio,\n",
    "        C=C,\n",
    "    )\n",
    "    lg.fit(X_train, train[\"CATEGORY\"])\n",
    "\n",
    "    # 予測値の取得\n",
    "    valid_pred = score_lg(lg, X_valid)\n",
    "\n",
    "    # 正解率の算出\n",
    "    valid_accuracy = accuracy_score(valid[\"CATEGORY\"], valid_pred[1])\n",
    "\n",
    "    return valid_accuracy"
   ]
  },
  {
   "cell_type": "code",
   "execution_count": 22,
   "metadata": {
    "colab": {
     "base_uri": "https://localhost:8080/"
    },
    "executionInfo": {
     "elapsed": 2626007,
     "status": "ok",
     "timestamp": 1610697067415,
     "user": {
      "displayName": "yuki kato",
      "photoUrl": "",
      "userId": "08430221927587521076"
     },
     "user_tz": -540
    },
    "id": "jf2-5juqX6Mf",
    "outputId": "91444c88-7397-48b0-fc57-7c0333ccf05c"
   },
   "outputs": [
    {
     "name": "stderr",
     "output_type": "stream",
     "text": [
      "\u001b[32m[I 2021-12-11 12:09:46,587]\u001b[0m A new study created in memory with name: no-name-79fa2812-bb4e-4632-9b43-42dbb06e9769\u001b[0m\n",
      "\u001b[32m[I 2021-12-11 12:10:31,807]\u001b[0m Trial 0 finished with value: 0.8607784431137725 and parameters: {'l1_ratio': 0.22909349000589274, 'C': 0.48673662780667853}. Best is trial 0 with value: 0.8607784431137725.\u001b[0m\n",
      "\u001b[32m[I 2021-12-11 12:11:38,694]\u001b[0m Trial 1 finished with value: 0.8892215568862275 and parameters: {'l1_ratio': 0.07248830065163603, 'C': 4.096372204715555}. Best is trial 1 with value: 0.8892215568862275.\u001b[0m\n",
      "\u001b[32m[I 2021-12-11 12:11:42,921]\u001b[0m Trial 2 finished with value: 0.39595808383233533 and parameters: {'l1_ratio': 0.5877868603364524, 'C': 0.0009517749118544013}. Best is trial 1 with value: 0.8892215568862275.\u001b[0m\n",
      "\u001b[32m[I 2021-12-11 12:12:21,046]\u001b[0m Trial 3 finished with value: 0.8158682634730539 and parameters: {'l1_ratio': 0.951048949900587, 'C': 0.28156137558647887}. Best is trial 1 with value: 0.8892215568862275.\u001b[0m\n",
      "\u001b[32m[I 2021-12-11 12:22:24,898]\u001b[0m Trial 4 finished with value: 0.8712574850299402 and parameters: {'l1_ratio': 0.1463514988608342, 'C': 100.51585955721721}. Best is trial 1 with value: 0.8892215568862275.\u001b[0m\n"
     ]
    },
    {
     "name": "stdout",
     "output_type": "stream",
     "text": [
      "Best trial:\n",
      "  Value: 0.889\n",
      "  Params: \n",
      "    l1_ratio: 0.07248830065163603\n",
      "    C: 4.096372204715555\n"
     ]
    }
   ],
   "source": [
    "# 最適化\n",
    "study = optuna.create_study(direction=\"maximize\")\n",
    "study.optimize(objective_lg, timeout=360)\n",
    "\n",
    "# 結果の表示\n",
    "print(\"Best trial:\")\n",
    "trial = study.best_trial\n",
    "print(\"  Value: {:.3f}\".format(trial.value))\n",
    "print(\"  Params: \")\n",
    "for key, value in trial.params.items():\n",
    "    print(\"    {}: {}\".format(key, value))"
   ]
  },
  {
   "cell_type": "code",
   "execution_count": 23,
   "metadata": {
    "colab": {
     "base_uri": "https://localhost:8080/"
    },
    "executionInfo": {
     "elapsed": 2687048,
     "status": "ok",
     "timestamp": 1610697128458,
     "user": {
      "displayName": "yuki kato",
      "photoUrl": "",
      "userId": "08430221927587521076"
     },
     "user_tz": -540
    },
    "id": "2V8V-s8aX7it",
    "outputId": "ad45392f-b3b0-4c22-8a83-5c35f0bb5f80"
   },
   "outputs": [
    {
     "name": "stdout",
     "output_type": "stream",
     "text": [
      "正解率（学習データ）：0.961\n",
      "正解率（検証データ）：0.889\n",
      "正解率（評価データ）：0.895\n"
     ]
    }
   ],
   "source": [
    "# パラメータの設定\n",
    "l1_ratio = trial.params[\"l1_ratio\"]\n",
    "C = trial.params[\"C\"]\n",
    "\n",
    "# モデルの学習\n",
    "lg = LogisticRegression(\n",
    "    random_state=123,\n",
    "    max_iter=10000,\n",
    "    penalty=\"elasticnet\",\n",
    "    solver=\"saga\",\n",
    "    l1_ratio=l1_ratio,\n",
    "    C=C,\n",
    ")\n",
    "lg.fit(X_train, train[\"CATEGORY\"])\n",
    "\n",
    "# 予測値の取得\n",
    "train_pred = score_lg(lg, X_train)\n",
    "valid_pred = score_lg(lg, X_valid)\n",
    "test_pred = score_lg(lg, X_test)\n",
    "\n",
    "# 正解率の算出\n",
    "train_accuracy = accuracy_score(train[\"CATEGORY\"], train_pred[1])\n",
    "valid_accuracy = accuracy_score(valid[\"CATEGORY\"], valid_pred[1])\n",
    "test_accuracy = accuracy_score(test[\"CATEGORY\"], test_pred[1])\n",
    "\n",
    "print(f\"正解率（学習データ）：{train_accuracy:.3f}\")\n",
    "print(f\"正解率（検証データ）：{valid_accuracy:.3f}\")\n",
    "print(f\"正解率（評価データ）：{test_accuracy:.3f}\")"
   ]
  },
  {
   "cell_type": "markdown",
   "metadata": {
    "id": "S63dXEBbYA-X"
   },
   "source": [
    "今回はさらにXGBoostも試してみることにします。\n",
    "なお、こちらはパラメータ探索は行わず、決め打ちのパラメータでモデルを学習しています。\n",
    "\n"
   ]
  },
  {
   "cell_type": "code",
   "execution_count": 24,
   "metadata": {
    "colab": {
     "base_uri": "https://localhost:8080/"
    },
    "executionInfo": {
     "elapsed": 374775,
     "status": "ok",
     "timestamp": 1610698672589,
     "user": {
      "displayName": "yuki kato",
      "photoUrl": "",
      "userId": "08430221927587521076"
     },
     "user_tz": -540
    },
    "id": "FNvp99UyYCc_",
    "outputId": "e6a92e77-3f94-4b0d-f443-28965fee8226"
   },
   "outputs": [
    {
     "name": "stdout",
     "output_type": "stream",
     "text": [
      "[0]\ttrain-mlogloss:1.32709\teval-mlogloss:1.32675\n",
      "[1]\ttrain-mlogloss:1.27527\teval-mlogloss:1.27415\n",
      "[2]\ttrain-mlogloss:1.23122\teval-mlogloss:1.23033\n",
      "[3]\ttrain-mlogloss:1.19222\teval-mlogloss:1.19072\n",
      "[4]\ttrain-mlogloss:1.15730\teval-mlogloss:1.15568\n",
      "[5]\ttrain-mlogloss:1.12566\teval-mlogloss:1.12319\n",
      "[6]\ttrain-mlogloss:1.09730\teval-mlogloss:1.09517\n",
      "[7]\ttrain-mlogloss:1.07190\teval-mlogloss:1.06918\n",
      "[8]\ttrain-mlogloss:1.04904\teval-mlogloss:1.04648\n",
      "[9]\ttrain-mlogloss:1.02801\teval-mlogloss:1.02533\n",
      "[10]\ttrain-mlogloss:1.00858\teval-mlogloss:1.00581\n",
      "[11]\ttrain-mlogloss:0.99137\teval-mlogloss:0.98858\n",
      "[12]\ttrain-mlogloss:0.97566\teval-mlogloss:0.97245\n",
      "[13]\ttrain-mlogloss:0.96061\teval-mlogloss:0.95791\n",
      "[14]\ttrain-mlogloss:0.94701\teval-mlogloss:0.94425\n",
      "[15]\ttrain-mlogloss:0.93417\teval-mlogloss:0.93221\n",
      "[16]\ttrain-mlogloss:0.92194\teval-mlogloss:0.92048\n",
      "[17]\ttrain-mlogloss:0.91032\teval-mlogloss:0.90908\n",
      "[18]\ttrain-mlogloss:0.89992\teval-mlogloss:0.89889\n",
      "[19]\ttrain-mlogloss:0.89006\teval-mlogloss:0.88998\n",
      "[20]\ttrain-mlogloss:0.88064\teval-mlogloss:0.88142\n",
      "[21]\ttrain-mlogloss:0.87098\teval-mlogloss:0.87233\n",
      "[22]\ttrain-mlogloss:0.86243\teval-mlogloss:0.86449\n",
      "[23]\ttrain-mlogloss:0.85437\teval-mlogloss:0.85703\n",
      "[24]\ttrain-mlogloss:0.84667\teval-mlogloss:0.85087\n",
      "[25]\ttrain-mlogloss:0.83945\teval-mlogloss:0.84451\n",
      "[26]\ttrain-mlogloss:0.83247\teval-mlogloss:0.83924\n",
      "[27]\ttrain-mlogloss:0.82597\teval-mlogloss:0.83358\n",
      "[28]\ttrain-mlogloss:0.81960\teval-mlogloss:0.82746\n",
      "[29]\ttrain-mlogloss:0.81336\teval-mlogloss:0.82173\n",
      "[30]\ttrain-mlogloss:0.80749\teval-mlogloss:0.81642\n",
      "[31]\ttrain-mlogloss:0.80174\teval-mlogloss:0.81108\n",
      "[32]\ttrain-mlogloss:0.79626\teval-mlogloss:0.80721\n",
      "[33]\ttrain-mlogloss:0.79072\teval-mlogloss:0.80224\n",
      "[34]\ttrain-mlogloss:0.78551\teval-mlogloss:0.79792\n",
      "[35]\ttrain-mlogloss:0.78027\teval-mlogloss:0.79350\n",
      "[36]\ttrain-mlogloss:0.77540\teval-mlogloss:0.78899\n",
      "[37]\ttrain-mlogloss:0.77081\teval-mlogloss:0.78524\n",
      "[38]\ttrain-mlogloss:0.76627\teval-mlogloss:0.78105\n",
      "[39]\ttrain-mlogloss:0.76161\teval-mlogloss:0.77746\n",
      "[40]\ttrain-mlogloss:0.75719\teval-mlogloss:0.77352\n",
      "[41]\ttrain-mlogloss:0.75294\teval-mlogloss:0.77000\n",
      "[42]\ttrain-mlogloss:0.74889\teval-mlogloss:0.76679\n",
      "[43]\ttrain-mlogloss:0.74503\teval-mlogloss:0.76330\n",
      "[44]\ttrain-mlogloss:0.74107\teval-mlogloss:0.76038\n",
      "[45]\ttrain-mlogloss:0.73722\teval-mlogloss:0.75685\n",
      "[46]\ttrain-mlogloss:0.73335\teval-mlogloss:0.75380\n",
      "[47]\ttrain-mlogloss:0.72960\teval-mlogloss:0.75111\n",
      "[48]\ttrain-mlogloss:0.72609\teval-mlogloss:0.74832\n",
      "[49]\ttrain-mlogloss:0.72249\teval-mlogloss:0.74485\n",
      "[50]\ttrain-mlogloss:0.71891\teval-mlogloss:0.74238\n",
      "[51]\ttrain-mlogloss:0.71532\teval-mlogloss:0.73985\n",
      "[52]\ttrain-mlogloss:0.71164\teval-mlogloss:0.73699\n",
      "[53]\ttrain-mlogloss:0.70827\teval-mlogloss:0.73452\n",
      "[54]\ttrain-mlogloss:0.70494\teval-mlogloss:0.73248\n",
      "[55]\ttrain-mlogloss:0.70169\teval-mlogloss:0.73009\n",
      "[56]\ttrain-mlogloss:0.69850\teval-mlogloss:0.72786\n",
      "[57]\ttrain-mlogloss:0.69532\teval-mlogloss:0.72556\n",
      "[58]\ttrain-mlogloss:0.69208\teval-mlogloss:0.72331\n",
      "[59]\ttrain-mlogloss:0.68918\teval-mlogloss:0.72074\n",
      "[60]\ttrain-mlogloss:0.68621\teval-mlogloss:0.71837\n",
      "[61]\ttrain-mlogloss:0.68321\teval-mlogloss:0.71608\n",
      "[62]\ttrain-mlogloss:0.68036\teval-mlogloss:0.71373\n",
      "[63]\ttrain-mlogloss:0.67764\teval-mlogloss:0.71214\n",
      "[64]\ttrain-mlogloss:0.67483\teval-mlogloss:0.70995\n",
      "[65]\ttrain-mlogloss:0.67218\teval-mlogloss:0.70752\n",
      "[66]\ttrain-mlogloss:0.66942\teval-mlogloss:0.70588\n",
      "[67]\ttrain-mlogloss:0.66677\teval-mlogloss:0.70314\n",
      "[68]\ttrain-mlogloss:0.66391\teval-mlogloss:0.70111\n",
      "[69]\ttrain-mlogloss:0.66127\teval-mlogloss:0.69929\n",
      "[70]\ttrain-mlogloss:0.65870\teval-mlogloss:0.69732\n",
      "[71]\ttrain-mlogloss:0.65619\teval-mlogloss:0.69507\n",
      "[72]\ttrain-mlogloss:0.65375\teval-mlogloss:0.69304\n",
      "[73]\ttrain-mlogloss:0.65122\teval-mlogloss:0.69121\n",
      "[74]\ttrain-mlogloss:0.64856\teval-mlogloss:0.68922\n",
      "[75]\ttrain-mlogloss:0.64628\teval-mlogloss:0.68790\n",
      "[76]\ttrain-mlogloss:0.64397\teval-mlogloss:0.68625\n",
      "[77]\ttrain-mlogloss:0.64165\teval-mlogloss:0.68471\n",
      "[78]\ttrain-mlogloss:0.63943\teval-mlogloss:0.68310\n",
      "[79]\ttrain-mlogloss:0.63716\teval-mlogloss:0.68175\n",
      "[80]\ttrain-mlogloss:0.63485\teval-mlogloss:0.67997\n",
      "[81]\ttrain-mlogloss:0.63264\teval-mlogloss:0.67866\n",
      "[82]\ttrain-mlogloss:0.63039\teval-mlogloss:0.67724\n",
      "[83]\ttrain-mlogloss:0.62825\teval-mlogloss:0.67542\n",
      "[84]\ttrain-mlogloss:0.62602\teval-mlogloss:0.67355\n",
      "[85]\ttrain-mlogloss:0.62377\teval-mlogloss:0.67164\n",
      "[86]\ttrain-mlogloss:0.62171\teval-mlogloss:0.67022\n",
      "[87]\ttrain-mlogloss:0.61948\teval-mlogloss:0.66906\n",
      "[88]\ttrain-mlogloss:0.61726\teval-mlogloss:0.66701\n",
      "[89]\ttrain-mlogloss:0.61521\teval-mlogloss:0.66550\n",
      "[90]\ttrain-mlogloss:0.61316\teval-mlogloss:0.66406\n",
      "[91]\ttrain-mlogloss:0.61116\teval-mlogloss:0.66273\n",
      "[92]\ttrain-mlogloss:0.60872\teval-mlogloss:0.66153\n",
      "[93]\ttrain-mlogloss:0.60673\teval-mlogloss:0.65955\n",
      "[94]\ttrain-mlogloss:0.60473\teval-mlogloss:0.65784\n",
      "[95]\ttrain-mlogloss:0.60289\teval-mlogloss:0.65657\n",
      "[96]\ttrain-mlogloss:0.60095\teval-mlogloss:0.65572\n",
      "[97]\ttrain-mlogloss:0.59899\teval-mlogloss:0.65381\n",
      "[98]\ttrain-mlogloss:0.59709\teval-mlogloss:0.65242\n",
      "[99]\ttrain-mlogloss:0.59520\teval-mlogloss:0.65056\n",
      "[100]\ttrain-mlogloss:0.59341\teval-mlogloss:0.64903\n",
      "[101]\ttrain-mlogloss:0.59159\teval-mlogloss:0.64724\n",
      "[102]\ttrain-mlogloss:0.58992\teval-mlogloss:0.64598\n",
      "[103]\ttrain-mlogloss:0.58813\teval-mlogloss:0.64436\n",
      "[104]\ttrain-mlogloss:0.58647\teval-mlogloss:0.64276\n",
      "[105]\ttrain-mlogloss:0.58469\teval-mlogloss:0.64169\n",
      "[106]\ttrain-mlogloss:0.58290\teval-mlogloss:0.64094\n",
      "[107]\ttrain-mlogloss:0.58121\teval-mlogloss:0.63967\n",
      "[108]\ttrain-mlogloss:0.57954\teval-mlogloss:0.63878\n",
      "[109]\ttrain-mlogloss:0.57790\teval-mlogloss:0.63723\n",
      "[110]\ttrain-mlogloss:0.57621\teval-mlogloss:0.63633\n",
      "[111]\ttrain-mlogloss:0.57437\teval-mlogloss:0.63535\n",
      "[112]\ttrain-mlogloss:0.57276\teval-mlogloss:0.63426\n",
      "[113]\ttrain-mlogloss:0.57114\teval-mlogloss:0.63295\n",
      "[114]\ttrain-mlogloss:0.56935\teval-mlogloss:0.63168\n",
      "[115]\ttrain-mlogloss:0.56782\teval-mlogloss:0.63038\n",
      "[116]\ttrain-mlogloss:0.56631\teval-mlogloss:0.62926\n",
      "[117]\ttrain-mlogloss:0.56462\teval-mlogloss:0.62801\n",
      "[118]\ttrain-mlogloss:0.56311\teval-mlogloss:0.62679\n",
      "[119]\ttrain-mlogloss:0.56163\teval-mlogloss:0.62598\n",
      "[120]\ttrain-mlogloss:0.56004\teval-mlogloss:0.62461\n",
      "[121]\ttrain-mlogloss:0.55847\teval-mlogloss:0.62326\n",
      "[122]\ttrain-mlogloss:0.55696\teval-mlogloss:0.62205\n",
      "[123]\ttrain-mlogloss:0.55528\teval-mlogloss:0.62111\n",
      "[124]\ttrain-mlogloss:0.55380\teval-mlogloss:0.61991\n",
      "[125]\ttrain-mlogloss:0.55234\teval-mlogloss:0.61888\n",
      "[126]\ttrain-mlogloss:0.55096\teval-mlogloss:0.61787\n",
      "[127]\ttrain-mlogloss:0.54955\teval-mlogloss:0.61697\n",
      "[128]\ttrain-mlogloss:0.54811\teval-mlogloss:0.61582\n",
      "[129]\ttrain-mlogloss:0.54644\teval-mlogloss:0.61463\n",
      "[130]\ttrain-mlogloss:0.54500\teval-mlogloss:0.61338\n",
      "[131]\ttrain-mlogloss:0.54362\teval-mlogloss:0.61258\n",
      "[132]\ttrain-mlogloss:0.54227\teval-mlogloss:0.61118\n",
      "[133]\ttrain-mlogloss:0.54094\teval-mlogloss:0.61025\n",
      "[134]\ttrain-mlogloss:0.53954\teval-mlogloss:0.60909\n",
      "[135]\ttrain-mlogloss:0.53824\teval-mlogloss:0.60795\n",
      "[136]\ttrain-mlogloss:0.53685\teval-mlogloss:0.60715\n",
      "[137]\ttrain-mlogloss:0.53550\teval-mlogloss:0.60586\n",
      "[138]\ttrain-mlogloss:0.53415\teval-mlogloss:0.60531\n",
      "[139]\ttrain-mlogloss:0.53287\teval-mlogloss:0.60437\n",
      "[140]\ttrain-mlogloss:0.53121\teval-mlogloss:0.60361\n",
      "[141]\ttrain-mlogloss:0.52998\teval-mlogloss:0.60279\n",
      "[142]\ttrain-mlogloss:0.52867\teval-mlogloss:0.60209\n",
      "[143]\ttrain-mlogloss:0.52733\teval-mlogloss:0.60101\n",
      "[144]\ttrain-mlogloss:0.52595\teval-mlogloss:0.60019\n",
      "[145]\ttrain-mlogloss:0.52472\teval-mlogloss:0.59960\n",
      "[146]\ttrain-mlogloss:0.52351\teval-mlogloss:0.59879\n",
      "[147]\ttrain-mlogloss:0.52231\teval-mlogloss:0.59795\n",
      "[148]\ttrain-mlogloss:0.52107\teval-mlogloss:0.59713\n",
      "[149]\ttrain-mlogloss:0.51979\teval-mlogloss:0.59587\n",
      "[150]\ttrain-mlogloss:0.51861\teval-mlogloss:0.59534\n",
      "[151]\ttrain-mlogloss:0.51728\teval-mlogloss:0.59446\n",
      "[152]\ttrain-mlogloss:0.51607\teval-mlogloss:0.59380\n",
      "[153]\ttrain-mlogloss:0.51490\teval-mlogloss:0.59300\n",
      "[154]\ttrain-mlogloss:0.51365\teval-mlogloss:0.59239\n",
      "[155]\ttrain-mlogloss:0.51239\teval-mlogloss:0.59114\n",
      "[156]\ttrain-mlogloss:0.51123\teval-mlogloss:0.59059\n",
      "[157]\ttrain-mlogloss:0.51005\teval-mlogloss:0.58944\n",
      "[158]\ttrain-mlogloss:0.50887\teval-mlogloss:0.58866\n",
      "[159]\ttrain-mlogloss:0.50774\teval-mlogloss:0.58807\n",
      "[160]\ttrain-mlogloss:0.50660\teval-mlogloss:0.58744\n",
      "[161]\ttrain-mlogloss:0.50536\teval-mlogloss:0.58665\n",
      "[162]\ttrain-mlogloss:0.50428\teval-mlogloss:0.58594\n",
      "[163]\ttrain-mlogloss:0.50319\teval-mlogloss:0.58539\n",
      "[164]\ttrain-mlogloss:0.50196\teval-mlogloss:0.58461\n",
      "[165]\ttrain-mlogloss:0.50087\teval-mlogloss:0.58428\n",
      "[166]\ttrain-mlogloss:0.49981\teval-mlogloss:0.58308\n",
      "[167]\ttrain-mlogloss:0.49869\teval-mlogloss:0.58233\n",
      "[168]\ttrain-mlogloss:0.49758\teval-mlogloss:0.58152\n",
      "[169]\ttrain-mlogloss:0.49651\teval-mlogloss:0.58051\n",
      "[170]\ttrain-mlogloss:0.49546\teval-mlogloss:0.58011\n",
      "[171]\ttrain-mlogloss:0.49438\teval-mlogloss:0.57915\n",
      "[172]\ttrain-mlogloss:0.49338\teval-mlogloss:0.57846\n",
      "[173]\ttrain-mlogloss:0.49235\teval-mlogloss:0.57759\n",
      "[174]\ttrain-mlogloss:0.49134\teval-mlogloss:0.57652\n",
      "[175]\ttrain-mlogloss:0.49031\teval-mlogloss:0.57593\n",
      "[176]\ttrain-mlogloss:0.48927\teval-mlogloss:0.57520\n",
      "[177]\ttrain-mlogloss:0.48826\teval-mlogloss:0.57430\n",
      "[178]\ttrain-mlogloss:0.48728\teval-mlogloss:0.57377\n",
      "[179]\ttrain-mlogloss:0.48628\teval-mlogloss:0.57303\n",
      "[180]\ttrain-mlogloss:0.48526\teval-mlogloss:0.57237\n",
      "[181]\ttrain-mlogloss:0.48422\teval-mlogloss:0.57159\n",
      "[182]\ttrain-mlogloss:0.48320\teval-mlogloss:0.57080\n",
      "[183]\ttrain-mlogloss:0.48210\teval-mlogloss:0.57010\n",
      "[184]\ttrain-mlogloss:0.48105\teval-mlogloss:0.56959\n",
      "[185]\ttrain-mlogloss:0.48011\teval-mlogloss:0.56906\n",
      "[186]\ttrain-mlogloss:0.47908\teval-mlogloss:0.56837\n",
      "[187]\ttrain-mlogloss:0.47810\teval-mlogloss:0.56754\n",
      "[188]\ttrain-mlogloss:0.47712\teval-mlogloss:0.56690\n",
      "[189]\ttrain-mlogloss:0.47608\teval-mlogloss:0.56605\n",
      "[190]\ttrain-mlogloss:0.47516\teval-mlogloss:0.56547\n",
      "[191]\ttrain-mlogloss:0.47419\teval-mlogloss:0.56493\n",
      "[192]\ttrain-mlogloss:0.47320\teval-mlogloss:0.56424\n",
      "[193]\ttrain-mlogloss:0.47225\teval-mlogloss:0.56371\n",
      "[194]\ttrain-mlogloss:0.47124\teval-mlogloss:0.56287\n",
      "[195]\ttrain-mlogloss:0.47034\teval-mlogloss:0.56214\n",
      "[196]\ttrain-mlogloss:0.46943\teval-mlogloss:0.56139\n",
      "[197]\ttrain-mlogloss:0.46847\teval-mlogloss:0.56062\n",
      "[198]\ttrain-mlogloss:0.46751\teval-mlogloss:0.55997\n",
      "[199]\ttrain-mlogloss:0.46660\teval-mlogloss:0.55931\n",
      "[200]\ttrain-mlogloss:0.46558\teval-mlogloss:0.55860\n",
      "[201]\ttrain-mlogloss:0.46466\teval-mlogloss:0.55807\n",
      "[202]\ttrain-mlogloss:0.46372\teval-mlogloss:0.55749\n",
      "[203]\ttrain-mlogloss:0.46287\teval-mlogloss:0.55680\n",
      "[204]\ttrain-mlogloss:0.46197\teval-mlogloss:0.55629\n",
      "[205]\ttrain-mlogloss:0.46110\teval-mlogloss:0.55574\n",
      "[206]\ttrain-mlogloss:0.46017\teval-mlogloss:0.55517\n",
      "[207]\ttrain-mlogloss:0.45929\teval-mlogloss:0.55468\n",
      "[208]\ttrain-mlogloss:0.45839\teval-mlogloss:0.55376\n",
      "[209]\ttrain-mlogloss:0.45747\teval-mlogloss:0.55336\n",
      "[210]\ttrain-mlogloss:0.45658\teval-mlogloss:0.55277\n",
      "[211]\ttrain-mlogloss:0.45561\teval-mlogloss:0.55218\n",
      "[212]\ttrain-mlogloss:0.45474\teval-mlogloss:0.55155\n",
      "[213]\ttrain-mlogloss:0.45382\teval-mlogloss:0.55103\n",
      "[214]\ttrain-mlogloss:0.45301\teval-mlogloss:0.55069\n",
      "[215]\ttrain-mlogloss:0.45209\teval-mlogloss:0.55025\n",
      "[216]\ttrain-mlogloss:0.45121\teval-mlogloss:0.54988\n",
      "[217]\ttrain-mlogloss:0.45040\teval-mlogloss:0.54956\n",
      "[218]\ttrain-mlogloss:0.44941\teval-mlogloss:0.54889\n",
      "[219]\ttrain-mlogloss:0.44857\teval-mlogloss:0.54848\n",
      "[220]\ttrain-mlogloss:0.44771\teval-mlogloss:0.54796\n",
      "[221]\ttrain-mlogloss:0.44691\teval-mlogloss:0.54719\n",
      "[222]\ttrain-mlogloss:0.44611\teval-mlogloss:0.54664\n",
      "[223]\ttrain-mlogloss:0.44520\teval-mlogloss:0.54592\n",
      "[224]\ttrain-mlogloss:0.44439\teval-mlogloss:0.54542\n",
      "[225]\ttrain-mlogloss:0.44361\teval-mlogloss:0.54504\n",
      "[226]\ttrain-mlogloss:0.44279\teval-mlogloss:0.54461\n",
      "[227]\ttrain-mlogloss:0.44200\teval-mlogloss:0.54407\n",
      "[228]\ttrain-mlogloss:0.44126\teval-mlogloss:0.54354\n",
      "[229]\ttrain-mlogloss:0.44046\teval-mlogloss:0.54313\n",
      "[230]\ttrain-mlogloss:0.43966\teval-mlogloss:0.54235\n",
      "[231]\ttrain-mlogloss:0.43879\teval-mlogloss:0.54187\n",
      "[232]\ttrain-mlogloss:0.43803\teval-mlogloss:0.54145\n",
      "[233]\ttrain-mlogloss:0.43715\teval-mlogloss:0.54084\n",
      "[234]\ttrain-mlogloss:0.43639\teval-mlogloss:0.54043\n",
      "[235]\ttrain-mlogloss:0.43564\teval-mlogloss:0.53960\n",
      "[236]\ttrain-mlogloss:0.43485\teval-mlogloss:0.53949\n",
      "[237]\ttrain-mlogloss:0.43407\teval-mlogloss:0.53899\n",
      "[238]\ttrain-mlogloss:0.43333\teval-mlogloss:0.53832\n",
      "[239]\ttrain-mlogloss:0.43262\teval-mlogloss:0.53772\n",
      "[240]\ttrain-mlogloss:0.43187\teval-mlogloss:0.53720\n",
      "[241]\ttrain-mlogloss:0.43106\teval-mlogloss:0.53672\n",
      "[242]\ttrain-mlogloss:0.43032\teval-mlogloss:0.53619\n",
      "[243]\ttrain-mlogloss:0.42955\teval-mlogloss:0.53556\n",
      "[244]\ttrain-mlogloss:0.42880\teval-mlogloss:0.53498\n",
      "[245]\ttrain-mlogloss:0.42801\teval-mlogloss:0.53475\n",
      "[246]\ttrain-mlogloss:0.42729\teval-mlogloss:0.53422\n",
      "[247]\ttrain-mlogloss:0.42655\teval-mlogloss:0.53382\n",
      "[248]\ttrain-mlogloss:0.42577\teval-mlogloss:0.53345\n",
      "[249]\ttrain-mlogloss:0.42504\teval-mlogloss:0.53296\n",
      "[250]\ttrain-mlogloss:0.42435\teval-mlogloss:0.53265\n",
      "[251]\ttrain-mlogloss:0.42364\teval-mlogloss:0.53220\n",
      "[252]\ttrain-mlogloss:0.42295\teval-mlogloss:0.53161\n",
      "[253]\ttrain-mlogloss:0.42223\teval-mlogloss:0.53121\n",
      "[254]\ttrain-mlogloss:0.42143\teval-mlogloss:0.53059\n",
      "[255]\ttrain-mlogloss:0.42070\teval-mlogloss:0.53007\n",
      "[256]\ttrain-mlogloss:0.42000\teval-mlogloss:0.52963\n",
      "[257]\ttrain-mlogloss:0.41934\teval-mlogloss:0.52924\n",
      "[258]\ttrain-mlogloss:0.41865\teval-mlogloss:0.52881\n",
      "[259]\ttrain-mlogloss:0.41793\teval-mlogloss:0.52834\n",
      "[260]\ttrain-mlogloss:0.41724\teval-mlogloss:0.52777\n",
      "[261]\ttrain-mlogloss:0.41657\teval-mlogloss:0.52743\n",
      "[262]\ttrain-mlogloss:0.41589\teval-mlogloss:0.52712\n",
      "[263]\ttrain-mlogloss:0.41523\teval-mlogloss:0.52650\n",
      "[264]\ttrain-mlogloss:0.41454\teval-mlogloss:0.52592\n",
      "[265]\ttrain-mlogloss:0.41374\teval-mlogloss:0.52568\n",
      "[266]\ttrain-mlogloss:0.41308\teval-mlogloss:0.52528\n",
      "[267]\ttrain-mlogloss:0.41240\teval-mlogloss:0.52489\n",
      "[268]\ttrain-mlogloss:0.41172\teval-mlogloss:0.52436\n",
      "[269]\ttrain-mlogloss:0.41102\teval-mlogloss:0.52407\n",
      "[270]\ttrain-mlogloss:0.41040\teval-mlogloss:0.52402\n",
      "[271]\ttrain-mlogloss:0.40971\teval-mlogloss:0.52363\n",
      "[272]\ttrain-mlogloss:0.40906\teval-mlogloss:0.52312\n",
      "[273]\ttrain-mlogloss:0.40843\teval-mlogloss:0.52284\n",
      "[274]\ttrain-mlogloss:0.40770\teval-mlogloss:0.52264\n",
      "[275]\ttrain-mlogloss:0.40706\teval-mlogloss:0.52216\n",
      "[276]\ttrain-mlogloss:0.40640\teval-mlogloss:0.52198\n",
      "[277]\ttrain-mlogloss:0.40578\teval-mlogloss:0.52152\n",
      "[278]\ttrain-mlogloss:0.40503\teval-mlogloss:0.52119\n",
      "[279]\ttrain-mlogloss:0.40429\teval-mlogloss:0.52069\n",
      "[280]\ttrain-mlogloss:0.40364\teval-mlogloss:0.52036\n",
      "[281]\ttrain-mlogloss:0.40301\teval-mlogloss:0.51991\n",
      "[282]\ttrain-mlogloss:0.40236\teval-mlogloss:0.51956\n",
      "[283]\ttrain-mlogloss:0.40170\teval-mlogloss:0.51915\n",
      "[284]\ttrain-mlogloss:0.40110\teval-mlogloss:0.51876\n",
      "[285]\ttrain-mlogloss:0.40050\teval-mlogloss:0.51839\n",
      "[286]\ttrain-mlogloss:0.39987\teval-mlogloss:0.51780\n",
      "[287]\ttrain-mlogloss:0.39923\teval-mlogloss:0.51731\n",
      "[288]\ttrain-mlogloss:0.39861\teval-mlogloss:0.51699\n",
      "[289]\ttrain-mlogloss:0.39799\teval-mlogloss:0.51666\n",
      "[290]\ttrain-mlogloss:0.39731\teval-mlogloss:0.51622\n",
      "[291]\ttrain-mlogloss:0.39672\teval-mlogloss:0.51587\n",
      "[292]\ttrain-mlogloss:0.39611\teval-mlogloss:0.51566\n",
      "[293]\ttrain-mlogloss:0.39551\teval-mlogloss:0.51538\n",
      "[294]\ttrain-mlogloss:0.39488\teval-mlogloss:0.51501\n",
      "[295]\ttrain-mlogloss:0.39431\teval-mlogloss:0.51460\n",
      "[296]\ttrain-mlogloss:0.39374\teval-mlogloss:0.51433\n",
      "[297]\ttrain-mlogloss:0.39315\teval-mlogloss:0.51387\n",
      "[298]\ttrain-mlogloss:0.39251\teval-mlogloss:0.51352\n",
      "[299]\ttrain-mlogloss:0.39187\teval-mlogloss:0.51333\n",
      "[300]\ttrain-mlogloss:0.39126\teval-mlogloss:0.51314\n",
      "[301]\ttrain-mlogloss:0.39061\teval-mlogloss:0.51271\n",
      "[302]\ttrain-mlogloss:0.38996\teval-mlogloss:0.51223\n",
      "[303]\ttrain-mlogloss:0.38939\teval-mlogloss:0.51186\n",
      "[304]\ttrain-mlogloss:0.38875\teval-mlogloss:0.51112\n",
      "[305]\ttrain-mlogloss:0.38816\teval-mlogloss:0.51041\n",
      "[306]\ttrain-mlogloss:0.38752\teval-mlogloss:0.51023\n",
      "[307]\ttrain-mlogloss:0.38694\teval-mlogloss:0.50983\n",
      "[308]\ttrain-mlogloss:0.38635\teval-mlogloss:0.50947\n",
      "[309]\ttrain-mlogloss:0.38580\teval-mlogloss:0.50893\n",
      "[310]\ttrain-mlogloss:0.38523\teval-mlogloss:0.50874\n",
      "[311]\ttrain-mlogloss:0.38468\teval-mlogloss:0.50826\n",
      "[312]\ttrain-mlogloss:0.38412\teval-mlogloss:0.50808\n",
      "[313]\ttrain-mlogloss:0.38355\teval-mlogloss:0.50793\n",
      "[314]\ttrain-mlogloss:0.38294\teval-mlogloss:0.50741\n",
      "[315]\ttrain-mlogloss:0.38239\teval-mlogloss:0.50706\n",
      "[316]\ttrain-mlogloss:0.38184\teval-mlogloss:0.50660\n",
      "[317]\ttrain-mlogloss:0.38129\teval-mlogloss:0.50638\n",
      "[318]\ttrain-mlogloss:0.38066\teval-mlogloss:0.50570\n",
      "[319]\ttrain-mlogloss:0.38010\teval-mlogloss:0.50552\n",
      "[320]\ttrain-mlogloss:0.37943\teval-mlogloss:0.50525\n",
      "[321]\ttrain-mlogloss:0.37889\teval-mlogloss:0.50499\n",
      "[322]\ttrain-mlogloss:0.37838\teval-mlogloss:0.50465\n",
      "[323]\ttrain-mlogloss:0.37773\teval-mlogloss:0.50404\n",
      "[324]\ttrain-mlogloss:0.37716\teval-mlogloss:0.50364\n",
      "[325]\ttrain-mlogloss:0.37659\teval-mlogloss:0.50314\n",
      "[326]\ttrain-mlogloss:0.37602\teval-mlogloss:0.50281\n",
      "[327]\ttrain-mlogloss:0.37550\teval-mlogloss:0.50235\n",
      "[328]\ttrain-mlogloss:0.37489\teval-mlogloss:0.50201\n",
      "[329]\ttrain-mlogloss:0.37434\teval-mlogloss:0.50151\n",
      "[330]\ttrain-mlogloss:0.37382\teval-mlogloss:0.50127\n",
      "[331]\ttrain-mlogloss:0.37327\teval-mlogloss:0.50110\n",
      "[332]\ttrain-mlogloss:0.37269\teval-mlogloss:0.50093\n",
      "[333]\ttrain-mlogloss:0.37220\teval-mlogloss:0.50059\n",
      "[334]\ttrain-mlogloss:0.37167\teval-mlogloss:0.50020\n",
      "[335]\ttrain-mlogloss:0.37117\teval-mlogloss:0.49991\n",
      "[336]\ttrain-mlogloss:0.37064\teval-mlogloss:0.49964\n",
      "[337]\ttrain-mlogloss:0.37011\teval-mlogloss:0.49943\n",
      "[338]\ttrain-mlogloss:0.36959\teval-mlogloss:0.49923\n",
      "[339]\ttrain-mlogloss:0.36910\teval-mlogloss:0.49893\n",
      "[340]\ttrain-mlogloss:0.36859\teval-mlogloss:0.49870\n",
      "[341]\ttrain-mlogloss:0.36805\teval-mlogloss:0.49834\n",
      "[342]\ttrain-mlogloss:0.36755\teval-mlogloss:0.49812\n",
      "[343]\ttrain-mlogloss:0.36707\teval-mlogloss:0.49785\n",
      "[344]\ttrain-mlogloss:0.36657\teval-mlogloss:0.49756\n",
      "[345]\ttrain-mlogloss:0.36605\teval-mlogloss:0.49719\n",
      "[346]\ttrain-mlogloss:0.36556\teval-mlogloss:0.49690\n",
      "[347]\ttrain-mlogloss:0.36499\teval-mlogloss:0.49646\n",
      "[348]\ttrain-mlogloss:0.36449\teval-mlogloss:0.49608\n",
      "[349]\ttrain-mlogloss:0.36400\teval-mlogloss:0.49594\n",
      "[350]\ttrain-mlogloss:0.36347\teval-mlogloss:0.49574\n",
      "[351]\ttrain-mlogloss:0.36301\teval-mlogloss:0.49526\n",
      "[352]\ttrain-mlogloss:0.36249\teval-mlogloss:0.49489\n",
      "[353]\ttrain-mlogloss:0.36199\teval-mlogloss:0.49464\n",
      "[354]\ttrain-mlogloss:0.36151\teval-mlogloss:0.49419\n",
      "[355]\ttrain-mlogloss:0.36101\teval-mlogloss:0.49388\n",
      "[356]\ttrain-mlogloss:0.36052\teval-mlogloss:0.49355\n",
      "[357]\ttrain-mlogloss:0.36000\teval-mlogloss:0.49311\n",
      "[358]\ttrain-mlogloss:0.35952\teval-mlogloss:0.49283\n",
      "[359]\ttrain-mlogloss:0.35903\teval-mlogloss:0.49270\n",
      "[360]\ttrain-mlogloss:0.35856\teval-mlogloss:0.49256\n",
      "[361]\ttrain-mlogloss:0.35805\teval-mlogloss:0.49216\n",
      "[362]\ttrain-mlogloss:0.35749\teval-mlogloss:0.49177\n",
      "[363]\ttrain-mlogloss:0.35699\teval-mlogloss:0.49141\n",
      "[364]\ttrain-mlogloss:0.35648\teval-mlogloss:0.49119\n",
      "[365]\ttrain-mlogloss:0.35599\teval-mlogloss:0.49081\n",
      "[366]\ttrain-mlogloss:0.35554\teval-mlogloss:0.49036\n",
      "[367]\ttrain-mlogloss:0.35499\teval-mlogloss:0.49025\n",
      "[368]\ttrain-mlogloss:0.35454\teval-mlogloss:0.49016\n",
      "[369]\ttrain-mlogloss:0.35409\teval-mlogloss:0.49013\n",
      "[370]\ttrain-mlogloss:0.35362\teval-mlogloss:0.48986\n",
      "[371]\ttrain-mlogloss:0.35314\teval-mlogloss:0.48952\n",
      "[372]\ttrain-mlogloss:0.35265\teval-mlogloss:0.48916\n",
      "[373]\ttrain-mlogloss:0.35217\teval-mlogloss:0.48904\n",
      "[374]\ttrain-mlogloss:0.35169\teval-mlogloss:0.48861\n",
      "[375]\ttrain-mlogloss:0.35120\teval-mlogloss:0.48826\n",
      "[376]\ttrain-mlogloss:0.35073\teval-mlogloss:0.48778\n",
      "[377]\ttrain-mlogloss:0.35020\teval-mlogloss:0.48753\n",
      "[378]\ttrain-mlogloss:0.34976\teval-mlogloss:0.48736\n",
      "[379]\ttrain-mlogloss:0.34924\teval-mlogloss:0.48716\n",
      "[380]\ttrain-mlogloss:0.34876\teval-mlogloss:0.48682\n",
      "[381]\ttrain-mlogloss:0.34833\teval-mlogloss:0.48654\n",
      "[382]\ttrain-mlogloss:0.34788\teval-mlogloss:0.48637\n",
      "[383]\ttrain-mlogloss:0.34745\teval-mlogloss:0.48601\n",
      "[384]\ttrain-mlogloss:0.34697\teval-mlogloss:0.48574\n",
      "[385]\ttrain-mlogloss:0.34652\teval-mlogloss:0.48550\n",
      "[386]\ttrain-mlogloss:0.34607\teval-mlogloss:0.48526\n",
      "[387]\ttrain-mlogloss:0.34561\teval-mlogloss:0.48503\n",
      "[388]\ttrain-mlogloss:0.34510\teval-mlogloss:0.48470\n",
      "[389]\ttrain-mlogloss:0.34460\teval-mlogloss:0.48442\n",
      "[390]\ttrain-mlogloss:0.34414\teval-mlogloss:0.48426\n",
      "[391]\ttrain-mlogloss:0.34371\teval-mlogloss:0.48401\n",
      "[392]\ttrain-mlogloss:0.34327\teval-mlogloss:0.48385\n",
      "[393]\ttrain-mlogloss:0.34285\teval-mlogloss:0.48372\n",
      "[394]\ttrain-mlogloss:0.34242\teval-mlogloss:0.48354\n",
      "[395]\ttrain-mlogloss:0.34198\teval-mlogloss:0.48318\n",
      "[396]\ttrain-mlogloss:0.34158\teval-mlogloss:0.48290\n",
      "[397]\ttrain-mlogloss:0.34113\teval-mlogloss:0.48280\n",
      "[398]\ttrain-mlogloss:0.34071\teval-mlogloss:0.48254\n",
      "[399]\ttrain-mlogloss:0.34028\teval-mlogloss:0.48222\n",
      "[400]\ttrain-mlogloss:0.33983\teval-mlogloss:0.48189\n",
      "[401]\ttrain-mlogloss:0.33938\teval-mlogloss:0.48176\n",
      "[402]\ttrain-mlogloss:0.33894\teval-mlogloss:0.48137\n",
      "[403]\ttrain-mlogloss:0.33852\teval-mlogloss:0.48122\n",
      "[404]\ttrain-mlogloss:0.33810\teval-mlogloss:0.48093\n",
      "[405]\ttrain-mlogloss:0.33764\teval-mlogloss:0.48080\n",
      "[406]\ttrain-mlogloss:0.33723\teval-mlogloss:0.48066\n",
      "[407]\ttrain-mlogloss:0.33681\teval-mlogloss:0.48044\n",
      "[408]\ttrain-mlogloss:0.33642\teval-mlogloss:0.48009\n",
      "[409]\ttrain-mlogloss:0.33599\teval-mlogloss:0.47978\n",
      "[410]\ttrain-mlogloss:0.33553\teval-mlogloss:0.47948\n",
      "[411]\ttrain-mlogloss:0.33509\teval-mlogloss:0.47935\n",
      "[412]\ttrain-mlogloss:0.33464\teval-mlogloss:0.47918\n",
      "[413]\ttrain-mlogloss:0.33420\teval-mlogloss:0.47908\n",
      "[414]\ttrain-mlogloss:0.33381\teval-mlogloss:0.47883\n",
      "[415]\ttrain-mlogloss:0.33342\teval-mlogloss:0.47853\n",
      "[416]\ttrain-mlogloss:0.33299\teval-mlogloss:0.47837\n",
      "[417]\ttrain-mlogloss:0.33258\teval-mlogloss:0.47806\n",
      "[418]\ttrain-mlogloss:0.33214\teval-mlogloss:0.47785\n",
      "[419]\ttrain-mlogloss:0.33167\teval-mlogloss:0.47785\n",
      "[420]\ttrain-mlogloss:0.33127\teval-mlogloss:0.47774\n",
      "[421]\ttrain-mlogloss:0.33086\teval-mlogloss:0.47743\n",
      "[422]\ttrain-mlogloss:0.33047\teval-mlogloss:0.47734\n",
      "[423]\ttrain-mlogloss:0.33005\teval-mlogloss:0.47695\n",
      "[424]\ttrain-mlogloss:0.32965\teval-mlogloss:0.47670\n",
      "[425]\ttrain-mlogloss:0.32923\teval-mlogloss:0.47648\n",
      "[426]\ttrain-mlogloss:0.32884\teval-mlogloss:0.47614\n",
      "[427]\ttrain-mlogloss:0.32835\teval-mlogloss:0.47604\n",
      "[428]\ttrain-mlogloss:0.32794\teval-mlogloss:0.47584\n",
      "[429]\ttrain-mlogloss:0.32756\teval-mlogloss:0.47560\n",
      "[430]\ttrain-mlogloss:0.32712\teval-mlogloss:0.47544\n",
      "[431]\ttrain-mlogloss:0.32668\teval-mlogloss:0.47520\n",
      "[432]\ttrain-mlogloss:0.32627\teval-mlogloss:0.47490\n",
      "[433]\ttrain-mlogloss:0.32588\teval-mlogloss:0.47485\n",
      "[434]\ttrain-mlogloss:0.32546\teval-mlogloss:0.47452\n",
      "[435]\ttrain-mlogloss:0.32501\teval-mlogloss:0.47422\n",
      "[436]\ttrain-mlogloss:0.32457\teval-mlogloss:0.47401\n",
      "[437]\ttrain-mlogloss:0.32417\teval-mlogloss:0.47374\n",
      "[438]\ttrain-mlogloss:0.32370\teval-mlogloss:0.47363\n",
      "[439]\ttrain-mlogloss:0.32329\teval-mlogloss:0.47359\n",
      "[440]\ttrain-mlogloss:0.32286\teval-mlogloss:0.47326\n",
      "[441]\ttrain-mlogloss:0.32248\teval-mlogloss:0.47298\n",
      "[442]\ttrain-mlogloss:0.32206\teval-mlogloss:0.47289\n",
      "[443]\ttrain-mlogloss:0.32162\teval-mlogloss:0.47271\n",
      "[444]\ttrain-mlogloss:0.32127\teval-mlogloss:0.47258\n",
      "[445]\ttrain-mlogloss:0.32084\teval-mlogloss:0.47254\n",
      "[446]\ttrain-mlogloss:0.32047\teval-mlogloss:0.47225\n",
      "[447]\ttrain-mlogloss:0.32007\teval-mlogloss:0.47219\n",
      "[448]\ttrain-mlogloss:0.31966\teval-mlogloss:0.47191\n",
      "[449]\ttrain-mlogloss:0.31928\teval-mlogloss:0.47168\n",
      "[450]\ttrain-mlogloss:0.31891\teval-mlogloss:0.47147\n",
      "[451]\ttrain-mlogloss:0.31853\teval-mlogloss:0.47123\n",
      "[452]\ttrain-mlogloss:0.31817\teval-mlogloss:0.47091\n",
      "[453]\ttrain-mlogloss:0.31781\teval-mlogloss:0.47056\n",
      "[454]\ttrain-mlogloss:0.31745\teval-mlogloss:0.47054\n",
      "[455]\ttrain-mlogloss:0.31697\teval-mlogloss:0.47025\n",
      "[456]\ttrain-mlogloss:0.31660\teval-mlogloss:0.47008\n",
      "[457]\ttrain-mlogloss:0.31624\teval-mlogloss:0.46987\n",
      "[458]\ttrain-mlogloss:0.31588\teval-mlogloss:0.46966\n",
      "[459]\ttrain-mlogloss:0.31554\teval-mlogloss:0.46941\n",
      "[460]\ttrain-mlogloss:0.31520\teval-mlogloss:0.46927\n",
      "[461]\ttrain-mlogloss:0.31483\teval-mlogloss:0.46915\n",
      "[462]\ttrain-mlogloss:0.31448\teval-mlogloss:0.46904\n",
      "[463]\ttrain-mlogloss:0.31404\teval-mlogloss:0.46873\n",
      "[464]\ttrain-mlogloss:0.31368\teval-mlogloss:0.46869\n",
      "[465]\ttrain-mlogloss:0.31335\teval-mlogloss:0.46854\n",
      "[466]\ttrain-mlogloss:0.31300\teval-mlogloss:0.46840\n",
      "[467]\ttrain-mlogloss:0.31262\teval-mlogloss:0.46804\n",
      "[468]\ttrain-mlogloss:0.31222\teval-mlogloss:0.46762\n",
      "[469]\ttrain-mlogloss:0.31183\teval-mlogloss:0.46733\n",
      "[470]\ttrain-mlogloss:0.31150\teval-mlogloss:0.46704\n",
      "[471]\ttrain-mlogloss:0.31113\teval-mlogloss:0.46660\n",
      "[472]\ttrain-mlogloss:0.31076\teval-mlogloss:0.46649\n",
      "[473]\ttrain-mlogloss:0.31038\teval-mlogloss:0.46627\n",
      "[474]\ttrain-mlogloss:0.30991\teval-mlogloss:0.46610\n",
      "[475]\ttrain-mlogloss:0.30955\teval-mlogloss:0.46611\n",
      "[476]\ttrain-mlogloss:0.30916\teval-mlogloss:0.46592\n",
      "[477]\ttrain-mlogloss:0.30880\teval-mlogloss:0.46583\n",
      "[478]\ttrain-mlogloss:0.30845\teval-mlogloss:0.46561\n",
      "[479]\ttrain-mlogloss:0.30811\teval-mlogloss:0.46525\n",
      "[480]\ttrain-mlogloss:0.30777\teval-mlogloss:0.46503\n",
      "[481]\ttrain-mlogloss:0.30743\teval-mlogloss:0.46493\n",
      "[482]\ttrain-mlogloss:0.30710\teval-mlogloss:0.46497\n",
      "[483]\ttrain-mlogloss:0.30675\teval-mlogloss:0.46482\n",
      "[484]\ttrain-mlogloss:0.30639\teval-mlogloss:0.46470\n",
      "[485]\ttrain-mlogloss:0.30597\teval-mlogloss:0.46449\n",
      "[486]\ttrain-mlogloss:0.30566\teval-mlogloss:0.46420\n",
      "[487]\ttrain-mlogloss:0.30529\teval-mlogloss:0.46422\n",
      "[488]\ttrain-mlogloss:0.30496\teval-mlogloss:0.46399\n",
      "[489]\ttrain-mlogloss:0.30461\teval-mlogloss:0.46399\n",
      "[490]\ttrain-mlogloss:0.30429\teval-mlogloss:0.46391\n",
      "[491]\ttrain-mlogloss:0.30397\teval-mlogloss:0.46374\n",
      "[492]\ttrain-mlogloss:0.30364\teval-mlogloss:0.46367\n",
      "[493]\ttrain-mlogloss:0.30330\teval-mlogloss:0.46363\n",
      "[494]\ttrain-mlogloss:0.30297\teval-mlogloss:0.46337\n",
      "[495]\ttrain-mlogloss:0.30264\teval-mlogloss:0.46316\n",
      "[496]\ttrain-mlogloss:0.30230\teval-mlogloss:0.46303\n",
      "[497]\ttrain-mlogloss:0.30197\teval-mlogloss:0.46303\n",
      "[498]\ttrain-mlogloss:0.30162\teval-mlogloss:0.46282\n",
      "[499]\ttrain-mlogloss:0.30131\teval-mlogloss:0.46258\n",
      "[500]\ttrain-mlogloss:0.30097\teval-mlogloss:0.46243\n",
      "[501]\ttrain-mlogloss:0.30059\teval-mlogloss:0.46226\n",
      "[502]\ttrain-mlogloss:0.30021\teval-mlogloss:0.46190\n",
      "[503]\ttrain-mlogloss:0.29985\teval-mlogloss:0.46181\n",
      "[504]\ttrain-mlogloss:0.29955\teval-mlogloss:0.46176\n",
      "[505]\ttrain-mlogloss:0.29925\teval-mlogloss:0.46185\n",
      "[506]\ttrain-mlogloss:0.29889\teval-mlogloss:0.46155\n",
      "[507]\ttrain-mlogloss:0.29853\teval-mlogloss:0.46135\n",
      "[508]\ttrain-mlogloss:0.29821\teval-mlogloss:0.46117\n",
      "[509]\ttrain-mlogloss:0.29790\teval-mlogloss:0.46092\n",
      "[510]\ttrain-mlogloss:0.29746\teval-mlogloss:0.46072\n",
      "[511]\ttrain-mlogloss:0.29707\teval-mlogloss:0.46052\n",
      "[512]\ttrain-mlogloss:0.29675\teval-mlogloss:0.46046\n",
      "[513]\ttrain-mlogloss:0.29645\teval-mlogloss:0.46013\n",
      "[514]\ttrain-mlogloss:0.29612\teval-mlogloss:0.45966\n",
      "[515]\ttrain-mlogloss:0.29580\teval-mlogloss:0.45965\n",
      "[516]\ttrain-mlogloss:0.29547\teval-mlogloss:0.45950\n",
      "[517]\ttrain-mlogloss:0.29516\teval-mlogloss:0.45917\n",
      "[518]\ttrain-mlogloss:0.29485\teval-mlogloss:0.45881\n",
      "[519]\ttrain-mlogloss:0.29454\teval-mlogloss:0.45876\n",
      "[520]\ttrain-mlogloss:0.29417\teval-mlogloss:0.45841\n",
      "[521]\ttrain-mlogloss:0.29384\teval-mlogloss:0.45847\n",
      "[522]\ttrain-mlogloss:0.29352\teval-mlogloss:0.45819\n",
      "[523]\ttrain-mlogloss:0.29322\teval-mlogloss:0.45820\n",
      "[524]\ttrain-mlogloss:0.29291\teval-mlogloss:0.45797\n",
      "[525]\ttrain-mlogloss:0.29253\teval-mlogloss:0.45775\n",
      "[526]\ttrain-mlogloss:0.29217\teval-mlogloss:0.45751\n",
      "[527]\ttrain-mlogloss:0.29184\teval-mlogloss:0.45742\n",
      "[528]\ttrain-mlogloss:0.29147\teval-mlogloss:0.45730\n",
      "[529]\ttrain-mlogloss:0.29115\teval-mlogloss:0.45730\n",
      "[530]\ttrain-mlogloss:0.29085\teval-mlogloss:0.45721\n",
      "[531]\ttrain-mlogloss:0.29056\teval-mlogloss:0.45701\n",
      "[532]\ttrain-mlogloss:0.29026\teval-mlogloss:0.45696\n",
      "[533]\ttrain-mlogloss:0.28990\teval-mlogloss:0.45674\n",
      "[534]\ttrain-mlogloss:0.28961\teval-mlogloss:0.45648\n",
      "[535]\ttrain-mlogloss:0.28927\teval-mlogloss:0.45628\n",
      "[536]\ttrain-mlogloss:0.28897\teval-mlogloss:0.45595\n",
      "[537]\ttrain-mlogloss:0.28864\teval-mlogloss:0.45585\n",
      "[538]\ttrain-mlogloss:0.28833\teval-mlogloss:0.45584\n",
      "[539]\ttrain-mlogloss:0.28803\teval-mlogloss:0.45553\n",
      "[540]\ttrain-mlogloss:0.28774\teval-mlogloss:0.45537\n",
      "[541]\ttrain-mlogloss:0.28735\teval-mlogloss:0.45520\n",
      "[542]\ttrain-mlogloss:0.28700\teval-mlogloss:0.45498\n",
      "[543]\ttrain-mlogloss:0.28671\teval-mlogloss:0.45487\n",
      "[544]\ttrain-mlogloss:0.28642\teval-mlogloss:0.45478\n",
      "[545]\ttrain-mlogloss:0.28607\teval-mlogloss:0.45443\n",
      "[546]\ttrain-mlogloss:0.28577\teval-mlogloss:0.45444\n",
      "[547]\ttrain-mlogloss:0.28549\teval-mlogloss:0.45413\n",
      "[548]\ttrain-mlogloss:0.28521\teval-mlogloss:0.45394\n",
      "[549]\ttrain-mlogloss:0.28493\teval-mlogloss:0.45361\n",
      "[550]\ttrain-mlogloss:0.28465\teval-mlogloss:0.45352\n",
      "[551]\ttrain-mlogloss:0.28433\teval-mlogloss:0.45341\n",
      "[552]\ttrain-mlogloss:0.28394\teval-mlogloss:0.45336\n",
      "[553]\ttrain-mlogloss:0.28363\teval-mlogloss:0.45326\n",
      "[554]\ttrain-mlogloss:0.28333\teval-mlogloss:0.45300\n",
      "[555]\ttrain-mlogloss:0.28307\teval-mlogloss:0.45296\n",
      "[556]\ttrain-mlogloss:0.28276\teval-mlogloss:0.45278\n",
      "[557]\ttrain-mlogloss:0.28246\teval-mlogloss:0.45260\n",
      "[558]\ttrain-mlogloss:0.28218\teval-mlogloss:0.45256\n",
      "[559]\ttrain-mlogloss:0.28190\teval-mlogloss:0.45249\n",
      "[560]\ttrain-mlogloss:0.28163\teval-mlogloss:0.45249\n",
      "[561]\ttrain-mlogloss:0.28137\teval-mlogloss:0.45242\n",
      "[562]\ttrain-mlogloss:0.28110\teval-mlogloss:0.45249\n",
      "[563]\ttrain-mlogloss:0.28083\teval-mlogloss:0.45226\n",
      "[564]\ttrain-mlogloss:0.28051\teval-mlogloss:0.45204\n",
      "[565]\ttrain-mlogloss:0.28022\teval-mlogloss:0.45212\n",
      "[566]\ttrain-mlogloss:0.27994\teval-mlogloss:0.45207\n",
      "[567]\ttrain-mlogloss:0.27968\teval-mlogloss:0.45206\n",
      "[568]\ttrain-mlogloss:0.27940\teval-mlogloss:0.45177\n",
      "[569]\ttrain-mlogloss:0.27912\teval-mlogloss:0.45202\n",
      "[570]\ttrain-mlogloss:0.27880\teval-mlogloss:0.45188\n",
      "[571]\ttrain-mlogloss:0.27853\teval-mlogloss:0.45193\n",
      "[572]\ttrain-mlogloss:0.27819\teval-mlogloss:0.45170\n",
      "[573]\ttrain-mlogloss:0.27789\teval-mlogloss:0.45156\n",
      "[574]\ttrain-mlogloss:0.27763\teval-mlogloss:0.45155\n",
      "[575]\ttrain-mlogloss:0.27732\teval-mlogloss:0.45130\n",
      "[576]\ttrain-mlogloss:0.27705\teval-mlogloss:0.45113\n",
      "[577]\ttrain-mlogloss:0.27677\teval-mlogloss:0.45105\n",
      "[578]\ttrain-mlogloss:0.27650\teval-mlogloss:0.45088\n",
      "[579]\ttrain-mlogloss:0.27617\teval-mlogloss:0.45080\n",
      "[580]\ttrain-mlogloss:0.27586\teval-mlogloss:0.45069\n",
      "[581]\ttrain-mlogloss:0.27555\teval-mlogloss:0.45059\n",
      "[582]\ttrain-mlogloss:0.27528\teval-mlogloss:0.45040\n",
      "[583]\ttrain-mlogloss:0.27500\teval-mlogloss:0.45032\n",
      "[584]\ttrain-mlogloss:0.27473\teval-mlogloss:0.45025\n",
      "[585]\ttrain-mlogloss:0.27447\teval-mlogloss:0.45008\n",
      "[586]\ttrain-mlogloss:0.27421\teval-mlogloss:0.44992\n",
      "[587]\ttrain-mlogloss:0.27392\teval-mlogloss:0.44980\n",
      "[588]\ttrain-mlogloss:0.27363\teval-mlogloss:0.44962\n",
      "[589]\ttrain-mlogloss:0.27335\teval-mlogloss:0.44966\n",
      "[590]\ttrain-mlogloss:0.27304\teval-mlogloss:0.44956\n",
      "[591]\ttrain-mlogloss:0.27278\teval-mlogloss:0.44944\n",
      "[592]\ttrain-mlogloss:0.27250\teval-mlogloss:0.44927\n",
      "[593]\ttrain-mlogloss:0.27221\teval-mlogloss:0.44918\n",
      "[594]\ttrain-mlogloss:0.27193\teval-mlogloss:0.44911\n",
      "[595]\ttrain-mlogloss:0.27166\teval-mlogloss:0.44905\n",
      "[596]\ttrain-mlogloss:0.27140\teval-mlogloss:0.44904\n",
      "[597]\ttrain-mlogloss:0.27115\teval-mlogloss:0.44888\n",
      "[598]\ttrain-mlogloss:0.27090\teval-mlogloss:0.44875\n",
      "[599]\ttrain-mlogloss:0.27063\teval-mlogloss:0.44863\n",
      "[600]\ttrain-mlogloss:0.27034\teval-mlogloss:0.44848\n",
      "[601]\ttrain-mlogloss:0.26994\teval-mlogloss:0.44840\n",
      "[602]\ttrain-mlogloss:0.26969\teval-mlogloss:0.44837\n",
      "[603]\ttrain-mlogloss:0.26941\teval-mlogloss:0.44815\n",
      "[604]\ttrain-mlogloss:0.26909\teval-mlogloss:0.44805\n",
      "[605]\ttrain-mlogloss:0.26881\teval-mlogloss:0.44813\n",
      "[606]\ttrain-mlogloss:0.26853\teval-mlogloss:0.44774\n",
      "[607]\ttrain-mlogloss:0.26827\teval-mlogloss:0.44750\n",
      "[608]\ttrain-mlogloss:0.26802\teval-mlogloss:0.44744\n",
      "[609]\ttrain-mlogloss:0.26776\teval-mlogloss:0.44717\n",
      "[610]\ttrain-mlogloss:0.26749\teval-mlogloss:0.44698\n",
      "[611]\ttrain-mlogloss:0.26724\teval-mlogloss:0.44683\n",
      "[612]\ttrain-mlogloss:0.26697\teval-mlogloss:0.44669\n",
      "[613]\ttrain-mlogloss:0.26672\teval-mlogloss:0.44661\n",
      "[614]\ttrain-mlogloss:0.26647\teval-mlogloss:0.44662\n",
      "[615]\ttrain-mlogloss:0.26623\teval-mlogloss:0.44637\n",
      "[616]\ttrain-mlogloss:0.26598\teval-mlogloss:0.44628\n",
      "[617]\ttrain-mlogloss:0.26575\teval-mlogloss:0.44601\n",
      "[618]\ttrain-mlogloss:0.26550\teval-mlogloss:0.44591\n",
      "[619]\ttrain-mlogloss:0.26526\teval-mlogloss:0.44581\n",
      "[620]\ttrain-mlogloss:0.26502\teval-mlogloss:0.44575\n",
      "[621]\ttrain-mlogloss:0.26477\teval-mlogloss:0.44540\n",
      "[622]\ttrain-mlogloss:0.26452\teval-mlogloss:0.44533\n",
      "[623]\ttrain-mlogloss:0.26428\teval-mlogloss:0.44527\n",
      "[624]\ttrain-mlogloss:0.26404\teval-mlogloss:0.44523\n",
      "[625]\ttrain-mlogloss:0.26377\teval-mlogloss:0.44504\n",
      "[626]\ttrain-mlogloss:0.26351\teval-mlogloss:0.44496\n",
      "[627]\ttrain-mlogloss:0.26324\teval-mlogloss:0.44483\n",
      "[628]\ttrain-mlogloss:0.26299\teval-mlogloss:0.44464\n",
      "[629]\ttrain-mlogloss:0.26273\teval-mlogloss:0.44453\n",
      "[630]\ttrain-mlogloss:0.26247\teval-mlogloss:0.44442\n",
      "[631]\ttrain-mlogloss:0.26224\teval-mlogloss:0.44442\n",
      "[632]\ttrain-mlogloss:0.26197\teval-mlogloss:0.44434\n",
      "[633]\ttrain-mlogloss:0.26166\teval-mlogloss:0.44417\n",
      "[634]\ttrain-mlogloss:0.26130\teval-mlogloss:0.44396\n",
      "[635]\ttrain-mlogloss:0.26107\teval-mlogloss:0.44380\n",
      "[636]\ttrain-mlogloss:0.26081\teval-mlogloss:0.44363\n",
      "[637]\ttrain-mlogloss:0.26058\teval-mlogloss:0.44366\n",
      "[638]\ttrain-mlogloss:0.26035\teval-mlogloss:0.44351\n",
      "[639]\ttrain-mlogloss:0.26012\teval-mlogloss:0.44345\n",
      "[640]\ttrain-mlogloss:0.25984\teval-mlogloss:0.44340\n",
      "[641]\ttrain-mlogloss:0.25962\teval-mlogloss:0.44334\n",
      "[642]\ttrain-mlogloss:0.25936\teval-mlogloss:0.44323\n",
      "[643]\ttrain-mlogloss:0.25910\teval-mlogloss:0.44317\n",
      "[644]\ttrain-mlogloss:0.25888\teval-mlogloss:0.44323\n",
      "[645]\ttrain-mlogloss:0.25861\teval-mlogloss:0.44324\n",
      "[646]\ttrain-mlogloss:0.25837\teval-mlogloss:0.44321\n",
      "[647]\ttrain-mlogloss:0.25806\teval-mlogloss:0.44329\n",
      "[648]\ttrain-mlogloss:0.25784\teval-mlogloss:0.44307\n",
      "[649]\ttrain-mlogloss:0.25761\teval-mlogloss:0.44285\n",
      "[650]\ttrain-mlogloss:0.25739\teval-mlogloss:0.44275\n",
      "[651]\ttrain-mlogloss:0.25716\teval-mlogloss:0.44261\n",
      "[652]\ttrain-mlogloss:0.25687\teval-mlogloss:0.44256\n",
      "[653]\ttrain-mlogloss:0.25661\teval-mlogloss:0.44252\n",
      "[654]\ttrain-mlogloss:0.25637\teval-mlogloss:0.44246\n",
      "[655]\ttrain-mlogloss:0.25613\teval-mlogloss:0.44232\n",
      "[656]\ttrain-mlogloss:0.25590\teval-mlogloss:0.44224\n",
      "[657]\ttrain-mlogloss:0.25567\teval-mlogloss:0.44207\n",
      "[658]\ttrain-mlogloss:0.25542\teval-mlogloss:0.44219\n",
      "[659]\ttrain-mlogloss:0.25518\teval-mlogloss:0.44197\n",
      "[660]\ttrain-mlogloss:0.25488\teval-mlogloss:0.44211\n",
      "[661]\ttrain-mlogloss:0.25467\teval-mlogloss:0.44189\n",
      "[662]\ttrain-mlogloss:0.25438\teval-mlogloss:0.44191\n",
      "[663]\ttrain-mlogloss:0.25412\teval-mlogloss:0.44174\n",
      "[664]\ttrain-mlogloss:0.25391\teval-mlogloss:0.44154\n",
      "[665]\ttrain-mlogloss:0.25365\teval-mlogloss:0.44163\n",
      "[666]\ttrain-mlogloss:0.25343\teval-mlogloss:0.44151\n",
      "[667]\ttrain-mlogloss:0.25321\teval-mlogloss:0.44141\n",
      "[668]\ttrain-mlogloss:0.25294\teval-mlogloss:0.44118\n",
      "[669]\ttrain-mlogloss:0.25271\teval-mlogloss:0.44112\n",
      "[670]\ttrain-mlogloss:0.25249\teval-mlogloss:0.44110\n",
      "[671]\ttrain-mlogloss:0.25222\teval-mlogloss:0.44106\n",
      "[672]\ttrain-mlogloss:0.25195\teval-mlogloss:0.44089\n",
      "[673]\ttrain-mlogloss:0.25173\teval-mlogloss:0.44089\n",
      "[674]\ttrain-mlogloss:0.25151\teval-mlogloss:0.44062\n",
      "[675]\ttrain-mlogloss:0.25128\teval-mlogloss:0.44077\n",
      "[676]\ttrain-mlogloss:0.25106\teval-mlogloss:0.44088\n",
      "[677]\ttrain-mlogloss:0.25083\teval-mlogloss:0.44069\n",
      "[678]\ttrain-mlogloss:0.25060\teval-mlogloss:0.44083\n",
      "[679]\ttrain-mlogloss:0.25037\teval-mlogloss:0.44061\n",
      "[680]\ttrain-mlogloss:0.25015\teval-mlogloss:0.44044\n",
      "[681]\ttrain-mlogloss:0.24993\teval-mlogloss:0.44032\n",
      "[682]\ttrain-mlogloss:0.24967\teval-mlogloss:0.44017\n",
      "[683]\ttrain-mlogloss:0.24938\teval-mlogloss:0.44001\n",
      "[684]\ttrain-mlogloss:0.24917\teval-mlogloss:0.43993\n",
      "[685]\ttrain-mlogloss:0.24896\teval-mlogloss:0.43971\n",
      "[686]\ttrain-mlogloss:0.24871\teval-mlogloss:0.43959\n",
      "[687]\ttrain-mlogloss:0.24846\teval-mlogloss:0.43946\n",
      "[688]\ttrain-mlogloss:0.24824\teval-mlogloss:0.43932\n",
      "[689]\ttrain-mlogloss:0.24802\teval-mlogloss:0.43932\n",
      "[690]\ttrain-mlogloss:0.24781\teval-mlogloss:0.43933\n",
      "[691]\ttrain-mlogloss:0.24757\teval-mlogloss:0.43901\n",
      "[692]\ttrain-mlogloss:0.24732\teval-mlogloss:0.43893\n",
      "[693]\ttrain-mlogloss:0.24708\teval-mlogloss:0.43895\n",
      "[694]\ttrain-mlogloss:0.24687\teval-mlogloss:0.43888\n",
      "[695]\ttrain-mlogloss:0.24666\teval-mlogloss:0.43880\n",
      "[696]\ttrain-mlogloss:0.24642\teval-mlogloss:0.43861\n",
      "[697]\ttrain-mlogloss:0.24620\teval-mlogloss:0.43874\n",
      "[698]\ttrain-mlogloss:0.24597\teval-mlogloss:0.43877\n",
      "[699]\ttrain-mlogloss:0.24574\teval-mlogloss:0.43850\n",
      "[700]\ttrain-mlogloss:0.24554\teval-mlogloss:0.43848\n",
      "[701]\ttrain-mlogloss:0.24531\teval-mlogloss:0.43851\n",
      "[702]\ttrain-mlogloss:0.24511\teval-mlogloss:0.43832\n",
      "[703]\ttrain-mlogloss:0.24490\teval-mlogloss:0.43818\n",
      "[704]\ttrain-mlogloss:0.24467\teval-mlogloss:0.43801\n",
      "[705]\ttrain-mlogloss:0.24446\teval-mlogloss:0.43788\n",
      "[706]\ttrain-mlogloss:0.24427\teval-mlogloss:0.43779\n",
      "[707]\ttrain-mlogloss:0.24403\teval-mlogloss:0.43769\n",
      "[708]\ttrain-mlogloss:0.24382\teval-mlogloss:0.43740\n",
      "[709]\ttrain-mlogloss:0.24361\teval-mlogloss:0.43721\n",
      "[710]\ttrain-mlogloss:0.24338\teval-mlogloss:0.43714\n",
      "[711]\ttrain-mlogloss:0.24318\teval-mlogloss:0.43710\n",
      "[712]\ttrain-mlogloss:0.24292\teval-mlogloss:0.43703\n",
      "[713]\ttrain-mlogloss:0.24271\teval-mlogloss:0.43697\n",
      "[714]\ttrain-mlogloss:0.24250\teval-mlogloss:0.43684\n",
      "[715]\ttrain-mlogloss:0.24224\teval-mlogloss:0.43677\n",
      "[716]\ttrain-mlogloss:0.24198\teval-mlogloss:0.43663\n",
      "[717]\ttrain-mlogloss:0.24177\teval-mlogloss:0.43659\n",
      "[718]\ttrain-mlogloss:0.24155\teval-mlogloss:0.43669\n",
      "[719]\ttrain-mlogloss:0.24125\teval-mlogloss:0.43674\n",
      "[720]\ttrain-mlogloss:0.24101\teval-mlogloss:0.43656\n",
      "[721]\ttrain-mlogloss:0.24079\teval-mlogloss:0.43652\n",
      "[722]\ttrain-mlogloss:0.24057\teval-mlogloss:0.43645\n",
      "[723]\ttrain-mlogloss:0.24036\teval-mlogloss:0.43629\n",
      "[724]\ttrain-mlogloss:0.24013\teval-mlogloss:0.43614\n",
      "[725]\ttrain-mlogloss:0.23993\teval-mlogloss:0.43627\n",
      "[726]\ttrain-mlogloss:0.23971\teval-mlogloss:0.43613\n",
      "[727]\ttrain-mlogloss:0.23949\teval-mlogloss:0.43603\n",
      "[728]\ttrain-mlogloss:0.23927\teval-mlogloss:0.43596\n",
      "[729]\ttrain-mlogloss:0.23906\teval-mlogloss:0.43587\n",
      "[730]\ttrain-mlogloss:0.23879\teval-mlogloss:0.43564\n",
      "[731]\ttrain-mlogloss:0.23859\teval-mlogloss:0.43546\n",
      "[732]\ttrain-mlogloss:0.23838\teval-mlogloss:0.43529\n",
      "[733]\ttrain-mlogloss:0.23815\teval-mlogloss:0.43525\n",
      "[734]\ttrain-mlogloss:0.23792\teval-mlogloss:0.43510\n",
      "[735]\ttrain-mlogloss:0.23765\teval-mlogloss:0.43527\n",
      "[736]\ttrain-mlogloss:0.23743\teval-mlogloss:0.43529\n",
      "[737]\ttrain-mlogloss:0.23722\teval-mlogloss:0.43502\n",
      "[738]\ttrain-mlogloss:0.23699\teval-mlogloss:0.43487\n",
      "[739]\ttrain-mlogloss:0.23674\teval-mlogloss:0.43481\n",
      "[740]\ttrain-mlogloss:0.23654\teval-mlogloss:0.43474\n",
      "[741]\ttrain-mlogloss:0.23630\teval-mlogloss:0.43439\n",
      "[742]\ttrain-mlogloss:0.23607\teval-mlogloss:0.43442\n",
      "[743]\ttrain-mlogloss:0.23587\teval-mlogloss:0.43442\n",
      "[744]\ttrain-mlogloss:0.23568\teval-mlogloss:0.43444\n",
      "[745]\ttrain-mlogloss:0.23548\teval-mlogloss:0.43434\n",
      "[746]\ttrain-mlogloss:0.23529\teval-mlogloss:0.43421\n",
      "[747]\ttrain-mlogloss:0.23511\teval-mlogloss:0.43408\n",
      "[748]\ttrain-mlogloss:0.23491\teval-mlogloss:0.43392\n",
      "[749]\ttrain-mlogloss:0.23470\teval-mlogloss:0.43394\n",
      "[750]\ttrain-mlogloss:0.23451\teval-mlogloss:0.43413\n",
      "[751]\ttrain-mlogloss:0.23429\teval-mlogloss:0.43397\n",
      "[752]\ttrain-mlogloss:0.23408\teval-mlogloss:0.43395\n",
      "[753]\ttrain-mlogloss:0.23390\teval-mlogloss:0.43400\n",
      "[754]\ttrain-mlogloss:0.23369\teval-mlogloss:0.43398\n",
      "[755]\ttrain-mlogloss:0.23351\teval-mlogloss:0.43378\n",
      "[756]\ttrain-mlogloss:0.23332\teval-mlogloss:0.43368\n",
      "[757]\ttrain-mlogloss:0.23311\teval-mlogloss:0.43348\n",
      "[758]\ttrain-mlogloss:0.23292\teval-mlogloss:0.43318\n",
      "[759]\ttrain-mlogloss:0.23270\teval-mlogloss:0.43298\n",
      "[760]\ttrain-mlogloss:0.23251\teval-mlogloss:0.43285\n",
      "[761]\ttrain-mlogloss:0.23233\teval-mlogloss:0.43277\n",
      "[762]\ttrain-mlogloss:0.23214\teval-mlogloss:0.43277\n",
      "[763]\ttrain-mlogloss:0.23195\teval-mlogloss:0.43267\n",
      "[764]\ttrain-mlogloss:0.23175\teval-mlogloss:0.43258\n",
      "[765]\ttrain-mlogloss:0.23156\teval-mlogloss:0.43247\n",
      "[766]\ttrain-mlogloss:0.23138\teval-mlogloss:0.43240\n",
      "[767]\ttrain-mlogloss:0.23117\teval-mlogloss:0.43226\n",
      "[768]\ttrain-mlogloss:0.23094\teval-mlogloss:0.43210\n",
      "[769]\ttrain-mlogloss:0.23074\teval-mlogloss:0.43198\n",
      "[770]\ttrain-mlogloss:0.23055\teval-mlogloss:0.43195\n",
      "[771]\ttrain-mlogloss:0.23035\teval-mlogloss:0.43180\n",
      "[772]\ttrain-mlogloss:0.23014\teval-mlogloss:0.43185\n",
      "[773]\ttrain-mlogloss:0.22995\teval-mlogloss:0.43181\n",
      "[774]\ttrain-mlogloss:0.22974\teval-mlogloss:0.43182\n",
      "[775]\ttrain-mlogloss:0.22956\teval-mlogloss:0.43179\n",
      "[776]\ttrain-mlogloss:0.22937\teval-mlogloss:0.43169\n",
      "[777]\ttrain-mlogloss:0.22917\teval-mlogloss:0.43173\n",
      "[778]\ttrain-mlogloss:0.22898\teval-mlogloss:0.43159\n",
      "[779]\ttrain-mlogloss:0.22879\teval-mlogloss:0.43161\n",
      "[780]\ttrain-mlogloss:0.22858\teval-mlogloss:0.43157\n",
      "[781]\ttrain-mlogloss:0.22837\teval-mlogloss:0.43149\n",
      "[782]\ttrain-mlogloss:0.22812\teval-mlogloss:0.43146\n",
      "[783]\ttrain-mlogloss:0.22794\teval-mlogloss:0.43137\n",
      "[784]\ttrain-mlogloss:0.22773\teval-mlogloss:0.43141\n",
      "[785]\ttrain-mlogloss:0.22756\teval-mlogloss:0.43127\n",
      "[786]\ttrain-mlogloss:0.22738\teval-mlogloss:0.43128\n",
      "[787]\ttrain-mlogloss:0.22720\teval-mlogloss:0.43114\n",
      "[788]\ttrain-mlogloss:0.22698\teval-mlogloss:0.43110\n",
      "[789]\ttrain-mlogloss:0.22679\teval-mlogloss:0.43095\n",
      "[790]\ttrain-mlogloss:0.22657\teval-mlogloss:0.43079\n",
      "[791]\ttrain-mlogloss:0.22640\teval-mlogloss:0.43078\n",
      "[792]\ttrain-mlogloss:0.22622\teval-mlogloss:0.43063\n",
      "[793]\ttrain-mlogloss:0.22605\teval-mlogloss:0.43064\n",
      "[794]\ttrain-mlogloss:0.22585\teval-mlogloss:0.43052\n",
      "[795]\ttrain-mlogloss:0.22563\teval-mlogloss:0.43048\n",
      "[796]\ttrain-mlogloss:0.22543\teval-mlogloss:0.43042\n",
      "[797]\ttrain-mlogloss:0.22525\teval-mlogloss:0.43033\n",
      "[798]\ttrain-mlogloss:0.22501\teval-mlogloss:0.43014\n",
      "[799]\ttrain-mlogloss:0.22482\teval-mlogloss:0.43006\n",
      "[800]\ttrain-mlogloss:0.22461\teval-mlogloss:0.42996\n",
      "[801]\ttrain-mlogloss:0.22445\teval-mlogloss:0.42989\n",
      "[802]\ttrain-mlogloss:0.22427\teval-mlogloss:0.42992\n",
      "[803]\ttrain-mlogloss:0.22408\teval-mlogloss:0.42985\n",
      "[804]\ttrain-mlogloss:0.22388\teval-mlogloss:0.42981\n",
      "[805]\ttrain-mlogloss:0.22370\teval-mlogloss:0.42952\n",
      "[806]\ttrain-mlogloss:0.22353\teval-mlogloss:0.42951\n",
      "[807]\ttrain-mlogloss:0.22335\teval-mlogloss:0.42948\n",
      "[808]\ttrain-mlogloss:0.22314\teval-mlogloss:0.42935\n",
      "[809]\ttrain-mlogloss:0.22294\teval-mlogloss:0.42945\n",
      "[810]\ttrain-mlogloss:0.22274\teval-mlogloss:0.42937\n",
      "[811]\ttrain-mlogloss:0.22255\teval-mlogloss:0.42919\n",
      "[812]\ttrain-mlogloss:0.22226\teval-mlogloss:0.42902\n",
      "[813]\ttrain-mlogloss:0.22208\teval-mlogloss:0.42895\n",
      "[814]\ttrain-mlogloss:0.22192\teval-mlogloss:0.42880\n",
      "[815]\ttrain-mlogloss:0.22173\teval-mlogloss:0.42888\n",
      "[816]\ttrain-mlogloss:0.22155\teval-mlogloss:0.42864\n",
      "[817]\ttrain-mlogloss:0.22137\teval-mlogloss:0.42849\n",
      "[818]\ttrain-mlogloss:0.22120\teval-mlogloss:0.42849\n",
      "[819]\ttrain-mlogloss:0.22101\teval-mlogloss:0.42837\n",
      "[820]\ttrain-mlogloss:0.22084\teval-mlogloss:0.42832\n",
      "[821]\ttrain-mlogloss:0.22067\teval-mlogloss:0.42825\n",
      "[822]\ttrain-mlogloss:0.22049\teval-mlogloss:0.42833\n",
      "[823]\ttrain-mlogloss:0.22029\teval-mlogloss:0.42827\n",
      "[824]\ttrain-mlogloss:0.22007\teval-mlogloss:0.42810\n",
      "[825]\ttrain-mlogloss:0.21987\teval-mlogloss:0.42808\n",
      "[826]\ttrain-mlogloss:0.21970\teval-mlogloss:0.42790\n",
      "[827]\ttrain-mlogloss:0.21951\teval-mlogloss:0.42778\n",
      "[828]\ttrain-mlogloss:0.21933\teval-mlogloss:0.42767\n",
      "[829]\ttrain-mlogloss:0.21915\teval-mlogloss:0.42770\n",
      "[830]\ttrain-mlogloss:0.21899\teval-mlogloss:0.42750\n",
      "[831]\ttrain-mlogloss:0.21883\teval-mlogloss:0.42749\n",
      "[832]\ttrain-mlogloss:0.21866\teval-mlogloss:0.42750\n",
      "[833]\ttrain-mlogloss:0.21850\teval-mlogloss:0.42744\n",
      "[834]\ttrain-mlogloss:0.21833\teval-mlogloss:0.42748\n",
      "[835]\ttrain-mlogloss:0.21816\teval-mlogloss:0.42741\n",
      "[836]\ttrain-mlogloss:0.21796\teval-mlogloss:0.42719\n",
      "[837]\ttrain-mlogloss:0.21775\teval-mlogloss:0.42718\n",
      "[838]\ttrain-mlogloss:0.21755\teval-mlogloss:0.42710\n",
      "[839]\ttrain-mlogloss:0.21739\teval-mlogloss:0.42695\n",
      "[840]\ttrain-mlogloss:0.21723\teval-mlogloss:0.42688\n",
      "[841]\ttrain-mlogloss:0.21705\teval-mlogloss:0.42684\n",
      "[842]\ttrain-mlogloss:0.21689\teval-mlogloss:0.42673\n",
      "[843]\ttrain-mlogloss:0.21673\teval-mlogloss:0.42661\n",
      "[844]\ttrain-mlogloss:0.21654\teval-mlogloss:0.42635\n",
      "[845]\ttrain-mlogloss:0.21637\teval-mlogloss:0.42628\n",
      "[846]\ttrain-mlogloss:0.21620\teval-mlogloss:0.42628\n",
      "[847]\ttrain-mlogloss:0.21603\teval-mlogloss:0.42622\n",
      "[848]\ttrain-mlogloss:0.21585\teval-mlogloss:0.42625\n",
      "[849]\ttrain-mlogloss:0.21567\teval-mlogloss:0.42608\n",
      "[850]\ttrain-mlogloss:0.21550\teval-mlogloss:0.42585\n",
      "[851]\ttrain-mlogloss:0.21532\teval-mlogloss:0.42569\n",
      "[852]\ttrain-mlogloss:0.21514\teval-mlogloss:0.42559\n",
      "[853]\ttrain-mlogloss:0.21496\teval-mlogloss:0.42550\n",
      "[854]\ttrain-mlogloss:0.21480\teval-mlogloss:0.42549\n",
      "[855]\ttrain-mlogloss:0.21459\teval-mlogloss:0.42525\n",
      "[856]\ttrain-mlogloss:0.21443\teval-mlogloss:0.42530\n",
      "[857]\ttrain-mlogloss:0.21427\teval-mlogloss:0.42527\n",
      "[858]\ttrain-mlogloss:0.21407\teval-mlogloss:0.42525\n",
      "[859]\ttrain-mlogloss:0.21389\teval-mlogloss:0.42517\n",
      "[860]\ttrain-mlogloss:0.21375\teval-mlogloss:0.42509\n",
      "[861]\ttrain-mlogloss:0.21357\teval-mlogloss:0.42503\n",
      "[862]\ttrain-mlogloss:0.21341\teval-mlogloss:0.42494\n",
      "[863]\ttrain-mlogloss:0.21326\teval-mlogloss:0.42484\n",
      "[864]\ttrain-mlogloss:0.21310\teval-mlogloss:0.42468\n",
      "[865]\ttrain-mlogloss:0.21293\teval-mlogloss:0.42451\n",
      "[866]\ttrain-mlogloss:0.21276\teval-mlogloss:0.42434\n",
      "[867]\ttrain-mlogloss:0.21260\teval-mlogloss:0.42421\n",
      "[868]\ttrain-mlogloss:0.21244\teval-mlogloss:0.42416\n",
      "[869]\ttrain-mlogloss:0.21224\teval-mlogloss:0.42400\n",
      "[870]\ttrain-mlogloss:0.21205\teval-mlogloss:0.42401\n",
      "[871]\ttrain-mlogloss:0.21182\teval-mlogloss:0.42415\n",
      "[872]\ttrain-mlogloss:0.21164\teval-mlogloss:0.42420\n",
      "[873]\ttrain-mlogloss:0.21143\teval-mlogloss:0.42400\n",
      "[874]\ttrain-mlogloss:0.21128\teval-mlogloss:0.42391\n",
      "[875]\ttrain-mlogloss:0.21110\teval-mlogloss:0.42404\n",
      "[876]\ttrain-mlogloss:0.21093\teval-mlogloss:0.42400\n",
      "[877]\ttrain-mlogloss:0.21072\teval-mlogloss:0.42402\n",
      "[878]\ttrain-mlogloss:0.21057\teval-mlogloss:0.42396\n",
      "[879]\ttrain-mlogloss:0.21041\teval-mlogloss:0.42381\n",
      "[880]\ttrain-mlogloss:0.21025\teval-mlogloss:0.42370\n",
      "[881]\ttrain-mlogloss:0.21009\teval-mlogloss:0.42349\n",
      "[882]\ttrain-mlogloss:0.20990\teval-mlogloss:0.42333\n",
      "[883]\ttrain-mlogloss:0.20974\teval-mlogloss:0.42325\n",
      "[884]\ttrain-mlogloss:0.20957\teval-mlogloss:0.42329\n",
      "[885]\ttrain-mlogloss:0.20942\teval-mlogloss:0.42332\n",
      "[886]\ttrain-mlogloss:0.20927\teval-mlogloss:0.42326\n",
      "[887]\ttrain-mlogloss:0.20910\teval-mlogloss:0.42326\n",
      "[888]\ttrain-mlogloss:0.20893\teval-mlogloss:0.42317\n",
      "[889]\ttrain-mlogloss:0.20876\teval-mlogloss:0.42305\n",
      "[890]\ttrain-mlogloss:0.20857\teval-mlogloss:0.42309\n",
      "[891]\ttrain-mlogloss:0.20841\teval-mlogloss:0.42311\n",
      "[892]\ttrain-mlogloss:0.20825\teval-mlogloss:0.42307\n",
      "[893]\ttrain-mlogloss:0.20806\teval-mlogloss:0.42301\n",
      "[894]\ttrain-mlogloss:0.20790\teval-mlogloss:0.42297\n",
      "[895]\ttrain-mlogloss:0.20770\teval-mlogloss:0.42285\n",
      "[896]\ttrain-mlogloss:0.20752\teval-mlogloss:0.42291\n",
      "[897]\ttrain-mlogloss:0.20738\teval-mlogloss:0.42275\n",
      "[898]\ttrain-mlogloss:0.20723\teval-mlogloss:0.42287\n",
      "[899]\ttrain-mlogloss:0.20706\teval-mlogloss:0.42287\n",
      "[900]\ttrain-mlogloss:0.20691\teval-mlogloss:0.42290\n",
      "[901]\ttrain-mlogloss:0.20677\teval-mlogloss:0.42282\n",
      "[902]\ttrain-mlogloss:0.20660\teval-mlogloss:0.42283\n",
      "[903]\ttrain-mlogloss:0.20645\teval-mlogloss:0.42279\n",
      "[904]\ttrain-mlogloss:0.20630\teval-mlogloss:0.42276\n",
      "[905]\ttrain-mlogloss:0.20615\teval-mlogloss:0.42263\n",
      "[906]\ttrain-mlogloss:0.20599\teval-mlogloss:0.42263\n",
      "[907]\ttrain-mlogloss:0.20582\teval-mlogloss:0.42263\n",
      "[908]\ttrain-mlogloss:0.20567\teval-mlogloss:0.42264\n",
      "[909]\ttrain-mlogloss:0.20551\teval-mlogloss:0.42262\n",
      "[910]\ttrain-mlogloss:0.20535\teval-mlogloss:0.42267\n",
      "[911]\ttrain-mlogloss:0.20520\teval-mlogloss:0.42252\n",
      "[912]\ttrain-mlogloss:0.20502\teval-mlogloss:0.42234\n",
      "[913]\ttrain-mlogloss:0.20485\teval-mlogloss:0.42231\n",
      "[914]\ttrain-mlogloss:0.20470\teval-mlogloss:0.42221\n",
      "[915]\ttrain-mlogloss:0.20454\teval-mlogloss:0.42217\n",
      "[916]\ttrain-mlogloss:0.20438\teval-mlogloss:0.42222\n",
      "[917]\ttrain-mlogloss:0.20422\teval-mlogloss:0.42219\n",
      "[918]\ttrain-mlogloss:0.20405\teval-mlogloss:0.42212\n",
      "[919]\ttrain-mlogloss:0.20389\teval-mlogloss:0.42201\n",
      "[920]\ttrain-mlogloss:0.20374\teval-mlogloss:0.42205\n",
      "[921]\ttrain-mlogloss:0.20360\teval-mlogloss:0.42190\n",
      "[922]\ttrain-mlogloss:0.20343\teval-mlogloss:0.42189\n",
      "[923]\ttrain-mlogloss:0.20323\teval-mlogloss:0.42186\n",
      "[924]\ttrain-mlogloss:0.20305\teval-mlogloss:0.42180\n",
      "[925]\ttrain-mlogloss:0.20289\teval-mlogloss:0.42180\n",
      "[926]\ttrain-mlogloss:0.20273\teval-mlogloss:0.42174\n",
      "[927]\ttrain-mlogloss:0.20259\teval-mlogloss:0.42169\n",
      "[928]\ttrain-mlogloss:0.20245\teval-mlogloss:0.42157\n",
      "[929]\ttrain-mlogloss:0.20230\teval-mlogloss:0.42147\n",
      "[930]\ttrain-mlogloss:0.20216\teval-mlogloss:0.42134\n",
      "[931]\ttrain-mlogloss:0.20192\teval-mlogloss:0.42135\n",
      "[932]\ttrain-mlogloss:0.20173\teval-mlogloss:0.42125\n",
      "[933]\ttrain-mlogloss:0.20157\teval-mlogloss:0.42130\n",
      "[934]\ttrain-mlogloss:0.20143\teval-mlogloss:0.42128\n",
      "[935]\ttrain-mlogloss:0.20128\teval-mlogloss:0.42119\n",
      "[936]\ttrain-mlogloss:0.20113\teval-mlogloss:0.42128\n",
      "[937]\ttrain-mlogloss:0.20097\teval-mlogloss:0.42134\n",
      "[938]\ttrain-mlogloss:0.20078\teval-mlogloss:0.42129\n",
      "[939]\ttrain-mlogloss:0.20062\teval-mlogloss:0.42146\n",
      "[940]\ttrain-mlogloss:0.20045\teval-mlogloss:0.42141\n",
      "[941]\ttrain-mlogloss:0.20029\teval-mlogloss:0.42142\n",
      "[942]\ttrain-mlogloss:0.20014\teval-mlogloss:0.42151\n",
      "[943]\ttrain-mlogloss:0.19998\teval-mlogloss:0.42156\n",
      "[944]\ttrain-mlogloss:0.19982\teval-mlogloss:0.42139\n",
      "[945]\ttrain-mlogloss:0.19967\teval-mlogloss:0.42136\n",
      "[946]\ttrain-mlogloss:0.19953\teval-mlogloss:0.42119\n",
      "[947]\ttrain-mlogloss:0.19938\teval-mlogloss:0.42114\n",
      "[948]\ttrain-mlogloss:0.19920\teval-mlogloss:0.42098\n",
      "[949]\ttrain-mlogloss:0.19906\teval-mlogloss:0.42094\n",
      "[950]\ttrain-mlogloss:0.19885\teval-mlogloss:0.42100\n",
      "[951]\ttrain-mlogloss:0.19868\teval-mlogloss:0.42093\n",
      "[952]\ttrain-mlogloss:0.19853\teval-mlogloss:0.42089\n",
      "[953]\ttrain-mlogloss:0.19832\teval-mlogloss:0.42073\n",
      "[954]\ttrain-mlogloss:0.19817\teval-mlogloss:0.42079\n",
      "[955]\ttrain-mlogloss:0.19801\teval-mlogloss:0.42088\n",
      "[956]\ttrain-mlogloss:0.19785\teval-mlogloss:0.42087\n",
      "[957]\ttrain-mlogloss:0.19768\teval-mlogloss:0.42084\n",
      "[958]\ttrain-mlogloss:0.19751\teval-mlogloss:0.42083\n",
      "[959]\ttrain-mlogloss:0.19735\teval-mlogloss:0.42069\n",
      "[960]\ttrain-mlogloss:0.19721\teval-mlogloss:0.42063\n",
      "[961]\ttrain-mlogloss:0.19698\teval-mlogloss:0.42057\n",
      "[962]\ttrain-mlogloss:0.19678\teval-mlogloss:0.42057\n",
      "[963]\ttrain-mlogloss:0.19662\teval-mlogloss:0.42057\n",
      "[964]\ttrain-mlogloss:0.19642\teval-mlogloss:0.42051\n",
      "[965]\ttrain-mlogloss:0.19628\teval-mlogloss:0.42052\n",
      "[966]\ttrain-mlogloss:0.19607\teval-mlogloss:0.42043\n",
      "[967]\ttrain-mlogloss:0.19590\teval-mlogloss:0.42039\n",
      "[968]\ttrain-mlogloss:0.19574\teval-mlogloss:0.42036\n",
      "[969]\ttrain-mlogloss:0.19558\teval-mlogloss:0.42022\n",
      "[970]\ttrain-mlogloss:0.19543\teval-mlogloss:0.42018\n",
      "[971]\ttrain-mlogloss:0.19526\teval-mlogloss:0.42025\n",
      "[972]\ttrain-mlogloss:0.19508\teval-mlogloss:0.42015\n",
      "[973]\ttrain-mlogloss:0.19493\teval-mlogloss:0.42018\n",
      "[974]\ttrain-mlogloss:0.19478\teval-mlogloss:0.42008\n",
      "[975]\ttrain-mlogloss:0.19464\teval-mlogloss:0.42014\n",
      "[976]\ttrain-mlogloss:0.19449\teval-mlogloss:0.42014\n",
      "[977]\ttrain-mlogloss:0.19435\teval-mlogloss:0.42009\n",
      "[978]\ttrain-mlogloss:0.19422\teval-mlogloss:0.41995\n",
      "[979]\ttrain-mlogloss:0.19409\teval-mlogloss:0.41987\n",
      "[980]\ttrain-mlogloss:0.19396\teval-mlogloss:0.41981\n",
      "[981]\ttrain-mlogloss:0.19383\teval-mlogloss:0.41978\n",
      "[982]\ttrain-mlogloss:0.19370\teval-mlogloss:0.41974\n",
      "[983]\ttrain-mlogloss:0.19353\teval-mlogloss:0.41972\n",
      "[984]\ttrain-mlogloss:0.19341\teval-mlogloss:0.41967\n",
      "[985]\ttrain-mlogloss:0.19328\teval-mlogloss:0.41968\n",
      "[986]\ttrain-mlogloss:0.19314\teval-mlogloss:0.41956\n",
      "[987]\ttrain-mlogloss:0.19299\teval-mlogloss:0.41964\n",
      "[988]\ttrain-mlogloss:0.19284\teval-mlogloss:0.41960\n",
      "[989]\ttrain-mlogloss:0.19270\teval-mlogloss:0.41948\n",
      "[990]\ttrain-mlogloss:0.19250\teval-mlogloss:0.41947\n",
      "[991]\ttrain-mlogloss:0.19236\teval-mlogloss:0.41940\n",
      "[992]\ttrain-mlogloss:0.19220\teval-mlogloss:0.41934\n",
      "[993]\ttrain-mlogloss:0.19208\teval-mlogloss:0.41926\n",
      "[994]\ttrain-mlogloss:0.19195\teval-mlogloss:0.41919\n",
      "[995]\ttrain-mlogloss:0.19180\teval-mlogloss:0.41911\n",
      "[996]\ttrain-mlogloss:0.19166\teval-mlogloss:0.41900\n",
      "[997]\ttrain-mlogloss:0.19151\teval-mlogloss:0.41885\n",
      "[998]\ttrain-mlogloss:0.19132\teval-mlogloss:0.41878\n",
      "[999]\ttrain-mlogloss:0.19119\teval-mlogloss:0.41875\n"
     ]
    }
   ],
   "source": [
    "import xgboost as xgb\n",
    "\n",
    "params = {\n",
    "    \"objective\": \"multi:softmax\",\n",
    "    \"num_class\": 4,\n",
    "    \"eval_metric\": \"mlogloss\",\n",
    "    \"colsample_bytree\": 1.0,\n",
    "    \"colsample_bylevel\": 0.5,\n",
    "    \"min_child_weight\": 1,\n",
    "    \"subsample\": 0.9,\n",
    "    \"eta\": 0.1,\n",
    "    \"max_depth\": 5,\n",
    "    \"gamma\": 0.0,\n",
    "    \"alpha\": 0.0,\n",
    "    \"lambda\": 1.0,\n",
    "    \"num_round\": 1000,\n",
    "    \"early_stopping_rounds\": 50,\n",
    "    \"verbosity\": 0,\n",
    "}\n",
    "\n",
    "# XGBoost用にフォーマット変換\n",
    "category_dict = {\"b\": 0, \"e\": 1, \"t\": 2, \"m\": 3}\n",
    "y_train = train[\"CATEGORY\"].map(lambda x: category_dict[x])\n",
    "y_valid = valid[\"CATEGORY\"].map(lambda x: category_dict[x])\n",
    "y_test = test[\"CATEGORY\"].map(lambda x: category_dict[x])\n",
    "dtrain = xgb.DMatrix(X_train, label=y_train)\n",
    "dvalid = xgb.DMatrix(X_valid, label=y_valid)\n",
    "dtest = xgb.DMatrix(X_test, label=y_test)\n",
    "\n",
    "# モデルの学習\n",
    "num_round = params.pop(\"num_round\")\n",
    "early_stopping_rounds = params.pop(\"early_stopping_rounds\")\n",
    "watchlist = [(dtrain, \"train\"), (dvalid, \"eval\")]\n",
    "model = xgb.train(\n",
    "    params,\n",
    "    dtrain,\n",
    "    num_round,\n",
    "    evals=watchlist,\n",
    "    early_stopping_rounds=early_stopping_rounds,\n",
    ")"
   ]
  },
  {
   "cell_type": "code",
   "execution_count": 25,
   "metadata": {
    "colab": {
     "base_uri": "https://localhost:8080/"
    },
    "executionInfo": {
     "elapsed": 329,
     "status": "ok",
     "timestamp": 1610698672905,
     "user": {
      "displayName": "yuki kato",
      "photoUrl": "",
      "userId": "08430221927587521076"
     },
     "user_tz": -540
    },
    "id": "jrySXz3XYEkt",
    "outputId": "28db828f-33e7-4769-a03d-b9b986fdb676"
   },
   "outputs": [
    {
     "name": "stderr",
     "output_type": "stream",
     "text": [
      "/tmp/Python/python-3.9.9/lib/python3.9/site-packages/xgboost/core.py:105: UserWarning: ntree_limit is deprecated, use `iteration_range` or model slicing instead.\n",
      "  warnings.warn(\n"
     ]
    },
    {
     "name": "stdout",
     "output_type": "stream",
     "text": [
      "正解率（学習データ）：0.962\n",
      "正解率（検証データ）：0.871\n",
      "正解率（評価データ）：0.876\n"
     ]
    }
   ],
   "source": [
    "# 予測値の取得\n",
    "train_pred = model.predict(dtrain, ntree_limit=model.best_ntree_limit)\n",
    "valid_pred = model.predict(dvalid, ntree_limit=model.best_ntree_limit)\n",
    "test_pred = model.predict(dtest, ntree_limit=model.best_ntree_limit)\n",
    "\n",
    "# 正解率の算出\n",
    "train_accuracy = accuracy_score(y_train, train_pred)\n",
    "valid_accuracy = accuracy_score(y_valid, valid_pred)\n",
    "test_accuracy = accuracy_score(y_test, test_pred)\n",
    "\n",
    "print(f\"正解率（学習データ）：{train_accuracy:.3f}\")\n",
    "print(f\"正解率（検証データ）：{valid_accuracy:.3f}\")\n",
    "print(f\"正解率（評価データ）：{test_accuracy:.3f}\")"
   ]
  }
 ],
 "metadata": {
  "colab": {
   "authorship_tag": "ABX9TyPpVQgzMZkI1biSnx3mIcQV",
   "collapsed_sections": [],
   "name": "言語処理100本ノック_2020_6.ipynb",
   "provenance": []
  },
  "kernelspec": {
   "display_name": "Python 3 (ipykernel)",
   "language": "python",
   "name": "python3"
  },
  "language_info": {
   "codemirror_mode": {
    "name": "ipython",
    "version": 3
   },
   "file_extension": ".py",
   "mimetype": "text/x-python",
   "name": "python",
   "nbconvert_exporter": "python",
   "pygments_lexer": "ipython3",
   "version": "3.9.9"
  }
 },
 "nbformat": 4,
 "nbformat_minor": 4
}
