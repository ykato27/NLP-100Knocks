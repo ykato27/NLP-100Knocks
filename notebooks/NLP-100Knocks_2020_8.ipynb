{
 "cells": [
  {
   "cell_type": "markdown",
   "metadata": {
    "id": "LY5JCq0X54bf"
   },
   "source": [
    "## 第8章: ニューラルネット\n",
    "第6章で取り組んだニュース記事のカテゴリ分類を題材として，ニューラルネットワークでカテゴリ分類モデルを実装する．なお，この章ではPyTorch, TensorFlow, Chainerなどの機械学習プラットフォームを活用せよ．"
   ]
  },
  {
   "cell_type": "markdown",
   "metadata": {
    "id": "rw4Hyaaa59G3"
   },
   "source": [
    "#### 70. 単語ベクトルの和による特徴量\n",
    "\n",
    "問題50で構築した学習データ，検証データ，評価データを行列・ベクトルに変換したい．例えば，学習データについて，すべての事例$x_i$の特徴ベクトル$\\boldsymbol{x}_i$を並べた行列$X$と正解ラベルを並べた行列（ベクトル）$Y$を作成したい．\n",
    "\n",
    "$$X = \\begin{pmatrix} \n",
    "  \\boldsymbol{x}_1 \\\\ \n",
    "  \\boldsymbol{x}_2 \\\\ \n",
    "  \\dots \\\\ \n",
    "  \\boldsymbol{x}_n \\\\ \n",
    "\\end{pmatrix} \\in \\mathbb{R}^{n \\times d},\n",
    "Y = \\begin{pmatrix} \n",
    "  y_1 \\\\ \n",
    "  y_2 \\\\ \n",
    "  \\dots \\\\ \n",
    "  y_n \\\\ \n",
    "\\end{pmatrix} \\in \\mathbb{N}^{n}$$\n",
    "\n",
    "\n",
    "ここで，$n$は学習データの事例数であり，$\\boldsymbol x_i \\in \\mathbb{R}^d$と$y_i \\in \\mathbb N$はそれぞれ，$i \\in \\{1, \\dots, n\\}$番目の事例の特徴量ベクトルと正解ラベルを表す．\n",
    "なお，今回は「ビジネス」「科学技術」「エンターテイメント」「健康」の4カテゴリ分類である．$\\mathbb N_{<4}$で$4$未満の自然数（$0$を含む）を表すことにすれば，任意の事例の正解ラベル$y_i$は$y_i \\in \\mathbb N_{<4}$で表現できる．\n",
    "以降では，ラベルの種類数を$L$で表す（今回の分類タスクでは$L=4$である）．\n",
    "\n",
    "$i$番目の事例の特徴ベクトル$\\boldsymbol x_i$は，次式で求める．\n",
    "\n",
    "$$\\boldsymbol x_i = \\frac{1}{T_i} \\sum_{t=1}^{T_i} \\mathrm{emb}(w_{i,t})$$\n",
    "\n",
    "ここで，$i$番目の事例は$T_i$個の（記事見出しの）単語列$(w_{i,1}, w_{i,2}, \\dots, w_{i,T_i})$から構成され，$\\mathrm{emb}(w) \\in \\mathbb{R}^d$は単語$w$に対応する単語ベクトル（次元数は$d$）である．すなわち，$i$番目の事例の記事見出しを，その見出しに含まれる単語のベクトルの平均で表現したものが$\\boldsymbol x_i$である．今回は単語ベクトルとして，問題60でダウンロードしたものを用いればよい．$300$次元の単語ベクトルを用いたので，$d=300$である．\n",
    "$i$番目の事例のラベル$y_i$は，次のように定義する．\n",
    "\n",
    "\n",
    "$$y_i = \\begin{cases}\n",
    "0 & (\\mbox{記事}\\boldsymbol x_i\\mbox{が「ビジネス」カテゴリの場合}) \\\\\n",
    "1 & (\\mbox{記事}\\boldsymbol x_i\\mbox{が「科学技術」カテゴリの場合}) \\\\\n",
    "2 & (\\mbox{記事}\\boldsymbol x_i\\mbox{が「エンターテイメント」カテゴリの場合}) \\\\\n",
    "3 & (\\mbox{記事}\\boldsymbol x_i\\mbox{が「健康」カテゴリの場合}) \\\\\n",
    "\\end{cases}$$\n",
    "\n",
    "なお，カテゴリ名とラベルの番号が一対一で対応付いていれば，上式の通りの対応付けでなくてもよい．\n",
    "\n",
    "以上の仕様に基づき，以下の行列・ベクトルを作成し，ファイルに保存せよ．\n",
    "\n",
    "+ 学習データの特徴量行列: $X_{\\rm train} \\in \\mathbb{R}^{N_t \\times d}$\n",
    "+ 学習データのラベルベクトル: $Y_{\\rm train} \\in \\mathbb{N}^{N_t}$\n",
    "+ 検証データの特徴量行列: $X_{\\rm valid} \\in \\mathbb{R}^{N_v \\times d}$\n",
    "+ 検証データのラベルベクトル: $Y_{\\rm valid} \\in \\mathbb{N}^{N_v}$\n",
    "+ 評価データの特徴量行列: $X_{\\rm test} \\in \\mathbb{R}^{N_e \\times d}$\n",
    "+ 評価データのラベルベクトル: $Y_{\\rm test} \\in \\mathbb{N}^{N_e}$\n",
    "\n",
    "なお，$N_t, N_v, N_e$はそれぞれ，学習データの事例数，検証データの事例数，評価データの事例数である．"
   ]
  },
  {
   "cell_type": "markdown",
   "metadata": {
    "id": "May6W4u97k-X"
   },
   "source": [
    "まずは、指定のデータをダウンロード後、データフレームとして読込みます。そして、学習データ、検証データ、評価データに分割し、保存します。\n",
    "ここまでは、第6章の問題50とまったく同じ処理のため、そちらで作成したデータを読み込んでも問題ありません。"
   ]
  },
  {
   "cell_type": "code",
   "execution_count": 1,
   "metadata": {},
   "outputs": [],
   "source": [
    "%load_ext lab_black"
   ]
  },
  {
   "cell_type": "code",
   "execution_count": 2,
   "metadata": {
    "colab": {
     "base_uri": "https://localhost:8080/"
    },
    "executionInfo": {
     "elapsed": 60871,
     "status": "ok",
     "timestamp": 1610699088701,
     "user": {
      "displayName": "yuki kato",
      "photoUrl": "",
      "userId": "08430221927587521076"
     },
     "user_tz": -540
    },
    "id": "7bcQ5VDF50AZ",
    "outputId": "6f499088-608f-4bd9-f15b-d103d6ce3af8"
   },
   "outputs": [
    {
     "name": "stdout",
     "output_type": "stream",
     "text": [
      "--2021-12-12 05:59:57--  https://archive.ics.uci.edu/ml/machine-learning-databases/00359/NewsAggregatorDataset.zip\n",
      "Resolving archive.ics.uci.edu (archive.ics.uci.edu)... 128.195.10.252\n",
      "Connecting to archive.ics.uci.edu (archive.ics.uci.edu)|128.195.10.252|:443... connected.\n",
      "HTTP request sent, awaiting response... 200 OK\n",
      "Length: 29224203 (28M) [application/x-httpd-php]\n",
      "Saving to: ‘NewsAggregatorDataset.zip’\n",
      "\n",
      "NewsAggregatorDatas 100%[===================>]  27.87M  1.52MB/s    in 20s     \n",
      "\n",
      "2021-12-12 06:00:19 (1.37 MB/s) - ‘NewsAggregatorDataset.zip’ saved [29224203/29224203]\n",
      "\n",
      "Archive:  NewsAggregatorDataset.zip\n",
      "  inflating: 2pageSessions.csv       \n",
      "   creating: __MACOSX/\n",
      "  inflating: __MACOSX/._2pageSessions.csv  \n",
      "  inflating: newsCorpora.csv         \n",
      "  inflating: __MACOSX/._newsCorpora.csv  \n",
      "  inflating: readme.txt              \n",
      "  inflating: __MACOSX/._readme.txt   \n"
     ]
    }
   ],
   "source": [
    "# データのダウンロード\n",
    "!wget https://archive.ics.uci.edu/ml/machine-learning-databases/00359/NewsAggregatorDataset.zip\n",
    "!unzip NewsAggregatorDataset.zip"
   ]
  },
  {
   "cell_type": "code",
   "execution_count": 3,
   "metadata": {
    "executionInfo": {
     "elapsed": 1662,
     "status": "ok",
     "timestamp": 1610701730647,
     "user": {
      "displayName": "yuki kato",
      "photoUrl": "",
      "userId": "08430221927587521076"
     },
     "user_tz": -540
    },
    "id": "tw7i4-4u7mZg"
   },
   "outputs": [],
   "source": [
    "# 読込時のエラー回避のためダブルクォーテーションをシングルクォーテーションに置換\n",
    "!sed -e 's/\"/'\\''/g' ./newsCorpora.csv > ./newsCorpora_re.csv"
   ]
  },
  {
   "cell_type": "code",
   "execution_count": 4,
   "metadata": {
    "colab": {
     "base_uri": "https://localhost:8080/"
    },
    "executionInfo": {
     "elapsed": 2977,
     "status": "ok",
     "timestamp": 1610701735401,
     "user": {
      "displayName": "yuki kato",
      "photoUrl": "",
      "userId": "08430221927587521076"
     },
     "user_tz": -540
    },
    "id": "WktK792j7nUp",
    "outputId": "338d4bdb-37c4-44d5-8b14-4a8e0c3e76c1"
   },
   "outputs": [
    {
     "name": "stdout",
     "output_type": "stream",
     "text": [
      "【学習データ】\n",
      "b    4501\n",
      "e    4235\n",
      "t    1220\n",
      "m     728\n",
      "Name: CATEGORY, dtype: int64\n",
      "【検証データ】\n",
      "b    563\n",
      "e    529\n",
      "t    153\n",
      "m     91\n",
      "Name: CATEGORY, dtype: int64\n",
      "【評価データ】\n",
      "b    563\n",
      "e    530\n",
      "t    152\n",
      "m     91\n",
      "Name: CATEGORY, dtype: int64\n"
     ]
    }
   ],
   "source": [
    "import pandas as pd\n",
    "from sklearn.model_selection import train_test_split\n",
    "\n",
    "# データの読込\n",
    "df = pd.read_csv(\n",
    "    \"./newsCorpora_re.csv\",\n",
    "    header=None,\n",
    "    sep=\"\\t\",\n",
    "    names=[\n",
    "        \"ID\",\n",
    "        \"TITLE\",\n",
    "        \"URL\",\n",
    "        \"PUBLISHER\",\n",
    "        \"CATEGORY\",\n",
    "        \"STORY\",\n",
    "        \"HOSTNAME\",\n",
    "        \"TIMESTAMP\",\n",
    "    ],\n",
    ")\n",
    "\n",
    "# データの抽出\n",
    "df = df.loc[\n",
    "    df[\"PUBLISHER\"].isin(\n",
    "        [\"Reuters\", \"Huffington Post\", \"Businessweek\", \"Contactmusic.com\", \"Daily Mail\"]\n",
    "    ),\n",
    "    [\"TITLE\", \"CATEGORY\"],\n",
    "]\n",
    "\n",
    "# データの分割\n",
    "train, valid_test = train_test_split(\n",
    "    df, test_size=0.2, shuffle=True, random_state=123, stratify=df[\"CATEGORY\"]\n",
    ")\n",
    "valid, test = train_test_split(\n",
    "    valid_test,\n",
    "    test_size=0.5,\n",
    "    shuffle=True,\n",
    "    random_state=123,\n",
    "    stratify=valid_test[\"CATEGORY\"],\n",
    ")\n",
    "\n",
    "# 事例数の確認\n",
    "print(\"【学習データ】\")\n",
    "print(train[\"CATEGORY\"].value_counts())\n",
    "print(\"【検証データ】\")\n",
    "print(valid[\"CATEGORY\"].value_counts())\n",
    "print(\"【評価データ】\")\n",
    "print(test[\"CATEGORY\"].value_counts())"
   ]
  },
  {
   "cell_type": "code",
   "execution_count": 5,
   "metadata": {
    "colab": {
     "base_uri": "https://localhost:8080/"
    },
    "executionInfo": {
     "elapsed": 13131,
     "status": "ok",
     "timestamp": 1610701750564,
     "user": {
      "displayName": "yuki kato",
      "photoUrl": "",
      "userId": "08430221927587521076"
     },
     "user_tz": -540
    },
    "id": "T2lpINw3JJ8K",
    "outputId": "5c9a3c22-2a5d-43ee-9df5-b3dcfbfa9876"
   },
   "outputs": [],
   "source": [
    "# FILE_ID = \"0B7XkCwpI5KDYNlNUTTlSS21pQmM\"\n",
    "# FILE_NAME = \"GoogleNews-vectors-negative300.bin.gz\"\n",
    "# !wget --load-cookies /tmp/cookies.txt \"https://docs.google.com/uc?export=download&confirm=$(wget --quiet --save-cookies /tmp/cookies.txt --keep-session-cookies --no-check-certificate 'https://docs.google.com/uc?export=download&id=$FILE_ID' -O- | sed -rn 's/.*confirm=([0-9A-Za-z_]+).*/\\1\\n/p')&id=$FILE_ID\" -O $FILE_NAME && rm -rf /tmp/cookies.txt\n",
    "\n",
    "# 下記からダウンロードできます。\n",
    "# https://s3.amazonaws.com/dl4j-distribution/GoogleNews-vectors-negative300.bin.gz"
   ]
  },
  {
   "cell_type": "code",
   "execution_count": 6,
   "metadata": {
    "executionInfo": {
     "elapsed": 114520,
     "status": "ok",
     "timestamp": 1610701865871,
     "user": {
      "displayName": "yuki kato",
      "photoUrl": "",
      "userId": "08430221927587521076"
     },
     "user_tz": -540
    },
    "id": "5XjufXZc7r-w"
   },
   "outputs": [],
   "source": [
    "from gensim.models import KeyedVectors\n",
    "\n",
    "model = KeyedVectors.load_word2vec_format(\n",
    "    \"./GoogleNews-vectors-negative300.bin.gz\", binary=True\n",
    ")"
   ]
  },
  {
   "cell_type": "code",
   "execution_count": 7,
   "metadata": {
    "executionInfo": {
     "elapsed": 1252,
     "status": "ok",
     "timestamp": 1610701875557,
     "user": {
      "displayName": "yuki kato",
      "photoUrl": "",
      "userId": "08430221927587521076"
     },
     "user_tz": -540
    },
    "id": "9Gc2TJL9_Ft6"
   },
   "outputs": [],
   "source": [
    "import string\n",
    "\n",
    "import torch\n",
    "\n",
    "\n",
    "def transform_w2v(text):\n",
    "    table = str.maketrans(string.punctuation, \" \" * len(string.punctuation))\n",
    "    words = text.translate(table).split()  # 記号をスペースに置換後、スペースで分割してリスト化\n",
    "    vec = [model[word] for word in words if word in model]  # 1語ずつベクトル化\n",
    "\n",
    "    return torch.tensor(sum(vec) / len(vec))  # 平均ベクトルをTensor型に変換して出力"
   ]
  },
  {
   "cell_type": "code",
   "execution_count": 8,
   "metadata": {
    "colab": {
     "base_uri": "https://localhost:8080/"
    },
    "executionInfo": {
     "elapsed": 1470,
     "status": "ok",
     "timestamp": 1610701877661,
     "user": {
      "displayName": "yuki kato",
      "photoUrl": "",
      "userId": "08430221927587521076"
     },
     "user_tz": -540
    },
    "id": "RDLpqhS-JYJq",
    "outputId": "615b524d-83d5-4857-a6c9-f575a2ce80d3"
   },
   "outputs": [
    {
     "name": "stdout",
     "output_type": "stream",
     "text": [
      "torch.Size([10684, 300])\n",
      "tensor([[ 0.0837,  0.0056,  0.0068,  ...,  0.0751,  0.0433, -0.0868],\n",
      "        [ 0.0272,  0.0266, -0.0947,  ..., -0.1046, -0.0489, -0.0092],\n",
      "        [ 0.0577, -0.0159, -0.0780,  ..., -0.0421,  0.1229,  0.0876],\n",
      "        ...,\n",
      "        [ 0.0392, -0.0052,  0.0686,  ..., -0.0175,  0.0061, -0.0224],\n",
      "        [ 0.0798,  0.1017,  0.1066,  ..., -0.0752,  0.0623,  0.1138],\n",
      "        [ 0.1664,  0.0451,  0.0508,  ..., -0.0531, -0.0183, -0.0039]])\n"
     ]
    }
   ],
   "source": [
    "# 特徴ベクトルの作成\n",
    "X_train = torch.stack([transform_w2v(text) for text in train[\"TITLE\"]])\n",
    "X_valid = torch.stack([transform_w2v(text) for text in valid[\"TITLE\"]])\n",
    "X_test = torch.stack([transform_w2v(text) for text in test[\"TITLE\"]])\n",
    "\n",
    "print(X_train.size())\n",
    "print(X_train)"
   ]
  },
  {
   "cell_type": "code",
   "execution_count": 9,
   "metadata": {
    "colab": {
     "base_uri": "https://localhost:8080/"
    },
    "executionInfo": {
     "elapsed": 417,
     "status": "ok",
     "timestamp": 1610701878361,
     "user": {
      "displayName": "yuki kato",
      "photoUrl": "",
      "userId": "08430221927587521076"
     },
     "user_tz": -540
    },
    "id": "1NJk_KP8JhrS",
    "outputId": "f9954752-7e4d-403c-f310-6b78f8a26e84"
   },
   "outputs": [
    {
     "name": "stdout",
     "output_type": "stream",
     "text": [
      "torch.Size([10684])\n",
      "tensor([0, 1, 3,  ..., 0, 3, 2])\n"
     ]
    }
   ],
   "source": [
    "# ラベルベクトルの作成\n",
    "category_dict = {\"b\": 0, \"t\": 1, \"e\": 2, \"m\": 3}\n",
    "y_train = torch.tensor(train[\"CATEGORY\"].map(lambda x: category_dict[x]).values)\n",
    "y_valid = torch.tensor(valid[\"CATEGORY\"].map(lambda x: category_dict[x]).values)\n",
    "y_test = torch.tensor(test[\"CATEGORY\"].map(lambda x: category_dict[x]).values)\n",
    "\n",
    "print(y_train.size())\n",
    "print(y_train)"
   ]
  },
  {
   "cell_type": "code",
   "execution_count": 10,
   "metadata": {
    "executionInfo": {
     "elapsed": 611,
     "status": "ok",
     "timestamp": 1610701880443,
     "user": {
      "displayName": "yuki kato",
      "photoUrl": "",
      "userId": "08430221927587521076"
     },
     "user_tz": -540
    },
    "id": "B6lL5whCJ9GU"
   },
   "outputs": [],
   "source": [
    "torch.save(X_train, \"X_train.pt\")\n",
    "torch.save(X_valid, \"X_valid.pt\")\n",
    "torch.save(X_test, \"X_test.pt\")\n",
    "torch.save(y_train, \"y_train.pt\")\n",
    "torch.save(y_valid, \"y_valid.pt\")\n",
    "torch.save(y_test, \"y_test.pt\")"
   ]
  },
  {
   "cell_type": "markdown",
   "metadata": {
    "id": "gv6TPuprJ_Ke"
   },
   "source": [
    "#### 71. 単層ニューラルネットワークによる予測\n",
    "問題70で保存した行列を読み込み，学習データについて以下の計算を実行せよ．\n",
    "\n",
    "$$\\hat{y}_1=softmax(x_1W),\\\\\\hat{Y}=softmax(X_{[1:4]}W)$$\n",
    "\n",
    "ただし，$softmax$はソフトマックス関数，$X_{[1:4]}∈\\mathbb{R}^{4×d}$は特徴ベクトル$x_1$,$x_2$,$x_3$,$x_4$を縦に並べた行列である．\n",
    "\n",
    "$$X_{[1:4]}=\\begin{pmatrix}x_1\\\\x_2\\\\x_3\\\\x_4\\end{pmatrix}$$\n",
    "\n",
    "行列$W \\in \\mathbb{R}^{d \\times L}$は単層ニューラルネットワークの重み行列で，ここではランダムな値で初期化すればよい（問題73以降で学習して求める）．なお，$\\hat{\\boldsymbol y_1} \\in \\mathbb{R}^L$は未学習の行列$W$で事例$x_1$を分類したときに，各カテゴリに属する確率を表すベクトルである．\n",
    "同様に，$\\hat{Y} \\in \\mathbb{R}^{n \\times L}$は，学習データの事例$x_1, x_2, x_3, x_4$について，各カテゴリに属する確率を行列として表現している．\n",
    "\n",
    "はじめに、```SLPNet```という単層ニューラルネットワークを定義します。```__init__```でネットワークを構成するレイヤーを定義し、```forward```メソッドでインプットデータが順伝播時に通るレイヤーを順に配置していきます。"
   ]
  },
  {
   "cell_type": "code",
   "execution_count": 11,
   "metadata": {
    "executionInfo": {
     "elapsed": 667,
     "status": "ok",
     "timestamp": 1610701882583,
     "user": {
      "displayName": "yuki kato",
      "photoUrl": "",
      "userId": "08430221927587521076"
     },
     "user_tz": -540
    },
    "id": "kRMB61FIJ-hT"
   },
   "outputs": [],
   "source": [
    "from torch import nn\n",
    "\n",
    "\n",
    "class SLPNet(nn.Module):\n",
    "    def __init__(self, input_size, output_size):\n",
    "        super().__init__()\n",
    "        self.fc = nn.Linear(input_size, output_size, bias=False)\n",
    "        nn.init.normal_(self.fc.weight, 0.0, 1.0)  # 正規乱数で重みを初期化\n",
    "\n",
    "    def forward(self, x):\n",
    "        x = self.fc(x)\n",
    "        return x"
   ]
  },
  {
   "cell_type": "markdown",
   "metadata": {
    "id": "p1PD9v5ZKa5j"
   },
   "source": [
    "続いて、定義したモデルを初期化し、指示された計算を実行します。"
   ]
  },
  {
   "cell_type": "code",
   "execution_count": 12,
   "metadata": {
    "colab": {
     "base_uri": "https://localhost:8080/"
    },
    "executionInfo": {
     "elapsed": 1943,
     "status": "ok",
     "timestamp": 1610701885860,
     "user": {
      "displayName": "yuki kato",
      "photoUrl": "",
      "userId": "08430221927587521076"
     },
     "user_tz": -540
    },
    "id": "smOhzj1WKS5b",
    "outputId": "bfe87bde-748a-4072-84c8-f4e83be364db"
   },
   "outputs": [
    {
     "name": "stdout",
     "output_type": "stream",
     "text": [
      "tensor([[0.0320, 0.2090, 0.2531, 0.5059]], grad_fn=<SoftmaxBackward0>)\n"
     ]
    }
   ],
   "source": [
    "model = SLPNet(300, 4)  # 単層ニューラルネットワークの初期化\n",
    "y_hat_1 = torch.softmax(model(X_train[:1]), dim=-1)\n",
    "print(y_hat_1)"
   ]
  },
  {
   "cell_type": "code",
   "execution_count": 13,
   "metadata": {
    "colab": {
     "base_uri": "https://localhost:8080/"
    },
    "executionInfo": {
     "elapsed": 680,
     "status": "ok",
     "timestamp": 1610701887188,
     "user": {
      "displayName": "yuki kato",
      "photoUrl": "",
      "userId": "08430221927587521076"
     },
     "user_tz": -540
    },
    "id": "MTFu6_J5KcYe",
    "outputId": "5ed8d5b0-700c-4e33-94c0-c66fb445a6e7"
   },
   "outputs": [
    {
     "name": "stdout",
     "output_type": "stream",
     "text": [
      "tensor([[0.0320, 0.2090, 0.2531, 0.5059],\n",
      "        [0.0370, 0.9067, 0.0011, 0.0552],\n",
      "        [0.4617, 0.4793, 0.0103, 0.0487],\n",
      "        [0.1116, 0.3532, 0.0200, 0.5152]], grad_fn=<SoftmaxBackward0>)\n"
     ]
    }
   ],
   "source": [
    "Y_hat = torch.softmax(model.forward(X_train[:4]), dim=-1)\n",
    "print(Y_hat)"
   ]
  },
  {
   "cell_type": "markdown",
   "metadata": {
    "id": "yj_86KLsKgBG"
   },
   "source": [
    "#### 72. 損失と勾配の計算\n",
    "学習データの事例$x_1$と事例集合$x_1$,$x_2$,$x_3$,$x_4$に対して，クロスエントロピー損失と，行列$W$に対する勾配を計算せよ．なお，ある事例$x_i$に対して損失は次式で計算される．\n",
    "\n",
    "$$l_i=−log[事例x_iがy_iに分類される確率]$$\n",
    "\n",
    "ただし，事例集合に対するクロスエントロピー損失は，その集合に含まれる各事例の損失の平均とする．\n",
    "\n",
    "ここでは、```nn```パッケージの```CrossEntropyLoss```を利用します。\n",
    "モデルの出力ベクトルとラベルベクトルを入力することで、上式の平均損失を計算することができます。"
   ]
  },
  {
   "cell_type": "code",
   "execution_count": 14,
   "metadata": {
    "executionInfo": {
     "elapsed": 455,
     "status": "ok",
     "timestamp": 1610701888977,
     "user": {
      "displayName": "yuki kato",
      "photoUrl": "",
      "userId": "08430221927587521076"
     },
     "user_tz": -540
    },
    "id": "8Y00J0GAKeRB"
   },
   "outputs": [],
   "source": [
    "criterion = nn.CrossEntropyLoss()"
   ]
  },
  {
   "cell_type": "code",
   "execution_count": 15,
   "metadata": {
    "colab": {
     "base_uri": "https://localhost:8080/"
    },
    "executionInfo": {
     "elapsed": 770,
     "status": "ok",
     "timestamp": 1610701890678,
     "user": {
      "displayName": "yuki kato",
      "photoUrl": "",
      "userId": "08430221927587521076"
     },
     "user_tz": -540
    },
    "id": "bmARKR71Kol-",
    "outputId": "e2ad49c4-0de1-44d3-c019-0ee298a5cf10"
   },
   "outputs": [
    {
     "name": "stdout",
     "output_type": "stream",
     "text": [
      "損失: 3.4406\n",
      "勾配:\n",
      "tensor([[-0.0810, -0.0055, -0.0066,  ..., -0.0727, -0.0419,  0.0840],\n",
      "        [ 0.0175,  0.0012,  0.0014,  ...,  0.0157,  0.0091, -0.0181],\n",
      "        [ 0.0212,  0.0014,  0.0017,  ...,  0.0190,  0.0110, -0.0220],\n",
      "        [ 0.0423,  0.0029,  0.0034,  ...,  0.0380,  0.0219, -0.0439]])\n"
     ]
    }
   ],
   "source": [
    "l_1 = criterion(model(X_train[:1]), y_train[:1])  # 入力ベクトルはsoftmax前の値\n",
    "model.zero_grad()  # 勾配をゼロで初期化\n",
    "l_1.backward()  # 勾配を計算\n",
    "print(f\"損失: {l_1:.4f}\")\n",
    "print(f\"勾配:\\n{model.fc.weight.grad}\")"
   ]
  },
  {
   "cell_type": "code",
   "execution_count": 16,
   "metadata": {
    "colab": {
     "base_uri": "https://localhost:8080/"
    },
    "executionInfo": {
     "elapsed": 580,
     "status": "ok",
     "timestamp": 1610701891932,
     "user": {
      "displayName": "yuki kato",
      "photoUrl": "",
      "userId": "08430221927587521076"
     },
     "user_tz": -540
    },
    "id": "d5wSmZwCKpwo",
    "outputId": "c4c159b9-ab9a-4958-89ef-34ff01d2edf3"
   },
   "outputs": [
    {
     "name": "stdout",
     "output_type": "stream",
     "text": [
      "損失: 2.6182\n",
      "勾配:\n",
      "tensor([[-0.0149, -0.0016, -0.0098,  ..., -0.0244,  0.0043,  0.0305],\n",
      "        [ 0.0057,  0.0022, -0.0013,  ...,  0.0001,  0.0216,  0.0044],\n",
      "        [ 0.0191, -0.0118, -0.0150,  ...,  0.0080, -0.0065, -0.0002],\n",
      "        [-0.0099,  0.0112,  0.0261,  ...,  0.0163, -0.0194, -0.0346]])\n"
     ]
    }
   ],
   "source": [
    "l = criterion(model(X_train[:4]), y_train[:4])\n",
    "model.zero_grad()\n",
    "l.backward()\n",
    "print(f\"損失: {l:.4f}\")\n",
    "print(f\"勾配:\\n{model.fc.weight.grad}\")"
   ]
  },
  {
   "cell_type": "markdown",
   "metadata": {
    "id": "mAiizZxhKtH3"
   },
   "source": [
    "#### 73. 確率的勾配降下法による学習\n",
    "確率的勾配降下法（SGD: Stochastic Gradient Descent）を用いて，行列WWを学習せよ．なお，学習は適当な基準で終了させればよい（例えば「100エポックで終了」など）．"
   ]
  },
  {
   "cell_type": "markdown",
   "metadata": {
    "id": "bVUELFgbKv4I"
   },
   "source": [
    "学習に当たり、DatasetとDataloaderを準備します。\n",
    "Datasetは特徴ベクトルとラベルベクトルを合わせて保持することができる型で、以下のクラスを用いてもとのTensorを変換します。"
   ]
  },
  {
   "cell_type": "code",
   "execution_count": 17,
   "metadata": {
    "executionInfo": {
     "elapsed": 633,
     "status": "ok",
     "timestamp": 1610701894251,
     "user": {
      "displayName": "yuki kato",
      "photoUrl": "",
      "userId": "08430221927587521076"
     },
     "user_tz": -540
    },
    "id": "XROcO8m5KrwG"
   },
   "outputs": [],
   "source": [
    "from torch.utils.data import Dataset\n",
    "\n",
    "\n",
    "class CreateDataset(Dataset):\n",
    "    def __init__(self, X, y):  # datasetの構成要素を指定\n",
    "        self.X = X\n",
    "        self.y = y\n",
    "\n",
    "    def __len__(self):  # len(dataset)で返す値を指定\n",
    "        return len(self.y)\n",
    "\n",
    "    def __getitem__(self, idx):  # dataset[idx]で返す値を指定\n",
    "        return [self.X[idx], self.y[idx]]"
   ]
  },
  {
   "cell_type": "markdown",
   "metadata": {
    "id": "bKkG8j98Ky7H"
   },
   "source": [
    "変換後、DataLoaderを作成します。DataloaderはDatasetを入力とし、指定したサイズ(batch_size)にまとめたデータを順に取り出すことができます。ここではbatch_size=1としているので、1つずつデータを取り出すDataloaderを作成することを意味します。\n",
    "なお、Dataloaderはfor文で順に取り出すか、またはnext(iter(Dataloader))で次のかたまりを呼び出すことが可能です。"
   ]
  },
  {
   "cell_type": "code",
   "execution_count": 18,
   "metadata": {
    "executionInfo": {
     "elapsed": 765,
     "status": "ok",
     "timestamp": 1610701910996,
     "user": {
      "displayName": "yuki kato",
      "photoUrl": "",
      "userId": "08430221927587521076"
     },
     "user_tz": -540
    },
    "id": "AHYN55x3Kyme"
   },
   "outputs": [],
   "source": [
    "from torch.utils.data import DataLoader\n",
    "\n",
    "# Datasetの作成\n",
    "dataset_train = CreateDataset(X_train, y_train)\n",
    "dataset_valid = CreateDataset(X_valid, y_valid)\n",
    "dataset_test = CreateDataset(X_test, y_test)\n",
    "\n",
    "# Dataloaderの作成\n",
    "dataloader_train = DataLoader(dataset_train, batch_size=1, shuffle=True)\n",
    "dataloader_valid = DataLoader(\n",
    "    dataset_valid, batch_size=len(dataset_valid), shuffle=False\n",
    ")\n",
    "dataloader_test = DataLoader(dataset_test, batch_size=len(dataset_test), shuffle=False)"
   ]
  },
  {
   "cell_type": "markdown",
   "metadata": {
    "id": "PDdxj5cFLCw0"
   },
   "source": [
    "データの準備ができたので、行列WWを学習します。\n",
    "モデルの定義、損失関数の定義は前問と同様です。今回は計算した勾配から重みも更新するため、オプティマイザも定義します。ここでは指示に従いSGDをセットしています。\n",
    "部品が揃ったところで、エポック数を10として学習を実行します。"
   ]
  },
  {
   "cell_type": "code",
   "execution_count": 19,
   "metadata": {
    "colab": {
     "base_uri": "https://localhost:8080/"
    },
    "executionInfo": {
     "elapsed": 34346,
     "status": "ok",
     "timestamp": 1610701947622,
     "user": {
      "displayName": "yuki kato",
      "photoUrl": "",
      "userId": "08430221927587521076"
     },
     "user_tz": -540
    },
    "id": "5A6DioDYK18P",
    "outputId": "afd0b325-8817-45d2-9912-03afc1a72da9"
   },
   "outputs": [
    {
     "name": "stdout",
     "output_type": "stream",
     "text": [
      "epoch: 1, loss_train: 0.4830, loss_valid: 0.3497\n",
      "epoch: 2, loss_train: 0.3143, loss_valid: 0.3119\n",
      "epoch: 3, loss_train: 0.2846, loss_valid: 0.3078\n",
      "epoch: 4, loss_train: 0.2687, loss_valid: 0.2986\n",
      "epoch: 5, loss_train: 0.2574, loss_valid: 0.3056\n",
      "epoch: 6, loss_train: 0.2509, loss_valid: 0.2968\n",
      "epoch: 7, loss_train: 0.2450, loss_valid: 0.2972\n",
      "epoch: 8, loss_train: 0.2399, loss_valid: 0.3004\n",
      "epoch: 9, loss_train: 0.2369, loss_valid: 0.2985\n",
      "epoch: 10, loss_train: 0.2337, loss_valid: 0.2988\n"
     ]
    }
   ],
   "source": [
    "# モデルの定義\n",
    "model = SLPNet(300, 4)\n",
    "\n",
    "# 損失関数の定義\n",
    "criterion = nn.CrossEntropyLoss()\n",
    "\n",
    "# オプティマイザの定義\n",
    "optimizer = torch.optim.SGD(model.parameters(), lr=1e-1)\n",
    "\n",
    "# 学習\n",
    "num_epochs = 10\n",
    "for epoch in range(num_epochs):\n",
    "    # 訓練モードに設定\n",
    "    model.train()\n",
    "    loss_train = 0.0\n",
    "    for i, (inputs, labels) in enumerate(dataloader_train):\n",
    "        # 勾配をゼロで初期化\n",
    "        optimizer.zero_grad()\n",
    "\n",
    "        # 順伝播 + 誤差逆伝播 + 重み更新\n",
    "        outputs = model(inputs)\n",
    "        loss = criterion(outputs, labels)\n",
    "        loss.backward()\n",
    "        optimizer.step()\n",
    "\n",
    "        # 損失を記録\n",
    "        loss_train += loss.item()\n",
    "\n",
    "    # バッチ単位の平均損失計算\n",
    "    loss_train = loss_train / i\n",
    "\n",
    "    # 検証データの損失計算\n",
    "    model.eval()\n",
    "    with torch.no_grad():\n",
    "        inputs, labels = next(iter(dataloader_valid))\n",
    "        outputs = model(inputs)\n",
    "        loss_valid = criterion(outputs, labels)\n",
    "\n",
    "    # ログを出力\n",
    "    print(\n",
    "        f\"epoch: {epoch + 1}, loss_train: {loss_train:.4f}, loss_valid: {loss_valid:.4f}\"\n",
    "    )"
   ]
  },
  {
   "cell_type": "markdown",
   "metadata": {
    "id": "OK9qbI6iLIVc"
   },
   "source": [
    "#### 74. 正解率の計測\n",
    "問題73で求めた行列を用いて学習データおよび評価データの事例を分類したとき，その正解率をそれぞれ求めよ．"
   ]
  },
  {
   "cell_type": "markdown",
   "metadata": {
    "id": "Rz7G0RWULL8R"
   },
   "source": [
    "学習したモデルとDataloaderを入力として、正解率を算出する関数を定義します。"
   ]
  },
  {
   "cell_type": "code",
   "execution_count": 20,
   "metadata": {
    "executionInfo": {
     "elapsed": 595,
     "status": "ok",
     "timestamp": 1610701956417,
     "user": {
      "displayName": "yuki kato",
      "photoUrl": "",
      "userId": "08430221927587521076"
     },
     "user_tz": -540
    },
    "id": "2bHwSwosLLar"
   },
   "outputs": [],
   "source": [
    "def calculate_accuracy(model, loader):\n",
    "    model.eval()\n",
    "    total = 0\n",
    "    correct = 0\n",
    "    with torch.no_grad():\n",
    "        for inputs, labels in loader:\n",
    "            outputs = model(inputs)\n",
    "            pred = torch.argmax(outputs, dim=-1)\n",
    "            total += len(inputs)\n",
    "            correct += (pred == labels).sum().item()\n",
    "\n",
    "    return correct / total"
   ]
  },
  {
   "cell_type": "code",
   "execution_count": 21,
   "metadata": {
    "colab": {
     "base_uri": "https://localhost:8080/"
    },
    "executionInfo": {
     "elapsed": 1907,
     "status": "ok",
     "timestamp": 1610701958937,
     "user": {
      "displayName": "yuki kato",
      "photoUrl": "",
      "userId": "08430221927587521076"
     },
     "user_tz": -540
    },
    "id": "kwgn47S7LFPP",
    "outputId": "95ffda36-823e-475a-c7c7-d2215f218a1b"
   },
   "outputs": [
    {
     "name": "stdout",
     "output_type": "stream",
     "text": [
      "正解率（学習データ）：0.925\n",
      "正解率（評価データ）：0.903\n"
     ]
    }
   ],
   "source": [
    "acc_train = calculate_accuracy(model, dataloader_train)\n",
    "acc_test = calculate_accuracy(model, dataloader_test)\n",
    "print(f\"正解率（学習データ）：{acc_train:.3f}\")\n",
    "print(f\"正解率（評価データ）：{acc_test:.3f}\")"
   ]
  },
  {
   "cell_type": "markdown",
   "metadata": {
    "id": "s8jUu8sJLRfC"
   },
   "source": [
    "#### 75. 損失と正解率のプロット\n",
    "問題73のコードを改変し，各エポックのパラメータ更新が完了するたびに，訓練データでの損失，正解率，検証データでの損失，正解率をグラフにプロットし，学習の進捗状況を確認できるようにせよ．"
   ]
  },
  {
   "cell_type": "markdown",
   "metadata": {
    "id": "XNdu5mhGLT4B"
   },
   "source": [
    "前問の関数を損失も計算できるように改変し、エポック毎に適用することで損失と正解率を記録します。"
   ]
  },
  {
   "cell_type": "code",
   "execution_count": 22,
   "metadata": {
    "executionInfo": {
     "elapsed": 642,
     "status": "ok",
     "timestamp": 1610701960614,
     "user": {
      "displayName": "yuki kato",
      "photoUrl": "",
      "userId": "08430221927587521076"
     },
     "user_tz": -540
    },
    "id": "LZekNxR5LP1H"
   },
   "outputs": [],
   "source": [
    "def calculate_loss_and_accuracy(model, criterion, loader):\n",
    "    model.eval()\n",
    "    loss = 0.0\n",
    "    total = 0\n",
    "    correct = 0\n",
    "    with torch.no_grad():\n",
    "        for inputs, labels in loader:\n",
    "            outputs = model(inputs)\n",
    "            loss += criterion(outputs, labels).item()\n",
    "            pred = torch.argmax(outputs, dim=-1)\n",
    "            total += len(inputs)\n",
    "            correct += (pred == labels).sum().item()\n",
    "\n",
    "    return loss / len(loader), correct / total"
   ]
  },
  {
   "cell_type": "code",
   "execution_count": 23,
   "metadata": {
    "colab": {
     "base_uri": "https://localhost:8080/"
    },
    "executionInfo": {
     "elapsed": 148710,
     "status": "ok",
     "timestamp": 1610702109849,
     "user": {
      "displayName": "yuki kato",
      "photoUrl": "",
      "userId": "08430221927587521076"
     },
     "user_tz": -540
    },
    "id": "XFjfljDNLYav",
    "outputId": "0c343a43-a781-43c6-c112-0f78b38aa900"
   },
   "outputs": [
    {
     "name": "stdout",
     "output_type": "stream",
     "text": [
      "epoch: 1, loss_train: 0.3268, accuracy_train: 0.8854, loss_valid: 0.3510, accuracy_valid: 0.8810\n",
      "epoch: 2, loss_train: 0.2832, accuracy_train: 0.9016, loss_valid: 0.3206, accuracy_valid: 0.8915\n",
      "epoch: 3, loss_train: 0.2642, accuracy_train: 0.9101, loss_valid: 0.3100, accuracy_valid: 0.8982\n",
      "epoch: 4, loss_train: 0.2537, accuracy_train: 0.9147, loss_valid: 0.3083, accuracy_valid: 0.8967\n",
      "epoch: 5, loss_train: 0.2433, accuracy_train: 0.9156, loss_valid: 0.3050, accuracy_valid: 0.9004\n",
      "epoch: 6, loss_train: 0.2387, accuracy_train: 0.9216, loss_valid: 0.3036, accuracy_valid: 0.8975\n",
      "epoch: 7, loss_train: 0.2344, accuracy_train: 0.9201, loss_valid: 0.3040, accuracy_valid: 0.9012\n",
      "epoch: 8, loss_train: 0.2295, accuracy_train: 0.9210, loss_valid: 0.3050, accuracy_valid: 0.8990\n",
      "epoch: 9, loss_train: 0.2278, accuracy_train: 0.9222, loss_valid: 0.3044, accuracy_valid: 0.9012\n",
      "epoch: 10, loss_train: 0.2252, accuracy_train: 0.9232, loss_valid: 0.3032, accuracy_valid: 0.8997\n",
      "epoch: 11, loss_train: 0.2216, accuracy_train: 0.9253, loss_valid: 0.3036, accuracy_valid: 0.8975\n",
      "epoch: 12, loss_train: 0.2210, accuracy_train: 0.9230, loss_valid: 0.3079, accuracy_valid: 0.8967\n",
      "epoch: 13, loss_train: 0.2207, accuracy_train: 0.9243, loss_valid: 0.3097, accuracy_valid: 0.8975\n",
      "epoch: 14, loss_train: 0.2196, accuracy_train: 0.9253, loss_valid: 0.3081, accuracy_valid: 0.8967\n",
      "epoch: 15, loss_train: 0.2154, accuracy_train: 0.9274, loss_valid: 0.3069, accuracy_valid: 0.8952\n",
      "epoch: 16, loss_train: 0.2143, accuracy_train: 0.9262, loss_valid: 0.3087, accuracy_valid: 0.8990\n",
      "epoch: 17, loss_train: 0.2138, accuracy_train: 0.9275, loss_valid: 0.3103, accuracy_valid: 0.8945\n",
      "epoch: 18, loss_train: 0.2145, accuracy_train: 0.9271, loss_valid: 0.3140, accuracy_valid: 0.8982\n",
      "epoch: 19, loss_train: 0.2178, accuracy_train: 0.9263, loss_valid: 0.3161, accuracy_valid: 0.8937\n",
      "epoch: 20, loss_train: 0.2118, accuracy_train: 0.9284, loss_valid: 0.3131, accuracy_valid: 0.8982\n",
      "epoch: 21, loss_train: 0.2117, accuracy_train: 0.9274, loss_valid: 0.3173, accuracy_valid: 0.8945\n",
      "epoch: 22, loss_train: 0.2110, accuracy_train: 0.9282, loss_valid: 0.3161, accuracy_valid: 0.8937\n",
      "epoch: 23, loss_train: 0.2096, accuracy_train: 0.9300, loss_valid: 0.3157, accuracy_valid: 0.8922\n",
      "epoch: 24, loss_train: 0.2150, accuracy_train: 0.9253, loss_valid: 0.3234, accuracy_valid: 0.8915\n",
      "epoch: 25, loss_train: 0.2086, accuracy_train: 0.9302, loss_valid: 0.3181, accuracy_valid: 0.8930\n",
      "epoch: 26, loss_train: 0.2092, accuracy_train: 0.9286, loss_valid: 0.3208, accuracy_valid: 0.8967\n",
      "epoch: 27, loss_train: 0.2099, accuracy_train: 0.9274, loss_valid: 0.3218, accuracy_valid: 0.8922\n",
      "epoch: 28, loss_train: 0.2067, accuracy_train: 0.9291, loss_valid: 0.3213, accuracy_valid: 0.8937\n",
      "epoch: 29, loss_train: 0.2072, accuracy_train: 0.9287, loss_valid: 0.3226, accuracy_valid: 0.8952\n",
      "epoch: 30, loss_train: 0.2064, accuracy_train: 0.9318, loss_valid: 0.3223, accuracy_valid: 0.8922\n"
     ]
    }
   ],
   "source": [
    "# モデルの定義\n",
    "model = SLPNet(300, 4)\n",
    "\n",
    "# 損失関数の定義\n",
    "criterion = nn.CrossEntropyLoss()\n",
    "\n",
    "# オプティマイザの定義\n",
    "optimizer = torch.optim.SGD(model.parameters(), lr=1e-1)\n",
    "\n",
    "# 学習\n",
    "num_epochs = 30\n",
    "log_train = []\n",
    "log_valid = []\n",
    "for epoch in range(num_epochs):\n",
    "    # 訓練モードに設定\n",
    "    model.train()\n",
    "    for inputs, labels in dataloader_train:\n",
    "        # 勾配をゼロで初期化\n",
    "        optimizer.zero_grad()\n",
    "\n",
    "        # 順伝播 + 誤差逆伝播 + 重み更新\n",
    "        outputs = model(inputs)\n",
    "        loss = criterion(outputs, labels)\n",
    "        loss.backward()\n",
    "        optimizer.step()\n",
    "\n",
    "    # 損失と正解率の算出\n",
    "    loss_train, acc_train = calculate_loss_and_accuracy(\n",
    "        model, criterion, dataloader_train\n",
    "    )\n",
    "    loss_valid, acc_valid = calculate_loss_and_accuracy(\n",
    "        model, criterion, dataloader_valid\n",
    "    )\n",
    "    log_train.append([loss_train, acc_train])\n",
    "    log_valid.append([loss_valid, acc_valid])\n",
    "\n",
    "    # ログを出力\n",
    "    print(\n",
    "        f\"epoch: {epoch + 1}, loss_train: {loss_train:.4f}, accuracy_train: {acc_train:.4f}, loss_valid: {loss_valid:.4f}, accuracy_valid: {acc_valid:.4f}\"\n",
    "    )"
   ]
  },
  {
   "cell_type": "code",
   "execution_count": 24,
   "metadata": {
    "colab": {
     "base_uri": "https://localhost:8080/",
     "height": 314
    },
    "executionInfo": {
     "elapsed": 143857,
     "status": "ok",
     "timestamp": 1610702110226,
     "user": {
      "displayName": "yuki kato",
      "photoUrl": "",
      "userId": "08430221927587521076"
     },
     "user_tz": -540
    },
    "id": "QrzzFwn7La4Z",
    "outputId": "467771ff-aa0f-439f-89f2-fc434fa3090c"
   },
   "outputs": [
    {
     "data": {
      "image/png": "[encoded data removed]",
      "text/plain": [
       "<Figure size 1080x360 with 2 Axes>"
      ]
     },
     "metadata": {
      "needs_background": "light"
     },
     "output_type": "display_data"
    }
   ],
   "source": [
    "import numpy as np\n",
    "from matplotlib import pyplot as plt\n",
    "\n",
    "# 視覚化\n",
    "fig, ax = plt.subplots(1, 2, figsize=(15, 5))\n",
    "ax[0].plot(np.array(log_train).T[0], label=\"train\")\n",
    "ax[0].plot(np.array(log_valid).T[0], label=\"valid\")\n",
    "ax[0].set_xlabel(\"epoch\")\n",
    "ax[0].set_ylabel(\"loss\")\n",
    "ax[0].legend()\n",
    "ax[1].plot(np.array(log_train).T[1], label=\"train\")\n",
    "ax[1].plot(np.array(log_valid).T[1], label=\"valid\")\n",
    "ax[1].set_xlabel(\"epoch\")\n",
    "ax[1].set_ylabel(\"accuracy\")\n",
    "ax[1].legend()\n",
    "plt.show()"
   ]
  },
  {
   "cell_type": "markdown",
   "metadata": {
    "id": "hnZzB0caLgxX"
   },
   "source": [
    "#### 76. チェックポイント\n",
    "問題75のコードを改変し，各エポックのパラメータ更新が完了するたびに，チェックポイント（学習途中のパラメータ（重み行列など）の値や最適化アルゴリズムの内部状態）をファイルに書き出せ．"
   ]
  },
  {
   "cell_type": "markdown",
   "metadata": {
    "id": "9DujhrdDL23K"
   },
   "source": [
    "学習途中のパラメータはmodel.state_dict()、最適化アルゴリズムの内部状態はoptimizer.state_dict()でアクセス可能なので、各エポックでエポック数と合わせて保存する処理を追加します。\n",
    "なお、出力は前問と同様のため省略します。"
   ]
  },
  {
   "cell_type": "code",
   "execution_count": 25,
   "metadata": {
    "colab": {
     "base_uri": "https://localhost:8080/"
    },
    "executionInfo": {
     "elapsed": 51945,
     "status": "ok",
     "timestamp": 1610702166804,
     "user": {
      "displayName": "yuki kato",
      "photoUrl": "",
      "userId": "08430221927587521076"
     },
     "user_tz": -540
    },
    "id": "SItpIRo9LfRv",
    "outputId": "c4bdd796-6e8d-490c-8384-af91596ca71f"
   },
   "outputs": [
    {
     "name": "stdout",
     "output_type": "stream",
     "text": [
      "epoch: 1, loss_train: 0.3244, accuracy_train: 0.8890, loss_valid: 0.3650, accuracy_valid: 0.8623\n",
      "epoch: 2, loss_train: 0.2827, accuracy_train: 0.9037, loss_valid: 0.3324, accuracy_valid: 0.8810\n",
      "epoch: 3, loss_train: 0.2679, accuracy_train: 0.9086, loss_valid: 0.3287, accuracy_valid: 0.8795\n",
      "epoch: 4, loss_train: 0.2504, accuracy_train: 0.9148, loss_valid: 0.3128, accuracy_valid: 0.8892\n",
      "epoch: 5, loss_train: 0.2446, accuracy_train: 0.9180, loss_valid: 0.3129, accuracy_valid: 0.8915\n",
      "epoch: 6, loss_train: 0.2384, accuracy_train: 0.9204, loss_valid: 0.3101, accuracy_valid: 0.8937\n",
      "epoch: 7, loss_train: 0.2364, accuracy_train: 0.9206, loss_valid: 0.3135, accuracy_valid: 0.8937\n",
      "epoch: 8, loss_train: 0.2314, accuracy_train: 0.9232, loss_valid: 0.3088, accuracy_valid: 0.8937\n",
      "epoch: 9, loss_train: 0.2266, accuracy_train: 0.9243, loss_valid: 0.3092, accuracy_valid: 0.9012\n",
      "epoch: 10, loss_train: 0.2237, accuracy_train: 0.9258, loss_valid: 0.3091, accuracy_valid: 0.8937\n"
     ]
    }
   ],
   "source": [
    "# モデルの定義\n",
    "model = SLPNet(300, 4)\n",
    "\n",
    "# 損失関数の定義\n",
    "criterion = nn.CrossEntropyLoss()\n",
    "\n",
    "# オプティマイザの定義\n",
    "optimizer = torch.optim.SGD(model.parameters(), lr=1e-1)\n",
    "\n",
    "# 学習\n",
    "num_epochs = 10\n",
    "log_train = []\n",
    "log_valid = []\n",
    "for epoch in range(num_epochs):\n",
    "    # 訓練モードに設定\n",
    "    model.train()\n",
    "    for inputs, labels in dataloader_train:\n",
    "        # 勾配をゼロで初期化\n",
    "        optimizer.zero_grad()\n",
    "\n",
    "        # 順伝播 + 誤差逆伝播 + 重み更新\n",
    "        outputs = model(inputs)\n",
    "        loss = criterion(outputs, labels)\n",
    "        loss.backward()\n",
    "        optimizer.step()\n",
    "\n",
    "    # 損失と正解率の算出\n",
    "    loss_train, acc_train = calculate_loss_and_accuracy(\n",
    "        model, criterion, dataloader_train\n",
    "    )\n",
    "    loss_valid, acc_valid = calculate_loss_and_accuracy(\n",
    "        model, criterion, dataloader_valid\n",
    "    )\n",
    "    log_train.append([loss_train, acc_train])\n",
    "    log_valid.append([loss_valid, acc_valid])\n",
    "\n",
    "    # チェックポイントの保存\n",
    "    torch.save(\n",
    "        {\n",
    "            \"epoch\": epoch,\n",
    "            \"model_state_dict\": model.state_dict(),\n",
    "            \"optimizer_state_dict\": optimizer.state_dict(),\n",
    "        },\n",
    "        f\"checkpoint{epoch + 1}.pt\",\n",
    "    )\n",
    "\n",
    "    # ログを出力\n",
    "    print(\n",
    "        f\"epoch: {epoch + 1}, loss_train: {loss_train:.4f}, accuracy_train: {acc_train:.4f}, loss_valid: {loss_valid:.4f}, accuracy_valid: {acc_valid:.4f}\"\n",
    "    )"
   ]
  },
  {
   "cell_type": "markdown",
   "metadata": {
    "id": "TSDBNlGBL7lL"
   },
   "source": [
    "#### 77. ミニバッチ化\n",
    "問題76のコードを改変し，BB事例ごとに損失・勾配を計算し，行列WWの値を更新せよ（ミニバッチ化）．BBの値を1,2,4,8,…1,2,4,8,…と変化させながら，1エポックの学習に要する時間を比較せよ．"
   ]
  },
  {
   "cell_type": "markdown",
   "metadata": {
    "id": "gGY8ePh3L-di"
   },
   "source": [
    "バッチサイズを変えるごとにすべての処理を書くのは大変なので、Dataloaderの作成以降の処理をtrain_modelとして関数化し、バッチサイズを含むいくつかのパラメータを引数として設定します。"
   ]
  },
  {
   "cell_type": "code",
   "execution_count": 26,
   "metadata": {
    "executionInfo": {
     "elapsed": 42088,
     "status": "ok",
     "timestamp": 1610702166804,
     "user": {
      "displayName": "yuki kato",
      "photoUrl": "",
      "userId": "08430221927587521076"
     },
     "user_tz": -540
    },
    "id": "yCa-SLZaL5Ij"
   },
   "outputs": [],
   "source": [
    "import time\n",
    "\n",
    "\n",
    "def train_model(\n",
    "    dataset_train, dataset_valid, batch_size, model, criterion, optimizer, num_epochs\n",
    "):\n",
    "    # dataloaderの作成\n",
    "    dataloader_train = DataLoader(dataset_train, batch_size=batch_size, shuffle=True)\n",
    "    dataloader_valid = DataLoader(\n",
    "        dataset_valid, batch_size=len(dataset_valid), shuffle=False\n",
    "    )\n",
    "\n",
    "    # 学習\n",
    "    log_train = []\n",
    "    log_valid = []\n",
    "    for epoch in range(num_epochs):\n",
    "        # 開始時刻の記録\n",
    "        s_time = time.time()\n",
    "\n",
    "        # 訓練モードに設定\n",
    "        model.train()\n",
    "        for inputs, labels in dataloader_train:\n",
    "            # 勾配をゼロで初期化\n",
    "            optimizer.zero_grad()\n",
    "\n",
    "            # 順伝播 + 誤差逆伝播 + 重み更新\n",
    "            outputs = model(inputs)\n",
    "            loss = criterion(outputs, labels)\n",
    "            loss.backward()\n",
    "            optimizer.step()\n",
    "\n",
    "        # 損失と正解率の算出\n",
    "        loss_train, acc_train = calculate_loss_and_accuracy(\n",
    "            model, criterion, dataloader_train\n",
    "        )\n",
    "        loss_valid, acc_valid = calculate_loss_and_accuracy(\n",
    "            model, criterion, dataloader_valid\n",
    "        )\n",
    "        log_train.append([loss_train, acc_train])\n",
    "        log_valid.append([loss_valid, acc_valid])\n",
    "\n",
    "        # チェックポイントの保存\n",
    "        torch.save(\n",
    "            {\n",
    "                \"epoch\": epoch,\n",
    "                \"model_state_dict\": model.state_dict(),\n",
    "                \"optimizer_state_dict\": optimizer.state_dict(),\n",
    "            },\n",
    "            f\"checkpoint{epoch + 1}.pt\",\n",
    "        )\n",
    "\n",
    "        # 終了時刻の記録\n",
    "        e_time = time.time()\n",
    "\n",
    "        # ログを出力\n",
    "        print(\n",
    "            f\"epoch: {epoch + 1}, loss_train: {loss_train:.4f}, accuracy_train: {acc_train:.4f}, loss_valid: {loss_valid:.4f}, accuracy_valid: {acc_valid:.4f}, {(e_time - s_time):.4f}sec\"\n",
    "        )\n",
    "\n",
    "    return {\"train\": log_train, \"valid\": log_valid}"
   ]
  },
  {
   "cell_type": "markdown",
   "metadata": {
    "id": "q2cD7w67Mpfr"
   },
   "source": [
    "バッチサイズを変えながら、処理時間を計測します。"
   ]
  },
  {
   "cell_type": "code",
   "execution_count": 27,
   "metadata": {
    "colab": {
     "base_uri": "https://localhost:8080/"
    },
    "executionInfo": {
     "elapsed": 13446,
     "status": "ok",
     "timestamp": 1610702180258,
     "user": {
      "displayName": "yuki kato",
      "photoUrl": "",
      "userId": "08430221927587521076"
     },
     "user_tz": -540
    },
    "id": "cISDzFRtMAqI",
    "outputId": "d9aad7ae-c990-4672-bc51-3fbc1543a215"
   },
   "outputs": [
    {
     "name": "stdout",
     "output_type": "stream",
     "text": [
      "バッチサイズ: 1\n",
      "epoch: 1, loss_train: 0.3329, accuracy_train: 0.8853, loss_valid: 0.3667, accuracy_valid: 0.8690, 7.3249sec\n",
      "バッチサイズ: 2\n",
      "epoch: 1, loss_train: 0.3032, accuracy_train: 0.8971, loss_valid: 0.3378, accuracy_valid: 0.8840, 2.5476sec\n",
      "バッチサイズ: 4\n",
      "epoch: 1, loss_train: 0.2916, accuracy_train: 0.9017, loss_valid: 0.3297, accuracy_valid: 0.8930, 1.4127sec\n",
      "バッチサイズ: 8\n",
      "epoch: 1, loss_train: 0.2875, accuracy_train: 0.9030, loss_valid: 0.3259, accuracy_valid: 0.8945, 0.8549sec\n",
      "バッチサイズ: 16\n",
      "epoch: 1, loss_train: 0.2855, accuracy_train: 0.9024, loss_valid: 0.3248, accuracy_valid: 0.8930, 0.5151sec\n",
      "バッチサイズ: 32\n",
      "epoch: 1, loss_train: 0.2847, accuracy_train: 0.9032, loss_valid: 0.3241, accuracy_valid: 0.8930, 0.3511sec\n",
      "バッチサイズ: 64\n",
      "epoch: 1, loss_train: 0.2841, accuracy_train: 0.9036, loss_valid: 0.3239, accuracy_valid: 0.8945, 0.2685sec\n",
      "バッチサイズ: 128\n",
      "epoch: 1, loss_train: 0.2854, accuracy_train: 0.9038, loss_valid: 0.3238, accuracy_valid: 0.8937, 0.2840sec\n",
      "バッチサイズ: 256\n",
      "epoch: 1, loss_train: 0.2837, accuracy_train: 0.9039, loss_valid: 0.3237, accuracy_valid: 0.8937, 0.2599sec\n",
      "バッチサイズ: 512\n",
      "epoch: 1, loss_train: 0.2836, accuracy_train: 0.9040, loss_valid: 0.3237, accuracy_valid: 0.8937, 0.2468sec\n",
      "バッチサイズ: 1024\n",
      "epoch: 1, loss_train: 0.2846, accuracy_train: 0.9042, loss_valid: 0.3236, accuracy_valid: 0.8937, 0.3548sec\n"
     ]
    }
   ],
   "source": [
    "# datasetの作成\n",
    "dataset_train = CreateDataset(X_train, y_train)\n",
    "dataset_valid = CreateDataset(X_valid, y_valid)\n",
    "\n",
    "# モデルの定義\n",
    "model = SLPNet(300, 4)\n",
    "\n",
    "# 損失関数の定義\n",
    "criterion = nn.CrossEntropyLoss()\n",
    "\n",
    "# オプティマイザの定義\n",
    "optimizer = torch.optim.SGD(model.parameters(), lr=1e-1)\n",
    "\n",
    "# モデルの学習\n",
    "for batch_size in [2 ** i for i in range(11)]:\n",
    "    print(f\"バッチサイズ: {batch_size}\")\n",
    "    log = train_model(\n",
    "        dataset_train, dataset_valid, batch_size, model, criterion, optimizer, 1\n",
    "    )"
   ]
  },
  {
   "cell_type": "markdown",
   "metadata": {
    "id": "mCMAjxeLOeuY"
   },
   "source": [
    "#### 78. GPU上での学習\n",
    "問題77のコードを改変し，GPU上で学習を実行せよ．"
   ]
  },
  {
   "cell_type": "markdown",
   "metadata": {
    "id": "N3f6sXOdOhA7"
   },
   "source": [
    "GPUを指定する引数deviceをcalculate_loss_and_accuracy、train_modelに追加します。\n",
    "それぞれの関数内で、モデルおよび入力TensorをGPUに送る処理を追加し、deviceにcudaを指定すればGPUを使用することができます。"
   ]
  },
  {
   "cell_type": "code",
   "execution_count": 28,
   "metadata": {
    "executionInfo": {
     "elapsed": 1019,
     "status": "ok",
     "timestamp": 1610702254527,
     "user": {
      "displayName": "yuki kato",
      "photoUrl": "",
      "userId": "08430221927587521076"
     },
     "user_tz": -540
    },
    "id": "PfNti4U3MoGM"
   },
   "outputs": [],
   "source": [
    "def calculate_loss_and_accuracy(model, criterion, loader, device):\n",
    "    model.eval()\n",
    "    loss = 0.0\n",
    "    total = 0\n",
    "    correct = 0\n",
    "    with torch.no_grad():\n",
    "        for inputs, labels in loader:\n",
    "            inputs = inputs.to(device)\n",
    "            labels = labels.to(device)\n",
    "            outputs = model(inputs)\n",
    "            loss += criterion(outputs, labels).item()\n",
    "            pred = torch.argmax(outputs, dim=-1)\n",
    "            total += len(inputs)\n",
    "            correct += (pred == labels).sum().item()\n",
    "\n",
    "    return loss / len(loader), correct / total\n",
    "\n",
    "\n",
    "def train_model(\n",
    "    dataset_train,\n",
    "    dataset_valid,\n",
    "    batch_size,\n",
    "    model,\n",
    "    criterion,\n",
    "    optimizer,\n",
    "    num_epochs,\n",
    "    device=None,\n",
    "):\n",
    "    # GPUに送る\n",
    "    model.to(device)\n",
    "\n",
    "    # dataloaderの作成\n",
    "    dataloader_train = DataLoader(dataset_train, batch_size=batch_size, shuffle=True)\n",
    "    dataloader_valid = DataLoader(\n",
    "        dataset_valid, batch_size=len(dataset_valid), shuffle=False\n",
    "    )\n",
    "\n",
    "    # 学習\n",
    "    log_train = []\n",
    "    log_valid = []\n",
    "    for epoch in range(num_epochs):\n",
    "        # 開始時刻の記録\n",
    "        s_time = time.time()\n",
    "\n",
    "        # 訓練モードに設定\n",
    "        model.train()\n",
    "        for inputs, labels in dataloader_train:\n",
    "            # 勾配をゼロで初期化\n",
    "            optimizer.zero_grad()\n",
    "\n",
    "            # 順伝播 + 誤差逆伝播 + 重み更新\n",
    "            inputs = inputs.to(device)\n",
    "            labels = labels.to(device)\n",
    "            outputs = model.forward(inputs)\n",
    "            loss = criterion(outputs, labels)\n",
    "            loss.backward()\n",
    "            optimizer.step()\n",
    "\n",
    "        # 損失と正解率の算出\n",
    "        loss_train, acc_train = calculate_loss_and_accuracy(\n",
    "            model, criterion, dataloader_train, device\n",
    "        )\n",
    "        loss_valid, acc_valid = calculate_loss_and_accuracy(\n",
    "            model, criterion, dataloader_valid, device\n",
    "        )\n",
    "        log_train.append([loss_train, acc_train])\n",
    "        log_valid.append([loss_valid, acc_valid])\n",
    "\n",
    "        # チェックポイントの保存\n",
    "        torch.save(\n",
    "            {\n",
    "                \"epoch\": epoch,\n",
    "                \"model_state_dict\": model.state_dict(),\n",
    "                \"optimizer_state_dict\": optimizer.state_dict(),\n",
    "            },\n",
    "            f\"checkpoint{epoch + 1}.pt\",\n",
    "        )\n",
    "\n",
    "        # 終了時刻の記録\n",
    "        e_time = time.time()\n",
    "\n",
    "        # ログを出力\n",
    "        print(\n",
    "            f\"epoch: {epoch + 1}, loss_train: {loss_train:.4f}, accuracy_train: {acc_train:.4f}, loss_valid: {loss_valid:.4f}, accuracy_valid: {acc_valid:.4f}, {(e_time - s_time):.4f}sec\"\n",
    "        )\n",
    "\n",
    "    return {\"train\": log_train, \"valid\": log_valid}"
   ]
  },
  {
   "cell_type": "code",
   "execution_count": 29,
   "metadata": {
    "colab": {
     "base_uri": "https://localhost:8080/"
    },
    "executionInfo": {
     "elapsed": 12614,
     "status": "ok",
     "timestamp": 1610702493218,
     "user": {
      "displayName": "yuki kato",
      "photoUrl": "",
      "userId": "08430221927587521076"
     },
     "user_tz": -540
    },
    "id": "80mvKB6xOkbQ",
    "outputId": "ff642d7e-4189-44a8-9a6d-b010d7deabd7"
   },
   "outputs": [
    {
     "name": "stdout",
     "output_type": "stream",
     "text": [
      "バッチサイズ: 1\n",
      "epoch: 1, loss_train: 0.3252, accuracy_train: 0.8869, loss_valid: 0.3601, accuracy_valid: 0.8810, 7.8103sec\n",
      "バッチサイズ: 2\n",
      "epoch: 1, loss_train: 0.2972, accuracy_train: 0.8973, loss_valid: 0.3367, accuracy_valid: 0.8885, 2.5415sec\n",
      "バッチサイズ: 4\n",
      "epoch: 1, loss_train: 0.2883, accuracy_train: 0.9006, loss_valid: 0.3289, accuracy_valid: 0.8825, 1.4126sec\n",
      "バッチサイズ: 8\n",
      "epoch: 1, loss_train: 0.2845, accuracy_train: 0.9013, loss_valid: 0.3264, accuracy_valid: 0.8855, 1.2773sec\n",
      "バッチサイズ: 16\n",
      "epoch: 1, loss_train: 0.2829, accuracy_train: 0.9013, loss_valid: 0.3251, accuracy_valid: 0.8877, 0.6725sec\n",
      "バッチサイズ: 32\n",
      "epoch: 1, loss_train: 0.2821, accuracy_train: 0.9021, loss_valid: 0.3248, accuracy_valid: 0.8877, 0.4289sec\n",
      "バッチサイズ: 64\n",
      "epoch: 1, loss_train: 0.2817, accuracy_train: 0.9019, loss_valid: 0.3244, accuracy_valid: 0.8877, 0.3570sec\n",
      "バッチサイズ: 128\n",
      "epoch: 1, loss_train: 0.2815, accuracy_train: 0.9023, loss_valid: 0.3242, accuracy_valid: 0.8900, 0.2720sec\n",
      "バッチサイズ: 256\n",
      "epoch: 1, loss_train: 0.2812, accuracy_train: 0.9022, loss_valid: 0.3241, accuracy_valid: 0.8900, 0.2985sec\n",
      "バッチサイズ: 512\n",
      "epoch: 1, loss_train: 0.2816, accuracy_train: 0.9025, loss_valid: 0.3240, accuracy_valid: 0.8900, 0.2235sec\n",
      "バッチサイズ: 1024\n",
      "epoch: 1, loss_train: 0.2824, accuracy_train: 0.9024, loss_valid: 0.3240, accuracy_valid: 0.8900, 0.3679sec\n"
     ]
    }
   ],
   "source": [
    "# datasetの作成\n",
    "dataset_train = CreateDataset(X_train, y_train)\n",
    "dataset_valid = CreateDataset(X_valid, y_valid)\n",
    "\n",
    "# モデルの定義\n",
    "model = SLPNet(300, 4)\n",
    "\n",
    "# 損失関数の定義\n",
    "criterion = nn.CrossEntropyLoss()\n",
    "\n",
    "# オプティマイザの定義\n",
    "optimizer = torch.optim.SGD(model.parameters(), lr=1e-1)\n",
    "\n",
    "# デバイスの指定\n",
    "device = device = torch.device(\"cuda:0\" if torch.cuda.is_available() else \"cpu\")\n",
    "\n",
    "# モデルの学習\n",
    "for batch_size in [2 ** i for i in range(11)]:\n",
    "    print(f\"バッチサイズ: {batch_size}\")\n",
    "    log = train_model(\n",
    "        dataset_train,\n",
    "        dataset_valid,\n",
    "        batch_size,\n",
    "        model,\n",
    "        criterion,\n",
    "        optimizer,\n",
    "        1,\n",
    "        device=device,\n",
    "    )"
   ]
  },
  {
   "cell_type": "markdown",
   "metadata": {
    "id": "n_pCfmDMO0xT"
   },
   "source": [
    "#### 79. 多層ニューラルネットワーク\n",
    "問題78のコードを改変し，バイアス項の導入や多層化など，ニューラルネットワークの形状を変更しながら，高性能なカテゴリ分類器を構築せよ．"
   ]
  },
  {
   "cell_type": "markdown",
   "metadata": {
    "id": "Qa_7rEXnO4H8"
   },
   "source": [
    "多層ニューラルネットワークMLPNetを新たに定義します。このネットワークは入力層 -> 中間層 -> 出力層の構成とし、中間層のあとにバッチノーマライゼーションを行うことにします。\n",
    "また、train_modelでは新たに学習の打ち切り基準を導入します。今回はシンプルに、検証データの損失が3エポック連続で低下しなかった場合に打ち切るルールとします。\n",
    "さらに、学習率を徐々に下げるスケジューラも追加し、汎化性能の向上を狙います。"
   ]
  },
  {
   "cell_type": "code",
   "execution_count": 30,
   "metadata": {
    "executionInfo": {
     "elapsed": 3999,
     "status": "ok",
     "timestamp": 1610702340981,
     "user": {
      "displayName": "yuki kato",
      "photoUrl": "",
      "userId": "08430221927587521076"
     },
     "user_tz": -540
    },
    "id": "xgKzxd84OnSd"
   },
   "outputs": [],
   "source": [
    "from torch.nn import functional as F\n",
    "\n",
    "\n",
    "class MLPNet(nn.Module):\n",
    "    def __init__(self, input_size, mid_size, output_size, mid_layers):\n",
    "        super().__init__()\n",
    "        self.mid_layers = mid_layers\n",
    "        self.fc = nn.Linear(input_size, mid_size)\n",
    "        self.fc_mid = nn.Linear(mid_size, mid_size)\n",
    "        self.fc_out = nn.Linear(mid_size, output_size)\n",
    "        self.bn = nn.BatchNorm1d(mid_size)\n",
    "\n",
    "    def forward(self, x):\n",
    "        x = F.relu(self.fc(x))\n",
    "        for _ in range(self.mid_layers):\n",
    "            x = F.relu(self.bn(self.fc_mid(x)))\n",
    "        x = F.relu(self.fc_out(x))\n",
    "\n",
    "        return x"
   ]
  },
  {
   "cell_type": "code",
   "execution_count": 31,
   "metadata": {
    "executionInfo": {
     "elapsed": 1253,
     "status": "ok",
     "timestamp": 1610702342529,
     "user": {
      "displayName": "yuki kato",
      "photoUrl": "",
      "userId": "08430221927587521076"
     },
     "user_tz": -540
    },
    "id": "hDFQbav8O5uG"
   },
   "outputs": [],
   "source": [
    "from torch import optim\n",
    "\n",
    "\n",
    "def calculate_loss_and_accuracy(model, criterion, loader, device):\n",
    "    model.eval()\n",
    "    loss = 0.0\n",
    "    total = 0\n",
    "    correct = 0\n",
    "    with torch.no_grad():\n",
    "        for inputs, labels in loader:\n",
    "            inputs = inputs.to(device)\n",
    "            labels = labels.to(device)\n",
    "            outputs = model(inputs)\n",
    "            loss += criterion(outputs, labels).item()\n",
    "            pred = torch.argmax(outputs, dim=-1)\n",
    "            total += len(inputs)\n",
    "            correct += (pred == labels).sum().item()\n",
    "\n",
    "    return loss / len(loader), correct / total\n",
    "\n",
    "\n",
    "def train_model(\n",
    "    dataset_train,\n",
    "    dataset_valid,\n",
    "    batch_size,\n",
    "    model,\n",
    "    criterion,\n",
    "    optimizer,\n",
    "    num_epochs,\n",
    "    device=None,\n",
    "):\n",
    "    # GPUに送る\n",
    "    model.to(device)\n",
    "\n",
    "    # dataloaderの作成\n",
    "    dataloader_train = DataLoader(dataset_train, batch_size=batch_size, shuffle=True)\n",
    "    dataloader_valid = DataLoader(\n",
    "        dataset_valid, batch_size=len(dataset_valid), shuffle=False\n",
    "    )\n",
    "\n",
    "    # スケジューラの設定\n",
    "    scheduler = optim.lr_scheduler.CosineAnnealingLR(\n",
    "        optimizer, num_epochs, eta_min=1e-5, last_epoch=-1\n",
    "    )\n",
    "\n",
    "    # 学習\n",
    "    log_train = []\n",
    "    log_valid = []\n",
    "    for epoch in range(num_epochs):\n",
    "        # 開始時刻の記録\n",
    "        s_time = time.time()\n",
    "\n",
    "        # 訓練モードに設定\n",
    "        model.train()\n",
    "        for inputs, labels in dataloader_train:\n",
    "            # 勾配をゼロで初期化\n",
    "            optimizer.zero_grad()\n",
    "\n",
    "            # 順伝播 + 誤差逆伝播 + 重み更新\n",
    "            inputs = inputs.to(device)\n",
    "            labels = labels.to(device)\n",
    "            outputs = model.forward(inputs)\n",
    "            loss = criterion(outputs, labels)\n",
    "            loss.backward()\n",
    "            optimizer.step()\n",
    "\n",
    "        # 損失と正解率の算出\n",
    "        loss_train, acc_train = calculate_loss_and_accuracy(\n",
    "            model, criterion, dataloader_train, device\n",
    "        )\n",
    "        loss_valid, acc_valid = calculate_loss_and_accuracy(\n",
    "            model, criterion, dataloader_valid, device\n",
    "        )\n",
    "        log_train.append([loss_train, acc_train])\n",
    "        log_valid.append([loss_valid, acc_valid])\n",
    "\n",
    "        # チェックポイントの保存\n",
    "        torch.save(\n",
    "            {\n",
    "                \"epoch\": epoch,\n",
    "                \"model_state_dict\": model.state_dict(),\n",
    "                \"optimizer_state_dict\": optimizer.state_dict(),\n",
    "            },\n",
    "            f\"checkpoint{epoch + 1}.pt\",\n",
    "        )\n",
    "\n",
    "        # 終了時刻の記録\n",
    "        e_time = time.time()\n",
    "\n",
    "        # ログを出力\n",
    "        print(\n",
    "            f\"epoch: {epoch + 1}, loss_train: {loss_train:.4f}, accuracy_train: {acc_train:.4f}, loss_valid: {loss_valid:.4f}, accuracy_valid: {acc_valid:.4f}, {(e_time - s_time):.4f}sec\"\n",
    "        )\n",
    "\n",
    "        # 検証データの損失が3エポック連続で低下しなかった場合は学習終了\n",
    "        if (\n",
    "            epoch > 2\n",
    "            and log_valid[epoch - 3][0]\n",
    "            <= log_valid[epoch - 2][0]\n",
    "            <= log_valid[epoch - 1][0]\n",
    "            <= log_valid[epoch][0]\n",
    "        ):\n",
    "            break\n",
    "\n",
    "        # スケジューラを1ステップ進める\n",
    "        scheduler.step()\n",
    "\n",
    "    return {\"train\": log_train, \"valid\": log_valid}"
   ]
  },
  {
   "cell_type": "code",
   "execution_count": 32,
   "metadata": {
    "colab": {
     "base_uri": "https://localhost:8080/"
    },
    "executionInfo": {
     "elapsed": 136354,
     "status": "ok",
     "timestamp": 1610702480589,
     "user": {
      "displayName": "yuki kato",
      "photoUrl": "",
      "userId": "08430221927587521076"
     },
     "user_tz": -540
    },
    "id": "UbLlpNpEO8pH",
    "outputId": "caeb2062-508a-4552-d42e-4fc1aef9ec93"
   },
   "outputs": [
    {
     "name": "stdout",
     "output_type": "stream",
     "text": [
      "epoch: 1, loss_train: 0.9192, accuracy_train: 0.7470, loss_valid: 0.9150, accuracy_valid: 0.7455, 1.8610sec\n",
      "epoch: 2, loss_train: 0.7352, accuracy_train: 0.7672, loss_valid: 0.7355, accuracy_valid: 0.7665, 1.7493sec\n",
      "epoch: 3, loss_train: 0.6569, accuracy_train: 0.7770, loss_valid: 0.6595, accuracy_valid: 0.7754, 1.7833sec\n",
      "epoch: 4, loss_train: 0.6081, accuracy_train: 0.7844, loss_valid: 0.6127, accuracy_valid: 0.7822, 0.9081sec\n",
      "epoch: 5, loss_train: 0.5727, accuracy_train: 0.7911, loss_valid: 0.5793, accuracy_valid: 0.7897, 0.6647sec\n",
      "epoch: 6, loss_train: 0.5420, accuracy_train: 0.8025, loss_valid: 0.5510, accuracy_valid: 0.7994, 0.6671sec\n",
      "epoch: 7, loss_train: 0.5122, accuracy_train: 0.8125, loss_valid: 0.5242, accuracy_valid: 0.8084, 0.6830sec\n",
      "epoch: 8, loss_train: 0.4830, accuracy_train: 0.8279, loss_valid: 0.4975, accuracy_valid: 0.8174, 0.6637sec\n",
      "epoch: 9, loss_train: 0.4598, accuracy_train: 0.8423, loss_valid: 0.4765, accuracy_valid: 0.8308, 0.6663sec\n",
      "epoch: 10, loss_train: 0.4415, accuracy_train: 0.8524, loss_valid: 0.4607, accuracy_valid: 0.8383, 0.6925sec\n",
      "epoch: 11, loss_train: 0.4185, accuracy_train: 0.8628, loss_valid: 0.4406, accuracy_valid: 0.8510, 0.7033sec\n",
      "epoch: 12, loss_train: 0.4032, accuracy_train: 0.8715, loss_valid: 0.4266, accuracy_valid: 0.8638, 0.7427sec\n",
      "epoch: 13, loss_train: 0.3903, accuracy_train: 0.8762, loss_valid: 0.4154, accuracy_valid: 0.8705, 0.7669sec\n",
      "epoch: 14, loss_train: 0.3718, accuracy_train: 0.8803, loss_valid: 0.3998, accuracy_valid: 0.8720, 0.6725sec\n",
      "epoch: 15, loss_train: 0.3625, accuracy_train: 0.8841, loss_valid: 0.3919, accuracy_valid: 0.8750, 0.7342sec\n",
      "epoch: 16, loss_train: 0.3527, accuracy_train: 0.8867, loss_valid: 0.3834, accuracy_valid: 0.8780, 0.8769sec\n",
      "epoch: 17, loss_train: 0.3417, accuracy_train: 0.8900, loss_valid: 0.3742, accuracy_valid: 0.8780, 0.7266sec\n",
      "epoch: 18, loss_train: 0.3340, accuracy_train: 0.8925, loss_valid: 0.3681, accuracy_valid: 0.8787, 0.7733sec\n",
      "epoch: 19, loss_train: 0.3272, accuracy_train: 0.8967, loss_valid: 0.3625, accuracy_valid: 0.8855, 0.7372sec\n",
      "epoch: 20, loss_train: 0.3174, accuracy_train: 0.8974, loss_valid: 0.3554, accuracy_valid: 0.8810, 0.7647sec\n",
      "epoch: 21, loss_train: 0.3138, accuracy_train: 0.9006, loss_valid: 0.3526, accuracy_valid: 0.8877, 0.7773sec\n",
      "epoch: 22, loss_train: 0.3051, accuracy_train: 0.9012, loss_valid: 0.3463, accuracy_valid: 0.8877, 0.7564sec\n",
      "epoch: 23, loss_train: 0.3011, accuracy_train: 0.9029, loss_valid: 0.3430, accuracy_valid: 0.8922, 0.6799sec\n",
      "epoch: 24, loss_train: 0.2957, accuracy_train: 0.9042, loss_valid: 0.3397, accuracy_valid: 0.8907, 0.7618sec\n",
      "epoch: 25, loss_train: 0.2913, accuracy_train: 0.9061, loss_valid: 0.3362, accuracy_valid: 0.8937, 0.7680sec\n",
      "epoch: 26, loss_train: 0.2885, accuracy_train: 0.9068, loss_valid: 0.3351, accuracy_valid: 0.8900, 0.7199sec\n",
      "epoch: 27, loss_train: 0.2822, accuracy_train: 0.9086, loss_valid: 0.3309, accuracy_valid: 0.8945, 0.6900sec\n",
      "epoch: 28, loss_train: 0.2771, accuracy_train: 0.9101, loss_valid: 0.3275, accuracy_valid: 0.8952, 0.8070sec\n",
      "epoch: 29, loss_train: 0.2763, accuracy_train: 0.9113, loss_valid: 0.3270, accuracy_valid: 0.8945, 1.5405sec\n",
      "epoch: 30, loss_train: 0.2709, accuracy_train: 0.9126, loss_valid: 0.3242, accuracy_valid: 0.8937, 1.3211sec\n",
      "epoch: 31, loss_train: 0.2694, accuracy_train: 0.9131, loss_valid: 0.3229, accuracy_valid: 0.8967, 1.9388sec\n",
      "epoch: 32, loss_train: 0.2653, accuracy_train: 0.9139, loss_valid: 0.3210, accuracy_valid: 0.8967, 0.8373sec\n",
      "epoch: 33, loss_train: 0.2629, accuracy_train: 0.9147, loss_valid: 0.3202, accuracy_valid: 0.8952, 0.7492sec\n",
      "epoch: 34, loss_train: 0.2585, accuracy_train: 0.9152, loss_valid: 0.3173, accuracy_valid: 0.8990, 0.6669sec\n",
      "epoch: 35, loss_train: 0.2559, accuracy_train: 0.9170, loss_valid: 0.3159, accuracy_valid: 0.8967, 0.7532sec\n",
      "epoch: 36, loss_train: 0.2545, accuracy_train: 0.9187, loss_valid: 0.3153, accuracy_valid: 0.8967, 0.6770sec\n",
      "epoch: 37, loss_train: 0.2514, accuracy_train: 0.9189, loss_valid: 0.3143, accuracy_valid: 0.8967, 0.6770sec\n",
      "epoch: 38, loss_train: 0.2506, accuracy_train: 0.9204, loss_valid: 0.3141, accuracy_valid: 0.8930, 1.2549sec\n",
      "epoch: 39, loss_train: 0.2468, accuracy_train: 0.9212, loss_valid: 0.3123, accuracy_valid: 0.8960, 0.8538sec\n",
      "epoch: 40, loss_train: 0.2455, accuracy_train: 0.9211, loss_valid: 0.3119, accuracy_valid: 0.8952, 0.7596sec\n",
      "epoch: 41, loss_train: 0.2432, accuracy_train: 0.9215, loss_valid: 0.3117, accuracy_valid: 0.8922, 0.7445sec\n",
      "epoch: 42, loss_train: 0.2391, accuracy_train: 0.9234, loss_valid: 0.3092, accuracy_valid: 0.8952, 0.6459sec\n",
      "epoch: 43, loss_train: 0.2369, accuracy_train: 0.9238, loss_valid: 0.3084, accuracy_valid: 0.8952, 0.7111sec\n",
      "epoch: 44, loss_train: 0.2361, accuracy_train: 0.9241, loss_valid: 0.3082, accuracy_valid: 0.8967, 0.6663sec\n",
      "epoch: 45, loss_train: 0.2355, accuracy_train: 0.9250, loss_valid: 0.3078, accuracy_valid: 0.8967, 0.6678sec\n",
      "epoch: 46, loss_train: 0.2324, accuracy_train: 0.9254, loss_valid: 0.3071, accuracy_valid: 0.8967, 0.6789sec\n",
      "epoch: 47, loss_train: 0.2291, accuracy_train: 0.9268, loss_valid: 0.3054, accuracy_valid: 0.8997, 0.6979sec\n",
      "epoch: 48, loss_train: 0.2279, accuracy_train: 0.9282, loss_valid: 0.3053, accuracy_valid: 0.8997, 0.6590sec\n",
      "epoch: 49, loss_train: 0.2263, accuracy_train: 0.9278, loss_valid: 0.3049, accuracy_valid: 0.8967, 0.6932sec\n",
      "epoch: 50, loss_train: 0.2279, accuracy_train: 0.9277, loss_valid: 0.3071, accuracy_valid: 0.8952, 0.6736sec\n",
      "epoch: 51, loss_train: 0.2235, accuracy_train: 0.9306, loss_valid: 0.3036, accuracy_valid: 0.9012, 0.6925sec\n",
      "epoch: 52, loss_train: 0.2212, accuracy_train: 0.9302, loss_valid: 0.3032, accuracy_valid: 0.8997, 0.7148sec\n",
      "epoch: 53, loss_train: 0.2198, accuracy_train: 0.9307, loss_valid: 0.3030, accuracy_valid: 0.9034, 0.7266sec\n",
      "epoch: 54, loss_train: 0.2180, accuracy_train: 0.9294, loss_valid: 0.3041, accuracy_valid: 0.8945, 1.2086sec\n",
      "epoch: 55, loss_train: 0.2167, accuracy_train: 0.9320, loss_valid: 0.3023, accuracy_valid: 0.9027, 1.2237sec\n",
      "epoch: 56, loss_train: 0.2150, accuracy_train: 0.9311, loss_valid: 0.3026, accuracy_valid: 0.8960, 1.2881sec\n",
      "epoch: 57, loss_train: 0.2151, accuracy_train: 0.9308, loss_valid: 0.3031, accuracy_valid: 0.8975, 0.7073sec\n",
      "epoch: 58, loss_train: 0.2118, accuracy_train: 0.9323, loss_valid: 0.3015, accuracy_valid: 0.8982, 1.5793sec\n",
      "epoch: 59, loss_train: 0.2106, accuracy_train: 0.9335, loss_valid: 0.3014, accuracy_valid: 0.8982, 0.9375sec\n",
      "epoch: 60, loss_train: 0.2096, accuracy_train: 0.9344, loss_valid: 0.3004, accuracy_valid: 0.8997, 0.6880sec\n",
      "epoch: 61, loss_train: 0.2062, accuracy_train: 0.9348, loss_valid: 0.3002, accuracy_valid: 0.9019, 0.6881sec\n",
      "epoch: 62, loss_train: 0.2059, accuracy_train: 0.9343, loss_valid: 0.3003, accuracy_valid: 0.9012, 0.7985sec\n",
      "epoch: 63, loss_train: 0.2039, accuracy_train: 0.9349, loss_valid: 0.2998, accuracy_valid: 0.9034, 1.3129sec\n",
      "epoch: 64, loss_train: 0.2025, accuracy_train: 0.9361, loss_valid: 0.2994, accuracy_valid: 0.9019, 0.6637sec\n",
      "epoch: 65, loss_train: 0.2020, accuracy_train: 0.9370, loss_valid: 0.2996, accuracy_valid: 0.9034, 0.7457sec\n",
      "epoch: 66, loss_train: 0.2012, accuracy_train: 0.9355, loss_valid: 0.3006, accuracy_valid: 0.8990, 0.7830sec\n",
      "epoch: 67, loss_train: 0.1987, accuracy_train: 0.9374, loss_valid: 0.2997, accuracy_valid: 0.8997, 0.9547sec\n",
      "epoch: 68, loss_train: 0.2001, accuracy_train: 0.9357, loss_valid: 0.3024, accuracy_valid: 0.8967, 1.2257sec\n",
      "epoch: 69, loss_train: 0.1966, accuracy_train: 0.9380, loss_valid: 0.2991, accuracy_valid: 0.8990, 0.6950sec\n",
      "epoch: 70, loss_train: 0.1940, accuracy_train: 0.9381, loss_valid: 0.2983, accuracy_valid: 0.9004, 1.0463sec\n",
      "epoch: 71, loss_train: 0.1935, accuracy_train: 0.9392, loss_valid: 0.2982, accuracy_valid: 0.9004, 0.8575sec\n",
      "epoch: 72, loss_train: 0.1925, accuracy_train: 0.9379, loss_valid: 0.2997, accuracy_valid: 0.9004, 0.6955sec\n",
      "epoch: 73, loss_train: 0.1902, accuracy_train: 0.9388, loss_valid: 0.2979, accuracy_valid: 0.8997, 0.6827sec\n",
      "epoch: 74, loss_train: 0.1890, accuracy_train: 0.9400, loss_valid: 0.2990, accuracy_valid: 0.8990, 0.7403sec\n",
      "epoch: 75, loss_train: 0.1873, accuracy_train: 0.9408, loss_valid: 0.2985, accuracy_valid: 0.8997, 1.4226sec\n",
      "epoch: 76, loss_train: 0.1861, accuracy_train: 0.9409, loss_valid: 0.2981, accuracy_valid: 0.9004, 1.3110sec\n",
      "epoch: 77, loss_train: 0.1847, accuracy_train: 0.9420, loss_valid: 0.2980, accuracy_valid: 0.9012, 0.9053sec\n",
      "epoch: 78, loss_train: 0.1840, accuracy_train: 0.9421, loss_valid: 0.2989, accuracy_valid: 0.9012, 1.4990sec\n",
      "epoch: 79, loss_train: 0.1831, accuracy_train: 0.9430, loss_valid: 0.2983, accuracy_valid: 0.9004, 0.6881sec\n",
      "epoch: 80, loss_train: 0.1820, accuracy_train: 0.9429, loss_valid: 0.2977, accuracy_valid: 0.8982, 0.8580sec\n",
      "epoch: 81, loss_train: 0.1798, accuracy_train: 0.9436, loss_valid: 0.2975, accuracy_valid: 0.9012, 1.1615sec\n",
      "epoch: 82, loss_train: 0.1796, accuracy_train: 0.9425, loss_valid: 0.2984, accuracy_valid: 0.8982, 1.5454sec\n",
      "epoch: 83, loss_train: 0.1787, accuracy_train: 0.9447, loss_valid: 0.2978, accuracy_valid: 0.9012, 0.7555sec\n",
      "epoch: 84, loss_train: 0.1779, accuracy_train: 0.9437, loss_valid: 0.2978, accuracy_valid: 0.9012, 0.8431sec\n",
      "epoch: 85, loss_train: 0.1765, accuracy_train: 0.9453, loss_valid: 0.2975, accuracy_valid: 0.9012, 1.4623sec\n",
      "epoch: 86, loss_train: 0.1753, accuracy_train: 0.9452, loss_valid: 0.2977, accuracy_valid: 0.9004, 0.6997sec\n",
      "epoch: 87, loss_train: 0.1728, accuracy_train: 0.9457, loss_valid: 0.2978, accuracy_valid: 0.9019, 0.7288sec\n",
      "epoch: 88, loss_train: 0.1720, accuracy_train: 0.9469, loss_valid: 0.2973, accuracy_valid: 0.9019, 0.7974sec\n",
      "epoch: 89, loss_train: 0.1718, accuracy_train: 0.9471, loss_valid: 0.2986, accuracy_valid: 0.8990, 0.6689sec\n",
      "epoch: 90, loss_train: 0.1699, accuracy_train: 0.9470, loss_valid: 0.2988, accuracy_valid: 0.8982, 0.7254sec\n",
      "epoch: 91, loss_train: 0.1705, accuracy_train: 0.9465, loss_valid: 0.2996, accuracy_valid: 0.8975, 0.6740sec\n"
     ]
    }
   ],
   "source": [
    "# datasetの作成\n",
    "dataset_train = CreateDataset(X_train, y_train)\n",
    "dataset_valid = CreateDataset(X_valid, y_valid)\n",
    "\n",
    "# モデルの定義\n",
    "model = MLPNet(300, 200, 4, 1)\n",
    "\n",
    "# 損失関数の定義\n",
    "criterion = nn.CrossEntropyLoss()\n",
    "\n",
    "# オプティマイザの定義\n",
    "optimizer = torch.optim.SGD(model.parameters(), lr=1e-3)\n",
    "\n",
    "# デバイスの指定\n",
    "device = device = torch.device(\"cuda:0\" if torch.cuda.is_available() else \"cpu\")\n",
    "\n",
    "# モデルの学習\n",
    "log = train_model(\n",
    "    dataset_train, dataset_valid, 64, model, criterion, optimizer, 1000, device=device\n",
    ")"
   ]
  },
  {
   "cell_type": "code",
   "execution_count": null,
   "metadata": {
    "id": "aBUDMTv3PBhW"
   },
   "outputs": [],
   "source": []
  }
 ],
 "metadata": {
  "colab": {
   "authorship_tag": "ABX9TyO7O8a6AKwfScxQQ7z3baY9",
   "collapsed_sections": [],
   "name": "言語処理100本ノック_2020_8.ipynb",
   "provenance": []
  },
  "kernelspec": {
   "display_name": "Python 3 (ipykernel)",
   "language": "python",
   "name": "python3"
  },
  "language_info": {
   "codemirror_mode": {
    "name": "ipython",
    "version": 3
   },
   "file_extension": ".py",
   "mimetype": "text/x-python",
   "name": "python",
   "nbconvert_exporter": "python",
   "pygments_lexer": "ipython3",
   "version": "3.9.9"
  }
 },
 "nbformat": 4,
 "nbformat_minor": 4
}
