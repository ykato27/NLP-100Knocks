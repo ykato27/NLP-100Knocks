{
 "cells": [
  {
   "cell_type": "markdown",
   "metadata": {
    "id": "APU1Y0HHsCvV"
   },
   "source": [
    "# 第9章: RNN, CNN"
   ]
  },
  {
   "cell_type": "markdown",
   "metadata": {
    "id": "rtqD39AdsI8W"
   },
   "source": [
    "## 80. ID番号への変換\n",
    "***\n",
    "問題51で構築した学習データ中の単語にユニークなID番号を付与したい．学習データ中で最も頻出する単語に$1$，2番目に頻出する単語に$2$，……といった方法で，学習データ中で2回以上出現する単語にID番号を付与せよ．そして，与えられた単語列に対して，ID番号の列を返す関数を実装せよ．ただし，出現頻度が2回未満の単語のID番号はすべて$0$とせよ．"
   ]
  },
  {
   "cell_type": "code",
   "execution_count": 1,
   "metadata": {},
   "outputs": [],
   "source": [
    "%load_ext lab_black"
   ]
  },
  {
   "cell_type": "code",
   "execution_count": 2,
   "metadata": {
    "colab": {
     "base_uri": "https://localhost:8080/"
    },
    "executionInfo": {
     "elapsed": 2865,
     "status": "ok",
     "timestamp": 1639375683830,
     "user": {
      "displayName": "yuki kato",
      "photoUrl": "https://lh3.googleusercontent.com/a/default-user=s64",
      "userId": "08430221927587521076"
     },
     "user_tz": -540
    },
    "id": "HODgi7f33I3P",
    "outputId": "fcaa2964-99c1-478f-dce7-f6a98a53813d"
   },
   "outputs": [
    {
     "name": "stdout",
     "output_type": "stream",
     "text": [
      "--2021-12-13 08:04:08--  https://archive.ics.uci.edu/ml/machine-learning-databases/00359/NewsAggregatorDataset.zip\n",
      "Resolving archive.ics.uci.edu (archive.ics.uci.edu)... 128.195.10.252\n",
      "Connecting to archive.ics.uci.edu (archive.ics.uci.edu)|128.195.10.252|:443... connected.\n",
      "HTTP request sent, awaiting response... 200 OK\n",
      "Length: 29224203 (28M) [application/x-httpd-php]\n",
      "Saving to: ‘NewsAggregatorDataset.zip’\n",
      "\n",
      "NewsAggregatorDatas 100%[===================>]  27.87M  1.69MB/s    in 17s     \n",
      "\n",
      "2021-12-13 08:04:26 (1.60 MB/s) - ‘NewsAggregatorDataset.zip’ saved [29224203/29224203]\n",
      "\n",
      "Archive:  NewsAggregatorDataset.zip\n",
      "  inflating: 2pageSessions.csv       \n",
      "   creating: __MACOSX/\n",
      "  inflating: __MACOSX/._2pageSessions.csv  \n",
      "  inflating: newsCorpora.csv         \n",
      "  inflating: __MACOSX/._newsCorpora.csv  \n",
      "  inflating: readme.txt              \n",
      "  inflating: __MACOSX/._readme.txt   \n"
     ]
    }
   ],
   "source": [
    "!wget https://archive.ics.uci.edu/ml/machine-learning-databases/00359/NewsAggregatorDataset.zip\n",
    "!unzip NewsAggregatorDataset.zip"
   ]
  },
  {
   "cell_type": "code",
   "execution_count": 3,
   "metadata": {
    "colab": {
     "base_uri": "https://localhost:8080/"
    },
    "executionInfo": {
     "elapsed": 28,
     "status": "ok",
     "timestamp": 1639375683831,
     "user": {
      "displayName": "yuki kato",
      "photoUrl": "https://lh3.googleusercontent.com/a/default-user=s64",
      "userId": "08430221927587521076"
     },
     "user_tz": -540
    },
    "id": "Eu097Nq33lU4",
    "outputId": "18ff5e60-b0b7-4853-d90f-a31a0a0ae4bd"
   },
   "outputs": [
    {
     "name": "stdout",
     "output_type": "stream",
     "text": [
      "422937 ./newsCorpora.csv\n"
     ]
    }
   ],
   "source": [
    "!wc -l ./newsCorpora.csv"
   ]
  },
  {
   "cell_type": "code",
   "execution_count": 4,
   "metadata": {
    "colab": {
     "base_uri": "https://localhost:8080/"
    },
    "executionInfo": {
     "elapsed": 20,
     "status": "ok",
     "timestamp": 1639375683833,
     "user": {
      "displayName": "yuki kato",
      "photoUrl": "https://lh3.googleusercontent.com/a/default-user=s64",
      "userId": "08430221927587521076"
     },
     "user_tz": -540
    },
    "id": "qYpfTYNs3m7C",
    "outputId": "95a396b0-7afc-414e-8788-dbf7ffa78c70"
   },
   "outputs": [
    {
     "name": "stdout",
     "output_type": "stream",
     "text": [
      "1\tFed official says weak data caused by weather, should not slow taper\thttp://www.latimes.com/business/money/la-fi-mo-federal-reserve-plosser-stimulus-economy-20140310,0,1312750.story\\?track=rss\tLos Angeles Times\tb\tddUyU0VZz0BRneMioxUPQVP6sIxvM\twww.latimes.com\t1394470370698\n",
      "2\tFed's Charles Plosser sees high bar for change in pace of tapering\thttp://www.livemint.com/Politics/H2EvwJSK2VE6OF7iK1g3PP/Feds-Charles-Plosser-sees-high-bar-for-change-in-pace-of-ta.html\tLivemint\tb\tddUyU0VZz0BRneMioxUPQVP6sIxvM\twww.livemint.com\t1394470371207\n",
      "3\tUS open: Stocks fall after Fed official hints at accelerated tapering\thttp://www.ifamagazine.com/news/us-open-stocks-fall-after-fed-official-hints-at-accelerated-tapering-294436\tIFA Magazine\tb\tddUyU0VZz0BRneMioxUPQVP6sIxvM\twww.ifamagazine.com\t1394470371550\n",
      "4\tFed risks falling 'behind the curve', Charles Plosser says\thttp://www.ifamagazine.com/news/fed-risks-falling-behind-the-curve-charles-plosser-says-294430\tIFA Magazine\tb\tddUyU0VZz0BRneMioxUPQVP6sIxvM\twww.ifamagazine.com\t1394470371793\n",
      "5\tFed's Plosser: Nasty Weather Has Curbed Job Growth\thttp://www.moneynews.com/Economy/federal-reserve-charles-plosser-weather-job-growth/2014/03/10/id/557011\tMoneynews\tb\tddUyU0VZz0BRneMioxUPQVP6sIxvM\twww.moneynews.com\t1394470372027\n",
      "6\tPlosser: Fed May Have to Accelerate Tapering Pace\thttp://www.nasdaq.com/article/plosser-fed-may-have-to-accelerate-tapering-pace-20140310-00371\tNASDAQ\tb\tddUyU0VZz0BRneMioxUPQVP6sIxvM\twww.nasdaq.com\t1394470372212\n",
      "7\tFed's Plosser: Taper pace may be too slow\thttp://www.marketwatch.com/story/feds-plosser-taper-pace-may-be-too-slow-2014-03-10\\?reflink=MW_news_stmp\tMarketWatch\tb\tddUyU0VZz0BRneMioxUPQVP6sIxvM\twww.marketwatch.com\t1394470372405\n",
      "8\tFed's Plosser expects US unemployment to fall to 6.2% by the end of 2014\thttp://www.fxstreet.com/news/forex-news/article.aspx\\?storyid=23285020-b1b5-47ed-a8c4-96124bb91a39\tFXstreet.com\tb\tddUyU0VZz0BRneMioxUPQVP6sIxvM\twww.fxstreet.com\t1394470372615\n",
      "9\tUS jobs growth last month hit by weather:Fed President Charles Plosser\thttp://economictimes.indiatimes.com/news/international/business/us-jobs-growth-last-month-hit-by-weatherfed-president-charles-plosser/articleshow/31788000.cms\tEconomic Times\tb\tddUyU0VZz0BRneMioxUPQVP6sIxvM\teconomictimes.indiatimes.com\t1394470372792\n",
      "10\tECB unlikely to end sterilisation of SMP purchases - traders\thttp://www.iii.co.uk/news-opinion/reuters/news/152615\tInteractive Investor\tb\tdPhGU51DcrolUIMxbRm0InaHGA2XM\twww.iii.co.uk\t1394470501265\n"
     ]
    }
   ],
   "source": [
    "!head -10 ./newsCorpora.csv"
   ]
  },
  {
   "cell_type": "code",
   "execution_count": 5,
   "metadata": {
    "id": "-RP3fa9J3odi"
   },
   "outputs": [],
   "source": [
    "# 読込時のエラー回避のためダブルクォーテーションをシングルクォーテーションに置換\n",
    "!sed -e 's/\"/'\\''/g' ./newsCorpora.csv > ./newsCorpora_re.csv"
   ]
  },
  {
   "cell_type": "code",
   "execution_count": 6,
   "metadata": {
    "colab": {
     "base_uri": "https://localhost:8080/"
    },
    "executionInfo": {
     "elapsed": 1766,
     "status": "ok",
     "timestamp": 1639375686436,
     "user": {
      "displayName": "yuki kato",
      "photoUrl": "https://lh3.googleusercontent.com/a/default-user=s64",
      "userId": "08430221927587521076"
     },
     "user_tz": -540
    },
    "id": "72HMxouv3rqG",
    "outputId": "e4c83ed5-d869-4bcd-f81c-2e02f122d145"
   },
   "outputs": [
    {
     "name": "stdout",
     "output_type": "stream",
     "text": [
      "【学習データ】\n",
      "b    4501\n",
      "e    4235\n",
      "t    1220\n",
      "m     728\n",
      "Name: CATEGORY, dtype: int64\n",
      "【検証データ】\n",
      "b    563\n",
      "e    529\n",
      "t    153\n",
      "m     91\n",
      "Name: CATEGORY, dtype: int64\n",
      "【評価データ】\n",
      "b    563\n",
      "e    530\n",
      "t    152\n",
      "m     91\n",
      "Name: CATEGORY, dtype: int64\n"
     ]
    }
   ],
   "source": [
    "import pandas as pd\n",
    "from sklearn.model_selection import train_test_split\n",
    "\n",
    "# データの読込\n",
    "df = pd.read_csv(\n",
    "    \"./newsCorpora_re.csv\",\n",
    "    header=None,\n",
    "    sep=\"\\t\",\n",
    "    names=[\n",
    "        \"ID\",\n",
    "        \"TITLE\",\n",
    "        \"URL\",\n",
    "        \"PUBLISHER\",\n",
    "        \"CATEGORY\",\n",
    "        \"STORY\",\n",
    "        \"HOSTNAME\",\n",
    "        \"TIMESTAMP\",\n",
    "    ],\n",
    ")\n",
    "\n",
    "# データの抽出\n",
    "df = df.loc[\n",
    "    df[\"PUBLISHER\"].isin(\n",
    "        [\"Reuters\", \"Huffington Post\", \"Businessweek\", \"Contactmusic.com\", \"Daily Mail\"]\n",
    "    ),\n",
    "    [\"TITLE\", \"CATEGORY\"],\n",
    "]\n",
    "\n",
    "# データの分割\n",
    "train, valid_test = train_test_split(\n",
    "    df, test_size=0.2, shuffle=True, random_state=123, stratify=df[\"CATEGORY\"]\n",
    ")\n",
    "valid, test = train_test_split(\n",
    "    valid_test,\n",
    "    test_size=0.5,\n",
    "    shuffle=True,\n",
    "    random_state=123,\n",
    "    stratify=valid_test[\"CATEGORY\"],\n",
    ")\n",
    "train.reset_index(drop=True, inplace=True)\n",
    "valid.reset_index(drop=True, inplace=True)\n",
    "test.reset_index(drop=True, inplace=True)\n",
    "\n",
    "# 事例数の確認\n",
    "print(\"【学習データ】\")\n",
    "print(train[\"CATEGORY\"].value_counts())\n",
    "print(\"【検証データ】\")\n",
    "print(valid[\"CATEGORY\"].value_counts())\n",
    "print(\"【評価データ】\")\n",
    "print(test[\"CATEGORY\"].value_counts())"
   ]
  },
  {
   "cell_type": "code",
   "execution_count": 7,
   "metadata": {
    "colab": {
     "base_uri": "https://localhost:8080/"
    },
    "executionInfo": {
     "elapsed": 229,
     "status": "ok",
     "timestamp": 1639375686660,
     "user": {
      "displayName": "yuki kato",
      "photoUrl": "https://lh3.googleusercontent.com/a/default-user=s64",
      "userId": "08430221927587521076"
     },
     "user_tz": -540
    },
    "id": "HwnVr4g_3u4T",
    "outputId": "450500a4-bf5d-4fc8-cc33-dd2c34826688"
   },
   "outputs": [
    {
     "name": "stdout",
     "output_type": "stream",
     "text": [
      "ID数: 9405\n",
      "\n",
      "---頻度上位20語---\n",
      "to: 1\n",
      "s: 2\n",
      "in: 3\n",
      "on: 4\n",
      "UPDATE: 5\n",
      "as: 6\n",
      "US: 7\n",
      "for: 8\n",
      "The: 9\n",
      "of: 10\n",
      "1: 11\n",
      "To: 12\n",
      "2: 13\n",
      "the: 14\n",
      "and: 15\n",
      "In: 16\n",
      "Of: 17\n",
      "a: 18\n",
      "at: 19\n",
      "A: 20\n"
     ]
    }
   ],
   "source": [
    "from collections import defaultdict\n",
    "import string\n",
    "\n",
    "# 単語の頻度集計\n",
    "d = defaultdict(int)\n",
    "table = str.maketrans(\n",
    "    string.punctuation, \" \" * len(string.punctuation)\n",
    ")  # 記号をスペースに置換するテーブル\n",
    "for text in train[\"TITLE\"]:\n",
    "    for word in text.translate(table).split():\n",
    "        d[word] += 1\n",
    "d = sorted(d.items(), key=lambda x: x[1], reverse=True)\n",
    "\n",
    "# 単語ID辞書の作成\n",
    "word2id = {word: i + 1 for i, (word, cnt) in enumerate(d) if cnt > 1}  # 出現頻度が2回以上の単語を登録\n",
    "\n",
    "print(f\"ID数: {len(set(word2id.values()))}\\n\")\n",
    "print(\"---頻度上位20語---\")\n",
    "for key in list(word2id)[:20]:\n",
    "    print(f\"{key}: {word2id[key]}\")"
   ]
  },
  {
   "cell_type": "code",
   "execution_count": 8,
   "metadata": {
    "id": "vxw1R-YrYeUs"
   },
   "outputs": [],
   "source": [
    "import torch\n",
    "\n",
    "\n",
    "def tokenizer(text, word2id=word2id, unk=0):\n",
    "    \"\"\"入力テキストをスペースで分割しID列に変換(辞書になければunkで指定した数字を設定)\"\"\"\n",
    "    table = str.maketrans(string.punctuation, \" \" * len(string.punctuation))\n",
    "    return [word2id.get(word, unk) for word in text.translate(table).split()]"
   ]
  },
  {
   "cell_type": "code",
   "execution_count": 9,
   "metadata": {
    "colab": {
     "base_uri": "https://localhost:8080/"
    },
    "executionInfo": {
     "elapsed": 25,
     "status": "ok",
     "timestamp": 1639375692281,
     "user": {
      "displayName": "yuki kato",
      "photoUrl": "https://lh3.googleusercontent.com/a/default-user=s64",
      "userId": "08430221927587521076"
     },
     "user_tz": -540
    },
    "id": "9Tb4nZnQ8COI",
    "outputId": "752c2552-c01e-46b0-8c72-4e0e1a7cc687"
   },
   "outputs": [
    {
     "name": "stdout",
     "output_type": "stream",
     "text": [
      "テキスト: Amazon Plans to Fight FTC Over Mobile-App Purchases\n",
      "ID列: [169, 539, 1, 683, 1237, 82, 279, 1898, 4199]\n"
     ]
    }
   ],
   "source": [
    "# 確認\n",
    "text = train.iloc[1, train.columns.get_loc(\"TITLE\")]\n",
    "print(f\"テキスト: {text}\")\n",
    "print(f\"ID列: {tokenizer(text)}\")"
   ]
  },
  {
   "cell_type": "markdown",
   "metadata": {
    "id": "kg6cupCatOp2"
   },
   "source": [
    "## 81. RNNによる予測\n",
    "***\n",
    "ID番号で表現された単語列$\\boldsymbol{x} = (x_1, x_2, \\dots, x_T)$がある．ただし，$T$は単語列の長さ，$x_t \\in \\mathbb{R}^{V}$は単語のID番号のone-hot表記である（$V$は単語の総数である）．再帰型ニューラルネットワーク（RNN: Recurrent Neural Network）を用い，単語列$\\boldsymbol{x}$からカテゴリ$y$を予測するモデルとして，次式を実装せよ．\n",
    "\n",
    "$\n",
    "\\overrightarrow h_0 = 0, \\\\\n",
    "\\overrightarrow h_t = {\\rm \\overrightarrow{RNN}}(\\mathrm{emb}(x_t), \\overrightarrow h_{t-1}), \\\\\n",
    "y = {\\rm softmax}(W^{(yh)} \\overrightarrow h_T + b^{(y)})\n",
    "$\n",
    "\n",
    "ただし，$\\mathrm{emb}(x) \\in \\mathbb{R}^{d_w}$は単語埋め込み（単語のone-hot表記から単語ベクトルに変換する関数），$\\overrightarrow h_t \\in \\mathbb{R}^{d_h}$は時刻$t$の隠れ状態ベクトル，${\\rm \\overrightarrow{RNN}}(x,h)$は入力$x$と前時刻の隠れ状態$h$から次状態を計算するRNNユニット，$W^{(yh)} \\in \\mathbb{R}^{L \\times d_h}$は隠れ状態ベクトルからカテゴリを予測するための行列，$b^{(y)} \\in \\mathbb{R}^{L}$はバイアス項である（$d_w, d_h, L$はそれぞれ，単語埋め込みの次元数，隠れ状態ベクトルの次元数，ラベル数である）．RNNユニット${\\rm \\overrightarrow{RNN}}(x,h)$には様々な構成が考えられるが，典型例として次式が挙げられる．\n",
    "\n",
    "$\n",
    "{\\rm \\overrightarrow{RNN}}(x,h) = g(W^{(hx)} x + W^{(hh)}h + b^{(h)})\n",
    "$\n",
    "\n",
    "ただし，$W^{(hx)} \\in \\mathbb{R}^{d_h \\times d_w}，W^{(hh)} \\in \\mathbb{R}^{d_h \\times d_h}, b^{(h)} \\in \\mathbb{R}^{d_h}$はRNNユニットのパラメータ，$g$は活性化関数（例えば$\\tanh$やReLUなど）である．\n",
    "\n",
    "なお，この問題ではパラメータの学習を行わず，ランダムに初期化されたパラメータで$y$を計算するだけでよい．次元数などのハイパーパラメータは，$d_w = 300, d_h=50$など，適当な値に設定せよ（以降の問題でも同様である）．"
   ]
  },
  {
   "cell_type": "code",
   "execution_count": 10,
   "metadata": {
    "id": "P1oUpVw9E0Z5"
   },
   "outputs": [],
   "source": [
    "import torch\n",
    "from torch import nn\n",
    "\n",
    "\n",
    "class RNN(nn.Module):\n",
    "    def __init__(self, vocab_size, emb_size, padding_idx, output_size, hidden_size):\n",
    "        super().__init__()\n",
    "        self.hidden_size = hidden_size\n",
    "        self.emb = nn.Embedding(vocab_size, emb_size, padding_idx=padding_idx)\n",
    "        self.rnn = nn.RNN(emb_size, hidden_size, nonlinearity=\"tanh\", batch_first=True)\n",
    "        self.fc = nn.Linear(hidden_size, output_size)\n",
    "\n",
    "    def forward(self, x):\n",
    "        self.batch_size = x.size()[0]\n",
    "        hidden = self.init_hidden()  # h0のゼロベクトルを作成\n",
    "        emb = self.emb(x)\n",
    "        # emb.size() = (batch_size, seq_len, emb_size)\n",
    "        out, hidden = self.rnn(emb, hidden)\n",
    "        # out.size() = (batch_size, seq_len, hidden_size)\n",
    "        out = self.fc(out[:, -1, :])\n",
    "        # out.size() = (batch_size, output_size)\n",
    "        return out\n",
    "\n",
    "    def init_hidden(self):\n",
    "        hidden = torch.zeros(1, self.batch_size, self.hidden_size)\n",
    "        return hidden"
   ]
  },
  {
   "cell_type": "code",
   "execution_count": 11,
   "metadata": {
    "id": "6lmwB5KpVXLT"
   },
   "outputs": [],
   "source": [
    "from torch.utils.data import Dataset\n",
    "\n",
    "\n",
    "class CreateDataset(Dataset):\n",
    "    def __init__(self, X, y, tokenizer):\n",
    "        self.X = X\n",
    "        self.y = y\n",
    "        self.tokenizer = tokenizer\n",
    "\n",
    "    def __len__(self):  # len(Dataset)で返す値を指定\n",
    "        return len(self.y)\n",
    "\n",
    "    def __getitem__(self, index):  # Dataset[index]で返す値を指定\n",
    "        text = self.X[index]\n",
    "        inputs = self.tokenizer(text)\n",
    "\n",
    "        return {\n",
    "            \"inputs\": torch.tensor(inputs, dtype=torch.int64),\n",
    "            \"labels\": torch.tensor(self.y[index], dtype=torch.int64),\n",
    "        }"
   ]
  },
  {
   "cell_type": "code",
   "execution_count": 12,
   "metadata": {
    "colab": {
     "base_uri": "https://localhost:8080/"
    },
    "executionInfo": {
     "elapsed": 19,
     "status": "ok",
     "timestamp": 1639375692283,
     "user": {
      "displayName": "yuki kato",
      "photoUrl": "https://lh3.googleusercontent.com/a/default-user=s64",
      "userId": "08430221927587521076"
     },
     "user_tz": -540
    },
    "id": "_9zREV8wyKvH",
    "outputId": "6fbce24b-c931-4f6f-ee1a-fd8fa7995a90"
   },
   "outputs": [
    {
     "name": "stdout",
     "output_type": "stream",
     "text": [
      "len(Dataset)の出力: 10684\n",
      "Dataset[index]の出力:\n",
      "  inputs: tensor([ 169,  539,    1,  683, 1237,   82,  279, 1898, 4199])\n",
      "  labels: 1\n"
     ]
    }
   ],
   "source": [
    "# ラベルベクトルの作成\n",
    "category_dict = {\"b\": 0, \"t\": 1, \"e\": 2, \"m\": 3}\n",
    "y_train = train[\"CATEGORY\"].map(lambda x: category_dict[x]).values\n",
    "y_valid = valid[\"CATEGORY\"].map(lambda x: category_dict[x]).values\n",
    "y_test = test[\"CATEGORY\"].map(lambda x: category_dict[x]).values\n",
    "\n",
    "# Datasetの作成\n",
    "dataset_train = CreateDataset(train[\"TITLE\"], y_train, tokenizer)\n",
    "dataset_valid = CreateDataset(valid[\"TITLE\"], y_valid, tokenizer)\n",
    "dataset_test = CreateDataset(test[\"TITLE\"], y_test, tokenizer)\n",
    "\n",
    "print(f\"len(Dataset)の出力: {len(dataset_train)}\")\n",
    "print(\"Dataset[index]の出力:\")\n",
    "for var in dataset_train[1]:\n",
    "    print(f\"  {var}: {dataset_train[1][var]}\")"
   ]
  },
  {
   "cell_type": "code",
   "execution_count": 13,
   "metadata": {
    "colab": {
     "base_uri": "https://localhost:8080/"
    },
    "executionInfo": {
     "elapsed": 866,
     "status": "ok",
     "timestamp": 1639375693135,
     "user": {
      "displayName": "yuki kato",
      "photoUrl": "https://lh3.googleusercontent.com/a/default-user=s64",
      "userId": "08430221927587521076"
     },
     "user_tz": -540
    },
    "id": "15JKaURP5OSx",
    "outputId": "5aa5a6e2-94d4-4693-b2a3-70200d8d0c1e"
   },
   "outputs": [
    {
     "name": "stdout",
     "output_type": "stream",
     "text": [
      "tensor([[0.2943, 0.2483, 0.2929, 0.1644]], grad_fn=<SoftmaxBackward0>)\n",
      "tensor([[0.3062, 0.1617, 0.2641, 0.2680]], grad_fn=<SoftmaxBackward0>)\n",
      "tensor([[0.1730, 0.3827, 0.2816, 0.1627]], grad_fn=<SoftmaxBackward0>)\n",
      "tensor([[0.1866, 0.2277, 0.3501, 0.2356]], grad_fn=<SoftmaxBackward0>)\n",
      "tensor([[0.1732, 0.2317, 0.2947, 0.3005]], grad_fn=<SoftmaxBackward0>)\n",
      "tensor([[0.2764, 0.2840, 0.2510, 0.1886]], grad_fn=<SoftmaxBackward0>)\n",
      "tensor([[0.4705, 0.1837, 0.1945, 0.1513]], grad_fn=<SoftmaxBackward0>)\n",
      "tensor([[0.2916, 0.2341, 0.2349, 0.2394]], grad_fn=<SoftmaxBackward0>)\n",
      "tensor([[0.1116, 0.2457, 0.3938, 0.2489]], grad_fn=<SoftmaxBackward0>)\n",
      "tensor([[0.1811, 0.1562, 0.1508, 0.5120]], grad_fn=<SoftmaxBackward0>)\n"
     ]
    }
   ],
   "source": [
    "# パラメータの設定\n",
    "VOCAB_SIZE = len(set(word2id.values())) + 1  # 辞書のID数 + パディングID\n",
    "EMB_SIZE = 300\n",
    "PADDING_IDX = len(set(word2id.values()))\n",
    "OUTPUT_SIZE = 4\n",
    "HIDDEN_SIZE = 50\n",
    "\n",
    "# モデルの定義\n",
    "model = RNN(VOCAB_SIZE, EMB_SIZE, PADDING_IDX, OUTPUT_SIZE, HIDDEN_SIZE)\n",
    "\n",
    "# 先頭10件の予測値取得\n",
    "for i in range(10):\n",
    "    X = dataset_train[i][\"inputs\"]\n",
    "    print(torch.softmax(model(X.unsqueeze(0)), dim=-1))"
   ]
  },
  {
   "cell_type": "markdown",
   "metadata": {
    "id": "1YeO1tfjt8yd"
   },
   "source": [
    "## 82. 確率的勾配降下法による学習\n",
    "***\n",
    "確率的勾配降下法（SGD: Stochastic Gradient Descent）を用いて，問題81で構築したモデルを学習せよ．訓練データ上の損失と正解率，評価データ上の損失と正解率を表示しながらモデルを学習し，適当な基準（例えば10エポックなど）で終了させよ．"
   ]
  },
  {
   "cell_type": "code",
   "execution_count": 14,
   "metadata": {
    "id": "W6KqxSex39i1"
   },
   "outputs": [],
   "source": [
    "from torch.utils.data import DataLoader\n",
    "import time\n",
    "from torch import optim\n",
    "\n",
    "\n",
    "def calculate_loss_and_accuracy(model, dataset, device=None, criterion=None):\n",
    "    \"\"\"損失・正解率を計算\"\"\"\n",
    "    dataloader = DataLoader(dataset, batch_size=1, shuffle=False)\n",
    "    loss = 0.0\n",
    "    total = 0\n",
    "    correct = 0\n",
    "    with torch.no_grad():\n",
    "        for data in dataloader:\n",
    "            # デバイスの指定\n",
    "            inputs = data[\"inputs\"].to(device)\n",
    "            labels = data[\"labels\"].to(device)\n",
    "\n",
    "            # 順伝播\n",
    "            outputs = model(inputs)\n",
    "\n",
    "            # 損失計算\n",
    "            if criterion != None:\n",
    "                loss += criterion(outputs, labels).item()\n",
    "\n",
    "            # 正解率計算\n",
    "            pred = torch.argmax(outputs, dim=-1)\n",
    "            total += len(inputs)\n",
    "            correct += (pred == labels).sum().item()\n",
    "\n",
    "    return loss / len(dataset), correct / total\n",
    "\n",
    "\n",
    "def train_model(\n",
    "    dataset_train,\n",
    "    dataset_valid,\n",
    "    batch_size,\n",
    "    model,\n",
    "    criterion,\n",
    "    optimizer,\n",
    "    num_epochs,\n",
    "    collate_fn=None,\n",
    "    device=None,\n",
    "):\n",
    "    \"\"\"モデルの学習を実行し、損失・正解率のログを返す\"\"\"\n",
    "    # デバイスの指定\n",
    "    model.to(device)\n",
    "\n",
    "    # dataloaderの作成\n",
    "    dataloader_train = DataLoader(\n",
    "        dataset_train, batch_size=batch_size, shuffle=True, collate_fn=collate_fn\n",
    "    )\n",
    "    dataloader_valid = DataLoader(dataset_valid, batch_size=1, shuffle=False)\n",
    "\n",
    "    # スケジューラの設定\n",
    "    scheduler = optim.lr_scheduler.CosineAnnealingLR(\n",
    "        optimizer, num_epochs, eta_min=1e-5, last_epoch=-1\n",
    "    )\n",
    "\n",
    "    # 学習\n",
    "    log_train = []\n",
    "    log_valid = []\n",
    "    for epoch in range(num_epochs):\n",
    "        # 開始時刻の記録\n",
    "        s_time = time.time()\n",
    "\n",
    "        # 訓練モードに設定\n",
    "        model.train()\n",
    "        for data in dataloader_train:\n",
    "            # 勾配をゼロで初期化\n",
    "            optimizer.zero_grad()\n",
    "\n",
    "            # 順伝播 + 誤差逆伝播 + 重み更新\n",
    "            inputs = data[\"inputs\"].to(device)\n",
    "            labels = data[\"labels\"].to(device)\n",
    "            outputs = model.forward(inputs)\n",
    "            loss = criterion(outputs, labels)\n",
    "            loss.backward()\n",
    "            optimizer.step()\n",
    "\n",
    "        # 評価モードに設定\n",
    "        model.eval()\n",
    "\n",
    "        # 損失と正解率の算出\n",
    "        loss_train, acc_train = calculate_loss_and_accuracy(\n",
    "            model, dataset_train, device, criterion=criterion\n",
    "        )\n",
    "        loss_valid, acc_valid = calculate_loss_and_accuracy(\n",
    "            model, dataset_valid, device, criterion=criterion\n",
    "        )\n",
    "        log_train.append([loss_train, acc_train])\n",
    "        log_valid.append([loss_valid, acc_valid])\n",
    "\n",
    "        # チェックポイントの保存\n",
    "        torch.save(\n",
    "            {\n",
    "                \"epoch\": epoch,\n",
    "                \"model_state_dict\": model.state_dict(),\n",
    "                \"optimizer_state_dict\": optimizer.state_dict(),\n",
    "            },\n",
    "            f\"checkpoint{epoch + 1}.pt\",\n",
    "        )\n",
    "\n",
    "        # 終了時刻の記録\n",
    "        e_time = time.time()\n",
    "\n",
    "        # ログを出力\n",
    "        print(\n",
    "            f\"epoch: {epoch + 1}, loss_train: {loss_train:.4f}, accuracy_train: {acc_train:.4f}, loss_valid: {loss_valid:.4f}, accuracy_valid: {acc_valid:.4f}, {(e_time - s_time):.4f}sec\"\n",
    "        )\n",
    "\n",
    "        # 検証データの損失が3エポック連続で低下しなかった場合は学習終了\n",
    "        if (\n",
    "            epoch > 2\n",
    "            and log_valid[epoch - 3][0]\n",
    "            <= log_valid[epoch - 2][0]\n",
    "            <= log_valid[epoch - 1][0]\n",
    "            <= log_valid[epoch][0]\n",
    "        ):\n",
    "            break\n",
    "\n",
    "        # スケジューラを1ステップ進める\n",
    "        scheduler.step()\n",
    "\n",
    "    return {\"train\": log_train, \"valid\": log_valid}"
   ]
  },
  {
   "cell_type": "code",
   "execution_count": 15,
   "metadata": {
    "id": "Eyxz7G2FUJqa"
   },
   "outputs": [],
   "source": [
    "def visualize_logs(log):\n",
    "    fig, ax = plt.subplots(1, 2, figsize=(15, 5))\n",
    "    ax[0].plot(np.array(log[\"train\"]).T[0], label=\"train\")\n",
    "    ax[0].plot(np.array(log[\"valid\"]).T[0], label=\"valid\")\n",
    "    ax[0].set_xlabel(\"epoch\")\n",
    "    ax[0].set_ylabel(\"loss\")\n",
    "    ax[0].legend()\n",
    "    ax[1].plot(np.array(log[\"train\"]).T[1], label=\"train\")\n",
    "    ax[1].plot(np.array(log[\"valid\"]).T[1], label=\"valid\")\n",
    "    ax[1].set_xlabel(\"epoch\")\n",
    "    ax[1].set_ylabel(\"accuracy\")\n",
    "    ax[1].legend()\n",
    "    plt.show()"
   ]
  },
  {
   "cell_type": "code",
   "execution_count": 16,
   "metadata": {
    "colab": {
     "base_uri": "https://localhost:8080/"
    },
    "executionInfo": {
     "elapsed": 922402,
     "status": "ok",
     "timestamp": 1639376615532,
     "user": {
      "displayName": "yuki kato",
      "photoUrl": "https://lh3.googleusercontent.com/a/default-user=s64",
      "userId": "08430221927587521076"
     },
     "user_tz": -540
    },
    "id": "RbnR2H37uLop",
    "outputId": "7b489d12-efef-4c9c-e3ff-db92dc3bf4a1"
   },
   "outputs": [
    {
     "name": "stdout",
     "output_type": "stream",
     "text": [
      "epoch: 1, loss_train: 1.1157, accuracy_train: 0.5135, loss_valid: 1.1435, accuracy_valid: 0.4843, 82.2366sec\n",
      "epoch: 2, loss_train: 1.0408, accuracy_train: 0.5692, loss_valid: 1.1063, accuracy_valid: 0.5262, 81.5272sec\n",
      "epoch: 3, loss_train: 0.9128, accuracy_train: 0.6569, loss_valid: 1.0128, accuracy_valid: 0.6085, 81.9107sec\n",
      "epoch: 4, loss_train: 0.7489, accuracy_train: 0.7374, loss_valid: 0.8805, accuracy_valid: 0.6939, 82.1545sec\n",
      "epoch: 5, loss_train: 0.6510, accuracy_train: 0.7726, loss_valid: 0.7842, accuracy_valid: 0.7268, 89.0484sec\n",
      "epoch: 6, loss_train: 0.5786, accuracy_train: 0.7922, loss_valid: 0.7382, accuracy_valid: 0.7463, 82.0808sec\n",
      "epoch: 7, loss_train: 0.5294, accuracy_train: 0.8105, loss_valid: 0.7140, accuracy_valid: 0.7530, 81.8364sec\n",
      "epoch: 8, loss_train: 0.4947, accuracy_train: 0.8213, loss_valid: 0.6923, accuracy_valid: 0.7612, 81.9059sec\n",
      "epoch: 9, loss_train: 0.4804, accuracy_train: 0.8254, loss_valid: 0.6897, accuracy_valid: 0.7597, 80.9005sec\n",
      "epoch: 10, loss_train: 0.4731, accuracy_train: 0.8294, loss_valid: 0.6871, accuracy_valid: 0.7620, 81.5712sec\n"
     ]
    }
   ],
   "source": [
    "# パラメータの設定\n",
    "VOCAB_SIZE = len(set(word2id.values())) + 1  # 辞書のID数 + パディングID\n",
    "EMB_SIZE = 300\n",
    "PADDING_IDX = len(set(word2id.values()))\n",
    "OUTPUT_SIZE = 4\n",
    "HIDDEN_SIZE = 50\n",
    "LEARNING_RATE = 1e-3\n",
    "BATCH_SIZE = 1\n",
    "NUM_EPOCHS = 10\n",
    "\n",
    "# モデルの定義\n",
    "model = RNN(VOCAB_SIZE, EMB_SIZE, PADDING_IDX, OUTPUT_SIZE, HIDDEN_SIZE)\n",
    "\n",
    "# 損失関数の定義\n",
    "criterion = nn.CrossEntropyLoss()\n",
    "\n",
    "# オプティマイザの定義\n",
    "optimizer = torch.optim.SGD(model.parameters(), lr=LEARNING_RATE)\n",
    "\n",
    "# モデルの学習\n",
    "log = train_model(\n",
    "    dataset_train, dataset_valid, BATCH_SIZE, model, criterion, optimizer, NUM_EPOCHS\n",
    ")"
   ]
  },
  {
   "cell_type": "code",
   "execution_count": 17,
   "metadata": {
    "colab": {
     "base_uri": "https://localhost:8080/",
     "height": 308
    },
    "executionInfo": {
     "elapsed": 7523,
     "status": "ok",
     "timestamp": 1639376623048,
     "user": {
      "displayName": "yuki kato",
      "photoUrl": "https://lh3.googleusercontent.com/a/default-user=s64",
      "userId": "08430221927587521076"
     },
     "user_tz": -540
    },
    "id": "JA4MJiDl0ax1",
    "outputId": "b6838ebd-99c6-4acd-a229-cc54dd3bf6ea"
   },
   "outputs": [
    {
     "data": {
      "image/png": "[encoded data removed]",
      "text/plain": [
       "<Figure size 1080x360 with 2 Axes>"
      ]
     },
     "metadata": {
      "needs_background": "light"
     },
     "output_type": "display_data"
    },
    {
     "name": "stdout",
     "output_type": "stream",
     "text": [
      "正解率（学習データ）：0.829\n",
      "正解率（評価データ）：0.784\n"
     ]
    }
   ],
   "source": [
    "import numpy as np\n",
    "from matplotlib import pyplot as plt\n",
    "\n",
    "# ログの可視化\n",
    "visualize_logs(log)\n",
    "\n",
    "# 正解率の算出\n",
    "_, acc_train = calculate_loss_and_accuracy(model, dataset_train)\n",
    "_, acc_test = calculate_loss_and_accuracy(model, dataset_test)\n",
    "print(f\"正解率（学習データ）：{acc_train:.3f}\")\n",
    "print(f\"正解率（評価データ）：{acc_test:.3f}\")"
   ]
  },
  {
   "cell_type": "markdown",
   "metadata": {
    "id": "TInOdJ-yuRFC"
   },
   "source": [
    "## 83. ミニバッチ化・GPU上での学習\n",
    "***\n",
    "問題82のコードを改変し，$B$事例ごとに損失・勾配を計算して学習を行えるようにせよ（$B$の値は適当に選べ）．また，GPU上で学習を実行せよ．"
   ]
  },
  {
   "cell_type": "code",
   "execution_count": 18,
   "metadata": {
    "id": "B2vkIXjn3GvM"
   },
   "outputs": [],
   "source": [
    "class Padsequence:\n",
    "    \"\"\"Dataloaderからミニバッチを取り出すごとに最大系列長でパディング\"\"\"\n",
    "\n",
    "    def __init__(self, padding_idx):\n",
    "        self.padding_idx = padding_idx\n",
    "\n",
    "    def __call__(self, batch):\n",
    "        sorted_batch = sorted(batch, key=lambda x: x[\"inputs\"].shape[0], reverse=True)\n",
    "        sequences = [x[\"inputs\"] for x in sorted_batch]\n",
    "        sequences_padded = torch.nn.utils.rnn.pad_sequence(\n",
    "            sequences, batch_first=True, padding_value=self.padding_idx\n",
    "        )\n",
    "        labels = torch.LongTensor([x[\"labels\"] for x in sorted_batch])\n",
    "\n",
    "        return {\"inputs\": sequences_padded, \"labels\": labels}"
   ]
  },
  {
   "cell_type": "code",
   "execution_count": 19,
   "metadata": {
    "colab": {
     "base_uri": "https://localhost:8080/"
    },
    "executionInfo": {
     "elapsed": 115741,
     "status": "ok",
     "timestamp": 1639376823481,
     "user": {
      "displayName": "yuki kato",
      "photoUrl": "https://lh3.googleusercontent.com/a/default-user=s64",
      "userId": "08430221927587521076"
     },
     "user_tz": -540
    },
    "id": "9bFyZDDd4G3i",
    "outputId": "d2982d99-b40b-4102-9c96-9aebb42acd36"
   },
   "outputs": [
    {
     "name": "stdout",
     "output_type": "stream",
     "text": [
      "epoch: 1, loss_train: 1.2739, accuracy_train: 0.4054, loss_valid: 1.2892, accuracy_valid: 0.3975, 10.2160sec\n",
      "epoch: 2, loss_train: 1.1627, accuracy_train: 0.5055, loss_valid: 1.1728, accuracy_valid: 0.4843, 10.2643sec\n",
      "epoch: 3, loss_train: 1.1027, accuracy_train: 0.5843, loss_valid: 1.1497, accuracy_valid: 0.5674, 10.3016sec\n",
      "epoch: 4, loss_train: 1.1592, accuracy_train: 0.4973, loss_valid: 1.1746, accuracy_valid: 0.4805, 10.1225sec\n",
      "epoch: 5, loss_train: 1.2559, accuracy_train: 0.4370, loss_valid: 1.2829, accuracy_valid: 0.4222, 10.1053sec\n",
      "epoch: 6, loss_train: 1.2024, accuracy_train: 0.4782, loss_valid: 1.2508, accuracy_valid: 0.4633, 10.0900sec\n",
      "epoch: 7, loss_train: 1.1436, accuracy_train: 0.5234, loss_valid: 1.1953, accuracy_valid: 0.5097, 10.4280sec\n",
      "epoch: 8, loss_train: 1.1304, accuracy_train: 0.5346, loss_valid: 1.1816, accuracy_valid: 0.5172, 10.1155sec\n",
      "epoch: 9, loss_train: 1.0888, accuracy_train: 0.5725, loss_valid: 1.1458, accuracy_valid: 0.5472, 10.0014sec\n",
      "epoch: 10, loss_train: 1.0786, accuracy_train: 0.5799, loss_valid: 1.1325, accuracy_valid: 0.5524, 10.0571sec\n"
     ]
    }
   ],
   "source": [
    "# パラメータの設定\n",
    "VOCAB_SIZE = len(set(word2id.values())) + 1  # 辞書のID数 + パディングID\n",
    "EMB_SIZE = 300\n",
    "PADDING_IDX = len(set(word2id.values()))\n",
    "OUTPUT_SIZE = 4\n",
    "HIDDEN_SIZE = 50\n",
    "LEARNING_RATE = 5e-2\n",
    "BATCH_SIZE = 32\n",
    "NUM_EPOCHS = 10\n",
    "\n",
    "# モデルの定義\n",
    "model = RNN(VOCAB_SIZE, EMB_SIZE, PADDING_IDX, OUTPUT_SIZE, HIDDEN_SIZE)\n",
    "\n",
    "# 損失関数の定義\n",
    "criterion = nn.CrossEntropyLoss()\n",
    "\n",
    "# オプティマイザの定義\n",
    "optimizer = torch.optim.SGD(model.parameters(), lr=LEARNING_RATE)\n",
    "\n",
    "# デバイスの指定\n",
    "device = torch.device(\"cpu\")\n",
    "\n",
    "# モデルの学習\n",
    "log = train_model(\n",
    "    dataset_train,\n",
    "    dataset_valid,\n",
    "    BATCH_SIZE,\n",
    "    model,\n",
    "    criterion,\n",
    "    optimizer,\n",
    "    NUM_EPOCHS,\n",
    "    collate_fn=Padsequence(PADDING_IDX),\n",
    "    device=device,\n",
    ")"
   ]
  },
  {
   "cell_type": "code",
   "execution_count": 20,
   "metadata": {
    "colab": {
     "base_uri": "https://localhost:8080/",
     "height": 306
    },
    "executionInfo": {
     "elapsed": 7595,
     "status": "ok",
     "timestamp": 1639376831807,
     "user": {
      "displayName": "yuki kato",
      "photoUrl": "https://lh3.googleusercontent.com/a/default-user=s64",
      "userId": "08430221927587521076"
     },
     "user_tz": -540
    },
    "id": "oZCdS6ObSdCH",
    "outputId": "382323a9-f2d6-4746-f080-b56bcb0f1857"
   },
   "outputs": [
    {
     "data": {
      "image/png": "[encoded data removed]",
      "text/plain": [
       "<Figure size 1080x360 with 2 Axes>"
      ]
     },
     "metadata": {
      "needs_background": "light"
     },
     "output_type": "display_data"
    },
    {
     "name": "stdout",
     "output_type": "stream",
     "text": [
      "正解率（学習データ）：0.580\n",
      "正解率（評価データ）：0.559\n"
     ]
    }
   ],
   "source": [
    "# ログの可視化\n",
    "visualize_logs(log)\n",
    "\n",
    "# 正解率の算出\n",
    "_, acc_train = calculate_loss_and_accuracy(model, dataset_train, device)\n",
    "_, acc_test = calculate_loss_and_accuracy(model, dataset_test, device)\n",
    "print(f\"正解率（学習データ）：{acc_train:.3f}\")\n",
    "print(f\"正解率（評価データ）：{acc_test:.3f}\")"
   ]
  },
  {
   "cell_type": "markdown",
   "metadata": {
    "id": "K0rt9DYxuwR_"
   },
   "source": [
    "## 84. 単語ベクトルの導入\n",
    "***\n",
    "事前学習済みの単語ベクトル（例えば，Google Newsデータセット（約1,000億単語）での学習済み単語ベクトル）で単語埋め込み$emb(x)$を初期化し，学習せよ．"
   ]
  },
  {
   "cell_type": "code",
   "execution_count": 21,
   "metadata": {
    "colab": {
     "base_uri": "https://localhost:8080/"
    },
    "executionInfo": {
     "elapsed": 24882,
     "status": "ok",
     "timestamp": 1639376856681,
     "user": {
      "displayName": "yuki kato",
      "photoUrl": "https://lh3.googleusercontent.com/a/default-user=s64",
      "userId": "08430221927587521076"
     },
     "user_tz": -540
    },
    "id": "EOWVVcrdqEOH",
    "outputId": "02ebd1ca-a1e4-4722-a206-d26e7c4bccc7"
   },
   "outputs": [],
   "source": [
    "# FILE_ID = \"0B7XkCwpI5KDYNlNUTTlSS21pQmM\"\n",
    "# FILE_NAME = \"GoogleNews-vectors-negative300.bin.gz\"\n",
    "# !wget --load-cookies /tmp/cookies.txt \"https://docs.google.com/uc?export=download&confirm=$(wget --quiet --save-cookies /tmp/cookies.txt --keep-session-cookies --no-check-certificate 'https://docs.google.com/uc?export=download&id=$FILE_ID' -O- | sed -rn 's/.*confirm=([0-9A-Za-z_]+).*/\\1\\n/p')&id=$FILE_ID\" -O $FILE_NAME && rm -rf /tmp/cookies.txt\n",
    "\n",
    "# 下記からダウンロードできます。\n",
    "# https://s3.amazonaws.com/dl4j-distribution/GoogleNews-vectors-negative300.bin.gz"
   ]
  },
  {
   "cell_type": "code",
   "execution_count": 22,
   "metadata": {
    "colab": {
     "base_uri": "https://localhost:8080/"
    },
    "executionInfo": {
     "elapsed": 160890,
     "status": "ok",
     "timestamp": 1639377017564,
     "user": {
      "displayName": "yuki kato",
      "photoUrl": "https://lh3.googleusercontent.com/a/default-user=s64",
      "userId": "08430221927587521076"
     },
     "user_tz": -540
    },
    "id": "djVNDrjPJ5M-",
    "outputId": "bcb0fe00-bf5a-4fb9-a6ee-94772b94a4dc"
   },
   "outputs": [
    {
     "name": "stdout",
     "output_type": "stream",
     "text": [
      "学習済みベクトル利用単語数: 9174 / 9406\n",
      "torch.Size([9406, 300])\n"
     ]
    }
   ],
   "source": [
    "from gensim.models import KeyedVectors\n",
    "\n",
    "# 学習済みモデルのロード\n",
    "model = KeyedVectors.load_word2vec_format(\n",
    "    \"./GoogleNews-vectors-negative300.bin.gz\", binary=True\n",
    ")\n",
    "\n",
    "# 学習済み単語ベクトルの取得\n",
    "VOCAB_SIZE = len(set(word2id.values())) + 1\n",
    "EMB_SIZE = 300\n",
    "weights = np.zeros((VOCAB_SIZE, EMB_SIZE))\n",
    "words_in_pretrained = 0\n",
    "for i, word in enumerate(word2id.keys()):\n",
    "    try:\n",
    "        weights[i] = model[word]\n",
    "        words_in_pretrained += 1\n",
    "    except KeyError:\n",
    "        weights[i] = np.random.normal(scale=0.4, size=(EMB_SIZE,))\n",
    "weights = torch.from_numpy(weights.astype((np.float32)))\n",
    "\n",
    "print(f\"学習済みベクトル利用単語数: {words_in_pretrained} / {VOCAB_SIZE}\")\n",
    "print(weights.size())"
   ]
  },
  {
   "cell_type": "code",
   "execution_count": 23,
   "metadata": {
    "id": "4A1UkAVQwELp"
   },
   "outputs": [],
   "source": [
    "class RNN(nn.Module):\n",
    "    def __init__(\n",
    "        self,\n",
    "        vocab_size,\n",
    "        emb_size,\n",
    "        padding_idx,\n",
    "        output_size,\n",
    "        hidden_size,\n",
    "        num_layers,\n",
    "        emb_weights=None,\n",
    "        bidirectional=False,\n",
    "    ):\n",
    "        super().__init__()\n",
    "        self.hidden_size = hidden_size\n",
    "        self.num_layers = num_layers\n",
    "        self.num_directions = bidirectional + 1  # 単方向：1、双方向：2\n",
    "        if emb_weights != None:  # 指定があれば埋め込み層の重みをemb_weightsで初期化\n",
    "            self.emb = nn.Embedding.from_pretrained(\n",
    "                emb_weights, padding_idx=padding_idx\n",
    "            )\n",
    "        else:\n",
    "            self.emb = nn.Embedding(vocab_size, emb_size, padding_idx=padding_idx)\n",
    "        self.rnn = nn.RNN(\n",
    "            emb_size,\n",
    "            hidden_size,\n",
    "            num_layers,\n",
    "            nonlinearity=\"tanh\",\n",
    "            bidirectional=bidirectional,\n",
    "            batch_first=True,\n",
    "        )\n",
    "        self.fc = nn.Linear(hidden_size * self.num_directions, output_size)\n",
    "\n",
    "    def forward(self, x):\n",
    "        self.batch_size = x.size()[0]\n",
    "        hidden = self.init_hidden()  # h0のゼロベクトルを作成\n",
    "        emb = self.emb(x)\n",
    "        # emb.size() = (batch_size, seq_len, emb_size)\n",
    "        out, hidden = self.rnn(emb, hidden)\n",
    "        # out.size() = (batch_size, seq_len, hidden_size * num_directions)\n",
    "        out = self.fc(out[:, -1, :])\n",
    "        # out.size() = (batch_size, output_size)\n",
    "        return out\n",
    "\n",
    "    def init_hidden(self):\n",
    "        hidden = torch.zeros(\n",
    "            self.num_layers * self.num_directions, self.batch_size, self.hidden_size\n",
    "        )\n",
    "        return hidden"
   ]
  },
  {
   "cell_type": "code",
   "execution_count": 24,
   "metadata": {
    "colab": {
     "base_uri": "https://localhost:8080/"
    },
    "executionInfo": {
     "elapsed": 93218,
     "status": "ok",
     "timestamp": 1639377134059,
     "user": {
      "displayName": "yuki kato",
      "photoUrl": "https://lh3.googleusercontent.com/a/default-user=s64",
      "userId": "08430221927587521076"
     },
     "user_tz": -540
    },
    "id": "BDDTMWDcwi4c",
    "outputId": "1fdba5e4-80d1-43a2-cde2-1b352f8ec837"
   },
   "outputs": [
    {
     "name": "stdout",
     "output_type": "stream",
     "text": [
      "epoch: 1, loss_train: 1.1663, accuracy_train: 0.4054, loss_valid: 1.1752, accuracy_valid: 0.4064, 7.8087sec\n",
      "epoch: 2, loss_train: 1.1608, accuracy_train: 0.4341, loss_valid: 1.1735, accuracy_valid: 0.4409, 8.4484sec\n",
      "epoch: 3, loss_train: 1.0543, accuracy_train: 0.5972, loss_valid: 1.0618, accuracy_valid: 0.5876, 8.8104sec\n",
      "epoch: 4, loss_train: 1.0026, accuracy_train: 0.6326, loss_valid: 1.0331, accuracy_valid: 0.6190, 8.1953sec\n",
      "epoch: 5, loss_train: 0.9865, accuracy_train: 0.6346, loss_valid: 0.9924, accuracy_valid: 0.6362, 7.9397sec\n",
      "epoch: 6, loss_train: 0.9587, accuracy_train: 0.6529, loss_valid: 0.9938, accuracy_valid: 0.6347, 7.9915sec\n",
      "epoch: 7, loss_train: 0.9314, accuracy_train: 0.6667, loss_valid: 0.9583, accuracy_valid: 0.6504, 7.7991sec\n",
      "epoch: 8, loss_train: 0.9163, accuracy_train: 0.6694, loss_valid: 0.9412, accuracy_valid: 0.6557, 7.7842sec\n",
      "epoch: 9, loss_train: 0.9253, accuracy_train: 0.6600, loss_valid: 0.9510, accuracy_valid: 0.6460, 7.9975sec\n",
      "epoch: 10, loss_train: 0.9150, accuracy_train: 0.6655, loss_valid: 0.9440, accuracy_valid: 0.6490, 7.8336sec\n"
     ]
    }
   ],
   "source": [
    "# パラメータの設定\n",
    "VOCAB_SIZE = len(set(word2id.values())) + 1  # 辞書のID数 + パディングID\n",
    "EMB_SIZE = 300\n",
    "PADDING_IDX = len(set(word2id.values()))\n",
    "OUTPUT_SIZE = 4\n",
    "HIDDEN_SIZE = 50\n",
    "NUM_LAYERS = 1\n",
    "LEARNING_RATE = 5e-2\n",
    "BATCH_SIZE = 32\n",
    "NUM_EPOCHS = 10\n",
    "\n",
    "# モデルの定義\n",
    "model = RNN(\n",
    "    VOCAB_SIZE,\n",
    "    EMB_SIZE,\n",
    "    PADDING_IDX,\n",
    "    OUTPUT_SIZE,\n",
    "    HIDDEN_SIZE,\n",
    "    NUM_LAYERS,\n",
    "    emb_weights=weights,\n",
    ")\n",
    "\n",
    "# 損失関数の定義\n",
    "criterion = nn.CrossEntropyLoss()\n",
    "\n",
    "# オプティマイザの定義\n",
    "optimizer = torch.optim.SGD(model.parameters(), lr=LEARNING_RATE)\n",
    "\n",
    "# デバイスの指定\n",
    "device = torch.device(\"cpu\")\n",
    "\n",
    "# モデルの学習\n",
    "log = train_model(\n",
    "    dataset_train,\n",
    "    dataset_valid,\n",
    "    BATCH_SIZE,\n",
    "    model,\n",
    "    criterion,\n",
    "    optimizer,\n",
    "    NUM_EPOCHS,\n",
    "    collate_fn=Padsequence(PADDING_IDX),\n",
    "    device=device,\n",
    ")"
   ]
  },
  {
   "cell_type": "code",
   "execution_count": 25,
   "metadata": {
    "colab": {
     "base_uri": "https://localhost:8080/",
     "height": 306
    },
    "executionInfo": {
     "elapsed": 7817,
     "status": "ok",
     "timestamp": 1639377141859,
     "user": {
      "displayName": "yuki kato",
      "photoUrl": "https://lh3.googleusercontent.com/a/default-user=s64",
      "userId": "08430221927587521076"
     },
     "user_tz": -540
    },
    "id": "Y4DiZo0D385u",
    "outputId": "8e1aff1f-322e-4ba9-a2d1-d27a95a9383e"
   },
   "outputs": [
    {
     "data": {
      "image/png": "[encoded data removed]",
      "text/plain": [
       "<Figure size 1080x360 with 2 Axes>"
      ]
     },
     "metadata": {
      "needs_background": "light"
     },
     "output_type": "display_data"
    },
    {
     "name": "stdout",
     "output_type": "stream",
     "text": [
      "正解率（学習データ）：0.665\n",
      "正解率（評価データ）：0.653\n"
     ]
    }
   ],
   "source": [
    "# ログの可視化\n",
    "visualize_logs(log)\n",
    "\n",
    "# 正解率の算出\n",
    "_, acc_train = calculate_loss_and_accuracy(model, dataset_train, device)\n",
    "_, acc_test = calculate_loss_and_accuracy(model, dataset_test, device)\n",
    "print(f\"正解率（学習データ）：{acc_train:.3f}\")\n",
    "print(f\"正解率（評価データ）：{acc_test:.3f}\")"
   ]
  },
  {
   "cell_type": "markdown",
   "metadata": {
    "id": "XB_KVxyZvG82"
   },
   "source": [
    "## 85. 双方向RNN・多層化\n",
    "***\n",
    "順方向と逆方向のRNNの両方を用いて入力テキストをエンコードし，モデルを学習せよ．\n",
    "\n",
    "$\n",
    "\\overleftarrow h_{T+1} = 0, \\\\\n",
    "\\overleftarrow h_t = {\\rm \\overleftarrow{RNN}}(\\mathrm{emb}(x_t), \\overleftarrow h_{t+1}), \\\\\n",
    "y = {\\rm softmax}(W^{(yh)} [\\overrightarrow h_T; \\overleftarrow h_1] + b^{(y)})\n",
    "$\n",
    "\n",
    "ただし，$\\overrightarrow h_t \\in \\mathbb{R}^{d_h}, \\overleftarrow h_t \\in \\mathbb{R}^{d_h}$はそれぞれ，順方向および逆方向のRNNで求めた時刻$t$の隠れ状態ベクトル，${\\rm \\overleftarrow{RNN}}(x,h)$は入力$x$と次時刻の隠れ状態$h$から前状態を計算するRNNユニット，$W^{(yh)} \\in \\mathbb{R}^{L \\times 2d_h}$は隠れ状態ベクトルからカテゴリを予測するための行列，$b^{(y)} \\in \\mathbb{R}^{L}$はバイアス項である．また，$[a; b]$はベクトル$a$と$b$の連結を表す。\n",
    "\n",
    "さらに，双方向RNNを多層化して実験せよ．"
   ]
  },
  {
   "cell_type": "code",
   "execution_count": 26,
   "metadata": {
    "colab": {
     "base_uri": "https://localhost:8080/",
     "height": 385
    },
    "executionInfo": {
     "elapsed": 271,
     "status": "error",
     "timestamp": 1639377584413,
     "user": {
      "displayName": "yuki kato",
      "photoUrl": "https://lh3.googleusercontent.com/a/default-user=s64",
      "userId": "08430221927587521076"
     },
     "user_tz": -540
    },
    "id": "_aBzmiT_9Gql",
    "outputId": "56d0fcc2-3b24-439d-9200-1bbf670f9321"
   },
   "outputs": [
    {
     "name": "stdout",
     "output_type": "stream",
     "text": [
      "epoch: 1, loss_train: 1.1779, accuracy_train: 0.4303, loss_valid: 1.2207, accuracy_valid: 0.4207, 15.6346sec\n",
      "epoch: 2, loss_train: 1.0489, accuracy_train: 0.6019, loss_valid: 1.0730, accuracy_valid: 0.5801, 15.7822sec\n",
      "epoch: 3, loss_train: 1.0349, accuracy_train: 0.6048, loss_valid: 1.0867, accuracy_valid: 0.5561, 15.4892sec\n",
      "epoch: 4, loss_train: 0.9779, accuracy_train: 0.6454, loss_valid: 1.0041, accuracy_valid: 0.6317, 16.5120sec\n",
      "epoch: 5, loss_train: 1.0613, accuracy_train: 0.5919, loss_valid: 1.0968, accuracy_valid: 0.5719, 18.4852sec\n",
      "epoch: 6, loss_train: 0.9796, accuracy_train: 0.6416, loss_valid: 1.0131, accuracy_valid: 0.6265, 15.7954sec\n",
      "epoch: 7, loss_train: 0.9360, accuracy_train: 0.6512, loss_valid: 0.9889, accuracy_valid: 0.6400, 15.6569sec\n",
      "epoch: 8, loss_train: 0.9804, accuracy_train: 0.6248, loss_valid: 1.0423, accuracy_valid: 0.6010, 15.5965sec\n",
      "epoch: 9, loss_train: 0.9303, accuracy_train: 0.6557, loss_valid: 0.9769, accuracy_valid: 0.6445, 15.4905sec\n",
      "epoch: 10, loss_train: 0.9703, accuracy_train: 0.6330, loss_valid: 1.0312, accuracy_valid: 0.6123, 15.5861sec\n"
     ]
    }
   ],
   "source": [
    "# パラメータの設定\n",
    "VOCAB_SIZE = len(set(word2id.values())) + 1  # 辞書のID数 + パディングID\n",
    "EMB_SIZE = 300\n",
    "PADDING_IDX = len(set(word2id.values()))\n",
    "OUTPUT_SIZE = 4\n",
    "HIDDEN_SIZE = 50\n",
    "NUM_LAYERS = 2\n",
    "LEARNING_RATE = 5e-2\n",
    "BATCH_SIZE = 32\n",
    "NUM_EPOCHS = 10\n",
    "\n",
    "# モデルの定義\n",
    "model = RNN(\n",
    "    VOCAB_SIZE,\n",
    "    EMB_SIZE,\n",
    "    PADDING_IDX,\n",
    "    OUTPUT_SIZE,\n",
    "    HIDDEN_SIZE,\n",
    "    NUM_LAYERS,\n",
    "    emb_weights=weights,\n",
    "    bidirectional=True,\n",
    ")\n",
    "\n",
    "# 損失関数の定義\n",
    "criterion = nn.CrossEntropyLoss()\n",
    "\n",
    "# オプティマイザの定義\n",
    "optimizer = torch.optim.SGD(model.parameters(), lr=LEARNING_RATE)\n",
    "\n",
    "# デバイスの指定\n",
    "device = torch.device(\"cpu\")\n",
    "\n",
    "# モデルの学習\n",
    "log = train_model(\n",
    "    dataset_train,\n",
    "    dataset_valid,\n",
    "    BATCH_SIZE,\n",
    "    model,\n",
    "    criterion,\n",
    "    optimizer,\n",
    "    NUM_EPOCHS,\n",
    "    collate_fn=Padsequence(PADDING_IDX),\n",
    "    device=device,\n",
    ")"
   ]
  },
  {
   "cell_type": "code",
   "execution_count": 27,
   "metadata": {
    "colab": {
     "base_uri": "https://localhost:8080/",
     "height": 306
    },
    "executionInfo": {
     "elapsed": 14168,
     "status": "ok",
     "timestamp": 1639377418246,
     "user": {
      "displayName": "yuki kato",
      "photoUrl": "https://lh3.googleusercontent.com/a/default-user=s64",
      "userId": "08430221927587521076"
     },
     "user_tz": -540
    },
    "id": "91L2zx4KFnRN",
    "outputId": "eec424ce-5927-4de3-f78a-4f4a878eae78"
   },
   "outputs": [
    {
     "data": {
      "image/png": "[encoded data removed]",
      "text/plain": [
       "<Figure size 1080x360 with 2 Axes>"
      ]
     },
     "metadata": {
      "needs_background": "light"
     },
     "output_type": "display_data"
    },
    {
     "name": "stdout",
     "output_type": "stream",
     "text": [
      "正解率（学習データ）：0.633\n",
      "正解率（評価データ）：0.612\n"
     ]
    }
   ],
   "source": [
    "# ログの可視化\n",
    "visualize_logs(log)\n",
    "\n",
    "# 正解率の算出\n",
    "_, acc_train = calculate_loss_and_accuracy(model, dataset_train, device)\n",
    "_, acc_test = calculate_loss_and_accuracy(model, dataset_test, device)\n",
    "print(f\"正解率（学習データ）：{acc_train:.3f}\")\n",
    "print(f\"正解率（評価データ）：{acc_test:.3f}\")"
   ]
  },
  {
   "cell_type": "markdown",
   "metadata": {
    "id": "APALw9Z9viTh"
   },
   "source": [
    "## 86. 畳み込みニューラルネットワーク (CNN)\n",
    "***\n",
    "ID番号で表現された単語列$\\boldsymbol x = (x_1, x_2, \\dots, x_T)$がある．ただし，$T$は単語列の長さ，$x_t \\in \\mathbb{R}^{V}$は単語のID番号のone-hot表記である（$V$は単語の総数である）．畳み込みニューラルネットワーク（CNN: Convolutional Neural Network）を用い，単語列$\\boldsymbol x$からカテゴリ$y$を予測するモデルを実装せよ．\n",
    "\n",
    "ただし，畳み込みニューラルネットワークの構成は以下の通りとする．\n",
    "\n",
    "+ 単語埋め込みの次元数: $d_w$\n",
    "+ 畳み込みのフィルターのサイズ: 3 トークン\n",
    "+ 畳み込みのストライド: 1 トークン\n",
    "+ 畳み込みのパディング: あり\n",
    "+ 畳み込み演算後の各時刻のベクトルの次元数: $d_h$\n",
    "+ 畳み込み演算後に最大値プーリング（max pooling）を適用し，入力文を$d_h$次元の隠れベクトルで表現\n",
    " すなわち，時刻$t$の特徴ベクトル$p_t \\in \\mathbb{R}^{d_h}$は次式で表される．\n",
    "\n",
    "$\n",
    "p_t = g(W^{(px)} [\\mathrm{emb}(x_{t-1}); \\mathrm{emb}(x_t); \\mathrm{emb}(x_{t+1})] + b^{(p)})\n",
    "$]\n",
    "\n",
    "ただし，$W^{(px)} \\in \\mathbb{R}^{d_h \\times 3d_w}, b^{(p)} \\in \\mathbb{R}^{d_h}$はCNNのパラメータ，$g$は活性化関数（例えば$\\tanh$やReLUなど），$[a; b; c]$はベクトル$a, b, c$の連結である．なお，行列$W^{(px)}$の列数が$3d_w$になるのは，3個のトークンの単語埋め込みを連結したものに対して，線形変換を行うためである．\n",
    "最大値プーリングでは，特徴ベクトルの次元毎に全時刻における最大値を取り，入力文書の特徴ベクトル$c \\in \\mathbb{R}^{d_h}$を求める．$c[i]$でベクトル$c$の$i$番目の次元の値を表すことにすると，最大値プーリングは次式で表される．\n",
    "\n",
    "$\n",
    "c[i] = \\max_{1 \\leq t \\leq T} p_t[i]\n",
    "$\n",
    "\n",
    " 最後に，入力文書の特徴ベクトル$c$に行列$W^{(yc)} \\in \\mathbb{R}^{L \\times d_h}$とバイアス項$b^{(y)} \\in \\mathbb{R}^{L}$による線形変換とソフトマックス関数を適用し，カテゴリ$y$を予測する．\n",
    "\n",
    "$\n",
    "y = {\\rm softmax}(W^{(yc)} c + b^{(y)})\n",
    "$\n",
    "\n",
    "なお，この問題ではモデルの学習を行わず，ランダムに初期化された重み行列で$y$を計算するだけでよい．"
   ]
  },
  {
   "cell_type": "code",
   "execution_count": 28,
   "metadata": {
    "id": "_JJIMQXlJXYy"
   },
   "outputs": [],
   "source": [
    "from torch.nn import functional as F\n",
    "\n",
    "\n",
    "class CNN(nn.Module):\n",
    "    def __init__(\n",
    "        self,\n",
    "        vocab_size,\n",
    "        emb_size,\n",
    "        padding_idx,\n",
    "        output_size,\n",
    "        out_channels,\n",
    "        kernel_heights,\n",
    "        stride,\n",
    "        padding,\n",
    "        emb_weights=None,\n",
    "    ):\n",
    "        super().__init__()\n",
    "        if emb_weights != None:  # 指定があれば埋め込み層の重みをemb_weightsで初期化\n",
    "            self.emb = nn.Embedding.from_pretrained(\n",
    "                emb_weights, padding_idx=padding_idx\n",
    "            )\n",
    "        else:\n",
    "            self.emb = nn.Embedding(vocab_size, emb_size, padding_idx=padding_idx)\n",
    "        self.conv = nn.Conv2d(\n",
    "            1, out_channels, (kernel_heights, emb_size), stride, (padding, 0)\n",
    "        )\n",
    "        self.drop = nn.Dropout(0.3)\n",
    "        self.fc = nn.Linear(out_channels, output_size)\n",
    "\n",
    "    def forward(self, x):\n",
    "        # x.size() = (batch_size, seq_len)\n",
    "        emb = self.emb(x).unsqueeze(1)\n",
    "        # emb.size() = (batch_size, 1, seq_len, emb_size)\n",
    "        conv = self.conv(emb)\n",
    "        # conv.size() = (batch_size, out_channels, seq_len, 1)\n",
    "        act = F.relu(conv.squeeze(3))\n",
    "        # act.size() = (batch_size, out_channels, seq_len)\n",
    "        max_pool = F.max_pool1d(act, act.size()[2])\n",
    "        # max_pool.size() = (batch_size, out_channels, 1) -> seq_len方向に最大値を取得\n",
    "        out = self.fc(self.drop(max_pool.squeeze(2)))\n",
    "        # out.size() = (batch_size, output_size)\n",
    "        return out"
   ]
  },
  {
   "cell_type": "code",
   "execution_count": 29,
   "metadata": {
    "colab": {
     "base_uri": "https://localhost:8080/"
    },
    "executionInfo": {
     "elapsed": 8,
     "status": "ok",
     "timestamp": 1639377418248,
     "user": {
      "displayName": "yuki kato",
      "photoUrl": "https://lh3.googleusercontent.com/a/default-user=s64",
      "userId": "08430221927587521076"
     },
     "user_tz": -540
    },
    "id": "xHiHm_ZPQYYZ",
    "outputId": "a373aab9-3a30-4101-be6b-13f6980ff14a"
   },
   "outputs": [
    {
     "name": "stdout",
     "output_type": "stream",
     "text": [
      "tensor([[0.2361, 0.1972, 0.2853, 0.2814]], grad_fn=<SoftmaxBackward0>)\n",
      "tensor([[0.2350, 0.2305, 0.2531, 0.2814]], grad_fn=<SoftmaxBackward0>)\n",
      "tensor([[0.2092, 0.2304, 0.2705, 0.2899]], grad_fn=<SoftmaxBackward0>)\n",
      "tensor([[0.1968, 0.2109, 0.2754, 0.3170]], grad_fn=<SoftmaxBackward0>)\n",
      "tensor([[0.1996, 0.2127, 0.2866, 0.3011]], grad_fn=<SoftmaxBackward0>)\n",
      "tensor([[0.2103, 0.1960, 0.3004, 0.2932]], grad_fn=<SoftmaxBackward0>)\n",
      "tensor([[0.2145, 0.2387, 0.2759, 0.2709]], grad_fn=<SoftmaxBackward0>)\n",
      "tensor([[0.1890, 0.2442, 0.2806, 0.2863]], grad_fn=<SoftmaxBackward0>)\n",
      "tensor([[0.2161, 0.2166, 0.2872, 0.2802]], grad_fn=<SoftmaxBackward0>)\n",
      "tensor([[0.2408, 0.2112, 0.2687, 0.2794]], grad_fn=<SoftmaxBackward0>)\n"
     ]
    }
   ],
   "source": [
    "# パラメータの設定\n",
    "VOCAB_SIZE = len(set(word2id.values())) + 1  # 辞書のID数 + パディングID\n",
    "EMB_SIZE = 300\n",
    "PADDING_IDX = len(set(word2id.values()))\n",
    "OUTPUT_SIZE = 4\n",
    "OUT_CHANNELS = 100\n",
    "KERNEL_HEIGHTS = 3\n",
    "STRIDE = 1\n",
    "PADDING = 1\n",
    "\n",
    "# モデルの定義\n",
    "model = CNN(\n",
    "    VOCAB_SIZE,\n",
    "    EMB_SIZE,\n",
    "    PADDING_IDX,\n",
    "    OUTPUT_SIZE,\n",
    "    OUT_CHANNELS,\n",
    "    KERNEL_HEIGHTS,\n",
    "    STRIDE,\n",
    "    PADDING,\n",
    "    emb_weights=weights,\n",
    ")\n",
    "\n",
    "# 先頭10件の予測値取得\n",
    "for i in range(10):\n",
    "    X = dataset_train[i][\"inputs\"]\n",
    "    print(torch.softmax(model(X.unsqueeze(0)), dim=-1))"
   ]
  },
  {
   "cell_type": "markdown",
   "metadata": {
    "id": "_IIZIrc0v9kc"
   },
   "source": [
    "## 87. 確率的勾配降下法によるCNNの学習\n",
    "***\n",
    "確率的勾配降下法（SGD: Stochastic Gradient Descent）を用いて，問題86で構築したモデルを学習せよ．訓練データ上の損失と正解率，評価データ上の損失と正解率を表示しながらモデルを学習し，適当な基準（例えば10エポックなど）で終了させよ．"
   ]
  },
  {
   "cell_type": "code",
   "execution_count": 30,
   "metadata": {
    "colab": {
     "base_uri": "https://localhost:8080/"
    },
    "executionInfo": {
     "elapsed": 120538,
     "status": "ok",
     "timestamp": 1639377555640,
     "user": {
      "displayName": "yuki kato",
      "photoUrl": "https://lh3.googleusercontent.com/a/default-user=s64",
      "userId": "08430221927587521076"
     },
     "user_tz": -540
    },
    "id": "C-x4zEqsKMpf",
    "outputId": "6209ece5-ae69-4525-8fa7-8a6dab72fcd3"
   },
   "outputs": [
    {
     "name": "stdout",
     "output_type": "stream",
     "text": [
      "epoch: 1, loss_train: 1.0611, accuracy_train: 0.5814, loss_valid: 1.0777, accuracy_valid: 0.5689, 10.3457sec\n",
      "epoch: 2, loss_train: 0.9841, accuracy_train: 0.6468, loss_valid: 1.0125, accuracy_valid: 0.6362, 9.3660sec\n",
      "epoch: 3, loss_train: 0.9099, accuracy_train: 0.6966, loss_valid: 0.9492, accuracy_valid: 0.6834, 9.2855sec\n",
      "epoch: 4, loss_train: 0.8466, accuracy_train: 0.7127, loss_valid: 0.8993, accuracy_valid: 0.6939, 9.5656sec\n",
      "epoch: 5, loss_train: 0.8038, accuracy_train: 0.7234, loss_valid: 0.8625, accuracy_valid: 0.7021, 9.0564sec\n",
      "epoch: 6, loss_train: 0.7764, accuracy_train: 0.7317, loss_valid: 0.8495, accuracy_valid: 0.7126, 9.1917sec\n",
      "epoch: 7, loss_train: 0.7526, accuracy_train: 0.7391, loss_valid: 0.8306, accuracy_valid: 0.7133, 11.7414sec\n",
      "epoch: 8, loss_train: 0.7403, accuracy_train: 0.7444, loss_valid: 0.8228, accuracy_valid: 0.7178, 9.2064sec\n",
      "epoch: 9, loss_train: 0.7347, accuracy_train: 0.7462, loss_valid: 0.8194, accuracy_valid: 0.7178, 9.3499sec\n",
      "epoch: 10, loss_train: 0.7334, accuracy_train: 0.7464, loss_valid: 0.8186, accuracy_valid: 0.7178, 9.1769sec\n"
     ]
    }
   ],
   "source": [
    "# パラメータの設定\n",
    "VOCAB_SIZE = len(set(word2id.values())) + 1\n",
    "EMB_SIZE = 300\n",
    "PADDING_IDX = len(set(word2id.values()))\n",
    "OUTPUT_SIZE = 4\n",
    "OUT_CHANNELS = 100\n",
    "KERNEL_HEIGHTS = 3\n",
    "STRIDE = 1\n",
    "PADDING = 1\n",
    "LEARNING_RATE = 5e-2\n",
    "BATCH_SIZE = 64\n",
    "NUM_EPOCHS = 10\n",
    "\n",
    "# モデルの定義\n",
    "model = CNN(\n",
    "    VOCAB_SIZE,\n",
    "    EMB_SIZE,\n",
    "    PADDING_IDX,\n",
    "    OUTPUT_SIZE,\n",
    "    OUT_CHANNELS,\n",
    "    KERNEL_HEIGHTS,\n",
    "    STRIDE,\n",
    "    PADDING,\n",
    "    emb_weights=weights,\n",
    ")\n",
    "\n",
    "# 損失関数の定義\n",
    "criterion = nn.CrossEntropyLoss()\n",
    "\n",
    "# オプティマイザの定義\n",
    "optimizer = torch.optim.SGD(model.parameters(), lr=LEARNING_RATE)\n",
    "\n",
    "# デバイスの指定\n",
    "device = torch.device(\"cuda:0\" if torch.cuda.is_available() else \"cpu\")\n",
    "\n",
    "# モデルの学習\n",
    "log = train_model(\n",
    "    dataset_train,\n",
    "    dataset_valid,\n",
    "    BATCH_SIZE,\n",
    "    model,\n",
    "    criterion,\n",
    "    optimizer,\n",
    "    NUM_EPOCHS,\n",
    "    collate_fn=Padsequence(PADDING_IDX),\n",
    "    device=device,\n",
    ")"
   ]
  },
  {
   "cell_type": "code",
   "execution_count": 31,
   "metadata": {
    "colab": {
     "base_uri": "https://localhost:8080/",
     "height": 306
    },
    "executionInfo": {
     "elapsed": 10480,
     "status": "ok",
     "timestamp": 1639377566102,
     "user": {
      "displayName": "yuki kato",
      "photoUrl": "https://lh3.googleusercontent.com/a/default-user=s64",
      "userId": "08430221927587521076"
     },
     "user_tz": -540
    },
    "id": "Ry7w4AvGN6Cv",
    "outputId": "e6e175cb-4f8f-45d2-880e-9cbaa759d7e4"
   },
   "outputs": [
    {
     "data": {
      "image/png": "[encoded data removed]",
      "text/plain": [
       "<Figure size 1080x360 with 2 Axes>"
      ]
     },
     "metadata": {
      "needs_background": "light"
     },
     "output_type": "display_data"
    },
    {
     "name": "stdout",
     "output_type": "stream",
     "text": [
      "正解率（学習データ）：0.746\n",
      "正解率（評価データ）：0.715\n"
     ]
    }
   ],
   "source": [
    "# ログの可視化\n",
    "visualize_logs(log)\n",
    "\n",
    "# 正解率の算出\n",
    "_, acc_train = calculate_loss_and_accuracy(model, dataset_train, device)\n",
    "_, acc_test = calculate_loss_and_accuracy(model, dataset_test, device)\n",
    "print(f\"正解率（学習データ）：{acc_train:.3f}\")\n",
    "print(f\"正解率（評価データ）：{acc_test:.3f}\")"
   ]
  },
  {
   "cell_type": "markdown",
   "metadata": {
    "id": "Q5ztskDmwCW7"
   },
   "source": [
    "## 88. パラメータチューニング\n",
    "***\n",
    "optimizerをAdamに変更"
   ]
  },
  {
   "cell_type": "code",
   "execution_count": 32,
   "metadata": {
    "colab": {
     "base_uri": "https://localhost:8080/"
    },
    "executionInfo": {
     "elapsed": 126071,
     "status": "ok",
     "timestamp": 1639381633415,
     "user": {
      "displayName": "yuki kato",
      "photoUrl": "https://lh3.googleusercontent.com/a/default-user=s64",
      "userId": "08430221927587521076"
     },
     "user_tz": -540
    },
    "id": "awvoGY5zsEuD",
    "outputId": "51d3a712-ac5b-4f3f-9cbc-e313601be5a5"
   },
   "outputs": [
    {
     "name": "stdout",
     "output_type": "stream",
     "text": [
      "epoch: 1, loss_train: 1.0189, accuracy_train: 0.6866, loss_valid: 1.1617, accuracy_valid: 0.6332, 9.7320sec\n",
      "epoch: 2, loss_train: 1.0384, accuracy_train: 0.7039, loss_valid: 1.0696, accuracy_valid: 0.6594, 9.5593sec\n",
      "epoch: 3, loss_train: 0.8116, accuracy_train: 0.7422, loss_valid: 0.9804, accuracy_valid: 0.6954, 10.0033sec\n",
      "epoch: 4, loss_train: 0.7639, accuracy_train: 0.7537, loss_valid: 0.9687, accuracy_valid: 0.6871, 9.5128sec\n",
      "epoch: 5, loss_train: 0.7276, accuracy_train: 0.7721, loss_valid: 1.1680, accuracy_valid: 0.7073, 10.2789sec\n",
      "epoch: 6, loss_train: 0.5546, accuracy_train: 0.8016, loss_valid: 1.0242, accuracy_valid: 0.7320, 9.4051sec\n",
      "epoch: 7, loss_train: 0.5345, accuracy_train: 0.8075, loss_valid: 1.0577, accuracy_valid: 0.7126, 9.1872sec\n",
      "epoch: 8, loss_train: 0.4388, accuracy_train: 0.8260, loss_valid: 0.9800, accuracy_valid: 0.7290, 9.4157sec\n",
      "epoch: 9, loss_train: 0.4196, accuracy_train: 0.8303, loss_valid: 0.9690, accuracy_valid: 0.7350, 9.4350sec\n",
      "epoch: 10, loss_train: 0.4130, accuracy_train: 0.8315, loss_valid: 0.9733, accuracy_valid: 0.7320, 9.3880sec\n"
     ]
    }
   ],
   "source": [
    "# パラメータの設定\n",
    "VOCAB_SIZE = len(set(word2id.values())) + 1\n",
    "EMB_SIZE = 300\n",
    "PADDING_IDX = len(set(word2id.values()))\n",
    "OUTPUT_SIZE = 4\n",
    "OUT_CHANNELS = 100\n",
    "KERNEL_HEIGHTS = 3\n",
    "STRIDE = 1\n",
    "PADDING = 1\n",
    "LEARNING_RATE = 5e-2\n",
    "BATCH_SIZE = 64\n",
    "NUM_EPOCHS = 10\n",
    "\n",
    "# モデルの定義\n",
    "model = CNN(\n",
    "    VOCAB_SIZE,\n",
    "    EMB_SIZE,\n",
    "    PADDING_IDX,\n",
    "    OUTPUT_SIZE,\n",
    "    OUT_CHANNELS,\n",
    "    KERNEL_HEIGHTS,\n",
    "    STRIDE,\n",
    "    PADDING,\n",
    "    emb_weights=weights,\n",
    ")\n",
    "\n",
    "# 損失関数の定義\n",
    "criterion = nn.CrossEntropyLoss()\n",
    "\n",
    "# オプティマイザの定義\n",
    "optimizer = torch.optim.Adam(model.parameters(), lr=LEARNING_RATE)\n",
    "\n",
    "# デバイスの指定\n",
    "device = torch.device(\"cuda:0\" if torch.cuda.is_available() else \"cpu\")\n",
    "\n",
    "# モデルの学習\n",
    "log = train_model(\n",
    "    dataset_train,\n",
    "    dataset_valid,\n",
    "    BATCH_SIZE,\n",
    "    model,\n",
    "    criterion,\n",
    "    optimizer,\n",
    "    NUM_EPOCHS,\n",
    "    collate_fn=Padsequence(PADDING_IDX),\n",
    "    device=device,\n",
    ")"
   ]
  },
  {
   "cell_type": "code",
   "execution_count": 33,
   "metadata": {
    "colab": {
     "base_uri": "https://localhost:8080/",
     "height": 350
    },
    "executionInfo": {
     "elapsed": 11040,
     "status": "ok",
     "timestamp": 1639381681139,
     "user": {
      "displayName": "yuki kato",
      "photoUrl": "https://lh3.googleusercontent.com/a/default-user=s64",
      "userId": "08430221927587521076"
     },
     "user_tz": -540
    },
    "id": "XeaunFVIsEpt",
    "outputId": "0ba2f4d1-e5d8-4dd0-e2f4-c7aa0a09bce1"
   },
   "outputs": [
    {
     "data": {
      "image/png": "[encoded data removed]",
      "text/plain": [
       "<Figure size 1080x360 with 2 Axes>"
      ]
     },
     "metadata": {
      "needs_background": "light"
     },
     "output_type": "display_data"
    },
    {
     "name": "stdout",
     "output_type": "stream",
     "text": [
      "正解率（学習データ）：0.832\n",
      "正解率（評価データ）：0.737\n"
     ]
    }
   ],
   "source": [
    "# ログの可視化\n",
    "visualize_logs(log)\n",
    "\n",
    "# 正解率の算出\n",
    "_, acc_train = calculate_loss_and_accuracy(model, dataset_train, device)\n",
    "_, acc_test = calculate_loss_and_accuracy(model, dataset_test, device)\n",
    "print(f\"正解率（学習データ）：{acc_train:.3f}\")\n",
    "print(f\"正解率（評価データ）：{acc_test:.3f}\")"
   ]
  },
  {
   "cell_type": "markdown",
   "metadata": {
    "id": "Np7XjlsAZZAk"
   },
   "source": [
    "## 89. 事前学習済み言語モデルからの転移学習\n",
    "事前学習済み言語モデル（例えばBERTなど）を出発点として，ニュース記事見出しをカテゴリに分類するモデルを構築せよ．"
   ]
  },
  {
   "cell_type": "code",
   "execution_count": null,
   "metadata": {
    "id": "XV9y5qVxyzDl"
   },
   "outputs": [],
   "source": []
  }
 ],
 "metadata": {
  "accelerator": "GPU",
  "colab": {
   "collapsed_sections": [],
   "name": "NLP-100Knocks_2020_9.ipynb",
   "provenance": []
  },
  "kernelspec": {
   "display_name": "Python 3 (ipykernel)",
   "language": "python",
   "name": "python3"
  },
  "language_info": {
   "codemirror_mode": {
    "name": "ipython",
    "version": 3
   },
   "file_extension": ".py",
   "mimetype": "text/x-python",
   "name": "python",
   "nbconvert_exporter": "python",
   "pygments_lexer": "ipython3",
   "version": "3.9.9"
  }
 },
 "nbformat": 4,
 "nbformat_minor": 4
}
